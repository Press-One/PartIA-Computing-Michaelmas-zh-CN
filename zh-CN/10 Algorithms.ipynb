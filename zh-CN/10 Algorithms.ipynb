{
 "cells": [
  {
   "cell_type": "markdown",
   "metadata": {},
   "source": [
    "<!--英文标记开始-->\n",
    "# Introduction"
   ]
  },
  {
   "cell_type": "markdown",
   "metadata": {},
   "source": [
    "An algorithm is a step-by-step structured 'recipe' of calculations (operations) for solving a problem.\n",
    "Algorithms are important in computing because this is what computers do - perform structured\n",
    "sets of operations. To solve a problem using a computer we need an *algorithm*."
   ]
  },
  {
   "cell_type": "markdown",
   "metadata": {},
   "source": [
    "Our computer programs are the expression of algorithms in a computing language.\n",
    "Almost everything you have done so far has been an algorithm. Now we want to identify\n",
    "more carefully some algorithms, and how we can describe them. This is a step towards\n",
    "*algorithmic complexity*, which is in the next notebook."
   ]
  },
  {
   "cell_type": "markdown",
   "metadata": {},
   "source": [
    "## Characterising algorithms"
   ]
  },
  {
   "cell_type": "markdown",
   "metadata": {},
   "source": [
    "There is usually more than one way to solve a problem, hence there will\n",
    "usually be more than one algorithm to solve a given problem. Some algorithms may be fast but\n",
    "inaccurate, others slow and accurate; some can be fast but use a lot of memory, while others may be\n",
    "low-memory but slower. Some will be simple to program, others much harder.\n",
    "We will look more at characterising the performance of algorithms in the next notebook on\n",
    "*algorithmic complexity*. For now we will focus on turning descriptions of algorithms\n",
    "into computer implementations."
   ]
  },
  {
   "cell_type": "markdown",
   "metadata": {},
   "source": [
    "## Objectives"
   ]
  },
  {
   "cell_type": "markdown",
   "metadata": {},
   "source": [
    "- Develop appreciation of what an algorithm is\n",
    "- Learn to create an algorithm to solve a problem\n",
    "- Use *pseudocode* to describe algorithms\n",
    "<!--英文标记结束-->"
   ]
  },
  {
   "cell_type": "markdown",
   "metadata": {},
   "source": [
    "# 介绍"
   ]
  },
  {
   "cell_type": "markdown",
   "metadata": {},
   "source": [
    "算法是用于解决问题的计算（操作）的逐步结构化 “配方”。算法在计算中很重要，因为这就是计算机所做的事情 - 执行一系列结构化的操作。要使用计算机解决问题，我们需要*算法*。"
   ]
  },
  {
   "cell_type": "markdown",
   "metadata": {},
   "source": [
    "我们的计算机程序是计算语言中算法的表达。到目前为止，你所做的几乎所有事情都是算法。现在我们想要更仔细地识别一些算法，以及我们如何描述它们。再向前迈出的一步就是*算法复杂度*，将在下一课中介绍。"
   ]
  },
  {
   "cell_type": "markdown",
   "metadata": {},
   "source": [
    "## 表征算法"
   ]
  },
  {
   "cell_type": "markdown",
   "metadata": {},
   "source": [
    "解决问题的方法通常不止一种，因此通常会有多种算法来解决给定的问题。有些算法可能很快但不准确，有些算法既慢又准确; 有些可能很快，但使用大量内存，而其他可能是低内存但速度较慢。有些会很简单，有些则很难。\n",
    "我们将在下一课*算法复杂度*中表征算法的性能。目前，我们将专注于将算法描述转化为计算机实现。"
   ]
  },
  {
   "cell_type": "markdown",
   "metadata": {},
   "source": [
    "## 目标"
   ]
  },
  {
   "cell_type": "markdown",
   "metadata": {},
   "source": [
    "- 了解算法是什么\n",
    "- 学习创建算法来解决问题\n",
    "- 使用 *伪代码*来描述算法"
   ]
  },
  {
   "cell_type": "markdown",
   "metadata": {},
   "source": [
    "<!--英文标记开始-->We will be using NumPy is this notebook, so we import it now:<!--英文标记结束-->"
   ]
  },
  {
   "cell_type": "markdown",
   "metadata": {},
   "source": [
    "我们将使用 NumPy，所以我们现在导入它："
   ]
  },
  {
   "cell_type": "code",
   "execution_count": 1,
   "metadata": {},
   "outputs": [],
   "source": [
    "import numpy as np"
   ]
  },
  {
   "cell_type": "markdown",
   "metadata": {},
   "source": [
    "<!--英文标记开始-->\n",
    "# Pseudocode"
   ]
  },
  {
   "cell_type": "markdown",
   "metadata": {},
   "source": [
    "*Pseudocode* is commonly used to express algorithms. It involves presenting an algorithm in a way that\n",
    "resembles a high-level programming language, like Python. Pseudocode is not formally defined, but uses\n",
    "control statements and loops that you are now familiar with."
   ]
  },
  {
   "cell_type": "markdown",
   "metadata": {},
   "source": [
    "In Activity 02, you worked on implementing a bisection algorithm. A presentation of a bisection algorithm\n",
    "in pseudocode can be found at https://en.wikipedia.org/wiki/Bisection_method#Algorithm, which we reproduce here:<!--英文标记结束-->"
   ]
  },
  {
   "cell_type": "markdown",
   "metadata": {},
   "source": [
    "# 伪代码"
   ]
  },
  {
   "cell_type": "markdown",
   "metadata": {},
   "source": [
    "*伪代码*通常用于表达算法。它涉及以类似于高级编程语言（如 Python）的方式呈现算法。伪代码没有正式定义，但使用您现在熟悉的控制语句和循环。"
   ]
  },
  {
   "cell_type": "markdown",
   "metadata": {},
   "source": [
    "在第二课中，您致力于的实现二分算法。可以在 <https://en.wikipedia.org/wiki/Bisection_method#Algorithm> 中找到伪代码中的二分算法的表示，我们在此处重现："
   ]
  },
  {
   "cell_type": "markdown",
   "metadata": {},
   "source": [
    "```\n",
    "INPUT: Function f, endpoint values a, b, tolerance TOL, maximum iterations NMAX\n",
    "CONDITIONS: a < b, either f(a) < 0 and f(b) > 0 or f(a) > 0 and f(b) < 0\n",
    "OUTPUT: value which differs from a root of f(x)=0 by less than TOL"
   ]
  },
  {
   "cell_type": "markdown",
   "metadata": {},
   "source": [
    "N ← 1\n",
    "While N ≤ NMAX # limit iterations to prevent infinite loop\n",
    "  c ← (a + b)/2 # new midpoint\n",
    "  If f(c) = 0 or (b – a)/2 < TOL then # solution found\n",
    "    Output(c)\n",
    "    Stop\n",
    "  EndIf\n",
    "  N ← N + 1 # increment step counter\n",
    "  If sign(f(c)) = sign(f(a)) then a ← c else b ← c # new interval\n",
    "EndWhile\n",
    "Output(\"Method failed.\") # max number of steps exceeded\n",
    "```"
   ]
  },
  {
   "cell_type": "markdown",
   "metadata": {},
   "source": [
    "<!--英文标记开始-->\n",
    "Python syntax is close to a form of pseudocode, so we will generally present algorithms using Python syntax.\n",
    "From an algorithm in pseudocode it is usually straightforward to produce a working Python program.<!--英文标记结束-->"
   ]
  },
  {
   "cell_type": "markdown",
   "metadata": {},
   "source": [
    "Python 语法接近于伪代码的形式，因此我们通常会使用 Python 语法来呈现算法。\n",
    "伪代码中的算法，通常可以直接生成有效的 Python 程序。"
   ]
  },
  {
   "cell_type": "markdown",
   "metadata": {},
   "source": [
    "<!--英文标记开始-->\n",
    "# Search"
   ]
  },
  {
   "cell_type": "markdown",
   "metadata": {},
   "source": [
    "Some classic algorithms involve searching in a list.\n",
    "Often, we need to know if a value exists in a list. We have already seen something like this with the Python built-in types,`dict`and`list`where we can say '`x in y`', e.g.:\n",
    "<!--英文标记结束-->"
   ]
  },
  {
   "cell_type": "markdown",
   "metadata": {},
   "source": [
    "# 搜索"
   ]
  },
  {
   "cell_type": "markdown",
   "metadata": {},
   "source": [
    "一些经典算法涉及在列表中搜索。\n",
    "通常，我们需要知道列表中是否存在指定值。我们已经看到类似这样的 Python 内置类型，`dict` 和 `list`，我们可以说'`x in y`'，例如："
   ]
  },
  {
   "cell_type": "code",
   "execution_count": 2,
   "metadata": {},
   "outputs": [],
   "source": [
    "# Create a list\n",
    "y = [4, 2, 1, 3, 5]\n",
    "\n",
    "# Check if '2' is in the list y\n",
    "print(2 in y)\n",
    "\n",
    "# Check if '2.5' is in the list y\n",
    "print(2.5 in y)"
   ]
  },
  {
   "cell_type": "markdown",
   "metadata": {},
   "source": [
    "<!--英文标记开始-->\n",
    "Behind this syntax is an *algorithm* for performing the search. There are different ways to search, and the speed of a search can depend heavily on the algorithm. The speed of a given algorithm for a problem can depend on the nature of the data, how it is stored, and how many search operations we want to perform.<!--英文标记结束-->"
   ]
  },
  {
   "cell_type": "markdown",
   "metadata": {},
   "source": [
    "在此语法后面是用于执行搜索的*算法*。有不同的搜索方式，搜索的速度很大程度上取决于算法。给定算法的速度可以取决于数据的性质，存储方式以及我们想要执行的搜索操作数量。"
   ]
  },
  {
   "cell_type": "markdown",
   "metadata": {},
   "source": [
    "<!--英文标记开始-->\n",
    "## Linear search"
   ]
  },
  {
   "cell_type": "markdown",
   "metadata": {},
   "source": [
    "The simplest search is linear search, where we iterate over all entries in a list/tuple/dictionary, etc, and check for the value(s) we are looking for. Here is an example of searching if a given colour is in a list:<!--英文标记结束-->"
   ]
  },
  {
   "cell_type": "markdown",
   "metadata": {},
   "source": [
    "## 线性搜索"
   ]
  },
  {
   "cell_type": "markdown",
   "metadata": {},
   "source": [
    "最简单的搜索是线性搜索，我们遍历列表 / 元组 / 字典等中的所有条目，并检查我们正在寻找的值。以下是搜索给定颜色是否在列表中的示例："
   ]
  },
  {
   "cell_type": "code",
   "execution_count": 3,
   "metadata": {},
   "outputs": [],
   "source": [
    "def linear_search(x, val):\n",
    "    \"Return True if val is in x, otherwise return False\"\n",
    "    for item in x:\n",
    "        if item == val:\n",
    "            return True\n",
    "    return False\n",
    "\n",
    "my_colours = [\"yellow\", \"green\", \"blue\", \"orange\", \"purple\"]\n",
    "\n",
    "print(linear_search(my_colours, \"blue\"))\n",
    "print(linear_search(my_colours, \"black\"))"
   ]
  },
  {
   "cell_type": "markdown",
   "metadata": {},
   "source": [
    "<!--英文标记开始-->\n",
    "This is a very simple algorithm. It is generally fast for short lists, but might not be the best approach for long lists.<!--英文标记结束-->"
   ]
  },
  {
   "cell_type": "markdown",
   "metadata": {},
   "source": [
    "这是一个非常简单的算法。短列表通常很快，但可能不是长列表的最佳方法。"
   ]
  },
  {
   "cell_type": "markdown",
   "metadata": {},
   "source": [
    "<!--英文标记开始-->\n",
    "## Binary search"
   ]
  },
  {
   "cell_type": "markdown",
   "metadata": {},
   "source": [
    "Linear search does not place any requirements on the order of the data, i.e. on the list we are searching.\n",
    "However, if we have a list that is *sorted*, such as a list of names sorted into alphabetical order,\n",
    "rather than using a linear search we can do something cleverer and perform a *binary search* (https://en.wikipedia.org/wiki/Binary_search_algorithm). <!--英文标记结束-->"
   ]
  },
  {
   "cell_type": "markdown",
   "metadata": {},
   "source": [
    "## 二分搜索"
   ]
  },
  {
   "cell_type": "markdown",
   "metadata": {},
   "source": [
    "线性搜索不对数据的顺序提出任何要求，例如在我们正在搜索的列表上。\n",
    "但是，如果我们有一个 *已经排序* 的列表，例如按字母顺序排序的名称列表，\n",
    "那么不应当使用线性搜索，我们可以做一些更聪明的事情，执行*二分搜索* （https://en.wikipedia.org/wiki/Binary_search_algorithm）"
   ]
  },
  {
   "cell_type": "markdown",
   "metadata": {},
   "source": [
    "<!--英文标记开始-->\n",
    "Binary search has similarities to bisection, that we have seen before. If we want to check if`y`is in\n",
    "the *sorted* array`x`of length`n`, we:"
   ]
  },
  {
   "cell_type": "markdown",
   "metadata": {},
   "source": [
    "1. Check that the search value`y`is possibly in the array by checking that it lies between\n",
    "   the end values of`x`.\n",
    "1. Set lower bound position to 0 and upper bound position to`n`-1\n",
    "1. Evaluate the midpoint value of`x`, and determine if`y`lies to the left or right of\n",
    "   the mid-point.\n",
    "   <!--英文标记结束-->"
   ]
  },
  {
   "cell_type": "markdown",
   "metadata": {},
   "source": [
    "二分搜索与二分法相似，我们以前见过。如果我们想检查 `y` 是否在\n",
    "长度为 `n` 的 *已排序* 数组 `x` 中，我们："
   ]
  },
  {
   "cell_type": "markdown",
   "metadata": {},
   "source": [
    "1. 检查被检索值 `y` 是否在 `x` 值的两端范围之内\n",
    "1. 将下限位置设置为 0，将上限位置设置为 `n`-1\n",
    "1. 评估 “x” 的中点值，并确定 “y” 是位于中点的左侧还是右侧"
   ]
  },
  {
   "cell_type": "markdown",
   "metadata": {},
   "source": [
    "<!--英文标记开始-->\n",
    "   - if`y < x[mid]`, then set the upper bound position equal to the midpoint position - 1\n",
    "   - else if`y > x[mid]`, then set the lower bound position equal to the midpoint position + 1\n",
    "   - else if`y == x[mid]`, then we have found`y`, so return position`mid`\n",
    "   - else if upper bound position < lower bound position, then`y`cannot be in the list, so return`None`\n",
    "<!--英文标记结束-->"
   ]
  },
  {
   "cell_type": "markdown",
   "metadata": {},
   "source": [
    "- 如果 `y <x [mid]`，则将上限位置设置为等于中点位置 - 1\n",
    " - 否则，如果 `y> x [mid]`，则将下限位置设置为等于中点位置+ 1\n",
    " - 否则，如果 `y == x [mid]`，那么我们找到了 `y`，所以返回位置 `mid`\n",
    " - 否则，如果上限位置 < 下限位置，那么 `y` 不能在列表中，所以返回'None`"
   ]
  },
  {
   "cell_type": "markdown",
   "metadata": {},
   "source": [
    "<!--英文标记开始-->\n",
    "### Example"
   ]
  },
  {
   "cell_type": "markdown",
   "metadata": {},
   "source": [
    "Consider the ordered array`x`of length 9:"
   ]
  },
  {
   "cell_type": "markdown",
   "metadata": {},
   "source": [
    "| position | 0 | 1 | 2 | 3 | 4 | 5 | 6 | 7 | 8 |\n",
    "|-----------|---|---|---|---|----|----|----|----|-----\n",
    "| value | 2 | 5 | 7 | 8 | 32 | 34 | 47 | 52 | 61 |"
   ]
  },
  {
   "cell_type": "markdown",
   "metadata": {},
   "source": [
    "We want to check if 52 is in the array, and if so in which position. The process is as follows:"
   ]
  },
  {
   "cell_type": "markdown",
   "metadata": {},
   "source": [
    "1.`upper=8, lower=0 -> midpoint=(8+0)/2=4`\n",
    "2.`x[8 (upper)]=61, x[0 (lower)]=2, x[4 (midpoint)]= 32 -> upper=8, lower=4+1=5, midpoint=(8+5)/2=6`\n",
    "3.`x[8 (upper)]=61, x[5 (lower)]=34, x[6 (midpoint)]= 47 -> upper=8, lower=6+1=7`\n",
    "4.`x[8 (upper)]=61, x[7 (lower)]=52 -> return 7 (position of 52)`\n",
    "<!--英文标记结束-->"
   ]
  },
  {
   "cell_type": "markdown",
   "metadata": {},
   "source": [
    "### 例子"
   ]
  },
  {
   "cell_type": "markdown",
   "metadata": {},
   "source": [
    "考虑一个长度为 9 的有序数组 `x`:"
   ]
  },
  {
   "cell_type": "markdown",
   "metadata": {},
   "source": [
    "| 位置 | 0 | 1 | 2 | 3 | 4 | 5 | 6 | 7 | 8 |\n",
    "|-----------|---|---|---|---|----|----|----|----|-----\n",
    "| 值 | 2 | 5 | 7 | 8 | 32 | 34 | 47 | 52 | 61 |"
   ]
  },
  {
   "cell_type": "markdown",
   "metadata": {},
   "source": [
    "我们想检查 52 是否在数组中，如果在数组中位置在哪里。那么过程如下："
   ]
  },
  {
   "cell_type": "markdown",
   "metadata": {},
   "source": [
    "1.` 上界=8, 下界=0 -> 中点=(8+0)/2=4`\n",
    "2.`x[8 (上界)]=61, x[0 (下界)]=2, x[4 (中点)]= 32 -> 上界=8, 下界=4+1=5, 中点=(8+5)/2=6`\n",
    "3.`x[8 (上界)]=61, x[5 (下界)]=34, x[6 (中点)]= 47 -> 上界=8, 下界=6+1=7`\n",
    "4.`x[8 (上界)]=61, x[7 (下界)]=52 -> 返回 7 (位置 of 52)`"
   ]
  },
  {
   "cell_type": "markdown",
   "metadata": {},
   "source": [
    "<!--英文标记开始-->\n",
    "### Implementation"
   ]
  },
  {
   "cell_type": "markdown",
   "metadata": {},
   "source": [
    "A Python implementation of the binary sort algorithm is below. When implementing an algorithm, particular care needs to be taken with initialising values, updating at the appropriate points, and avoiding infinite loops.\n",
    "<!--英文标记结束-->"
   ]
  },
  {
   "cell_type": "markdown",
   "metadata": {},
   "source": [
    "### 实现"
   ]
  },
  {
   "cell_type": "markdown",
   "metadata": {},
   "source": [
    "下面是二分法排序算法的 Python 实现。在实现算法时，需要特别注意初始化值，在适当的点更新，并且避免无限循环。"
   ]
  },
  {
   "cell_type": "code",
   "execution_count": 4,
   "metadata": {},
   "outputs": [],
   "source": [
    "def binary_search(x, y):\n",
    "    \"Peform binary search on x to find y. If found returns position, otherwise returns None.\"\n",
    "\n",
    "    # Intialise end point indices\n",
    "    lower, upper = 0, len(x) - 1\n",
    "\n",
    "    # If value is outside of interval, return None\n",
    "    if y < x[lower] or y > x[upper]:\n",
    "        return None\n",
    "\n",
    "    # Perform binary search\n",
    "    while True:\n",
    "\n",
    "        # Compute midpoint index (integer division)\n",
    "        midpoint = (upper + lower)//2\n",
    "\n",
    "        # Check which side of x[midpoint] y lies, and update midpoint accordingly\n",
    "        if y < x[midpoint]:\n",
    "            upper = midpoint - 1\n",
    "        elif y > x[midpoint]:\n",
    "            lower = midpoint + 1\n",
    "        elif y == x[midpoint]: # found, so return\n",
    "            return midpoint\n",
    "\n",
    "        # In this case val is not in list (return None)\n",
    "        if upper < lower:\n",
    "            return None"
   ]
  },
  {
   "cell_type": "markdown",
   "metadata": {},
   "source": [
    "<!--英文标记开始-->\n",
    "We now add some tests to check that our algorithm is functioning correctly:\n",
    "<!--英文标记结束-->"
   ]
  },
  {
   "cell_type": "markdown",
   "metadata": {},
   "source": [
    "我们现在添加一些测试来检查我们的算法是否正常运行："
   ]
  },
  {
   "cell_type": "code",
   "execution_count": 5,
   "metadata": {},
   "outputs": [],
   "source": [
    "# Generate an array of sorted integers\n",
    "x = np.array([-19, -15, -12, -8, -7, -6, -4 , 1, 2, 8, 9, 15, 15, 18, 22])\n",
    "\n",
    "# Test for values we know are in the array\n",
    "assert binary_search(x, x[0]) == 0\n",
    "assert binary_search(x, x[2]) == 2\n",
    "assert binary_search(x, x[7]) == 7\n",
    "assert binary_search(x, x[14]) == 14\n",
    "\n",
    "# Test for values we know are outside the array interval\n",
    "assert binary_search(x, -21) == None\n",
    "assert binary_search(x, 38) == None\n",
    "\n",
    "# Test for values we know are not in the array but are inside the array interval\n",
    "assert binary_search(x, -11) == None\n",
    "assert binary_search(x, 12) == None\n",
    "assert binary_search(x, 21) == None"
   ]
  },
  {
   "cell_type": "markdown",
   "metadata": {},
   "source": [
    "For large sorted arrays, binary search is much faster than linear search. We will look at this more in the next notebook. It does however rely on having a sorted array. If an array is unordered and we need to do a large number of searches, rather than using linear search it may be more efficient to first sort the array, and then use binary search."
   ]
  },
  {
   "cell_type": "markdown",
   "metadata": {},
   "source": [
    "对于大型排序数组，二分法搜索比线性搜索快得多。我们将在下一课中更多学习。然而，它依赖于具有排序的数组。如果数组是无序的并且我们需要进行大量搜索。与其使用线性搜索，不如首先对数组进行排序然后使用二分法搜索可能更有效。"
   ]
  },
  {
   "cell_type": "markdown",
   "metadata": {},
   "source": [
    "<!--英文标记开始-->\n",
    "# Sorting"
   ]
  },
  {
   "cell_type": "markdown",
   "metadata": {},
   "source": [
    "Another classic algorithmic problem is sorting. There are numerous sort algorithms listed at https://en.wikipedia.org/wiki/Sorting_algorithm. The reason for multiple algorithms is that there is no universal *best*. The appropriate algorithm depends on the problem - maybe the size of the problem,\n",
    "any pre-existing (partial) ordering, or even the CPU or memory (RAM) type."
   ]
  },
  {
   "cell_type": "markdown",
   "metadata": {},
   "source": [
    "We will consider two classic sorting algorithms - bubble sort and quicksort. Bubble sort is educational,\n",
    "and quicksort is widely used in practice.\n",
    "<!--英文标记结束-->"
   ]
  },
  {
   "cell_type": "markdown",
   "metadata": {},
   "source": [
    "# 排序"
   ]
  },
  {
   "cell_type": "markdown",
   "metadata": {},
   "source": [
    "另一个经典的算法问题是排序。https://en.wikipedia.org/wiki/Sorting_algorithm 中列出了大量的排序算法。有这么多种算法的原因是并没有通用的 *最佳* 排序算法。适当的算法取决于问题的特点 - 可能是问题的大小、\n",
    "任何预先存在的（至少部分的）排序，甚至是 CPU 或内存（RAM）类型。"
   ]
  },
  {
   "cell_type": "markdown",
   "metadata": {},
   "source": [
    "我们将考虑两种经典的排序算法 - 冒泡排序和快速排序。冒泡排序很有教育意义，而快速排序在实践中被广泛使用。"
   ]
  },
  {
   "cell_type": "markdown",
   "metadata": {},
   "source": [
    "<!--英文标记开始-->\n",
    "## Bubble Sort"
   ]
  },
  {
   "cell_type": "markdown",
   "metadata": {},
   "source": [
    "One of the simplest sorting algorithms is bubble sort. We just iterate over values in an array, and if any neighbours are in the wrong order we swap them. To sort the entire list, we have to repeat this process many times."
   ]
  },
  {
   "cell_type": "markdown",
   "metadata": {},
   "source": [
    "Here is a pseudocode implementation of bubble sort:\n",
    "<!--英文标记结束-->"
   ]
  },
  {
   "cell_type": "markdown",
   "metadata": {},
   "source": [
    "## 冒泡排序"
   ]
  },
  {
   "cell_type": "markdown",
   "metadata": {},
   "source": [
    "最简单的排序算法之一是冒泡排序。我们只是迭代一个数组中的值，如果任何邻居的顺序错误，我们就交换它们。要对整个列表进行排序，我们必须多次重复此过程。"
   ]
  },
  {
   "cell_type": "markdown",
   "metadata": {},
   "source": [
    "这是冒泡排序的伪代码实现："
   ]
  },
  {
   "cell_type": "markdown",
   "metadata": {},
   "source": [
    "```\n",
    "过程 bubbleSort( A : 可排序的项目列表 )\n",
    "    N ← 长度 (A)\n",
    "    重复\n",
    "       for i = 1 to N-1 做\n",
    "          如果 A[i] > A[i+1] 那么\n",
    "             交换 (A[i], A[i+1])\n",
    "          end if\n",
    "       end for\n",
    "       N ← N - 1\n",
    "    直到 N = 0\n",
    "过程结束\n",
    "```"
   ]
  },
  {
   "cell_type": "code",
   "execution_count": 6,
   "metadata": {},
   "outputs": [],
   "source": [
    "def bubble_sort(A):\n",
    "    \"Sort A and return\"\n",
    "\n",
    "    # Make a copy of A\n",
    "    A = A.copy()\n",
    "\n",
    "    # Perform sorting\n",
    "    N = len(A)\n",
    "    while N > 0:\n",
    "        for i in range(N - 1):\n",
    "            # Swap data if in wrong order\n",
    "            if A[i] > A[i + 1]:\n",
    "                A[i + 1], A[i] = A[i], A[i + 1]\n",
    "        N = N - 1\n",
    "\n",
    "    return A"
   ]
  },
  {
   "cell_type": "markdown",
   "metadata": {},
   "source": [
    "<!--英文标记开始-->\n",
    "Note that this pseudocode assumes that the list`A`has entries indexed from`1`to`N`.\n",
    "This is because some languages, e.g. Fortran and MATLAB, use '1' for the index of the first entry in an array. Python, C, and numerous other languages use '0' as the index for the first entry in an array.\n",
    "Because different languages have different conventions, it is important to pay attention to details like this when reading pseudocode. Mistakes due to 0-based or 1-based indexing are common, sufficiently so that there is a name for\n",
    "such an error - 'off-by-one error'."
   ]
  },
  {
   "cell_type": "markdown",
   "metadata": {},
   "source": [
    "Below is an implementation of bubble sort in Python:\n",
    "<!--英文标记结束-->"
   ]
  },
  {
   "cell_type": "markdown",
   "metadata": {},
   "source": [
    "注意，该伪代码假定列表 “A” 具有从 “1” 到 “N” 索引的条目。这是因为对于某些语言，例如 Fortran 和 MATLAB，使用'1'作为数组中第一个条目的索引。Python，C 和许多其他语言使用'0'作为数组中第一个条目的索引。因为不同的语言有不同的约定，所以在阅读伪代码时要注意这样的细节。基于 0-索引或基于 1-索引的错误很常见，因此存在这样一个错误的名称 - “差一错误”。"
   ]
  },
  {
   "cell_type": "markdown",
   "metadata": {},
   "source": [
    "下面是 Python 中冒泡排序的实现："
   ]
  },
  {
   "cell_type": "markdown",
   "metadata": {},
   "source": [
    "<!--英文标记开始-->We can test our bubble sort implementation with some random data:<!--英文标记结束-->"
   ]
  },
  {
   "cell_type": "markdown",
   "metadata": {},
   "source": [
    "我们可以使用一些随机数据测试我们的冒泡排序实现："
   ]
  },
  {
   "cell_type": "code",
   "execution_count": 7,
   "metadata": {},
   "outputs": [
    {
     "name": "stdout",
     "output_type": "stream",
     "text": [
      "[0.03233232 0.03251829 0.07103294 0.14805153 0.21321488 0.25989539\n",
      " 0.32179124 0.42797162 0.44328155 0.47101761 0.53783258 0.54020027\n",
      " 0.57795516 0.66561489 0.70048737 0.71369816 0.76156279 0.88026078\n",
      " 0.92664082 0.96710071]\n"
     ]
    }
   ],
   "source": [
    "# Generate array of 20 random values\n",
    "x = np.random.rand(20)\n",
    "\n",
    "# Sort array and print\n",
    "print(bubble_sort(x))"
   ]
  },
  {
   "cell_type": "markdown",
   "metadata": {},
   "source": [
    "<!--英文标记开始-->\n",
    "Bubble sort is not a sophisticated algorithm, and as we will see, it is very inefficient for large lists. But, it performs the task. Performance is not always a concern. We just need implementations that are sufficiently fast for a given application. If performance is not critical, clarity and simplicity of the code should be prized.\n",
    "<!--英文标记结束-->"
   ]
  },
  {
   "cell_type": "markdown",
   "metadata": {},
   "source": [
    "冒泡排序不是一种复杂的算法，正如我们将看到的，对于大型列表来说效率非常低。但是，它确实可以完成任务。\n",
    "性能并不总是一个问题。我们只需要对给定应用程序足够快的实现。如果性能不重要，则应该珍惜代码的清晰度和简单性。"
   ]
  },
  {
   "cell_type": "markdown",
   "metadata": {},
   "source": [
    "<!--英文标记开始-->\n",
    "## Quicksort"
   ]
  },
  {
   "cell_type": "markdown",
   "metadata": {},
   "source": [
    "A widely used algorithm for sorting, developed in 1959, is *quicksort*. It is known as a 'divide and conquer' type algorithm. It essentially picks a value in the array (the pivot), and partitions the entries into two groups; those less than the pivot and those greater than or equal to the pivot. It then repeats the process on each group. This make quicksort a *recursive* algorithm."
   ]
  },
  {
   "cell_type": "markdown",
   "metadata": {},
   "source": [
    "Below is the quicksort algorithm in pseudocode, taken from https://en.wikipedia.org/wiki/Quicksort#Lomuto_partition_scheme:\n",
    "<!--英文标记结束-->"
   ]
  },
  {
   "cell_type": "markdown",
   "metadata": {},
   "source": [
    "## 快速排序"
   ]
  },
  {
   "cell_type": "markdown",
   "metadata": {},
   "source": [
    "*快速排序* 是 1959 年开发的一种广泛使用的排序算法。它被称为 “分而治之” 类型的算法。它实质上是在数组中选择一个值（基准，pivot），并将数组分成两组; 小于基准的那些以及大于或等于基准的那些。然后它重复每个组的过程。这使得快速排序成为*递归*算法。"
   ]
  },
  {
   "cell_type": "markdown",
   "metadata": {},
   "source": [
    "以下是伪代码中的快速排序算法，取自 https://en.wikipedia.org/wiki/Quicksort#Lomuto_partition_scheme："
   ]
  },
  {
   "cell_type": "markdown",
   "metadata": {},
   "source": [
    "```\n",
    "algorithm quicksort(A, lo, hi) is\n",
    "    if lo < hi then\n",
    "        p := partition(A, lo, hi)\n",
    "        quicksort(A, lo, p – 1)\n",
    "        quicksort(A, p + 1, hi)"
   ]
  },
  {
   "cell_type": "markdown",
   "metadata": {},
   "source": [
    "algorithm partition(A, lo, hi) is\n",
    "    pivot := A[hi]\n",
    "    i := lo // place for swapping\n",
    "    for j := lo to hi – 1 do\n",
    "        if A[j] ≤ pivot then\n",
    "            swap A[i] with A[j]\n",
    "            i := i + 1\n",
    "    swap A[i] with A[hi]\n",
    "    return i\n",
    "```"
   ]
  },
  {
   "cell_type": "markdown",
   "metadata": {},
   "source": [
    "<!--英文标记开始-->\n",
    "The algorithm is started with`quicksort(A, 0, len(A)-1)`"
   ]
  },
  {
   "cell_type": "markdown",
   "metadata": {},
   "source": [
    "We implement this now in Python:<!--英文标记结束-->"
   ]
  },
  {
   "cell_type": "markdown",
   "metadata": {},
   "source": [
    "该算法开始于 `quicksort(A, 0, len(A)-1)`"
   ]
  },
  {
   "cell_type": "markdown",
   "metadata": {},
   "source": [
    "我们现在用 Python 实现它"
   ]
  },
  {
   "cell_type": "code",
   "execution_count": 1,
   "metadata": {},
   "outputs": [],
   "source": [
    "import numpy as np\n",
    "def quicksort(A, lo=0, hi=None):\n",
    "    \"Sort A and return sorted array\"\n",
    "\n",
    "    # Initialise data the first time function is called\n",
    "    if hi is None:\n",
    "        A = A.copy()\n",
    "        hi = len(A) - 1\n",
    "\n",
    "    # Sort\n",
    "    if lo < hi:\n",
    "        p = partition(A, lo, hi)\n",
    "        quicksort(A, lo, p - 1)\n",
    "        quicksort(A, p + 1, hi)\n",
    "    return A\n",
    "\n",
    "def partition(A, lo, hi):\n",
    "    \"Partitioning function for use in quicksort\"\n",
    "    pivot = A[hi]\n",
    "    i = lo\n",
    "    for j in range(lo, hi):\n",
    "        if A[j] <= pivot:\n",
    "            A[i], A[j] = A[j], A[i]\n",
    "            i += 1\n",
    "    A[i], A[hi] = A[hi], A[i]\n",
    "    return i"
   ]
  },
  {
   "cell_type": "markdown",
   "metadata": {},
   "source": [
    "<!--英文标记开始-->\n",
    "We do not want to focus on details of the quicksort algorithm, but do wish to highlight the close resemblance between the pseudocode and the Python implementation."
   ]
  },
  {
   "cell_type": "markdown",
   "metadata": {},
   "source": [
    "We now test the implementation for an array of random numbers:\n",
    "<!--英文标记结束-->"
   ]
  },
  {
   "cell_type": "markdown",
   "metadata": {},
   "source": [
    "我们不想关注快速排序算法的细节，但是希望强调伪代码和 Python 实现之间的密切相似性。"
   ]
  },
  {
   "cell_type": "markdown",
   "metadata": {},
   "source": [
    "我们现在测试一组随机数的实现："
   ]
  },
  {
   "cell_type": "code",
   "execution_count": 9,
   "metadata": {},
   "outputs": [
    {
     "name": "stdout",
     "output_type": "stream",
     "text": [
      "Unsorted: [0.81955124 0.61694178 0.58068718 0.30874128 0.73170659 0.28017789\n",
      " 0.89566209 0.57739993 0.64522469 0.89958876]\n",
      "Sorted: [0.28017789 0.30874128 0.57739993 0.58068718 0.61694178 0.64522469\n",
      " 0.73170659 0.81955124 0.89566209 0.89958876]\n"
     ]
    }
   ],
   "source": [
    "x = np.random.rand(10)\n",
    "print(\"Unsorted:\", x)\n",
    "\n",
    "y = quicksort(x)\n",
    "print(\"Sorted:\", y)"
   ]
  },
  {
   "cell_type": "markdown",
   "metadata": {},
   "source": [
    "<!--英文标记开始-->\n",
    "## Sort performance"
   ]
  },
  {
   "cell_type": "markdown",
   "metadata": {},
   "source": [
    "Bubble sort and quicksort both sort arrays. So which is better? Let's test\n",
    "the performance on an array of 5,000 random numbers:<!--英文标记结束-->"
   ]
  },
  {
   "cell_type": "markdown",
   "metadata": {},
   "source": [
    "## 排序性能"
   ]
  },
  {
   "cell_type": "markdown",
   "metadata": {},
   "source": [
    "冒泡排序和快速排序两种排序。哪个更好？我们来试试对 5000 个随机数的数组排序时的表现："
   ]
  },
  {
   "cell_type": "code",
   "execution_count": 10,
   "metadata": {},
   "outputs": [],
   "source": [
    "data = np.random.rand(5000)"
   ]
  },
  {
   "cell_type": "markdown",
   "metadata": {},
   "source": [
    "<!--英文标记开始-->\n",
    "We first time bubble sort, using the magic command [`%time`](Notebook%20tips.ipynb#Simple-timing) to get the execution time:\n",
    "<!--英文标记结束-->"
   ]
  },
  {
   "cell_type": "markdown",
   "metadata": {},
   "source": [
    "首先，我们使用冒泡排序，使用 magic 命令 [`％time`](Notebook％20tips.ipynb＃Simple-timing) 来获取执行时间："
   ]
  },
  {
   "cell_type": "code",
   "execution_count": 11,
   "metadata": {},
   "outputs": [
    {
     "name": "stdout",
     "output_type": "stream",
     "text": [
      "CPU times: user 3.32 s, sys: 0 ns, total: 3.32 s\n",
      "Wall time: 3.32 s\n"
     ]
    }
   ],
   "source": [
    "%time x = bubble_sort(data)"
   ]
  },
  {
   "cell_type": "markdown",
   "metadata": {},
   "source": [
    "而快速排序："
   ]
  },
  {
   "cell_type": "code",
   "execution_count": 12,
   "metadata": {},
   "outputs": [
    {
     "name": "stdout",
     "output_type": "stream",
     "text": [
      "CPU times: user 25.4 ms, sys: 0 ns, total: 25.4 ms\n",
      "Wall time: 25.2 ms\n"
     ]
    }
   ],
   "source": [
    "%time x = quicksort(data)"
   ]
  },
  {
   "cell_type": "markdown",
   "metadata": {},
   "source": [
    "<!--英文标记开始-->\n",
    "Clearly, quicksort is *much* faster than bubble sort."
   ]
  },
  {
   "cell_type": "markdown",
   "metadata": {},
   "source": [
    "Finally, we test the NumPy quicksort function:\n",
    "<!--英文标记结束-->"
   ]
  },
  {
   "cell_type": "markdown",
   "metadata": {},
   "source": [
    "显然，快速排序比冒泡排序*快得多*。"
   ]
  },
  {
   "cell_type": "markdown",
   "metadata": {},
   "source": [
    "最后，我们来测试 NumPy 快速排序功能："
   ]
  },
  {
   "cell_type": "code",
   "execution_count": 13,
   "metadata": {},
   "outputs": [
    {
     "name": "stdout",
     "output_type": "stream",
     "text": [
      "CPU times: user 368 µs, sys: 6 µs, total: 374 µs\n",
      "Wall time: 269 µs\n"
     ]
    }
   ],
   "source": [
    "%time x = np.sort(data, kind='quicksort')"
   ]
  },
  {
   "cell_type": "markdown",
   "metadata": {},
   "source": [
    "<!--英文标记开始-->\n",
    "The NumPy implementation is considerably faster than our implementation of quicksort.\n",
    "<!--英文标记结束-->"
   ]
  },
  {
   "cell_type": "markdown",
   "metadata": {},
   "source": [
    "NumPy 实现比我们的快速排序实现快得多。"
   ]
  },
  {
   "cell_type": "markdown",
   "metadata": {},
   "source": [
    "<!--英文标记开始-->\n",
    "# Summary"
   ]
  },
  {
   "cell_type": "markdown",
   "metadata": {},
   "source": [
    "We have looked at search and sorting as examples of algorithms.\n",
    "Sometimes we need to write algorithms for a\n",
    "specialised problem. However, for common algorithms like search and sorting always use the built-in/library versions. These will be faster and better tested.\n",
    "<!--英文标记结束-->"
   ]
  },
  {
   "cell_type": "markdown",
   "metadata": {},
   "source": [
    "# 总结"
   ]
  },
  {
   "cell_type": "markdown",
   "metadata": {},
   "source": [
    "我们已经看到了搜索和排序算法的示例。\n",
    "有时我们需要为某个特定问题编写算法。\n",
    "但是，对于搜索和排序等常见算法，请始终使用内置 / 库版本。这些将更快，更好地测试。"
   ]
  },
  {
   "cell_type": "markdown",
   "metadata": {},
   "source": [
    "<!--英文标记开始-->\n",
    "# Exercises"
   ]
  },
  {
   "cell_type": "markdown",
   "metadata": {},
   "source": [
    "Complete now the [10 Exercises](Exercises/10%20Exercises.ipynb) notebook.\n",
    "<!--英文标记结束-->"
   ]
  },
  {
   "cell_type": "markdown",
   "metadata": {},
   "source": [
    "# 练习\n",
    "现在完成 [练习 10](Exercises/10%20Exercises.ipynb)"
   ]
  }
 ],
 "metadata": {
  "kernelspec": {
   "display_name": "Python 3",
   "language": "python",
   "name": "python3"
  },
  "language_info": {
   "codemirror_mode": {
    "name": "ipython",
    "version": 3
   },
   "file_extension": ".py",
   "mimetype": "text/x-python",
   "name": "python",
   "nbconvert_exporter": "python",
   "pygments_lexer": "ipython3",
   "version": "3.6.8"
  }
 },
 "nbformat": 4,
 "nbformat_minor": 2
}