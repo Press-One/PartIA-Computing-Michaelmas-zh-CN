{
 "cells": [
  {
   "cell_type": "markdown",
   "metadata": {},
   "source": [
    "# Introduction"
   ]
  },
  {
   "cell_type": "markdown",
   "metadata": {},
   "source": [
    "It is bad when a program crashes without an error message. It is even worse when a program used in\n",
    "engineering, science or finance computes an erroneous result. A crash without an informative error message causes\n",
    "frustration, and it costs time because we get no information on what went wrong, and this makes it hard to fix.\n",
    "An erroneous result used in an engineering design could risk life.\n",
    "With good software engineering we can mitigate these risks."
   ]
  },
  {
   "cell_type": "markdown",
   "metadata": {},
   "source": [
    "## 介绍"
   ]
  },
  {
   "cell_type": "markdown",
   "metadata": {},
   "source": [
    "程序在没有错误消息的情况下崩溃是很糟糕的。当工程，科学或金融中使用的程序计算出错误的结果时，情况会更糟。没有信息性错误消息的崩溃会令人沮丧。并且由于我们没有得到关于哪里出错的信息，这使得错误难以修复。"
   ]
  },
  {
   "cell_type": "markdown",
   "metadata": {},
   "source": [
    "工程设计中使用的错误结果可能会危及生命。通过良好的软件工程，我们可以降低这些风险。"
   ]
  },
  {
   "cell_type": "markdown",
   "metadata": {},
   "source": [
    "### Bugs and testing"
   ]
  },
  {
   "cell_type": "markdown",
   "metadata": {},
   "source": [
    "Programs have bugs and users make mistakes. It is important to minimise the number of bugs,\n",
    "and where possible detect user mistakes. We do this through careful engineering of a program,\n",
    "error checking and extensive (automated) testing. Testing is critical in engineering programs to build confidence that\n",
    "a program computes the 'right' thing. Good software engineering and thorough testing would have prevented both the Patriot missile and Ariane 5 failures that were discussed in Activity 03."
   ]
  },
  {
   "cell_type": "markdown",
   "metadata": {},
   "source": [
    "Testing is not a one-off exercise. As you develop programs, it is good practice to add tests as you go. It is also good to test very small units of a program so that if a test fails you can quickly narrow down the possible causes.\n",
    "Modern software development uses *continuous integration*, in which a suite of tests is run every time a change is made to a code. This helps catch issues early. It also helps tremendously when more than one person is working on a program. You may add a feature today and test it, but tomorrow your colleague might make a seemingly unrelated change that breaks your feature. Continuous testing helps in this case."
   ]
  },
  {
   "cell_type": "markdown",
   "metadata": {},
   "source": [
    "### Objectives"
   ]
  },
  {
   "cell_type": "markdown",
   "metadata": {},
   "source": [
    "- Introduction to raising exceptions\n",
    "- Use exception handling\n",
    "- Creation of tests"
   ]
  },
  {
   "cell_type": "markdown",
   "metadata": {},
   "source": [
    "### 错误和测试"
   ]
  },
  {
   "cell_type": "markdown",
   "metadata": {},
   "source": [
    "程序存在错误，用户会犯错误。最大限度地减少错误数量非常重要，并在可能的情况下检测用户错误。我们通过软件工程来做到这一点: 错误检查和广泛（自动）测试。测试对于工程项目至关重要，可以建立程序计算 “正确” 事物的信心。良好的软件工程和彻底的测试可以防止在第三课中讨论的爱国者导弹和阿丽亚娜 5 号失败。"
   ]
  },
  {
   "cell_type": "markdown",
   "metadata": {},
   "source": [
    "测试不是一次性的练习。在开发程序时，最好随时添加测试。测试程序的非常小的单元也是很好的，这样如果测试失败，你可以迅速缩小可能的原因范围。"
   ]
  },
  {
   "cell_type": "markdown",
   "metadata": {},
   "source": [
    "现代软件开发使用*持续集成*，每次对代码进行更改时都会运行一套测试。这有助于及早发现问题。当一个以上的人正在开发一个程序时，它也会有很大的帮助。您今天可以添加一个功能并对其进行测试，但明天您的同事可能会做出看似无关的更改，从而破坏您的功能。在这种情况下，持续测试有帮助。"
   ]
  },
  {
   "cell_type": "markdown",
   "metadata": {},
   "source": [
    "### 目标"
   ]
  },
  {
   "cell_type": "markdown",
   "metadata": {},
   "source": [
    "- 引入异常的介绍\n",
    "- 使用异常处理\n",
    "- 创建测试"
   ]
  },
  {
   "cell_type": "markdown",
   "metadata": {},
   "source": [
    "## Errors and exceptions"
   ]
  },
  {
   "cell_type": "markdown",
   "metadata": {},
   "source": [
    "There are two types of program errors: *syntax errors* and *exceptions*."
   ]
  },
  {
   "cell_type": "markdown",
   "metadata": {},
   "source": [
    "### Syntax errors"
   ]
  },
  {
   "cell_type": "markdown",
   "metadata": {},
   "source": [
    "Syntax errors are when the syntax of a program does not conform to the rules of the language. These are (generally) easy to detect because the interpreter/compiler will print an error. You will have seen plenty of syntax error messages by now!"
   ]
  },
  {
   "cell_type": "markdown",
   "metadata": {},
   "source": [
    "## 错误和异常"
   ]
  },
  {
   "cell_type": "markdown",
   "metadata": {},
   "source": [
    "有两种类型的程序错误：*语法错误*和*异常*。"
   ]
  },
  {
   "cell_type": "markdown",
   "metadata": {},
   "source": [
    "### 语法错误"
   ]
  },
  {
   "cell_type": "markdown",
   "metadata": {},
   "source": [
    "语法错误是指程序的语法不符合语言规则的情况。这些（通常）易于检测，因为解释器 / 编译器将打印错误。您现在应该已经看到了大量语法错误消息！"
   ]
  },
  {
   "cell_type": "markdown",
   "metadata": {},
   "source": [
    "### Exceptions"
   ]
  },
  {
   "cell_type": "markdown",
   "metadata": {},
   "source": [
    "Exceptions are when something unexpected or anomalous occurs during the execution of a program. The syntax is correct, but something goes\n",
    "wrong while a program is running. Simple examples, where a well-engineered program will *raise an exception*, include:"
   ]
  },
  {
   "cell_type": "markdown",
   "metadata": {},
   "source": [
    "- Attempting to divide by zero;\n",
    "- Receiving negative data when only positive data is permitted, e.g. taking the\n",
    "  log of a negative number, or a negative integer for the number students in a class;\n",
    "- Unexpected integer overflows; and\n",
    "- Attempting to compute the dot product between two vectors of different lengths."
   ]
  },
  {
   "cell_type": "markdown",
   "metadata": {},
   "source": [
    "These are all cases that can be tested in a program. We should check\n",
    "for invalid data and attempts to use our programs beyond the limits of their designs,\n",
    "and in these cases raise an exception with an informative message."
   ]
  },
  {
   "cell_type": "markdown",
   "metadata": {},
   "source": [
    "### 异常"
   ]
  },
  {
   "cell_type": "markdown",
   "metadata": {},
   "source": [
    "异常是在执行程序期间发生意外或例外的情况。语法是正确的，但程序运行时出错了。简单的例子，精心设计的程序将*引发异常*，包括："
   ]
  },
  {
   "cell_type": "markdown",
   "metadata": {},
   "source": [
    "- 试图除以零;\n",
    "- 当仅允许正数据时接收负数据，例如，对一个负数取对数，或用一个负整数的记录一个班级的学生数;\n",
    "- 意外的整数溢出; 和\n",
    "- 尝试计算两个不同长度的矢量之间的点积。"
   ]
  },
  {
   "cell_type": "markdown",
   "metadata": {},
   "source": [
    "这些都是可以在程序中测试的案例。我们应检查无效数据并尝试使用超出其设计限制的程序，在这些情况下引发异常并提供有意义的消息。"
   ]
  },
  {
   "cell_type": "markdown",
   "metadata": {},
   "source": [
    "<font size=4 weight=600 >USS Yorktown Smart Ship</font>"
   ]
  },
  {
   "cell_type": "markdown",
   "metadata": {},
   "source": [
    "USS Yorktown was used for the US Navy Smart Ship program. A computer system was fitted to operate a control centre from the bridge. In 1997, a crew member entered data into the system that led to an attempted division by zero. This caused the ship's computer systems and the ship's propulsion systems to shut down.\n",
    "This would have been avoided with good software engineering and exception handling.\n",
    "You can find more at https://en.wikipedia.org/wiki/USS_Yorktown_(CG-48)#Smart_ship_testbed."
   ]
  },
  {
   "cell_type": "markdown",
   "metadata": {},
   "source": [
    "<img src=\"https://upload.wikimedia.org/wikipedia/commons/thumb/a/a9/Ticonderoga%2C_Yorktown_and_Thomas_S._Gates_at_Philadelphia.jpg/601px-Ticonderoga%2C_Yorktown_and_Thomas_S._Gates_at_Philadelphia.jpg\" width=\"400\" />"
   ]
  },
  {
   "cell_type": "markdown",
   "metadata": {},
   "source": [
    "<font size=4 weight=600 >USS Yorktown 智能舰艇</font>"
   ]
  },
  {
   "cell_type": "markdown",
   "metadata": {},
   "source": [
    "USS Yorktown 被用于美国海军智能舰船计划。安装了计算机系统以从舰桥上操作控制中心。1997 年，机组成员将数据输入系统，导致程序试图除零。这导致船舶的计算机系统和船舶的推进系统关闭。"
   ]
  },
  {
   "cell_type": "markdown",
   "metadata": {},
   "source": [
    "通过良好的软件工程和异常处理可以避免这种情况。"
   ]
  },
  {
   "cell_type": "markdown",
   "metadata": {},
   "source": [
    "你可以在此了解更详细的信息 https://en.wikipedia.org/wiki/USS_Yorktown_(CG-48)#Smart_ship_testbed."
   ]
  },
  {
   "cell_type": "markdown",
   "metadata": {},
   "source": [
    "<img src=\"https://upload.wikimedia.org/wikipedia/commons/thumb/a/a9/Ticonderoga%2C_Yorktown_and_Thomas_S._Gates_at_Philadelphia.jpg/601px-Ticonderoga%2C_Yorktown_and_Thomas_S._Gates_at_Philadelphia.jpg\" width=\"400\" />"
   ]
  },
  {
   "cell_type": "markdown",
   "metadata": {},
   "source": []
  },
  {
   "cell_type": "markdown",
   "metadata": {},
   "source": [
    "## Raising exceptions"
   ]
  },
  {
   "cell_type": "markdown",
   "metadata": {},
   "source": [
    "*Raising an exception* is what happens when we trigger an exception. It is sometimes called *throwing an exception*. Python peforms some checks for us. For example, if we have a list of length 5:"
   ]
  },
  {
   "cell_type": "code",
   "execution_count": null,
   "metadata": {},
   "outputs": [],
   "source": [
    "colours = [\"green\", \"blue\", \"yellow\", \"red\", \"orange\"]"
   ]
  },
  {
   "cell_type": "markdown",
   "metadata": {},
   "source": [
    "and we attempt to index beyond the end of the list:"
   ]
  },
  {
   "cell_type": "code",
   "execution_count": null,
   "metadata": {},
   "outputs": [],
   "source": [
    "c = colours[6]"
   ]
  },
  {
   "cell_type": "markdown",
   "metadata": {},
   "source": [
    "we will see the error message:"
   ]
  },
  {
   "cell_type": "code",
   "execution_count": null,
   "metadata": {},
   "outputs": [],
   "source": [
    "---------------------------------------------------------------------------\n",
    "IndexError Traceback (most recent call last)\n",
    "<ipython-input-26-322e6eedcde5> in <module>()\n",
    "      1 colours = [\"green\", \"blue\", \"yellow\", \"red\", \"orange\"]\n",
    "-> 2 c = colours[6]\n",
    "IndexError: list index out of range"
   ]
  },
  {
   "cell_type": "markdown",
   "metadata": {},
   "source": [
    "## 引发异常"
   ]
  },
  {
   "cell_type": "markdown",
   "metadata": {},
   "source": [
    "*引发一个异常* 就是当我们触发异常时会发生什么。它有时被称为抛出异常。Python 为我们提供了一些检查。例如，如果我们有一个长度为 5 的列表："
   ]
  },
  {
   "cell_type": "code",
   "execution_count": null,
   "metadata": {},
   "outputs": [],
   "source": [
    "colours = [\"green\", \"blue\", \"yellow\", \"red\", \"orange\"]"
   ]
  },
  {
   "cell_type": "markdown",
   "metadata": {},
   "source": [
    "我们尝试索引超出列表的末尾："
   ]
  },
  {
   "cell_type": "code",
   "execution_count": null,
   "metadata": {},
   "outputs": [],
   "source": [
    "c = colours[6]"
   ]
  },
  {
   "cell_type": "markdown",
   "metadata": {},
   "source": [
    "我们将看到错误消息："
   ]
  },
  {
   "cell_type": "code",
   "execution_count": null,
   "metadata": {},
   "outputs": [],
   "source": [
    "---------------------------------------------------------------------------\n",
    "IndexError Traceback (most recent call last)\n",
    "<ipython-input-26-322e6eedcde5> in <module>()\n",
    "      1 colours = [\"green\", \"blue\", \"yellow\", \"red\", \"orange\"]\n",
    "-- 2 c = colours[6]\n",
    "IndexError: list index out of range"
   ]
  },
  {
   "cell_type": "markdown",
   "metadata": {},
   "source": [
    "Python can check for some errors, but not all. We need to include checks in our programs to raise exceptions when something unexpected happens or invalid input is received. This reduces the likelihood of our engineering programs computing incorrect results, which could have serious consequences, and it makes it easier to debug programs."
   ]
  },
  {
   "cell_type": "markdown",
   "metadata": {},
   "source": [
    "Below we build on some examples from earlier notebooks to add exception handling."
   ]
  },
  {
   "cell_type": "markdown",
   "metadata": {},
   "source": [
    "Python 可以检查一些错误，但不是全部。我们需要在程序中包含检查，以便在发生意外情况或收到无效输入时引发异常。这降低了我们的工程程序计算错误结果的可能性，并且可以更容易地调试程序，错误结果可能会产生严重后果。"
   ]
  },
  {
   "cell_type": "markdown",
   "metadata": {},
   "source": [
    "下面我们基于之前笔记本中的一些示例来添加异常处理。"
   ]
  },
  {
   "cell_type": "markdown",
   "metadata": {},
   "source": [
    "### Parameter validity checking"
   ]
  },
  {
   "cell_type": "markdown",
   "metadata": {},
   "source": [
    "In the first notebook we looked at the gravitational potential $V$ of a body of mass $m$ (point mass) at a distance $r$ from a body of mass $M$:"
   ]
  },
  {
   "cell_type": "markdown",
   "metadata": {},
   "source": [
    "$$\n",
    "V = \\frac{G M m}{r}\n",
    "$$"
   ]
  },
  {
   "cell_type": "markdown",
   "metadata": {},
   "source": [
    "where $G$ is the *gravitational constant*. This expression makes sense only for $G, M, m \\ge 0$ and $r > 0$. Implementing computation of the gravitational potential as a function:"
   ]
  },
  {
   "cell_type": "markdown",
   "metadata": {},
   "source": [
    "### 参数有效性检查"
   ]
  },
  {
   "cell_type": "markdown",
   "metadata": {},
   "source": [
    "在第一个笔记本中，我们观察了一个质量为$m$（点质量）的物体的在距离质量为$M$物体为$r$时的重力势$V$："
   ]
  },
  {
   "cell_type": "markdown",
   "metadata": {},
   "source": [
    "$$\n",
    "V = \\frac{G M m}{r}\n",
    "$$"
   ]
  },
  {
   "cell_type": "markdown",
   "metadata": {},
   "source": [
    "其中， $G$是*引力常数*。表达式在$G, M, m \\ge 0$ and $r > 0$时才有意义。将重力势的计算实现为函数："
   ]
  },
  {
   "cell_type": "code",
   "execution_count": 1,
   "metadata": {},
   "outputs": [
    {
     "name": "stdout",
     "output_type": "stream",
     "text": [
      "9.59625857142857\n"
     ]
    }
   ],
   "source": [
    "def gravity_potential(G, M, m, r):\n",
    "    return G*M*m/r\n",
    "\n",
    "V = gravity_potential(6.674e-11, 1.65e12, 6.1e2, 7e3)\n",
    "print(V)"
   ]
  },
  {
   "cell_type": "markdown",
   "metadata": {},
   "source": [
    "A user could easily make a typographical error and make $G$, $M$, or $m$ negative, or we might encounter a case where $r$ becomes zero. In any of these cases, the computed gravitational potential would not be sensible but the above program would return a value and proceed."
   ]
  },
  {
   "cell_type": "markdown",
   "metadata": {},
   "source": [
    "Rather than return an obviously wrong result, we can guard against easy-to-detect errors by checking the validity of the arguments and raising exceptions in the case of invalid data, e.g.:"
   ]
  },
  {
   "cell_type": "markdown",
   "metadata": {},
   "source": [
    "用户很可能出现输入错误，使$ G $，$ M $或$ m $为负数，或者我们可能会遇到$ r $变为零的情况。在以上这些情况下，计算出的重力势能都不合理，但上述程序将返回一个值并继续进行其他过程。"
   ]
  },
  {
   "cell_type": "markdown",
   "metadata": {},
   "source": [
    "我们可以通过检查参数的有效性并在无效数据的情况下引发异常来防止这些容易检测的错误，而不是返回明显错误的结果，例如："
   ]
  },
  {
   "cell_type": "code",
   "execution_count": 1,
   "metadata": {},
   "outputs": [],
   "source": [
    "def gravity_potential(G, M, m, r):\n",
    "    if G < 0:\n",
    "        raise ValueError(\"引力常数必须大于或等于 0\")\n",
    "    if M < 0:\n",
    "        raise ValueError(\"质量 M 必须大于或等于零\")\n",
    "    if m < 0:\n",
    "        raise ValueError(\"质量 m 必须大雨或等于 0\")\n",
    "    if r <= 0:\n",
    "        raise ValueError(\"距离 r 必须大于 0\")\n",
    "    return G*M*m/r\n",
    "\n",
    "V = gravity_potential(6.674e-11, 1.65e12, 6.1e2, 7e3)"
   ]
  },
  {
   "cell_type": "markdown",
   "metadata": {},
   "source": [
    "Now, if we attempt\n",
    "现在，如果我们试着输入"
   ]
  },
  {
   "cell_type": "code",
   "execution_count": null,
   "metadata": {},
   "outputs": [],
   "source": [
    "V = gravity_potential(-6.674e-11, 1.65e12, 6.1e2, 7e3)"
   ]
  },
  {
   "cell_type": "markdown",
   "metadata": {},
   "source": [
    "we would see:\n",
    "我们将看到"
   ]
  },
  {
   "cell_type": "code",
   "execution_count": null,
   "metadata": {},
   "outputs": [],
   "source": [
    "---------------------------------------------------------------------------\n",
    "ValueError Traceback (most recent call last)\n",
    "<ipython-input-20-ef1cff047ffd> in <module>()\n",
    "     10 return G*M*m/r\n",
    "     11\n",
    "- 12 V = gravity_potential(-6.674e-11, 1.65e12, 6.1e2, 7e3)"
   ]
  },
  {
   "cell_type": "markdown",
   "metadata": {},
   "source": [
    "<ipython-input-20-ef1cff047ffd> in gravity_potential(G, M, m, r)\n",
    "      1 def gravity_potential(G, M, m, r):\n",
    "      2 if G < 0:\n",
    "-- 3 raise ValueError(\"引力常数必须大于或等于 0\")\n",
    "      4 if M < 0:\n",
    "      5 raise ValueError(\"质量 M 必须大于或等于零\")"
   ]
  },
  {
   "cell_type": "markdown",
   "metadata": {},
   "source": [
    "ValueError: 引力常数必须大于或等于 0"
   ]
  },
  {
   "cell_type": "markdown",
   "metadata": {},
   "source": [
    "The error is detected and a message is printed that makes clear what the problem is. The message also shows where in the program the exception was raised."
   ]
  },
  {
   "cell_type": "markdown",
   "metadata": {},
   "source": [
    "Be liberal with the addition of checks in your programs."
   ]
  },
  {
   "cell_type": "markdown",
   "metadata": {},
   "source": [
    "检测到错误并打印一条消息，说明问题所在。该消息还显示程序中引发异常的位置。"
   ]
  },
  {
   "cell_type": "markdown",
   "metadata": {},
   "source": [
    "在你的程序中应加入检查。"
   ]
  },
  {
   "cell_type": "markdown",
   "metadata": {},
   "source": [
    "<font size=4 weight=600 >Exception types</font>"
   ]
  },
  {
   "cell_type": "markdown",
   "metadata": {},
   "source": [
    "Above we have used the exception type '`ValueError`'. There are multiple built-in exception types (see https://docs.python.org/3/library/exceptions.html), and we can even write our own. Pick the exception type that\n",
    "best describes the type of error encountered. Above, we have used the exception type`ValueError`because it describes what we were checking for. If none of the specific built-in exceptions accurately describe the error, '`RuntimeError`' is often the best choice."
   ]
  },
  {
   "cell_type": "markdown",
   "metadata": {},
   "source": [
    "<font size=4 weight=600 >异常类型</font>"
   ]
  },
  {
   "cell_type": "markdown",
   "metadata": {},
   "source": [
    "上面我们使用了异常类型'`ValueError`'。有多种内置异常类型（请参阅 <https://docs.python.org/3/library/exceptions.html>），我们甚至可以编写自己的异常类型。选择最能描述遇到的错误类型的异常类型。上面，我们使用了异常类型 `ValueError`，因为它描述了我们要检查的内容。如果没有特定的内置异常准确描述错误，`RuntimeError`'通常是最好的选择。"
   ]
  },
  {
   "cell_type": "markdown",
   "metadata": {},
   "source": [
    "**XUE.cn 练习题**：\n",
    "\n",
    "- [选择题 ★ 请选择下列代码中的错误类型 `print(10/0)`：](https://xue.cn/hub/app/exercise/135)\n",
    "\n",
    "- [选择题 ★ Python 内建异常类的基类是什么？](https://xue.cn/hub/app/exercise/675)\n",
    "\n",
    "- [判断题 ★★ 程序中异常处理结构在大多数情况下是没必要的。这种说法正确吗？](https://xue.cn/hub/app/exercise/983)"
   ]
  },
  {
   "cell_type": "markdown",
   "metadata": {},
   "source": [
    "### Averting the Ariane 5 explosion"
   ]
  },
  {
   "cell_type": "markdown",
   "metadata": {},
   "source": [
    "Recall from Activity 03 that an Ariane 5 rocket exploded shortly after takeoff due to an integer overflow - the navigation software attempted to convert a 64-bit float (it was a velocity component) to a 16-bit integer. The largest value a 16-bit integer can store is 32767, and the velocity of the rocket exceeded 32767."
   ]
  },
  {
   "cell_type": "markdown",
   "metadata": {},
   "source": [
    "The below snippet of code would have raised an informative exception in pre-launch testing, which could then have been easily fixed."
   ]
  },
  {
   "cell_type": "markdown",
   "metadata": {},
   "source": [
    "### 避免阿丽亚娜 5 爆炸"
   ]
  },
  {
   "cell_type": "markdown",
   "metadata": {},
   "source": [
    "回想一下第 3 课，由于整数溢出，阿丽亚娜 5 号火箭在起飞后不久爆炸 - 导航软件试图将 64 位浮点（它是速度分量）转换为 16 位整数。16 位整数可存储的最大值为 32767，火箭的速度超过 32767。"
   ]
  },
  {
   "cell_type": "markdown",
   "metadata": {},
   "source": [
    "下面的代码片段会在发布前测试中引发一个信息异常，然后可以轻松修复。"
   ]
  },
  {
   "cell_type": "code",
   "execution_count": 2,
   "metadata": {},
   "outputs": [],
   "source": [
    "import numpy as np\n",
    "\n",
    "def cast_velocity(v):\n",
    "    \"Cast velocity to 16-bit with checking for overflow\"\n",
    "\n",
    "    # 最大的 16 位整形数字 (http://docs.scipy.org/doc/numpy/reference/generated/numpy.iinfo.html)\n",
    "    max16_it = np.iinfo(np.int16).max\n",
    "\n",
    "    # 如果安全，则将浮点数速度赋值给 16 位整形，否则抛出异常\n",
    "    if abs(v) <= max16_it:\n",
    "         return np.int16(v)\n",
    "    else:\n",
    "        raise OverflowError(\"无法安全地将速度转换为 16 位 int。\")\n",
    "\n",
    "## 将火箭速度转换到 16 位 int。如果 velocity 大于 32767，则会引发异常。\n",
    "v = cast_velocity(32767.0)"
   ]
  },
  {
   "cell_type": "markdown",
   "metadata": {},
   "source": [
    "Increase the velocity to over 32767 to see what happens."
   ]
  },
  {
   "cell_type": "markdown",
   "metadata": {},
   "source": [
    "This bug should have been detected during pre-launch testing. However,\n",
    "unexpected issues could arise during rocket flight and we cannot just shut down the control software.\n",
    "The program needs to attempt to recover the situation.\n",
    "Next we look at how to handle problems that arise during execution of a program."
   ]
  },
  {
   "cell_type": "markdown",
   "metadata": {},
   "source": [
    "将速度提高到 32767 以上，看看会发生什么。"
   ]
  },
  {
   "cell_type": "markdown",
   "metadata": {},
   "source": [
    "应该在发布前测试期间检测到此错误。然而，\n",
    "在火箭飞行期间可能出现意外问题，我们不能只关闭控制软件。\n",
    "程序需要尝试恢复这种情况。\n",
    "接下来，我们将了解如何处理程序执行过程中出现的问题。"
   ]
  },
  {
   "cell_type": "markdown",
   "metadata": {},
   "source": [
    "## Catching and handling exceptions"
   ]
  },
  {
   "cell_type": "markdown",
   "metadata": {},
   "source": [
    "When an exception is raised, by default a program will exit. However, we do not always want to exit a program\n",
    "when we encounter an exception. Sometimes we want to 'catch' the exception and do something else."
   ]
  },
  {
   "cell_type": "markdown",
   "metadata": {},
   "source": [
    "## 捕获和处理异常"
   ]
  },
  {
   "cell_type": "markdown",
   "metadata": {},
   "source": [
    "引发异常时，默认情况下程序将退出。但是，我们并不总是希望退出程序\n",
    "当我们遇到异常。有时我们想 “捕获” 异常并做其他事情。"
   ]
  },
  {
   "cell_type": "markdown",
   "metadata": {},
   "source": [
    "<font size=4 weight=600 >Exception handling and the USS Yorktown</font>"
   ]
  },
  {
   "cell_type": "markdown",
   "metadata": {},
   "source": [
    "In the case of the USS Yorktown, the ship's software should not stop if input data\n",
    "leads to a divide-by-zero, nor should it proceed erroneously and without warning.\n",
    "The software needs to 'catch' the divide-by-zero exception, and do something else.\n",
    "This might be reducing propulsion and asking for revised input."
   ]
  },
  {
   "cell_type": "markdown",
   "metadata": {},
   "source": [
    "In Python we catch exceptions with"
   ]
  },
  {
   "cell_type": "markdown",
   "metadata": {},
   "source": [
    "<font size=4 weight=600 >异常处理和 USS Yorktown</font>"
   ]
  },
  {
   "cell_type": "markdown",
   "metadata": {},
   "source": [
    "对于 USS Yorktown，如果输入数据导致零除，船舶的软件不应停止，也不应在没有警告的情况下错误地进行。该软件需要 “捕获” 除零异常，并做其他事情。这可能会减少推进力并要求修改输入。"
   ]
  },
  {
   "cell_type": "markdown",
   "metadata": {},
   "source": [
    "在 Python 中我们利用如下语法捕获异常"
   ]
  },
  {
   "cell_type": "code",
   "execution_count": null,
   "metadata": {},
   "outputs": [],
   "source": [
    "try:\n",
    "    # 尝试在这里做一些可能引发异常的事情\n",
    "except FooError:\n",
    "    # 'FooError'异常被触发了，执行此处的操作。\n",
    "    # 对于其他异常类型，程序将退出（如果省略 FooError，则任何异常将在此处结束）"
   ]
  },
  {
   "cell_type": "markdown",
   "metadata": {},
   "source": [
    "这是最基本和最常见的结构。它可以更精细。"
   ]
  },
  {
   "cell_type": "markdown",
   "metadata": {},
   "source": [
    "**XUE.cn 练习题**：\n",
    "\n",
    "- [编程题 ★★★★★ 修改第四课中的二分法练习程序使之引发异常](https://xue.cn/hub/app/exercise/49)\n",
    "\n",
    "- [编程题 ★★★★  计算给定数的阶乘，给定数是小数或负数引发异常](https://xue.cn/hub/app/exercise/184)"
   ]
  },
  {
   "cell_type": "markdown",
   "metadata": {},
   "source": [
    "### Checking interactive user input"
   ]
  },
  {
   "cell_type": "markdown",
   "metadata": {},
   "source": [
    "Say our program asks the user to enter their age, and they enter an invalid value (negative number, something other than a number, etc). A program should raise an exception when an invalid value is input, but rather than exiting it would be better to ask the user to enter their age again. Here is an example:"
   ]
  },
  {
   "cell_type": "markdown",
   "metadata": {},
   "source": [
    "### 检查交互式用户输入"
   ]
  },
  {
   "cell_type": "markdown",
   "metadata": {},
   "source": [
    "假设我们的程序要求用户输入他们的年龄，他们输入一个无效值（负数，数字以外的东西等）。当输入无效值时，程序应该引发异常，但是不要退出它最好再次要求用户输入它们的年龄。这是一个例子："
   ]
  },
  {
   "cell_type": "code",
   "execution_count": 3,
   "metadata": {},
   "outputs": [],
   "source": [
    "def get_user_age():\n",
    "    \"询问用户年龄的功能。如果输入无效，系统将提示用户再次尝试\"\n",
    "    try:\n",
    "        # Get age from user input - if conversion to int fails Python raises an exception\n",
    "        age = int(input('How old are you? '))\n",
    "\n",
    "        # Conversion to int has been successful, but we need to check that age is positive. Raise\n",
    "        # exception if age is less than 0\n",
    "        if age < 0:\n",
    "            raise ValueError(\"Age must be a positive integer\")\n",
    "\n",
    "        return age\n",
    "    except:\n",
    "        # Getting age from user input unsuccessful, so print message\n",
    "        print(\"Invalid age entered. Please try again\")\n",
    "\n",
    "        # Prompt user again to input age\n",
    "        return get_user_age()\n",
    "\n",
    "## Uncomment the below lines to test\n",
    "## age = get_user_age()\n",
    "## print(age)"
   ]
  },
  {
   "cell_type": "markdown",
   "metadata": {},
   "source": [
    "### Example: integer type conversion"
   ]
  },
  {
   "cell_type": "markdown",
   "metadata": {},
   "source": [
    "Below is another (contrived) take on the Ariane 5 rocket. Our preference is to cast the velocity\n",
    "component (float) to a 16-bit integer, but if the value is too large for a 16-bit integer we want to cast to a 32-bit integer. If the float is too large for a 32-bit integer we want to exit the program with an error message."
   ]
  },
  {
   "cell_type": "markdown",
   "metadata": {},
   "source": [
    "We first provide two functions for converting to a integer: the first to a 16-bit integer and the second to a 32-bit integer:"
   ]
  },
  {
   "cell_type": "markdown",
   "metadata": {},
   "source": [
    "### 示例：整数类型转换"
   ]
  },
  {
   "cell_type": "markdown",
   "metadata": {},
   "source": [
    "下面是另一个（假设的）对阿丽亚娜 5 号火箭的改进。我们倾向于将速度部分（float）转换为 16 位整数，但如果该值对于 16 位整数来说太大，我们希望转换为 32 位整数。如果 float 对于 32 位整数来说仍然太大，我们想要退出程序并显示错误消息。"
   ]
  },
  {
   "cell_type": "markdown",
   "metadata": {},
   "source": [
    "我们首先提供两个转换为整数的函数：第一个为 16 位整数，第二个为 32 位整数："
   ]
  },
  {
   "cell_type": "code",
   "execution_count": 5,
   "metadata": {},
   "outputs": [],
   "source": [
    "def cast_velocity16(v):\n",
    "    \"Convert to a 16-bit int. Raise exception if this will cause an overflow\"\n",
    "    if abs(v) <= np.iinfo(np.int16).max:\n",
    "         return np.int16(v)\n",
    "    else:\n",
    "        raise OverflowError(\"Cannot safely cast velocity to 16-bit int.\")\n",
    "\n",
    "def cast_velocity32(v):\n",
    "    \"Convert to a 32-bit int. Raise exception if this will cause an overflow\"\n",
    "    if abs(v) <= np.iinfo(np.int32).max:\n",
    "         return np.int32(v)\n",
    "    else:\n",
    "        raise OverflowError(\"Cannot safely cast velocity to 32-bit int.\")"
   ]
  },
  {
   "cell_type": "markdown",
   "metadata": {},
   "source": [
    "We now perform a conversion, trying first to convert to a 16-bit integer, and if that is unsuccessful we attempt a conversion to a 32-bit integer:"
   ]
  },
  {
   "cell_type": "markdown",
   "metadata": {},
   "source": [
    "我们现在执行转换，首先尝试转换为 16 位整数，如果不成功，我们尝试转换为 32 位整数："
   ]
  },
  {
   "cell_type": "code",
   "execution_count": 6,
   "metadata": {},
   "outputs": [
    {
     "name": "stdout",
     "output_type": "stream",
     "text": [
      "42767\n",
      "<class 'numpy.int32'>\n",
      "3210\n",
      "<class 'numpy.int16'>\n"
     ]
    }
   ],
   "source": [
    "def cast_velocity(v):\n",
    "    try:\n",
    "        # Try to cast v to a 16-bit int\n",
    "        return cast_velocity16(v)\n",
    "    except OverflowError:\n",
    "        # If cast to 16-bit int failed (and exception raised), try casting to a 32-bit int\n",
    "        try:\n",
    "            return cast_velocity32(v)\n",
    "        except OverflowError:\n",
    "            # If cast to 32-bit int failed, raise exception\n",
    "            raise RuntimeError(\"Could not safely cast velocity to an available int type.\")\n",
    "\n",
    "## Velocity to cast (too large for a 16-bit int)\n",
    "v_int = cast_velocity(42767.0)\n",
    "print(v_int)\n",
    "print(type(v_int))\n",
    "\n",
    "## Velocity to cast (small enough for a 16-bit int)\n",
    "v_int = cast_velocity(3210.0)\n",
    "print(v_int)\n",
    "print(type(v_int))"
   ]
  },
  {
   "cell_type": "markdown",
   "metadata": {},
   "source": [
    "**XUE.cn 练习题**：\n",
    "\n",
    "- [编程题 ★★★ 数值类型异常分析](https://xue.cn/hub/app/exercise/28)\n",
    "\n",
    "- [编程题 ★★★★ 检查数据有效性](https://xue.cn/hub/app/exercise/48)\n",
    "\n",
    "- [编程题 ★★★★★ 修改第四课中的二分法练习程序使之引发异常](https://xue.cn/hub/app/exercise/49)\n",
    "\n",
    "- [编程题 ★★★★  计算给定数的阶乘，给定数是小数或负数引发异常](https://xue.cn/hub/app/exercise/184)\n",
    "\n",
    "- [判断题 ★★ 在 try…except…else 结构中，如果 try 块的语句引发了异常则会执行 else 块中的代码。这种说法正确吗？](https://xue.cn/hub/app/exercise/984)\n",
    "\n",
    "- [判断题 ★ 带有 else 子句的异常处理结构，如果不发生异常则执行 else 子句中的代码。这种说法正确吗？](https://xue.cn/hub/app/exercise/1015)\n",
    "\n",
    "- [判断题 ★ 在异常处理结构中，不论是否发生异常，finally 子句中的代码总是会执行的。这种说法正确吗？](https://xue.cn/hub/app/exercise/1017)\n",
    "\n",
    "- [判断题 ★ 在编写函数时，建议首先对形参进行类型检查和数值范围检查之后再编写功能代码，或者使用异常处理结构，尽量避免代码抛出异常而导致程序崩溃。这种说法正确吗？](https://xue.cn/hub/app/exercise/1055)"
   ]
  },
  {
   "cell_type": "markdown",
   "metadata": {},
   "source": [
    "## Testing"
   ]
  },
  {
   "cell_type": "markdown",
   "metadata": {},
   "source": [
    "Testing is a critical part of software engineering for enhancing program quality, and for building the\n",
    "confidence we and others will have in a program. Testing is not only performed when developing a new program. Programs should come with a suite of tests that can be run regularly. This helps detect errors that might inadvertently creep into a program. For large projects, these tests might be run nightly or even every time a change is made to a program (the latter is known as *continuous integration*).\n",
    "Any program used for engineering analysis and design should have an extensive suite of tests.\n",
    "It would be negligent to use a program in real-life engineering analysis that is not covered by extensive testing."
   ]
  },
  {
   "cell_type": "markdown",
   "metadata": {},
   "source": [
    "When testing a program, we should test for both valid and invalid input data. For the valid cases the\n",
    "computed result should be checked against a known correct solution. For the invalid data cases, tests should check that an exception is raised. We will consider the former, and address the latter in an optional section."
   ]
  },
  {
   "cell_type": "markdown",
   "metadata": {},
   "source": [
    "Ideally, tests for a large program should have different levels of granularity. Some tests should test small blocks (individual functions), ideally in isolation from other parts of a program. The cause of unexpected behaviour in a large program can then be pin-pointed quickly. Higher level tests should test a program as a whole, and would typically represent user cases."
   ]
  },
  {
   "cell_type": "markdown",
   "metadata": {},
   "source": [
    "The programming examples in the preceding notebooks included little or no checking/testing. From now, we want to add more checks to our programs. For an example of correctness testing, let's consider the Fibonacci series from Activity 04. The function for computing Fibonacci numbers is:"
   ]
  },
  {
   "cell_type": "markdown",
   "metadata": {},
   "source": [
    "## 测试"
   ]
  },
  {
   "cell_type": "markdown",
   "metadata": {},
   "source": [
    "测试是软件工程的一个关键部分，用于提高程序质量，以及建立我们和其他人对程序的信心。不仅在开发新程序时执行测试，程序应该附带一套可以定期运行的测试。这有助于检测可能无意中蔓延到程序中的错误。对于大型项目，这些测试可能每晚运行一次，甚至每次对程序进行更改时都会运行（后者称为*持续集成*）。\n",
    "任何用于工程分析和设计的程序都应该有一套广泛的测试。\n",
    "如果在实际工程分析中使用的程序并不是广泛测试所涵盖的，是一种疏忽大意。"
   ]
  },
  {
   "cell_type": "markdown",
   "metadata": {},
   "source": [
    "在测试程序时，我们应该测试有效和无效的输入数据。对于有效情况，应根据已知的正确解决方案检查计算结果。对于无效数据情况，测试应检查是否引发了异常。我们将考虑前者，并在可选部分中解决后者。"
   ]
  },
  {
   "cell_type": "markdown",
   "metadata": {},
   "source": [
    "理想情况下，对大型程序的测试应具有不同的粒度级别。一些测试应该测试小块（单个函数），理想情况下是与程序的其他部分隔离。然后，可以快速查明大型程序中出现意外行为的原因。更高级别的测试应该作为一个整体测试程序，并且通常代表用户案例。"
   ]
  },
  {
   "cell_type": "markdown",
   "metadata": {},
   "source": [
    "前面笔记本中的编程示例包括很少或没有检查 / 测试。从现在开始，我们希望为我们的程序添加更多检查。有关正确性测试的示例，让我们考虑第四课中的 Fibonacci 序列。计算 Fibonacci 数的函数是："
   ]
  },
  {
   "cell_type": "code",
   "execution_count": 7,
   "metadata": {},
   "outputs": [],
   "source": [
    "def f(n):\n",
    "    \"Compute the nth Fibonacci number using recursion\"\n",
    "    if n == 0:\n",
    "        return 0 # This doesn't call f, so it breaks out of the recursion loop\n",
    "    elif n == 1:\n",
    "        return 1 # This doesn't call f, so it breaks out of the recursion loop\n",
    "    else:\n",
    "        return f(n - 1) + f(n - 2) # This calls f for n-1 and n-2 (recursion), and returns the sum"
   ]
  },
  {
   "cell_type": "markdown",
   "metadata": {},
   "source": [
    "To build our confidence that the function is correct, we can check a number of computed terms in the series against\n",
    "known results. A helpful tool for this is the`assert`keyword:"
   ]
  },
  {
   "cell_type": "markdown",
   "metadata": {},
   "source": [
    "为了建立我们对函数正确的信心，我们可以通过一些已知结果来检查该序列的计算结果。一个有用的工具是 `assert` 关键字："
   ]
  },
  {
   "cell_type": "code",
   "execution_count": 8,
   "metadata": {},
   "outputs": [],
   "source": [
    "assert f(0) == 0\n",
    "assert f(1) == 1\n",
    "assert f(2) == 1\n",
    "assert f(3) == 2\n",
    "assert f(10) == 55\n",
    "assert f(15) == 610"
   ]
  },
  {
   "cell_type": "markdown",
   "metadata": {},
   "source": [
    "If all the assertions are true, there should be no output. Try changing one of the checks to trigger an assertion failure."
   ]
  },
  {
   "cell_type": "markdown",
   "metadata": {},
   "source": [
    "如果所有断言都为真，则应该没有输出。尝试更改其中一个检查以触发断言错误。"
   ]
  },
  {
   "cell_type": "markdown",
   "metadata": {},
   "source": [
    "### Test frameworks (optional)"
   ]
  },
  {
   "cell_type": "markdown",
   "metadata": {},
   "source": [
    "Testing is so important to good software engineering that there are many tools to help us to write and run tests. A popular and powerful testing library for Python is`pytest`(http://doc.pytest.org/en/latest/). Before using it,\n",
    "we need to check that it is installed. We try to import it, and if that fails we install it:"
   ]
  },
  {
   "cell_type": "markdown",
   "metadata": {},
   "source": [
    "### 测试框架（可选）"
   ]
  },
  {
   "cell_type": "markdown",
   "metadata": {},
   "source": [
    "测试对于良好的软件工程非常重要，因此有许多工具可以帮助我们编写和运行测试。一个流行且功能强大的 Python 测试库是 `pytest`（http://doc.pytest.org/en/latest/ ）在使用之前，我们需要检查它是否已安装。我们尝试导入它，如果失败，我们安装它："
   ]
  },
  {
   "cell_type": "code",
   "execution_count": 9,
   "metadata": {},
   "outputs": [],
   "source": [
    "try:\n",
    "    import pytest\n",
    "except:\n",
    "    try:\n",
    "        !{sys.executable} -m pip -q install pytest\n",
    "        import pytest\n",
    "    except ImportError:\n",
    "        !{sys.executable} -m pip -q --user install pytest"
   ]
  },
  {
   "cell_type": "markdown",
   "metadata": {},
   "source": [
    "We have seen some simple testing of the Fibonacci series that checks for correctness. For the gravity potential problem at the start of the notebook we could also add some checks for correctness. But, we also would like\n",
    "an automated process to test that an exception *is* raised when user input is invalid."
   ]
  },
  {
   "cell_type": "markdown",
   "metadata": {},
   "source": [
    "我们已经看到了 Fibonacci 系列的一些简单测试用于检查结果是否正确。对于重力势的问题，我们还可以添加一些检查以确保正确性。但是，我们还希望有一个自动化过程来测试当用户输入无效时*能够*引发异常。"
   ]
  },
  {
   "cell_type": "markdown",
   "metadata": {},
   "source": [
    "Consider the gravity potential problem from the start of the notebook:"
   ]
  },
  {
   "cell_type": "markdown",
   "metadata": {},
   "source": [
    "考虑重力势的问题："
   ]
  },
  {
   "cell_type": "code",
   "execution_count": 10,
   "metadata": {},
   "outputs": [],
   "source": [
    "def gravity_potential(G, M, m, r):\n",
    "    if G < 0:\n",
    "        raise ValueError(\"Gravitational constant must be greater than or equal to zero\")\n",
    "    if M < 0:\n",
    "        raise ValueError(\"Mass M must be greater than or equal to zero\")\n",
    "    if m < 0:\n",
    "        raise ValueError(\"Mass m must be greater than or equal to zero\")\n",
    "    if r <= 0:\n",
    "        raise ValueError(\"Distance r must be greater than zero\")\n",
    "    return G*M*m/r"
   ]
  },
  {
   "cell_type": "markdown",
   "metadata": {},
   "source": [
    "We now would like to add some tests that check that invalid data raises an exception, i.e. we want to exit with an error if the function`gravity_potential`*does not* raise an exception. We can do this with PyTest:"
   ]
  },
  {
   "cell_type": "markdown",
   "metadata": {},
   "source": [
    "我们现在想添加一些检查无效数据引发异常的测试，即如果函数 `gravity_potential`*没有*引发异常，我们引发错误并退出。我们可以用 PyTest 做到这一点："
   ]
  },
  {
   "cell_type": "code",
   "execution_count": 11,
   "metadata": {},
   "outputs": [],
   "source": [
    "## Use PyTest to check that ValueError is raised for invalid input data\n",
    "import pytest\n",
    "\n",
    "## Check that G < zero raises a ValueError\n",
    "with pytest.raises(ValueError):\n",
    "    gravity_potential(-6.674e-11, 1.65e12, 6.1e2, 7e3)\n",
    "\n",
    "## Check that M < zero raises a ValueError\n",
    "with pytest.raises(ValueError):\n",
    "    gravity_potential(6.674e-11, -1.65e12, 6.1e2, 7e3)\n",
    "\n",
    "## Check that m < zero raises a ValueError\n",
    "with pytest.raises(ValueError):\n",
    "    gravity_potential(6.674e-11, 1.65e12, -6.1e2, 7e3)\n",
    "\n",
    "## Check that r < zero raises a ValueError\n",
    "with pytest.raises(ValueError):\n",
    "    gravity_potential(6.674e-11, 1.65e12, 6.1e2, -7e3)\n",
    "\n",
    "## Check that r=0 raises a ValueError\n",
    "with pytest.raises(ValueError):\n",
    "    gravity_potential(6.674e-11, 1.65e12, 6.1e2, 0.0)"
   ]
  },
  {
   "cell_type": "markdown",
   "metadata": {},
   "source": [
    "We should test that our programs compute correct results, and we should check that exceptions are indeed raised\n",
    "for invalid input data."
   ]
  },
  {
   "cell_type": "markdown",
   "metadata": {},
   "source": [
    "我们应该测试我们的程序是否计算出正确的结果，并且我们还应该检查是否确实为无效的输入数据引发了异常。"
   ]
  },
  {
   "cell_type": "markdown",
   "metadata": {},
   "source": [
    "## Exercises"
   ]
  },
  {
   "cell_type": "markdown",
   "metadata": {},
   "source": [
    "Complete now the [09 Exercises](Exercises/09%20Exercises.ipynb) notebook."
   ]
  },
  {
   "cell_type": "markdown",
   "metadata": {},
   "source": [
    "## 练习"
   ]
  },
  {
   "cell_type": "markdown",
   "metadata": {},
   "source": [
    "现在完成 [练习 09](Exercises/09%20Exercises.ipynb)"
   ]
  }
 ],
 "metadata": {
  "kernelspec": {
   "display_name": "Python 3",
   "language": "python",
   "name": "python3"
  },
  "language_info": {
   "codemirror_mode": {
    "name": "ipython",
    "version": 3
   },
   "file_extension": ".py",
   "mimetype": "text/x-python",
   "name": "python",
   "nbconvert_exporter": "python",
   "pygments_lexer": "ipython3",
   "version": "3.6.8"
  }
 },
 "nbformat": 4,
 "nbformat_minor": 2
}
