{
 "cells": [
  {
   "cell_type": "markdown",
   "metadata": {},
   "source": [
    "## Introduction"
   ]
  },
  {
   "cell_type": "markdown",
   "metadata": {},
   "source": [
    "Object-oriented programming and design is an approach that is based around 'objects'.\n",
    "You have already been working\n",
    "regularly with objects such as lists, tuples, dictionaries, and NumPy arrays."
   ]
  },
  {
   "cell_type": "markdown",
   "metadata": {},
   "source": [
    "The topic of object-oriented programming is a whole lecture course on its own, so in this notebook\n",
    "we will focus on:"
   ]
  },
  {
   "cell_type": "markdown",
   "metadata": {},
   "source": [
    "- Classes\n",
    "- Attributes of objects\n",
    "- Class methods"
   ]
  },
  {
   "cell_type": "markdown",
   "metadata": {},
   "source": [
    "We will do this primarily by example. We will not delve into inheritance and polymorphism."
   ]
  },
  {
   "cell_type": "markdown",
   "metadata": {},
   "source": [
    "Python supports the object-oriented programming paradigm; in fact, everything in Python is an object.\n",
    "You have been using concepts from object-oriented computing throughout this course."
   ]
  },
  {
   "cell_type": "markdown",
   "metadata": {},
   "source": [
    "### Objectives"
   ]
  },
  {
   "cell_type": "markdown",
   "metadata": {},
   "source": [
    "- Appreciate objects as instantiations of classes\n",
    "- Understanding of attributes and methods of classes\n",
    "- Learn to create simple classes\n",
    "- Implement and use class methods"
   ]
  },
  {
   "cell_type": "markdown",
   "metadata": {},
   "source": [
    "## 介绍"
   ]
  },
  {
   "cell_type": "markdown",
   "metadata": {},
   "source": [
    "面向对象的编程和设计是一种基于 “对象” 的方法。\n",
    "您已经熟悉使用过列表，元组，字典和 NumPy 数组等对象。"
   ]
  },
  {
   "cell_type": "markdown",
   "metadata": {},
   "source": [
    "面向对象编程的主题是一个完整的讲座课程，所以在这堂课中\n",
    "我们将重点关注："
   ]
  },
  {
   "cell_type": "markdown",
   "metadata": {},
   "source": [
    "- 类\n",
    "- 对象的属性\n",
    "- 类的方法"
   ]
  },
  {
   "cell_type": "markdown",
   "metadata": {},
   "source": [
    "我们将主要通过示例来做到这一点。我们不会深入研究继承和多态。"
   ]
  },
  {
   "cell_type": "markdown",
   "metadata": {},
   "source": [
    "Python 支持面向对象的编程范式; 事实上，Python 中的所有东西都是一个对象。\n",
    "在本课程中，您一直在使用面向对象计算的概念。"
   ]
  },
  {
   "cell_type": "markdown",
   "metadata": {},
   "source": [
    "### 目标"
   ]
  },
  {
   "cell_type": "markdown",
   "metadata": {},
   "source": [
    "- 将对象视为类的实例化\n",
    "- 理解类的属性和方法\n",
    "- 学习创建简单的类\n",
    "- 实现和使用类方法"
   ]
  },
  {
   "cell_type": "markdown",
   "metadata": {},
   "source": [
    "We will be using NumPy, so we import it here:\n",
    "我们将使用 NumPy，所以在此导入它"
   ]
  },
  {
   "cell_type": "code",
   "execution_count": 1,
   "metadata": {},
   "outputs": [],
   "source": [
    "import numpy as np"
   ]
  },
  {
   "cell_type": "markdown",
   "metadata": {},
   "source": [
    "## Example: Numpy array objects"
   ]
  },
  {
   "cell_type": "markdown",
   "metadata": {},
   "source": [
    "Consider a NumPy array:"
   ]
  },
  {
   "cell_type": "markdown",
   "metadata": {},
   "source": [
    "## 示例：Numpy 数组对象"
   ]
  },
  {
   "cell_type": "markdown",
   "metadata": {},
   "source": [
    "考虑一个 NumPy 数组："
   ]
  },
  {
   "cell_type": "code",
   "execution_count": 2,
   "metadata": {},
   "outputs": [
    {
     "name": "stdout",
     "output_type": "stream",
     "text": [
      "[[ 1 -4  7]\n",
      " [ 2  6 -1]]\n"
     ]
    }
   ],
   "source": [
    "A = np.array([[1, -4, 7], [2, 6, -1]])\n",
    "print(A)"
   ]
  },
  {
   "cell_type": "markdown",
   "metadata": {},
   "source": [
    "We already know how to check the type of an object:\n",
    "我们已经知道如何检查对象的类型："
   ]
  },
  {
   "cell_type": "code",
   "execution_count": 3,
   "metadata": {},
   "outputs": [
    {
     "name": "stdout",
     "output_type": "stream",
     "text": [
      "<class 'numpy.ndarray'>\n"
     ]
    }
   ],
   "source": [
    "print(type(A))"
   ]
  },
  {
   "cell_type": "markdown",
   "metadata": {},
   "source": [
    "This says that`A`is an *instantiation* of the class`numpy.ndarray`. You can read this as '`A`is a`numpy.ndarray`'."
   ]
  },
  {
   "cell_type": "markdown",
   "metadata": {},
   "source": [
    "So what is a`numpy.ndarray`? It is a class that has *attributes* and *member functions*."
   ]
  },
  {
   "cell_type": "markdown",
   "metadata": {},
   "source": [
    "这表示 `A` 是类 `numpy.ndarray` 的*实例化*。您可以将其视为 “A” 是 “numpy.ndarray”。"
   ]
  },
  {
   "cell_type": "markdown",
   "metadata": {},
   "source": [
    "什么是 `numpy.ndarray`？它是一个具有*属性*和*成员函数*的类。"
   ]
  },
  {
   "cell_type": "markdown",
   "metadata": {},
   "source": [
    "### Attributes"
   ]
  },
  {
   "cell_type": "markdown",
   "metadata": {},
   "source": [
    "Attributes are *data* that belong to an object. The array`A`has a number of attributes. An attribute we have seen already is`shape`:"
   ]
  },
  {
   "cell_type": "markdown",
   "metadata": {},
   "source": [
    "### 属性"
   ]
  },
  {
   "cell_type": "markdown",
   "metadata": {},
   "source": [
    "属性是属于对象的*数据*。数组 `A` 有许多属性。我们已经看到的属性是 `shape`："
   ]
  },
  {
   "cell_type": "code",
   "execution_count": 4,
   "metadata": {},
   "outputs": [
    {
     "name": "stdout",
     "output_type": "stream",
     "text": [
      "(2, 3)\n"
     ]
    }
   ],
   "source": [
    "s = A.shape\n",
    "print(s)"
   ]
  },
  {
   "cell_type": "markdown",
   "metadata": {},
   "source": [
    "Every object of type`numpy.ndarray`has the attribute`shape`which describes the number of entries in the array in each direction. Other attributes are`size`, which is the total number of entries:"
   ]
  },
  {
   "cell_type": "markdown",
   "metadata": {},
   "source": [
    "`numpy.ndarray` 类型的每个对象都有一个属性 `shape`，它描述了每个方向上数组中的项目数。其他属性是 `size`，这是项目的总数："
   ]
  },
  {
   "cell_type": "code",
   "execution_count": 5,
   "metadata": {},
   "outputs": [
    {
     "name": "stdout",
     "output_type": "stream",
     "text": [
      "6\n"
     ]
    }
   ],
   "source": [
    "s = A.size\n",
    "print(s)"
   ]
  },
  {
   "cell_type": "markdown",
   "metadata": {},
   "source": [
    "and`ndim`, which is the number of array dimensions (i.e. 1 for a vector, 2 for a matrix):"
   ]
  },
  {
   "cell_type": "markdown",
   "metadata": {},
   "source": [
    "还有 `ndim`，它是数组维数（例如：向量为 1，矩阵为 2）："
   ]
  },
  {
   "cell_type": "code",
   "execution_count": 6,
   "metadata": {},
   "outputs": [
    {
     "name": "stdout",
     "output_type": "stream",
     "text": [
      "2\n"
     ]
    }
   ],
   "source": [
    "d = A.ndim\n",
    "print(d)"
   ]
  },
  {
   "cell_type": "markdown",
   "metadata": {},
   "source": [
    "Notice that after an attribute name there are no braces, i.e. no`()`. This is a feature of attributes - we are\n",
    "just accessing some data that belongs to an object. We are not calling a function or doing any computational work."
   ]
  },
  {
   "cell_type": "markdown",
   "metadata": {},
   "source": [
    "请注意，在属性名称之后没有括号，即没有 `()`。这是属性的一个特征 - 我们是\n",
    "只访问属于对象的一些数据。我们不是在调用函数或进行任何计算工作。"
   ]
  },
  {
   "cell_type": "markdown",
   "metadata": {},
   "source": [
    "### Methods"
   ]
  },
  {
   "cell_type": "markdown",
   "metadata": {},
   "source": [
    "Methods are *functions* that are associated with a class, and perform operations on the data associated with an instantiation of a class. A`numpy.ndarray`object has a method '`min`', which returns the minimum entry in\n",
    "the array:"
   ]
  },
  {
   "cell_type": "markdown",
   "metadata": {},
   "source": [
    "### 方法"
   ]
  },
  {
   "cell_type": "markdown",
   "metadata": {},
   "source": [
    "方法是与类关联的*函数*，并对与类的实例化相关联的数据执行操作。`numpy.ndarray` 对象有一个方法'`min`'，它返回数组中的最小值："
   ]
  },
  {
   "cell_type": "code",
   "execution_count": 7,
   "metadata": {},
   "outputs": [
    {
     "name": "stdout",
     "output_type": "stream",
     "text": [
      "-4\n"
     ]
    }
   ],
   "source": [
    "print(A.min())"
   ]
  },
  {
   "cell_type": "markdown",
   "metadata": {},
   "source": [
    "Methods are functions, and as functions can take arguments. For example, we can use the method`sort`to sort the rows of an array:"
   ]
  },
  {
   "cell_type": "markdown",
   "metadata": {},
   "source": [
    "方法是函数，函数可以带参数。例如，我们可以使用 `sort` 方法对数组的行进行排序："
   ]
  },
  {
   "cell_type": "code",
   "execution_count": 8,
   "metadata": {},
   "outputs": [
    {
     "name": "stdout",
     "output_type": "stream",
     "text": [
      "[[-4  1  7]\n",
      " [-1  2  6]]\n"
     ]
    }
   ],
   "source": [
    "A.sort(kind='quicksort')\n",
    "print(A)"
   ]
  },
  {
   "cell_type": "markdown",
   "metadata": {},
   "source": [
    "where we have called the`sort`method that belongs to`numpy.ndarray`, and we have passed an argument that specifies that it should use quicksort."
   ]
  },
  {
   "cell_type": "markdown",
   "metadata": {},
   "source": [
    "我们调用属于 `numpy.ndarray` 的 `sort` 方法，并且我们传递了一个参数，指定它应该使用快速排序。"
   ]
  },
  {
   "cell_type": "markdown",
   "metadata": {},
   "source": [
    "Object methods can take other objects as arguments. Given a two-dimensional array (matrix) $A$ and\n",
    "a one-dimensional array (vector) $x$:"
   ]
  },
  {
   "cell_type": "markdown",
   "metadata": {},
   "source": [
    "对象方法可以将其他对象作为参数。给定一个二维数组（矩阵）$A$和一维数组（向量）$x$："
   ]
  },
  {
   "cell_type": "code",
   "execution_count": 9,
   "metadata": {},
   "outputs": [
    {
     "name": "stdout",
     "output_type": "stream",
     "text": [
      "[1. 1. 1.]\n"
     ]
    }
   ],
   "source": [
    "A = np.array([[1, -4, 7], [2, 6, -1]])\n",
    "\n",
    "x = np.ones(A.shape[1])\n",
    "print(x)"
   ]
  },
  {
   "cell_type": "markdown",
   "metadata": {},
   "source": [
    "We can compute $b = Ax$ using the`dot`method:\n",
    "我们可以使用 `dot` 方法计算$b = Ax$："
   ]
  },
  {
   "cell_type": "code",
   "execution_count": 10,
   "metadata": {},
   "outputs": [
    {
     "name": "stdout",
     "output_type": "stream",
     "text": [
      "[4. 7.]\n"
     ]
    }
   ],
   "source": [
    "b = A.dot(x)\n",
    "print(b)"
   ]
  },
  {
   "cell_type": "markdown",
   "metadata": {},
   "source": [
    "## Finding class attributes and methods"
   ]
  },
  {
   "cell_type": "markdown",
   "metadata": {},
   "source": [
    "Class attributes and methods are usually listed in documentation. For`numpy.ndarray`, all attributes and methods are listed and explained at http://docs.scipy.org/doc/numpy/reference/generated/numpy.ndarray.html."
   ]
  },
  {
   "cell_type": "markdown",
   "metadata": {},
   "source": [
    "Using Jupyter (or IPython) you can use 'tab-completion' to see the available attributes and methods. You will often know from the name which one you need."
   ]
  },
  {
   "cell_type": "markdown",
   "metadata": {},
   "source": [
    "## 查找类属性和方法"
   ]
  },
  {
   "cell_type": "markdown",
   "metadata": {},
   "source": [
    "类属性和方法通常列在文档中。对于 `numpy.ndarray`，所有属性和方法都在 <http://docs.scipy.org/doc/numpy/reference/generated/numpy.ndarray.html> 中列出并解释。"
   ]
  },
  {
   "cell_type": "markdown",
   "metadata": {},
   "source": [
    "使用 Jupyter（或 IPython），您可以使用'tab-补完'来查看可用的属性和方法。您通常会从名称中知道您需要哪一个。"
   ]
  },
  {
   "cell_type": "markdown",
   "metadata": {},
   "source": [
    "**XUE.cn 练习题**：\n",
    "\n",
    "- [选择题 ★ Python 使用什么关键字来定义类？](https://xue.cn/hub/app/exercise/627)\n",
    "\n",
    "- [选择题 ★★ 类的基础知识 1](https://xue.cn/hub/app/exercise/145)\n",
    "\n",
    "- [选择题 ★★ 类和子类的关系](https://xue.cn/hub/app/exercise/146)\n",
    "\n",
    "- [选择题 ★★ 类的继承](https://xue.cn/hub/app/exercise/147)\n",
    "\n",
    "- [选择题 ★★ \"私有变量\"的标示方法](https://xue.cn/hub/app/exercise/148)\n",
    "\n",
    "- [选择题 ★★ 类的基础知识 2](https://xue.cn/hub/app/exercise/163)\n",
    "\n",
    "- [选择题 ★★ 类的实例化和属性调用](https://xue.cn/hub/app/exercise/257)"
   ]
  },
  {
   "cell_type": "markdown",
   "metadata": {},
   "source": [
    "## Creating classes"
   ]
  },
  {
   "cell_type": "markdown",
   "metadata": {},
   "source": [
    "Sometimes we cannot find a class (object type) that suits our problem. In this case we can make our own.\n",
    "As a simple example, consider a class that holds a person's surname and forename:"
   ]
  },
  {
   "cell_type": "markdown",
   "metadata": {},
   "source": [
    "## 创建类"
   ]
  },
  {
   "cell_type": "markdown",
   "metadata": {},
   "source": [
    "有时我们找不到适合我们问题的类（对象类型）。在这种情况下，我们可以自己做。\n",
    "举一个简单的例子，考虑一个含有一个人的姓和名的类："
   ]
  },
  {
   "cell_type": "code",
   "execution_count": 11,
   "metadata": {},
   "outputs": [],
   "source": [
    "class PersonName:\n",
    "    def __init__(self, surname, forename):\n",
    "        self.surname = surname # Attribute\n",
    "        self.forename = forename # Attribute\n",
    "\n",
    "    # This is a method\n",
    "    def full_name(self):\n",
    "        \"Return full name (forename surname)\"\n",
    "        return self.forename + \" \" + self.surname\n",
    "\n",
    "    # This is a method\n",
    "    def surname_forename(self, sep=\",\"):\n",
    "        \"Return 'surname, forename', with option to specify separator\"\n",
    "        return self.surname + sep + \" \" + self.forename"
   ]
  },
  {
   "cell_type": "markdown",
   "metadata": {},
   "source": [
    "Before dissecting the syntax of this class, we will use it.\n",
    "We first create an object (an instantiation) of type`PersonName`:"
   ]
  },
  {
   "cell_type": "markdown",
   "metadata": {},
   "source": [
    "在剖析这个类的语法之前，我们先来使用它。\n",
    "我们首先创建一个类型为 `PersonName` 的对象（实例化）："
   ]
  },
  {
   "cell_type": "code",
   "execution_count": 12,
   "metadata": {},
   "outputs": [
    {
     "name": "stdout",
     "output_type": "stream",
     "text": [
      "<class '__main__.PersonName'>\n"
     ]
    }
   ],
   "source": [
    "name_entry = PersonName(\"Bloggs\", \"Joanna\")\n",
    "print(type(name_entry))"
   ]
  },
  {
   "cell_type": "markdown",
   "metadata": {},
   "source": [
    "We first test the attributes:"
   ]
  },
  {
   "cell_type": "markdown",
   "metadata": {},
   "source": [
    "我们首先测试属性："
   ]
  },
  {
   "cell_type": "code",
   "execution_count": 13,
   "metadata": {},
   "outputs": [
    {
     "name": "stdout",
     "output_type": "stream",
     "text": [
      "Bloggs\n",
      "Joanna\n"
     ]
    }
   ],
   "source": [
    "print(name_entry.surname)\n",
    "print(name_entry.forename)"
   ]
  },
  {
   "cell_type": "markdown",
   "metadata": {},
   "source": [
    "Next, we test the class methods:"
   ]
  },
  {
   "cell_type": "markdown",
   "metadata": {},
   "source": [
    "接下来，我们测试类的方法："
   ]
  },
  {
   "cell_type": "code",
   "execution_count": 14,
   "metadata": {},
   "outputs": [
    {
     "name": "stdout",
     "output_type": "stream",
     "text": [
      "Joanna Bloggs\n",
      "Bloggs, Joanna\n",
      "Bloggs; Joanna\n"
     ]
    }
   ],
   "source": [
    "name = name_entry.full_name()\n",
    "print(name)\n",
    "\n",
    "name = name_entry.surname_forename()\n",
    "print(name)\n",
    "\n",
    "name = name_entry.surname_forename(\";\")\n",
    "print(name)"
   ]
  },
  {
   "cell_type": "markdown",
   "metadata": {},
   "source": [
    "Dissecting the class, it is declared by"
   ]
  },
  {
   "cell_type": "code",
   "execution_count": null,
   "metadata": {},
   "outputs": [],
   "source": [
    "class PersonName:"
   ]
  },
  {
   "cell_type": "markdown",
   "metadata": {},
   "source": [
    "We then have what is known as the *intialiser*:"
   ]
  },
  {
   "cell_type": "code",
   "execution_count": null,
   "metadata": {},
   "outputs": [],
   "source": [
    "def __init__(self, surname, forename):\n",
    "    self.surname = surname\n",
    "    self.forename = forename"
   ]
  },
  {
   "cell_type": "markdown",
   "metadata": {},
   "source": [
    "This is the 'function' that is called when we create an object, i.e. when we use`name_entry = PersonName(\"Bloggs\", \"Joanna\")`. The keyword '`self`' refers to the object itself - it can take time to\n",
    "develop an understanding of`self`. The initialiser in this case stores the surname and forename of the person (attributes). You can test when the initialiser is called by inserting a print statement."
   ]
  },
  {
   "cell_type": "markdown",
   "metadata": {},
   "source": [
    "This class has two methods:"
   ]
  },
  {
   "cell_type": "code",
   "execution_count": null,
   "metadata": {},
   "outputs": [],
   "source": [
    "def full_name(self):\n",
    "    \"Return full name (forname surname)\"\n",
    "    return self.forename + \" \" + self.surname"
   ]
  },
  {
   "cell_type": "markdown",
   "metadata": {},
   "source": [
    "def surname_forename(self, sep=\",\"):\n",
    "    \"Return 'surname, forname', with option to specify separator\"\n",
    "    return self.surname + sep + \" \" + self.forename"
   ]
  },
  {
   "cell_type": "markdown",
   "metadata": {},
   "source": [
    "These methods are functions that do something with the class data. In this case, from the forename and surname\n",
    "they return the full name of the person, formatted in different ways."
   ]
  },
  {
   "cell_type": "markdown",
   "metadata": {},
   "source": [
    "解析这个类，它是由这一句声明的："
   ]
  },
  {
   "cell_type": "code",
   "execution_count": null,
   "metadata": {},
   "outputs": [],
   "source": [
    "class PersonName:"
   ]
  },
  {
   "cell_type": "markdown",
   "metadata": {},
   "source": [
    "然后我们拥有所谓的 *初始化程序*："
   ]
  },
  {
   "cell_type": "code",
   "execution_count": null,
   "metadata": {},
   "outputs": [],
   "source": [
    "def __init__(self, surname, forename):\n",
    "    self.surname = surname\n",
    "    self.forename = forename"
   ]
  },
  {
   "cell_type": "markdown",
   "metadata": {},
   "source": [
    "这是我们创建对象时调用的'函数'，即当我们使用 `name_entry = PersonName（“Bloggs”， “Joanna”）` 时。关键字 “self” 指的是对象本身 - 对 “self” 的理解可能需要时间。在这种情况下，初始化程序存储人员的姓氏和名字（属性）。您可以通过插入 print 语句来测试何时调用初始化程序。"
   ]
  },
  {
   "cell_type": "code",
   "execution_count": null,
   "metadata": {},
   "outputs": [],
   "source": [
    "def full_name(self):\n",
    "    \"Return full name (forname surname)\"\n",
    "    return self.forename + \" \" + self.surname"
   ]
  },
  {
   "cell_type": "markdown",
   "metadata": {},
   "source": [
    "def surname_forename(self, sep=\",\"):\n",
    "    \"Return 'surname, forname', with option to specify separator\"\n",
    "    return self.surname + sep + \" \" + self.forename"
   ]
  },
  {
   "cell_type": "markdown",
   "metadata": {},
   "source": [
    "这些方法是对类数据执行某些操作的函数。在这种情况下，从姓和名中返回人的全名，但格式不同。"
   ]
  },
  {
   "cell_type": "markdown",
   "metadata": {},
   "source": [
    "**XUE.cn 练习题**：\n",
    "\n",
    "- [编程题 ★★★★ 实现一个简单的打印城市信息的类](https://xue.cn/hub/app/exercise/58)\n",
    "\n",
    "- [编程题 ★★★★★ 实现类 Point](https://xue.cn/hub/app/exercise/16)\n",
    "\n",
    "- [编程题 ★★★★★ 实现类 Circle](https://xue.cn/hub/app/exercise/17)"
   ]
  },
  {
   "cell_type": "markdown",
   "metadata": {},
   "source": [
    "## Operators"
   ]
  },
  {
   "cell_type": "markdown",
   "metadata": {},
   "source": [
    "Operators like`+`,`-`,`*`and`/`are actually functions - in Python they are shorthand for functions with\n",
    "the names`__add__`,`__sub__`,`__mul__`and`__truediv__`, respectively. By\n",
    "adding these methods to a class, we can define what the mathematical operators should do."
   ]
  },
  {
   "cell_type": "markdown",
   "metadata": {},
   "source": [
    "## 运算符"
   ]
  },
  {
   "cell_type": "markdown",
   "metadata": {},
   "source": [
    "像 `+`，`-`，`*` 和 `/` 这样的运算符实际上是函数 - 在 Python 中它们是以下这些函数的简写：分别为 `__add__`,`__sub__`,`__mul__` 和 `__truediv__`。通过将这些方法添加到类中，我们可以定义数学运算符应该做什么。"
   ]
  },
  {
   "cell_type": "markdown",
   "metadata": {},
   "source": [
    "### Mixed-up maths"
   ]
  },
  {
   "cell_type": "markdown",
   "metadata": {},
   "source": [
    "Say we want to create our own numbers with their own operations. As a simple (and very silly) example,\n",
    "we decide we want to change notation such that '`*`' means division and '`/`' means multiplication."
   ]
  },
  {
   "cell_type": "markdown",
   "metadata": {},
   "source": [
    "To switch '`*`' and '`/`' for our special numbers, we create a class to represent our special numbers, and\n",
    "provide it with its own`__mul__`and`__truediv__`functions.\n",
    "We will also provide the method`__repr__(self)`- this is called when we use the`print`function."
   ]
  },
  {
   "cell_type": "markdown",
   "metadata": {},
   "source": [
    "### 混乱数学"
   ]
  },
  {
   "cell_type": "markdown",
   "metadata": {},
   "source": [
    "假设我们想用自己的运算符创建的数字。作为一个简单（非常愚蠢）的例子，\n",
    "我们决定改变符号，“*” 表示除法，“/” 表示乘法。"
   ]
  },
  {
   "cell_type": "markdown",
   "metadata": {},
   "source": [
    "要为我们的特殊数字切换'`*`'和'`/`'，我们创建一个类来表示我们的特殊数字，和\n",
    "为它提供自己的 `__mul__` 和 `__truediv__` 函数。\n",
    "我们还将提供方法 `__repr__(self)`- 当我们使用 `print` 函数时调用它。"
   ]
  },
  {
   "cell_type": "code",
   "execution_count": 15,
   "metadata": {},
   "outputs": [],
   "source": [
    "class crazynumber:\n",
    "    \"A crazy number class that switches the mutliplcation and division operations\"\n",
    "\n",
    "    # Initialiser\n",
    "    def __init__(self, x):\n",
    "        self.x = x # This is an attribute\n",
    "\n",
    "    # Define multiplication (*) (this is a method)\n",
    "    def __mul__(self, y):\n",
    "        return crazynumber(self.x/y.x)\n",
    "\n",
    "    # Define the division (/) (this is a method)\n",
    "    def __truediv__(self, y):\n",
    "        return crazynumber(self.x*y.x)\n",
    "\n",
    "    # This is called when we use 'print' (this is a method)\n",
    "    def __repr__(self):\n",
    "        return str(self.x) # Convert type to a string and return"
   ]
  },
  {
   "cell_type": "markdown",
   "metadata": {},
   "source": [
    "> *Note:* the method names`__mul__`,`__truediv__`,`__repr__`, etc, should not be called directly. They\n",
    "> are mapped by Python to operators (`*`and`/`in the first two cases). The method`__repr__`is called behind the scenes when using`print`."
   ]
  },
  {
   "cell_type": "markdown",
   "metadata": {},
   "source": [
    "We now create two`crazynumber`objects:"
   ]
  },
  {
   "cell_type": "markdown",
   "metadata": {},
   "source": [
    "> *注意：* 方法名称 `__mul__`,`__truediv__`,`__repr__` 等不应直接调用。他们\n",
    "> 由 Python 映射到运算符（在前两种情况下为 `*` 和 `/`）。使用 `print` 时，在幕后调用 `__repr__` 方法。"
   ]
  },
  {
   "cell_type": "markdown",
   "metadata": {},
   "source": [
    "我们现在创建两个 `crazynumber` 对象："
   ]
  },
  {
   "cell_type": "code",
   "execution_count": 16,
   "metadata": {},
   "outputs": [],
   "source": [
    "u = crazynumber(10)\n",
    "v = crazynumber(2)"
   ]
  },
  {
   "cell_type": "markdown",
   "metadata": {},
   "source": [
    "Since we have defined`*`to be division, we expect u\\*v to be equal to 5:"
   ]
  },
  {
   "cell_type": "markdown",
   "metadata": {},
   "source": [
    "因为我们已经将 `*` 定义为除法，所以我们期望 u\\*v 等于 5："
   ]
  },
  {
   "cell_type": "code",
   "execution_count": 17,
   "metadata": {},
   "outputs": [
    {
     "name": "stdout",
     "output_type": "stream",
     "text": [
      "5.0\n"
     ]
    }
   ],
   "source": [
    "a = u*v # This will call '__mul__(self, y)'\n",
    "print(a) # This will call '__repr__(self)'"
   ]
  },
  {
   "cell_type": "markdown",
   "metadata": {},
   "source": [
    "Testing '`/`':\n",
    "测试'`/`':"
   ]
  },
  {
   "cell_type": "code",
   "execution_count": 18,
   "metadata": {},
   "outputs": [
    {
     "name": "stdout",
     "output_type": "stream",
     "text": [
      "20\n"
     ]
    }
   ],
   "source": [
    "b = u/v\n",
    "print(b)"
   ]
  },
  {
   "cell_type": "markdown",
   "metadata": {},
   "source": [
    "By providing methods, we have defined how the mathematical operators should be interpreted."
   ]
  },
  {
   "cell_type": "markdown",
   "metadata": {},
   "source": [
    "通过提供类的方法，我们已经重新定义了如何解释数学运算符。"
   ]
  },
  {
   "cell_type": "markdown",
   "metadata": {},
   "source": [
    "**XUE.cn 练习题**：\n",
    "\n",
    "- [判断题 ★★ 在 Python 中定义类时，运算符重载是通过重写特殊方法实现的](https://xue.cn/hub/app/exercise/972)\n",
    "\n",
    "- [判断题 ★★ 定义类时实现了 eq() 方法，该类对象即可支持运算符==。这种说法正确吗？](https://xue.cn/hub/app/exercise/1004)\n",
    "\n",
    "- [判断题 ★★ 定义类时实现了 pow() 方法，该类对象即可支持运算符**。这种说法正确吗？](https://xue.cn/hub/app/exercise/1005)"
   ]
  },
  {
   "cell_type": "markdown",
   "metadata": {},
   "source": [
    "### Equality testing"
   ]
  },
  {
   "cell_type": "markdown",
   "metadata": {},
   "source": [
    "We have previously used library versions of sorting functions, and seen that they are much faster than our own implementations. What if we have a list of our own objects that we want to sort? For example,\n",
    "we might have a`StudentEntry`class, and then have a list with a`StudentEntry`object for each student.\n",
    "The built-in sort functions cannot know how we want to sort our list."
   ]
  },
  {
   "cell_type": "markdown",
   "metadata": {},
   "source": [
    "Another case is if we have a list of numbers, and we we want to sort according to a custom rule?"
   ]
  },
  {
   "cell_type": "markdown",
   "metadata": {},
   "source": [
    "The built-in sort functions do not care about the details of our data. All they rely on\n",
    "are *comparisons*, e.g. the`<`,`>`, and`==`operators. If we equip our class with comparison operators,\n",
    "we can use built-in sorting functions."
   ]
  },
  {
   "cell_type": "markdown",
   "metadata": {},
   "source": [
    "### 等价测试"
   ]
  },
  {
   "cell_type": "markdown",
   "metadata": {},
   "source": [
    "我们以前使用过库版本的排序函数，并且看到它们比我们自己的实现快得多。如果我们有一个我们想要排序的自己的对象列表怎么办？例如，\n",
    "我们可能有一个 `StudentEntry` 类，然后为每个学生提供一个带有 `StudentEntry` 对象的列表。\n",
    "内置的排序函数无法知道我们如何对列表进行排序。"
   ]
  },
  {
   "cell_type": "markdown",
   "metadata": {},
   "source": [
    "另一种情况是，如果我们有一个数字列表，我们想根据自定义规则进行排序？"
   ]
  },
  {
   "cell_type": "markdown",
   "metadata": {},
   "source": [
    "内置排序功能不关心我们数据的细节。他们所依赖的只是*比较*，例如 `<`,`>`, 和 `==` 运算符。如果我们为我们的类配备比较操作符，\n",
    "那么我们就可以使用内置的排序功能。"
   ]
  },
  {
   "cell_type": "markdown",
   "metadata": {},
   "source": [
    "<font size=4 weight=600 >Custom sorting</font>"
   ]
  },
  {
   "cell_type": "markdown",
   "metadata": {},
   "source": [
    "Say we want to sort a list of numbers such that all even numbers appear before odd numbers, but otherwise the usual ordering rule applies. We do not want to write our own sorting function. We can do this custom sorting by creating our own class for holding a number and equipping it with`<`,`>`, and`==`operators.\n",
    "The functions corresponding to the operators are:"
   ]
  },
  {
   "cell_type": "markdown",
   "metadata": {},
   "source": [
    "-`__lt__(self, other)`(less than`other`,`<`)\n",
    "-`__gt__(self, other)`(greater than`other`,`>`)\n",
    "-`__eq__(self, other)`(equal to`other`,`==`)"
   ]
  },
  {
   "cell_type": "markdown",
   "metadata": {},
   "source": [
    "The functions return`True`or`False`."
   ]
  },
  {
   "cell_type": "markdown",
   "metadata": {},
   "source": [
    "<font size=4 weight=600 >自定义排序</font>"
   ]
  },
  {
   "cell_type": "markdown",
   "metadata": {},
   "source": [
    "假设我们要对数字列表进行排序，使得所有偶数出现在奇数之前，否则适用通常的排序规则。我们不想编写自己的排序功能。我们可以通过创建自己的类来保存数字并使用 `<`，`>` 和 `==` 运算符进行自定义排序。\n",
    "与运算符对应的函数是："
   ]
  },
  {
   "cell_type": "markdown",
   "metadata": {},
   "source": [
    "-`__lt __（self，other）`（小于 `other`，`<`）\n",
    "-`__gt __（self，other）`（大于 `other`，`>`）\n",
    "-`__eq __（self，other）`（等于 `other`，`==`）"
   ]
  },
  {
   "cell_type": "markdown",
   "metadata": {},
   "source": [
    "函数返回 “True” 或 “False”。"
   ]
  },
  {
   "cell_type": "markdown",
   "metadata": {},
   "source": [
    "Below is a class for storing a number which obeys our custom ordering rules:"
   ]
  },
  {
   "cell_type": "markdown",
   "metadata": {},
   "source": [
    "下面是一个用于存储符合我们的自定义排序规则的数字的类："
   ]
  },
  {
   "cell_type": "code",
   "execution_count": 19,
   "metadata": {},
   "outputs": [],
   "source": [
    "class MyNumber:\n",
    "\n",
    "    def __init__(self, x):\n",
    "        self.x = x # Store value (attribute)\n",
    "\n",
    "    # Custom '<' operator (method)\n",
    "    def __lt__(self, other):\n",
    "        if self.x % 2 == 0 and other.x % 2 != 0: # 我是偶数, other 是奇数, 所以我比较小\n",
    "            return True\n",
    "        elif self.x % 2 != 0 and other.x % 2 == 0: # 我是奇数, other 偶数, 所以我比较大\n",
    "            return False\n",
    "        else:\n",
    "            return self.x < other.x # 使用常规的 “小于” 定义\n",
    "\n",
    "    # Custom '==' operator (method)\n",
    "    def __eq__(self, other):\n",
    "        return self.x == other.x\n",
    "\n",
    "    # Custom '>' operator (method)\n",
    "    def __gt__(self, other):\n",
    "        if self.x % 2 == 0 and other.x % 2 != 0: # I am even, other is odd, so I am not greater\n",
    "            return False\n",
    "        elif self.x % 2 != 0 and other.x % 2 == 0: # I am odd, other is even, so I am greater\n",
    "            return True\n",
    "        else:\n",
    "            return self.x > other.x # Use usual ordering of numbers\n",
    "\n",
    "    # This function is called by Python when we try to print something\n",
    "    def __repr__(self):\n",
    "        return str(self.x)"
   ]
  },
  {
   "cell_type": "markdown",
   "metadata": {},
   "source": [
    "We can perform some simple tests on the operators (insert print statements into the methods if you want\n",
    "to verify which function is called)"
   ]
  },
  {
   "cell_type": "markdown",
   "metadata": {},
   "source": [
    "我们可以对运算符执行一些简单的测试（如果要验证调用哪个函数，则将 print 语句插入到方法中）"
   ]
  },
  {
   "cell_type": "code",
   "execution_count": 20,
   "metadata": {},
   "outputs": [
    {
     "name": "stdout",
     "output_type": "stream",
     "text": [
      "True\n",
      "False\n"
     ]
    }
   ],
   "source": [
    "x = MyNumber(4)\n",
    "y = MyNumber(3)\n",
    "print(x < y) # Expect True (since x is even and y is odd)\n",
    "print(y < x) # Expect False"
   ]
  },
  {
   "cell_type": "markdown",
   "metadata": {},
   "source": [
    "We now try applying the built-in list sort function to check that the sorted list obeys our\n",
    "custom sorting rule:"
   ]
  },
  {
   "cell_type": "markdown",
   "metadata": {},
   "source": [
    "我们现在尝试应用内置列表排序功能来检查排序列表是否符合我们的自定义排序规则："
   ]
  },
  {
   "cell_type": "code",
   "execution_count": 21,
   "metadata": {},
   "outputs": [
    {
     "name": "stdout",
     "output_type": "stream",
     "text": [
      "[138, 138, 178, 19, 85, 89, 139, 139, 163, 181]\n"
     ]
    }
   ],
   "source": [
    "## Create an array of random integers\n",
    "x = np.random.randint(0, 200, 10)\n",
    "\n",
    "## Create a list of 'MyNumber' from x (using list comprehension)\n",
    "y = [MyNumber(v) for v in x]\n",
    "\n",
    "## This is the long-hand for building y\n",
    "#y = []\n",
    "#for v in x:\n",
    "## y.append(MyNumber(v))\n",
    "\n",
    "## Use the built-in list sort method to sort the list of 'MyNumber' objects\n",
    "y.sort()\n",
    "print(y)"
   ]
  },
  {
   "cell_type": "markdown",
   "metadata": {},
   "source": [
    "Without modifying the sort algorithm, we have applied our own ordering. Approaches like this are a feature of\n",
    "object-oriented computing. The sort algorithms sort *objects*, and the objects simply need\n",
    "the comparison operators. The sort algorithms do not need to know the details of the objects."
   ]
  },
  {
   "cell_type": "markdown",
   "metadata": {},
   "source": [
    "在不修改排序算法的情况下，我们应用了自己的排序。像这样的方法是面向对象计算的一个特征。排序算法排序*对象*，对象只需要比较运算符。排序算法不需要知道对象的细节。"
   ]
  },
  {
   "cell_type": "markdown",
   "metadata": {},
   "source": [
    "## Using the magic methods"
   ]
  },
  {
   "cell_type": "markdown",
   "metadata": {},
   "source": [
    "The special Python methods that begin and end with double underscore (`__`) are *magic* methods. They map to special operators, typically mathematical operators such as`*`,`/`,`<`,`==`, etc."
   ]
  },
  {
   "cell_type": "markdown",
   "metadata": {},
   "source": [
    "They are standard methods in that they can be called directly on an object, but this is not their intended use.\n",
    "Use operators instead. Below is an example."
   ]
  },
  {
   "cell_type": "markdown",
   "metadata": {},
   "source": [
    "## 使用魔术方法"
   ]
  },
  {
   "cell_type": "markdown",
   "metadata": {},
   "source": [
    "以双下划线（`__`）开头和结尾的特殊 Python 方法是 *magic* 方法。它们映射到特殊运算符，通常是数学运算符，如 `*`，`/`，`<`，`==` 等。"
   ]
  },
  {
   "cell_type": "markdown",
   "metadata": {},
   "source": [
    "它们是标准方法，因为它们可以直接在对象上调用，但这不是它们的预期用法。\n",
    "请改用运算符。以下是一个例子。"
   ]
  },
  {
   "cell_type": "code",
   "execution_count": 22,
   "metadata": {},
   "outputs": [
    {
     "name": "stdout",
     "output_type": "stream",
     "text": [
      "False\n",
      "False\n"
     ]
    }
   ],
   "source": [
    "class SomePair:\n",
    "    def __init__(self, x, y):\n",
    "        self.x = x # Store value (attribute)\n",
    "        self.y = y # Store value (attribute)\n",
    "\n",
    "    # '==' operator (note that it has a return value)\n",
    "    def __eq__(self, other):\n",
    "        return self.x == other.x and self.y == other.y\n",
    "\n",
    "a = SomePair(23, 2)\n",
    "b = SomePair(23, 4)\n",
    "\n",
    "## Check for equality using ==\n",
    "print(a == b)\n",
    "\n",
    "## Check for equality using __eq__ (not recommended)\n",
    "print(a.__eq__(b))"
   ]
  },
  {
   "cell_type": "markdown",
   "metadata": {},
   "source": [
    "An object does not need to have all the magic functions defined - just the ones you intend to use. If you try to use\n",
    "and operator that is not defined you will get an error."
   ]
  },
  {
   "cell_type": "markdown",
   "metadata": {},
   "source": [
    "对象不需要定义所有魔术函数 - 只需要定义那些打算使用的。如果您尝试使用未定义的运算符，则会出现错误。"
   ]
  },
  {
   "cell_type": "markdown",
   "metadata": {},
   "source": [
    "**XUE.cn 练习题**：\n",
    "\n",
    "- [选择题 ★★ 在 Python 中，不论类的名字是什么，初始化类的实例，方法总是什么？](https://xue.cn/hub/app/exercise/816)\n",
    "\n",
    "- [判断题 ★★ Python 类的构造函数是`__init__()`。这种说法正确吗？](https://xue.cn/hub/app/exercise/1069)\n",
    "\n",
    "- [选择题 ★★★ 理解类实例的 `__dict__` 属性](https://xue.cn/hub/app/exercise/265)"
   ]
  },
  {
   "cell_type": "markdown",
   "metadata": {},
   "source": [
    "## Exercises"
   ]
  },
  {
   "cell_type": "markdown",
   "metadata": {},
   "source": [
    "Complete now the [12 Exercises](Exercises/12%20Exercises.ipynb) notebook."
   ]
  },
  {
   "cell_type": "markdown",
   "metadata": {},
   "source": [
    "## 练习\n",
    "现在完成 [习题 12](Exercises/12%20Exercises.ipynb)"
   ]
  }
 ],
 "metadata": {
  "kernelspec": {
   "display_name": "Python 3",
   "language": "python",
   "name": "python3"
  },
  "language_info": {
   "codemirror_mode": {
    "name": "ipython",
    "version": 3
   },
   "file_extension": ".py",
   "mimetype": "text/x-python",
   "name": "python",
   "nbconvert_exporter": "python",
   "pygments_lexer": "ipython3",
   "version": "3.6.8"
  }
 },
 "nbformat": 4,
 "nbformat_minor": 2
}
