{
 "cells": [
  {
   "cell_type": "markdown",
   "metadata": {},
   "source": [
    "## Introduction"
   ]
  },
  {
   "cell_type": "markdown",
   "metadata": {},
   "source": [
    "A data structure is an 'object' in a program that holds a collection of data. A simple\n",
    "data structure might be an 'array' that holds the components of a vector, or a list of\n",
    "names. A more complicated data structure might represent a telephone directory,\n",
    "holding [name, telephone number] pairs."
   ]
  },
  {
   "cell_type": "markdown",
   "metadata": {},
   "source": [
    "Modern languages, like Python, provide a range of library (built-in) data structures.\n",
    "These are well-tested and optimised; it is good practice to use library data structures to make programs\n",
    "simpler, easier to read and more efficient."
   ]
  },
  {
   "cell_type": "markdown",
   "metadata": {},
   "source": [
    "It is possible to develop your own data structures for special purposes. In this activity\n",
    "we focus on selecting and using built-in data structures. The creation\n",
    "of your own data structures is introduced in Activity 12."
   ]
  },
  {
   "cell_type": "markdown",
   "metadata": {},
   "source": [
    "<font size=4 weight=600 >Objectives</font>"
   ]
  },
  {
   "cell_type": "markdown",
   "metadata": {},
   "source": [
    "- Use`list`,`tuple`and dictionary (`dict`) data structures\n",
    "- Use iteratation to visit entries in a data structure\n",
    "- Learn to select the right data structure for an application"
   ]
  },
  {
   "cell_type": "markdown",
   "metadata": {},
   "source": [
    "## 介绍"
   ]
  },
  {
   "cell_type": "markdown",
   "metadata": {},
   "source": [
    "数据结构是包含数据集合的程序中的 “对象”。简单的数据结构可能是一个 “数组”，它包含向量的组件或名称列表。更复杂的数据结构可能代表电话目录，包含 [姓名，电话号码] 对。"
   ]
  },
  {
   "cell_type": "markdown",
   "metadata": {},
   "source": [
    "现代语言（如 Python）提供了一系列库（内置）数据结构。这些经过充分测试和优化; 优良作法是使用库数据结构使程序更简单，更易于阅读和更高效。"
   ]
  },
  {
   "cell_type": "markdown",
   "metadata": {},
   "source": [
    "可以为特殊目的开发自己的数据结构。\n",
    "在本课中，我们专注于选择和使用内置数据结构。课程 12 中介绍了如何创建您自己的数据结构。"
   ]
  },
  {
   "cell_type": "markdown",
   "metadata": {},
   "source": [
    "<font size=4 weight=600 >目标</font>"
   ]
  },
  {
   "cell_type": "markdown",
   "metadata": {},
   "source": [
    "- 使用 `list`，`tuple` 和字典（`dict`）数据结构\n",
    "- 使用迭代来访问数据结构中的元素\n",
    "- 学习为应用程序选择正确的数据结构"
   ]
  },
  {
   "cell_type": "markdown",
   "metadata": {},
   "source": [
    "## Data structures"
   ]
  },
  {
   "cell_type": "markdown",
   "metadata": {},
   "source": [
    "So far we have restricted our examples to simple built-in data types, e.g.`string`,`int`, and`float`. In practice, programs will use *data structures* to collect data together into useful packages. For example, rather than representing a vector`r`of length 3 using three floats`u`,`v`and`w`, we could represent\n",
    "it as a list of floats,`r = [u, v, w]`. Similarly, if we want to store the names of students in a laboratory group, rather than a string variable for each student, we could work with a list of names, e.g.:"
   ]
  },
  {
   "cell_type": "markdown",
   "metadata": {},
   "source": [
    "## 数据结构"
   ]
  },
  {
   "cell_type": "markdown",
   "metadata": {},
   "source": [
    "到目前为止，我们已将示例简单的内置数据类型，例如：`string`，`int` 和 `float`。在实践中，程序将使用*数据结构*将数据一起收集到有用的包中。例如，不是使用三个浮点数 “u”， “v” 和 “w” 来表示长度为 3 的向量 “r”，而是将它表示为浮点数列表，`r = [u，v，w]`。同样，如果我们想要将学生的名字存储在实验室组中，而不是存储每个学生的字符串变量，我们可以使用名单列表，例如："
   ]
  },
  {
   "cell_type": "code",
   "execution_count": 1,
   "metadata": {},
   "outputs": [],
   "source": [
    "lab_group0 = [\"Sarah\", \"John\", \"Joe\", \"Emily\"]\n",
    "lab_group1 = [\"Roger\", \"Rachel\", \"Amer\", \"Caroline\", \"Colin\"]"
   ]
  },
  {
   "cell_type": "markdown",
   "metadata": {},
   "source": [
    "This is a much more powerful construction because we can perform operations on a list, such as checking its length (number of students in a lab group), sort the names in the list into alphabetical order, and add or remove names. We could even make a list-of-lists, e.g."
   ]
  },
  {
   "cell_type": "markdown",
   "metadata": {},
   "source": [
    "这是一个更强大的结构，因为我们可以在列表上执行操作，例如检查其长度（实验室组中的学生数），将列表中的名称按字母顺序排序，以及添加或删除名称。我们甚至可以制作列表的列表，例如"
   ]
  },
  {
   "cell_type": "code",
   "execution_count": 2,
   "metadata": {},
   "outputs": [],
   "source": [
    "lab_groups = [lab_group0, lab_group1]"
   ]
  },
  {
   "cell_type": "markdown",
   "metadata": {},
   "source": [
    "to collect all the lab groups together into a *nested* list."
   ]
  },
  {
   "cell_type": "markdown",
   "metadata": {},
   "source": [
    "Data structures are particularly useful when passing data to functions. Say we want a function that prints the names of students in a given lab group. Rather than passing the name of each student (with different groups having differing numbers of members), we can pass just the list of lab group members to the function.\n",
    "Similarly, we could develop a function that computes the dot product between two vectors of arbitrary length, passing to the function just the two vectors rather than each component."
   ]
  },
  {
   "cell_type": "markdown",
   "metadata": {},
   "source": [
    "We will look at three built-in Python data structures that are commonly used. They are:"
   ]
  },
  {
   "cell_type": "markdown",
   "metadata": {},
   "source": [
    "- `list`\n",
    "- `tuple`\n",
    "- `dict`(dictionary)"
   ]
  },
  {
   "cell_type": "markdown",
   "metadata": {},
   "source": [
    "上面的语句可以将所有实验组一起收集到*嵌套*列表中。"
   ]
  },
  {
   "cell_type": "markdown",
   "metadata": {},
   "source": [
    "将数据传递给函数时，数据结构特别有用。假设我们想要一个打印给定实验室组中学生姓名的函数。我们可以将实验室组成员列表仅传递给该函数，而不是传递每个学生的名称（具有不同成员数量的不同组）。\n",
    "类似地，我们可以开发一个函数来计算任意长度的两个向量之间的点积，只传递两个向量而不是每个元素。"
   ]
  },
  {
   "cell_type": "markdown",
   "metadata": {},
   "source": [
    "我们将看一下常用的三种内置 Python 数据结构。他们是："
   ]
  },
  {
   "cell_type": "markdown",
   "metadata": {},
   "source": [
    "- `list`\n",
    "- `tuple`\n",
    "- `dict`（字典）"
   ]
  },
  {
   "cell_type": "markdown",
   "metadata": {},
   "source": [
    "## Lists"
   ]
  },
  {
   "cell_type": "markdown",
   "metadata": {},
   "source": [
    "A`list`is a sequence of data. An 'array' in most other languages is a similar concept, but Python lists are more general than most arrays as they can hold a mixture of types. A list is constructed using square brackets:"
   ]
  },
  {
   "cell_type": "markdown",
   "metadata": {},
   "source": [
    "## 列表"
   ]
  },
  {
   "cell_type": "markdown",
   "metadata": {},
   "source": [
    "`list` 是一系列数据。大多数其他语言中的 “数组” 是一个类似的概念，但 Python 列表比大多数数组更通用，因为它们可以包含多种类型。使用方括号构建列表："
   ]
  },
  {
   "cell_type": "code",
   "execution_count": 3,
   "metadata": {},
   "outputs": [
    {
     "name": "stdout",
     "output_type": "stream",
     "text": [
      "Lab group members: ['Sarah', 'John', 'Joe', 'Emily', 'Quang']\n",
      "Size of lab group: 5\n",
      "Check the Python object type: <class 'list'>\n"
     ]
    }
   ],
   "source": [
    "lab_group0 = [\"Sarah\", \"John\", \"Joe\", \"Emily\", \"Quang\"]\n",
    "print(\"Lab group members: {}\".format(lab_group0))\n",
    "print(\"Size of lab group: {}\".format(len(lab_group0)))\n",
    "\n",
    "print(\"Check the Python object type: {}\".format(type(lab_group0)))"
   ]
  },
  {
   "cell_type": "markdown",
   "metadata": {},
   "source": [
    "The function '`len`' returns the length (number of items) of the list."
   ]
  },
  {
   "cell_type": "markdown",
   "metadata": {},
   "source": [
    "An empty list is created by"
   ]
  },
  {
   "cell_type": "markdown",
   "metadata": {},
   "source": [
    "函数'`len`'返回列表的长度（元素数）。"
   ]
  },
  {
   "cell_type": "markdown",
   "metadata": {},
   "source": [
    "创建一个空列表"
   ]
  },
  {
   "cell_type": "code",
   "execution_count": 4,
   "metadata": {},
   "outputs": [],
   "source": [
    "my_list = []"
   ]
  },
  {
   "cell_type": "markdown",
   "metadata": {},
   "source": [
    "A list of length 5 with repeated values can be created by"
   ]
  },
  {
   "cell_type": "markdown",
   "metadata": {},
   "source": [
    "可以创建具有重复值的长度为 5 的列表"
   ]
  },
  {
   "cell_type": "code",
   "execution_count": 5,
   "metadata": {},
   "outputs": [
    {
     "name": "stdout",
     "output_type": "stream",
     "text": [
      "['Oliver', 'Oliver', 'Oliver', 'Oliver', 'Oliver']\n"
     ]
    }
   ],
   "source": [
    "my_list = [\"Oliver\"]*5\n",
    "print(my_list)"
   ]
  },
  {
   "cell_type": "markdown",
   "metadata": {},
   "source": [
    "**XUE.cn 练习题**："
   ]
  },
  {
   "cell_type": "markdown",
   "metadata": {
    "quesitons": [
     240,
     244
    ],
    "notes": "复核OK，独立块"
   },
   "source": [
    "- [选择题 ★ 列表的类型](https://xue.cn/hub/app/exercise/240)\n",
    "\n",
    "- [选择题 ★ 理解列表的结构](https://xue.cn/hub/app/exercise/244)"
   ]
  },
  {
   "cell_type": "markdown",
   "metadata": {},
   "source": [
    "### Iterating over lists"
   ]
  },
  {
   "cell_type": "markdown",
   "metadata": {},
   "source": [
    "Looping over each item in a list (or more generally a sequence) is called *iterating*. We iterate over the members of the lab group using the syntax:"
   ]
  },
  {
   "cell_type": "markdown",
   "metadata": {},
   "source": [
    "### 列表中的迭代"
   ]
  },
  {
   "cell_type": "markdown",
   "metadata": {},
   "source": [
    "循环遍历列表中的每个项目（或更一般地说是序列）称为*iterating*。我们使用以下语法迭代实验组的成员："
   ]
  },
  {
   "cell_type": "code",
   "execution_count": 6,
   "metadata": {},
   "outputs": [
    {
     "name": "stdout",
     "output_type": "stream",
     "text": [
      "Sarah\n",
      "John\n",
      "Joe\n",
      "Emily\n",
      "Quang\n"
     ]
    }
   ],
   "source": [
    "for member in lab_group0:\n",
    "    print(member)"
   ]
  },
  {
   "cell_type": "markdown",
   "metadata": {},
   "source": [
    "Say we want to iterate over the names of the lab group members, and get the position\n",
    "of each member in the list. We use`enumerate`for this: "
   ]
  },
  {
   "cell_type": "markdown",
   "metadata": {},
   "source": [
    "假设我们要迭代实验室组成员的名称，并获取列表中每个成员的位置。我们使用 `enumerate`："
   ]
  },
  {
   "cell_type": "code",
   "execution_count": 7,
   "metadata": {},
   "outputs": [
    {
     "name": "stdout",
     "output_type": "stream",
     "text": [
      "0 Sarah\n",
      "1 John\n",
      "2 Joe\n",
      "3 Emily\n",
      "4 Quang\n"
     ]
    }
   ],
   "source": [
    "for n, member in enumerate(lab_group0):\n",
    "    print(n, member)"
   ]
  },
  {
   "cell_type": "markdown",
   "metadata": {},
   "source": [
    "In the above,`n`is the position in the list and`member`is the $n$th entry in the list. Sometimes we need to know the position, in which case`enumerate`is helpful. However, when possible it is preferable to use a 'plain' iteration. Note that Python counts from zero - it uses zero-based indexing."
   ]
  },
  {
   "cell_type": "markdown",
   "metadata": {},
   "source": [
    "在上面，`n` 是列表中的位置，`member` 是列表中的第$n$项元素。有时我们需要知道位置，在这种情况下 `enumerate` 是有帮助的。但是，在可能的情况下，最好使用 “普通” 迭代。请注意，Python 从零开始计算 - 它使用从零开始的索引。"
   ]
  },
  {
   "cell_type": "markdown",
   "metadata": {},
   "source": [
    "### Manipulating lists"
   ]
  },
  {
   "cell_type": "markdown",
   "metadata": {},
   "source": [
    "There are many functions for manipulating lists. It might be useful to sort the list:"
   ]
  },
  {
   "cell_type": "markdown",
   "metadata": {},
   "source": [
    "### 操作列表"
   ]
  },
  {
   "cell_type": "markdown",
   "metadata": {},
   "source": [
    "有许多函数可以操作列表。例如下面对列表进行排序的命令可能很有用："
   ]
  },
  {
   "cell_type": "code",
   "execution_count": 8,
   "metadata": {},
   "outputs": [
    {
     "name": "stdout",
     "output_type": "stream",
     "text": [
      "Emily\n",
      "Joe\n",
      "John\n",
      "Quang\n",
      "Sarah\n"
     ]
    }
   ],
   "source": [
    "lab_group0.sort()\n",
    "for member in lab_group0:\n",
    "    print(member)"
   ]
  },
  {
   "cell_type": "markdown",
   "metadata": {},
   "source": [
    "In the above,`sort`is known as a 'method' of a`list`. It performs an *in-place* sort, i.e.`lab_group0`is sorted, rather than creating a new list with sorted entries (for the latter we would use`sorted(lab_group0)`, which returns a new list). More on methods later when we get to object-oriented design."
   ]
  },
  {
   "cell_type": "markdown",
   "metadata": {},
   "source": [
    "With lists we can add and remove students:"
   ]
  },
  {
   "cell_type": "markdown",
   "metadata": {},
   "source": [
    "在上面，`sort` 被称为 `list` 的'方法'。它执行*就地*排序，即 `lab_group0` 被排序，而不是创建一个带有排序条目的新列表（对于后者，我们将使用 `sorted（lab_group0）`，它返回一个新列表）。稍后当我们进行面向对象设计时，将介绍更多关于方法的知识。"
   ]
  },
  {
   "cell_type": "markdown",
   "metadata": {},
   "source": [
    "通过列表，我们可以添加和删除学生："
   ]
  },
  {
   "cell_type": "code",
   "execution_count": 9,
   "metadata": {},
   "outputs": [
    {
     "name": "stdout",
     "output_type": "stream",
     "text": [
      "['Emily', 'John', 'Quang', 'Sarah']\n",
      "['Emily', 'John', 'Quang', 'Sarah', 'Josephine']\n"
     ]
    }
   ],
   "source": [
    "## Remove the second student (indexing starts from 0, so 1 is the second element)\n",
    "lab_group0.pop(1)\n",
    "print(lab_group0)\n",
    "\n",
    "## Add new student \"Josephine\" at the end of the list\n",
    "lab_group0.append(\"Josephine\")\n",
    "print(lab_group0)"
   ]
  },
  {
   "cell_type": "markdown",
   "metadata": {},
   "source": [
    "or maybe join two groups to create one larger group: "
   ]
  },
  {
   "cell_type": "markdown",
   "metadata": {},
   "source": [
    "或者可以合并两个列表来创建一个更大的列表："
   ]
  },
  {
   "cell_type": "code",
   "execution_count": 10,
   "metadata": {},
   "outputs": [
    {
     "name": "stdout",
     "output_type": "stream",
     "text": [
      "['Emily', 'John', 'Quang', 'Sarah', 'Josephine', 'Roger', 'Rachel', 'Amer', 'Caroline', 'Colin']\n"
     ]
    }
   ],
   "source": [
    "lab_group1 = [\"Roger\", \"Rachel\", \"Amer\", \"Caroline\", \"Colin\"]\n",
    "\n",
    "lab_group = lab_group0 + lab_group1\n",
    "print(lab_group)"
   ]
  },
  {
   "cell_type": "markdown",
   "metadata": {},
   "source": [
    "or create a list of group lists:"
   ]
  },
  {
   "cell_type": "markdown",
   "metadata": {},
   "source": [
    "或者建立一个列表的列表："
   ]
  },
  {
   "cell_type": "code",
   "execution_count": 11,
   "metadata": {},
   "outputs": [
    {
     "name": "stdout",
     "output_type": "stream",
     "text": [
      "[['Emily', 'John', 'Quang', 'Sarah', 'Josephine'], ['Roger', 'Rachel', 'Amer', 'Caroline', 'Colin']]\n",
      "---\n",
      "Print each lab group (name and members):\n",
      "0 ['Emily', 'John', 'Quang', 'Sarah', 'Josephine']\n",
      "1 ['Roger', 'Rachel', 'Amer', 'Caroline', 'Colin']\n"
     ]
    }
   ],
   "source": [
    "lab_groups = [lab_group0, lab_group1]\n",
    "print(lab_groups)\n",
    "\n",
    "print(\"---\")\n",
    "\n",
    "print(\"Print each lab group (name and members):\")\n",
    "for i, lab_group in enumerate(lab_groups):\n",
    "    print(i, lab_group)"
   ]
  },
  {
   "cell_type": "markdown",
   "metadata": {},
   "source": [
    "**XUE.cn 练习题**："
   ]
  },
  {
   "cell_type": "markdown",
   "metadata": {
    "quesitons": [
     287,
     289,
     290,
     323,
     325,
     326,
     338,
     433,
     440,
     441,
     450,
     459,
     469
    ],
    "notes": "复核OK，独立块"
   },
   "source": [
    "- [选择题 ★ 列表 append 方法的使用](https://xue.cn/hub/app/exercise/287)\n",
    "\n",
    "- [选择题 ★ 列表的 + 运算符操作](https://xue.cn/hub/app/exercise/289)\n",
    "\n",
    "- [选择题 ★★ += 运算符给列表追加元素](https://xue.cn/hub/app/exercise/290)\n",
    "\n",
    "- [编程题 ★★★ 查找某个值在列表中的索引位置](https://xue.cn/hub/app/exercise/323)\n",
    "\n",
    "- [编程题 ★★★ 由已有列表倒序生成新的列表](https://xue.cn/hub/app/exercise/325)\n",
    "\n",
    "- [编程题 ★ 由字符串按规律生成列表](https://xue.cn/hub/app/exercise/326)\n",
    "\n",
    "- [编程题 ★★★ 对列表元素从大到小进行排序](https://xue.cn/hub/app/exercise/338)\n",
    "\n",
    "- [选择题 ★ 表达式 [1, 2, 3]*3 的执行结果是什么？](https://xue.cn/hub/app/exercise/433)\n",
    "\n",
    "- [选择题 ★ 表达式 “ [3] in [1, 2, 3, 4]” 的值是什么？](https://xue.cn/hub/app/exercise/440)\n",
    "\n",
    "- [选择题 ★ 列表的 sort() 方法返回值是什么？](https://xue.cn/hub/app/exercise/441)\n",
    "\n",
    "- [选择题 ★ Python 中什么命令既可以删除列表中的一个元素，也可以删除整个列表？](https://xue.cn/hub/app/exercise/450)\n",
    "\n",
    "- [选择题 ★★ 语句 sorted([1, 2, 3], reverse=True) == reversed([1, 2, 3]) 执行结果是什么？](https://xue.cn/hub/app/exercise/459)\n",
    "\n",
    "- [选择题 ★★ 已知列表对象 x = ['11', '2', '3']，则表达式 max(x) 的值是什么？](https://xue.cn/hub/app/exercise/469)"
   ]
  },
  {
   "cell_type": "markdown",
   "metadata": {},
   "source": [
    "### Indexing"
   ]
  },
  {
   "cell_type": "markdown",
   "metadata": {},
   "source": [
    "Lists store data in order, so it is possible to 'index into' a list using an integer (this will be familiar to anyone who has used C), e.g.:"
   ]
  },
  {
   "cell_type": "markdown",
   "metadata": {},
   "source": [
    "### 索引"
   ]
  },
  {
   "cell_type": "markdown",
   "metadata": {},
   "source": [
    "列表按顺序存储数据，因此可以使用整数 “索引到” 列表（这对于使用过 C 的人来说应该是很熟悉的），例如："
   ]
  },
  {
   "cell_type": "code",
   "execution_count": 12,
   "metadata": {},
   "outputs": [
    {
     "name": "stdout",
     "output_type": "stream",
     "text": [
      "Emily Quang\n"
     ]
    }
   ],
   "source": [
    "first_member = lab_group0[0]\n",
    "third_member = lab_group0[2]\n",
    "print(first_member, third_member)"
   ]
  },
  {
   "cell_type": "markdown",
   "metadata": {},
   "source": [
    "或者"
   ]
  },
  {
   "cell_type": "code",
   "execution_count": 13,
   "metadata": {},
   "outputs": [
    {
     "name": "stdout",
     "output_type": "stream",
     "text": [
      "Emily\n",
      "John\n",
      "Quang\n",
      "Sarah\n",
      "Josephine\n"
     ]
    }
   ],
   "source": [
    "for i in range(len(lab_group0)):\n",
    "    print(lab_group0[i])"
   ]
  },
  {
   "cell_type": "markdown",
   "metadata": {},
   "source": [
    "Indices start from zero, and run through to (length - 1)."
   ]
  },
  {
   "cell_type": "markdown",
   "metadata": {},
   "source": [
    "Indexing can be useful for numerical computations. We use it here to compute the dot product of two vectors:"
   ]
  },
  {
   "cell_type": "markdown",
   "metadata": {},
   "source": [
    "索引指数从零开始，一直到（长度 - 1）。"
   ]
  },
  {
   "cell_type": "markdown",
   "metadata": {},
   "source": [
    "索引可用于数值计算。我们在这里使用它来计算两个向量的点积："
   ]
  },
  {
   "cell_type": "code",
   "execution_count": 14,
   "metadata": {},
   "outputs": [
    {
     "name": "stdout",
     "output_type": "stream",
     "text": [
      "154.45000000000002\n"
     ]
    }
   ],
   "source": [
    "## Two vectors of length 4\n",
    "x = [1.0, 3.5, 7.2, 8.9]\n",
    "y = [-1.0, 27.1, 1.0, 6]\n",
    "\n",
    "## Compute dot-product\n",
    "dot_product = 0.0\n",
    "for i in range(len(x)):\n",
    "    dot_product += x[i]*y[i]\n",
    "\n",
    "print(dot_product)"
   ]
  },
  {
   "cell_type": "markdown",
   "metadata": {},
   "source": [
    "When possible, it is better to iterate over a list rather than use indexing, since there are data structures that support iterating but do not support indexing."
   ]
  },
  {
   "cell_type": "markdown",
   "metadata": {},
   "source": [
    "If we have a list-of-lists,"
   ]
  },
  {
   "cell_type": "markdown",
   "metadata": {},
   "source": [
    "在可能的情况下，最好迭代列表而不是使用索引，因为有数据结构支持迭代但不支持索引。"
   ]
  },
  {
   "cell_type": "markdown",
   "metadata": {},
   "source": [
    "如果我们有一个列表的列表，"
   ]
  },
  {
   "cell_type": "code",
   "execution_count": 15,
   "metadata": {},
   "outputs": [],
   "source": [
    "lab_group0 = [\"Sarah\", \"John\", \"Joe\", \"Emily\"]\n",
    "lab_group1 = [\"Roger\", \"Rachel\", \"Amer\", \"Caroline\", \"Colin\"]\n",
    "lab_groups = [lab_group0, lab_group1]"
   ]
  },
  {
   "cell_type": "markdown",
   "metadata": {},
   "source": [
    "we can use the first index to access a list, and a second index to access the entry in that list:"
   ]
  },
  {
   "cell_type": "markdown",
   "metadata": {},
   "source": [
    "我们可以使用第一个索引来访问列表，使用第二个索引来访问该列表中的条目："
   ]
  },
  {
   "cell_type": "code",
   "execution_count": 16,
   "metadata": {},
   "outputs": [
    {
     "name": "stdout",
     "output_type": "stream",
     "text": [
      "['Sarah', 'John', 'Joe', 'Emily']\n",
      "Amer\n"
     ]
    }
   ],
   "source": [
    "group = lab_groups[0]\n",
    "print(group)\n",
    "\n",
    "name = lab_groups[1][2]\n",
    "print(name)"
   ]
  },
  {
   "cell_type": "markdown",
   "metadata": {},
   "source": [
    "**XUE.cn 练习题**："
   ]
  },
  {
   "cell_type": "markdown",
   "metadata": {
    "quesitons": [
     457,
     458,
     500,
     501,
     514,
     516,
     517,
     589,
     590,
     593,
     594,
     596,
     600
    ],
    "notes": "复核OK，独立块"
   },
   "source": [
    "- [选择题 ★★ 切片操作 list(range(6))[::2] 执行结果是什么？](https://xue.cn/hub/app/exercise/457)\n",
    "\n",
    "- [选择题 ★ 在列表对象 x 的开始处增加一个元素 3 的代码是什么？](https://xue.cn/hub/app/exercise/458)\n",
    "\n",
    "- [选择题 ★ 已知 x = [3, 5, 7]，那么表达式 x[10:] 的值是什么？](https://xue.cn/hub/app/exercise/500)\n",
    "\n",
    "- [选择题 ★ 已知 x = [3, 5, 7]，那么执行语句 x[len(x):] = [1, 2] 之后，x 的值是什么？](https://xue.cn/hub/app/exercise/501)\n",
    "\n",
    "- [选择题 ★★ 已知 x = list(range(10))，则表达式 x[-4:] 的值是什么？](https://xue.cn/hub/app/exercise/514)\n",
    "\n",
    "- [选择题 ★ 已知 x = [3, 5, 7]，那么执行语句 x[1:] = [2] 之后，x 的值是什么？](https://xue.cn/hub/app/exercise/516)\n",
    "\n",
    "- [选择题 ★ 已知 x = [3, 5, 7]，那么执行语句 x[:3] = [2] 之后，x 的值是什么？](https://xue.cn/hub/app/exercise/517)\n",
    "\n",
    "- [选择题 ★★ 已知列表 x = list(range(10))，那么执行语句 del x[::2] 之后，x 的值是什么？](https://xue.cn/hub/app/exercise/589)\n",
    "\n",
    "- [选择题 ★ 已知列表 x = [1, 2, 3, 4]，那么执行语句 del x[1] 之后 x 的值是什么？](https://xue.cn/hub/app/exercise/590)\n",
    "\n",
    "- [选择题 ★ 已知列表 x = [1, 2, 3]，那么执行语句 x.insert(1, 4) 之后，x 的值是什么？](https://xue.cn/hub/app/exercise/593)\n",
    "\n",
    "- [选择题 ★ 已知列表 x = [1, 2, 3]，那么执行语句 x.insert(0, 4) 之后，x 的值是什么？](https://xue.cn/hub/app/exercise/594)\n",
    "\n",
    "- [选择题 ★ 已知 `x = [[1]] * 3`，那么执行语句 `x[0][0] = 5` 之后，变量 x 的值是什么？](https://xue.cn/hub/app/exercise/596)\n",
    "\n",
    "- [选择题 ★ 已知 x = [1, 2, 3]，那么执行语句 x[len(x)-1:] = [4, 5, 6] 之后，变量 x 的值是什么？](https://xue.cn/hub/app/exercise/600)"
   ]
  },
  {
   "cell_type": "markdown",
   "metadata": {},
   "source": [
    "### Heterogeneity (lists with mixed types)"
   ]
  },
  {
   "cell_type": "markdown",
   "metadata": {},
   "source": [
    "Python lists are heterogeneous data structures - this means they can store mixed types, e.g."
   ]
  },
  {
   "cell_type": "markdown",
   "metadata": {},
   "source": [
    "### 异构（混合类型列表）"
   ]
  },
  {
   "cell_type": "markdown",
   "metadata": {},
   "source": [
    "Python 列表是异构数据结构 - 这意味着它们可以存储混合类型，例如"
   ]
  },
  {
   "cell_type": "code",
   "execution_count": 17,
   "metadata": {},
   "outputs": [
    {
     "name": "stdout",
     "output_type": "stream",
     "text": [
      "Adam <class 'str'>\n",
      "(2+4j) <class 'complex'>\n",
      "1.0 <class 'float'>\n",
      "4 <class 'int'>\n"
     ]
    }
   ],
   "source": [
    "mixed_list = [\"Adam\", 2 + 4j, 1.0, 4]\n",
    "for entry in mixed_list:\n",
    "    print(entry, type(entry))"
   ]
  },
  {
   "cell_type": "markdown",
   "metadata": {},
   "source": [
    "Arrays in most languages are homogeneous - all types in the array must be the same."
   ]
  },
  {
   "cell_type": "markdown",
   "metadata": {},
   "source": [
    "There are *many* ways in which lists can be manipulated. The best way to learn how to perform a specific operation is to use a search engine."
   ]
  },
  {
   "cell_type": "markdown",
   "metadata": {},
   "source": [
    "大多数语言中的数组都是同类的 - 数组中的所有类型都必须相同。"
   ]
  },
  {
   "cell_type": "markdown",
   "metadata": {},
   "source": [
    "有*许多*方法可以操作列表。学习如何执行特定操作的最佳方法是使用搜索引擎。"
   ]
  },
  {
   "cell_type": "markdown",
   "metadata": {},
   "source": [
    "### List comprehension (advanced, optional)"
   ]
  },
  {
   "cell_type": "markdown",
   "metadata": {},
   "source": [
    "A powerful construct in modern languages, including Python, is *list comprehension*. It is a way to succinctly build lists from other lists. It can be very useful, but should be applied sensibly as it can sometimes be difficult to read. There is an optional extension exercise at the end of this notebook that uses list comprehension."
   ]
  },
  {
   "cell_type": "markdown",
   "metadata": {},
   "source": [
    "Say we have a list of numbers, and we wish to create a new list that squares each number in the original list and adds 5. Using list comprehension:"
   ]
  },
  {
   "cell_type": "markdown",
   "metadata": {},
   "source": [
    "### List comprehension（高级，可选）"
   ]
  },
  {
   "cell_type": "markdown",
   "metadata": {},
   "source": [
    "这是现代语言（包括 Python）中一个强大的结构*list comprehension*。这是一种简洁地从其他列表构建列表的方法。它可能非常有用，但应该合理应用，因为它有时很难阅读。这个笔记本末尾有一个使用 List comprehension 的可选扩展练习。"
   ]
  },
  {
   "cell_type": "markdown",
   "metadata": {},
   "source": [
    "假设我们有一个数字列表，我们希望创建一个新的列表，对原始列表中的每个数字进行平方并添加 5. 使用使用 List comprehension："
   ]
  },
  {
   "cell_type": "code",
   "execution_count": 18,
   "metadata": {},
   "outputs": [
    {
     "name": "stdout",
     "output_type": "stream",
     "text": [
      "[4, 6, 10, 11]\n",
      "[21, 41, 105, 126]\n"
     ]
    }
   ],
   "source": [
    "x = [4, 6, 10, 11]\n",
    "y = [a*a + 5 for a in x]\n",
    "\n",
    "print(x)\n",
    "print(y)"
   ]
  },
  {
   "cell_type": "markdown",
   "metadata": {},
   "source": [
    "To understand the meaning, read the statement left-to-right."
   ]
  },
  {
   "cell_type": "markdown",
   "metadata": {},
   "source": [
    "As another example, say we have a list of names and we want to"
   ]
  },
  {
   "cell_type": "markdown",
   "metadata": {},
   "source": [
    "- build a new list of names that contains only the names with more than 5 characters; and\n",
    "- for these names we want to add a full stop at the end."
   ]
  },
  {
   "cell_type": "markdown",
   "metadata": {},
   "source": [
    "Using list comprehension:"
   ]
  },
  {
   "cell_type": "markdown",
   "metadata": {},
   "source": [
    "要理解其含义，请从左到右阅读声明。"
   ]
  },
  {
   "cell_type": "markdown",
   "metadata": {},
   "source": [
    "再举一个例子，假设我们有一个名单，我们想要"
   ]
  },
  {
   "cell_type": "markdown",
   "metadata": {},
   "source": [
    "- 构建一个新的名称列表，其中只包含超过 5 个字符的名称; 和\n",
    "- 对于这些名称，我们希望在最后添加句号。"
   ]
  },
  {
   "cell_type": "markdown",
   "metadata": {},
   "source": [
    "使用 list comprehension："
   ]
  },
  {
   "cell_type": "code",
   "execution_count": 19,
   "metadata": {},
   "outputs": [
    {
     "name": "stdout",
     "output_type": "stream",
     "text": [
      "['Roger', 'Rachel', 'Amer', 'Caroline', 'Colin']\n",
      "['Rachel.', 'Caroline.']\n"
     ]
    }
   ],
   "source": [
    "lab_group1 = [\"Roger\", \"Rachel\", \"Amer\", \"Caroline\", \"Colin\"]\n",
    "group = [name + \".\" for name in lab_group1 if len(name) > 5]\n",
    "\n",
    "print(lab_group1)\n",
    "print(group)"
   ]
  },
  {
   "cell_type": "markdown",
   "metadata": {},
   "source": [
    "Mastering list comprehension is not simple, but it is very powerful."
   ]
  },
  {
   "cell_type": "markdown",
   "metadata": {},
   "source": [
    "掌握 list comprehension 并不简单，但它非常强大。（译者注：不要排斥它，自己写几次就能够理解了）"
   ]
  },
  {
   "cell_type": "markdown",
   "metadata": {},
   "source": [
    "**XUE.cn 练习题**："
   ]
  },
  {
   "cell_type": "markdown",
   "metadata": {
    "quesitons": [
     510,
     512,
     513,
     563,
     620,
     735,
     736,
     748,
     749,
     753,
     754
    ],
    "notes": "复核OK，独立块"
   },
   "source": [
    "- [选择题 ★★ 已知 x = [3,5,3,7]，那么表达式 [x.index(i) for i in x if i==3] 的值是什么？](https://xue.cn/hub/app/exercise/510)\n",
    "\n",
    "- [选择题 ★★ 已知 `vec = [[1,2], [3,4]]`，则表达式 `[col for row in vec for col in row]` 的值是什么？](https://xue.cn/hub/app/exercise/512)\n",
    "\n",
    "- [选择题 ★★★ 已知 `vec = [[1,2], [3,4]]`，则表达式 `[[row[i] for row in vec] for i in range(len(vec[0]))]` 的值是什么？](https://xue.cn/hub/app/exercise/513)\n",
    "\n",
    "- [选择题 ★★ 表达式 len([i for i in range(10)]) 的值是什么？](https://xue.cn/hub/app/exercise/563)\n",
    "\n",
    "- [选择题 ★★ 表达式 [str(i) for i in range(3)] 的值是什么？](https://xue.cn/hub/app/exercise/620)\n",
    "\n",
    "- [选择题 ★★ 表达式 [i for i in range(10) if i>8] 的值是什么？](https://xue.cn/hub/app/exercise/735)\n",
    "\n",
    "- [选择题 ★★ 已知有列表 `x = [[1, 2, 3], [4, 5, 6]]`，那么表达式 `[[row[i] for row in x] for i in range(len(x[0]))]` 的值是什么？](https://xue.cn/hub/app/exercise/736)\n",
    "\n",
    "- [选择题 ★★★ 已知 x = range(1,4) 和 y = range(4,7)，那么表达式 sum([i*j for i,j in zip(x,y)]) 的值是什么？](https://xue.cn/hub/app/exercise/748)\n",
    "\n",
    "- [选择题 ★★ 表达式 [5 for i in range(3)] 的值是什么？](https://xue.cn/hub/app/exercise/749) \n",
    "\n",
    "- [选择题 ★★★ 已知 `x = [[1, 2, 3,], [4, 5, 6]]`，那么表达式 `sum([i*j for i,j in zip(*x)])` 的值是什么？](https://xue.cn/hub/app/exercise/753)\n",
    "\n",
    "- [选择题 ★★★ 已知列表 x = [1, 2, 3] 和 y = [4, 5, 6]，那么表达式 [(i,j) for i, j in zip(x,y) if i==3] 的值是什么？](https://xue.cn/hub/app/exercise/754)"
   ]
  },
  {
   "cell_type": "markdown",
   "metadata": {},
   "source": [
    "### Tuples"
   ]
  },
  {
   "cell_type": "markdown",
   "metadata": {},
   "source": [
    "Tuples are closely related to lists. The main difference is that a tuple cannot be changed after it has been created.\n",
    "In computing jargon, it is *immutable*."
   ]
  },
  {
   "cell_type": "markdown",
   "metadata": {},
   "source": [
    "For something that should not change after it has been created, such as a vector of length three with fixed entries, a tuple is more appropriate than a list. It is 'safer' in this case since it cannot be modified accidentally in a program. Being immutable ('read-only') also permits implementations to be optimised for speed."
   ]
  },
  {
   "cell_type": "markdown",
   "metadata": {},
   "source": [
    "To create a tuple, use round brackets. Say at a college each student is assigned a room, and the rooms are numbered. A student 'Laura' is given room 32:"
   ]
  },
  {
   "cell_type": "markdown",
   "metadata": {},
   "source": [
    "### 元组"
   ]
  },
  {
   "cell_type": "markdown",
   "metadata": {},
   "source": [
    "元组与列表密切相关。主要区别在于元组在创建后无法更改。\n",
    "在计算术语中，它是*不可变的*。"
   ]
  },
  {
   "cell_type": "markdown",
   "metadata": {},
   "source": [
    "对于在创建后不应更改的内容，例如长度为 3 且具有固定条目的向量，元组比列表更合适。在这种情况下它 “更安全”，因为它不能在程序中意外修改。不可变（'只读'）也允许实现针对速度进行优化。"
   ]
  },
  {
   "cell_type": "markdown",
   "metadata": {},
   "source": [
    "要创建元组，请使用圆括号。比如说：在大学里每个学生被分配一个房间，房间都有编号。学生'Laura'获得 32 号房间："
   ]
  },
  {
   "cell_type": "code",
   "execution_count": 20,
   "metadata": {},
   "outputs": [
    {
     "name": "stdout",
     "output_type": "stream",
     "text": [
      "Room allocation: ('Laura', 32)\n",
      "Length of entry: 2\n",
      "<class 'tuple'>\n"
     ]
    }
   ],
   "source": [
    "room = (\"Laura\", 32)\n",
    "print(\"Room allocation: {}\".format(room))\n",
    "print(\"Length of entry: {}\".format(len(room)))\n",
    "print(type(room))"
   ]
  },
  {
   "cell_type": "markdown",
   "metadata": {},
   "source": [
    "We can iterate over tuples in the same way as with lists,"
   ]
  },
  {
   "cell_type": "markdown",
   "metadata": {},
   "source": [
    "我们可以用与列表相同的方式迭代元组，"
   ]
  },
  {
   "cell_type": "code",
   "execution_count": 21,
   "metadata": {},
   "outputs": [
    {
     "name": "stdout",
     "output_type": "stream",
     "text": [
      "Laura\n",
      "32\n"
     ]
    }
   ],
   "source": [
    "## Iterate over tuple values\n",
    "for d in room:\n",
    "    print(d)"
   ]
  },
  {
   "cell_type": "markdown",
   "metadata": {},
   "source": [
    "and we can index into a tuple:"
   ]
  },
  {
   "cell_type": "markdown",
   "metadata": {},
   "source": [
    "我们可以索引一个元组："
   ]
  },
  {
   "cell_type": "code",
   "execution_count": 22,
   "metadata": {},
   "outputs": [
    {
     "name": "stdout",
     "output_type": "stream",
     "text": [
      "32\n",
      "Laura\n"
     ]
    }
   ],
   "source": [
    "## Index into tuple values\n",
    "print(room[1])\n",
    "print(room[0])"
   ]
  },
  {
   "cell_type": "markdown",
   "metadata": {},
   "source": [
    "We might have a student who is given permission to live outside of college. To keep track of them we still want an entry for the student, but there is no associated room number. We can create a tuple of length one using '`(\"a\",)`', e.g.:"
   ]
  },
  {
   "cell_type": "markdown",
   "metadata": {},
   "source": [
    "我们可能会有一名学生获准在大学以外的地方生活。为了跟踪他们，我们仍然想要一个学生入口，但没有相关的房间号码。我们可以使用'`(\"a\",)`'创建一个长度为 1 的元组，例如："
   ]
  },
  {
   "cell_type": "code",
   "execution_count": 23,
   "metadata": {},
   "outputs": [
    {
     "name": "stdout",
     "output_type": "stream",
     "text": [
      "Room allocation: ('Adrian',)\n",
      "Length of entry: 1\n",
      "<class 'tuple'>\n"
     ]
    }
   ],
   "source": [
    "room = (\"Adrian\",)\n",
    "print(\"Room allocation: {}\".format(room))\n",
    "print(\"Length of entry: {}\".format(len(room)))\n",
    "print(type(room))"
   ]
  },
  {
   "cell_type": "markdown",
   "metadata": {},
   "source": [
    "As part of a rooms database, we can create a list of tuples:"
   ]
  },
  {
   "cell_type": "markdown",
   "metadata": {},
   "source": [
    "作为房间数据库的一部分，我们可以创建一个元组列表："
   ]
  },
  {
   "cell_type": "code",
   "execution_count": 24,
   "metadata": {},
   "outputs": [
    {
     "name": "stdout",
     "output_type": "stream",
     "text": [
      "[('Adrian',), ('Laura', 32), ('John', 31), ('Penelope', 28), ('Fraser', 28), ('Gaurav', 19)]\n"
     ]
    }
   ],
   "source": [
    "room_allocation = [(\"Adrian\",), (\"Laura\", 32), (\"John\", 31), (\"Penelope\", 28), (\"Fraser\", 28), (\"Gaurav\", 19)]\n",
    "print(room_allocation)"
   ]
  },
  {
   "cell_type": "markdown",
   "metadata": {},
   "source": [
    "To make it easier for students to find their rooms on a printed room list, we can sort the list:"
   ]
  },
  {
   "cell_type": "markdown",
   "metadata": {},
   "source": [
    "为了让学生更容易在打印的房间列表中找到他们的房间，我们可以对列表进行排序："
   ]
  },
  {
   "cell_type": "code",
   "execution_count": 25,
   "metadata": {},
   "outputs": [
    {
     "name": "stdout",
     "output_type": "stream",
     "text": [
      "[('Adrian',), ('Fraser', 28), ('Gaurav', 19), ('John', 31), ('Laura', 32), ('Penelope', 28)]\n"
     ]
    }
   ],
   "source": [
    "room_allocation.sort()\n",
    "print(room_allocation)"
   ]
  },
  {
   "cell_type": "markdown",
   "metadata": {},
   "source": [
    "We could improve the printed list by not printing those living outside of the college:"
   ]
  },
  {
   "cell_type": "markdown",
   "metadata": {},
   "source": [
    "我们可以通过不打印那些居住在学院以外的人来改进打印清单："
   ]
  },
  {
   "cell_type": "code",
   "execution_count": 26,
   "metadata": {},
   "outputs": [
    {
     "name": "stdout",
     "output_type": "stream",
     "text": [
      "Name: Fraser \n",
      "  Room: 28\n",
      "Name: Gaurav \n",
      "  Room: 19\n",
      "Name: John \n",
      "  Room: 31\n",
      "Name: Laura \n",
      "  Room: 32\n",
      "Name: Penelope \n",
      "  Room: 28\n"
     ]
    }
   ],
   "source": [
    "for entry in room_allocation:\n",
    "    if len(entry) > 1:\n",
    "        print(\"Name: {} \\n Room: {}\".format(entry[0], entry[1]))"
   ]
  },
  {
   "cell_type": "markdown",
   "metadata": {},
   "source": [
    "In summary, prefer tuples over lists when the length will not change."
   ]
  },
  {
   "cell_type": "markdown",
   "metadata": {},
   "source": [
    "总之，当长度不会改变时，首选元组而不是列表。"
   ]
  },
  {
   "cell_type": "markdown",
   "metadata": {},
   "source": [
    "**XUE.cn 练习题**："
   ]
  },
  {
   "cell_type": "markdown",
   "metadata": {
    "quesitons": [
     274,
     279,
     291,
     388,
     472,
     582,
     680,
     768,
     915,
     918,
     923,
     1033,
     1110
    ],
    "notes": "复核OK，独立块"
   },
   "source": [
    "- [选择题 ★ 元组类型基础](https://xue.cn/hub/app/exercise/274)\n",
    "\n",
    "- [选择题 ★★ 元组作为字典的键](https://xue.cn/hub/app/exercise/279)\n",
    "\n",
    "- [选择题 ★ 元组的不可变性](https://xue.cn/hub/app/exercise/291)\n",
    "\n",
    "- [选择题 ★ 关于 Python 的元组类型，以下选项中描述错误的是哪个？](https://xue.cn/hub/app/exercise/388)\n",
    "\n",
    "- [选择题 ★ 语句 x = (3,) 执行后 x 的值是什么？](https://xue.cn/hub/app/exercise/472)\n",
    "\n",
    "- [选择题 ★ 已知 x = (3,)，那么表达式 x * 3 的值是什么？](https://xue.cn/hub/app/exercise/582)\n",
    "\n",
    "- [选择题 ★ 表达式 (1, 2, 3)+(4, 5) 的值是什么？](https://xue.cn/hub/app/exercise/680)\n",
    "\n",
    "- [选择题 ★ 表达式 (1,) + (2,) 的值是什么？](https://xue.cn/hub/app/exercise/768)\n",
    "\n",
    "- [判断题 ★ 元组的增删改](https://xue.cn/hub/app/exercise/915)\n",
    "\n",
    "- [判断题 ★ 元组与列表比较](https://xue.cn/hub/app/exercise/918)\n",
    "\n",
    "- [判断题 ★ 只能通过切片访问元组中的元素，不能使用切片修改元组中的元素。这种说法正确吗？](https://xue.cn/hub/app/exercise/923)\n",
    "\n",
    "- [判断题 ★ 元组可以作为集合的元素。这种说法正确吗？](https://xue.cn/hub/app/exercise/1033)\n",
    "\n",
    "- [判断题 ★★ 表达式 (i**2 for i in range(100)) 的结果是个元组。这种说法正确吗？](https://xue.cn/hub/app/exercise/1110)"
   ]
  },
  {
   "cell_type": "markdown",
   "metadata": {},
   "source": [
    "## Dictionaries (maps)"
   ]
  },
  {
   "cell_type": "markdown",
   "metadata": {},
   "source": [
    "We used a list of tuples in the previous section to store room allocations. If we wanted to find which room a particular student has been allocated we would need to iterate through the list and check each name. For a very large list, this might not be very efficient."
   ]
  },
  {
   "cell_type": "markdown",
   "metadata": {},
   "source": [
    "There is a better way to do this, using a 'dictionary' (or sometimes called a 'map'). We have used indexing (with integers) into lists and tuples for direct access to a specific entry. This works if we know the index to the entry of interest. But, for a room list we identify individuals by name rather than a contiguous set of integers. Using a dictionary, we can build a 'map' from names (the *keys*) to room numbers (the *values*)."
   ]
  },
  {
   "cell_type": "markdown",
   "metadata": {},
   "source": [
    "A Python dictionary (`dict`) is declared using curly braces:"
   ]
  },
  {
   "cell_type": "markdown",
   "metadata": {},
   "source": [
    "## 字典（映射）"
   ]
  },
  {
   "cell_type": "markdown",
   "metadata": {},
   "source": [
    "我们在上一节中使用了元组列表来存储房间分配。如果我们想要找到特定学生分配的房间，我们需要遍历列表并检查每个名称。对于非常大的列表，这可能不是非常有效。"
   ]
  },
  {
   "cell_type": "markdown",
   "metadata": {},
   "source": [
    "有一种更好的方法，使用'字典'（或有时称为'映射'）。之前我们使用索引（带整数）到列表和元组中，以便直接访问特定条目。如果我们知道感兴趣的条目的索引编号，还算是高效的。但是，对于房间列表，我们通过名称而不是连续的整数集来识别个体。使用字典，我们可以从名称（*键 /key*）到房间号（*值 /value*）构建 “映射”。"
   ]
  },
  {
   "cell_type": "markdown",
   "metadata": {},
   "source": [
    "使用花括号声明 Python 字典（`dict`）："
   ]
  },
  {
   "cell_type": "code",
   "execution_count": 27,
   "metadata": {},
   "outputs": [
    {
     "name": "stdout",
     "output_type": "stream",
     "text": [
      "{'Adrian': None, 'Laura': 32, 'John': 31, 'Penelope': 28, 'Fraser': 28, 'Gaurav': 19}\n",
      "<class 'dict'>\n"
     ]
    }
   ],
   "source": [
    "room_allocation = {\"Adrian\": None, \"Laura\": 32, \"John\": 31, \"Penelope\": 28, \"Fraser\": 28, \"Gaurav\": 19}\n",
    "print(room_allocation)\n",
    "print(type(room_allocation))"
   ]
  },
  {
   "cell_type": "markdown",
   "metadata": {},
   "source": [
    "Each entry is separated by a comma. For each entry we have a 'key', which is followed by a colon, and then the 'value'. Note that for Adrian we have used '`None`' for the value, which is a Python keyword for 'nothing' or 'empty'."
   ]
  },
  {
   "cell_type": "markdown",
   "metadata": {},
   "source": [
    "Now if we want to know which room Fraser has been allocated, we can query the dictionary by key:"
   ]
  },
  {
   "cell_type": "markdown",
   "metadata": {},
   "source": [
    "每个条目用逗号分隔。对于每个条目，我们有一个'key'，后面跟一个冒号，然后是'value'。请注意，对于 Adrian，我们使用了'`None`'作为值，这是'无'或'空'的 Python 关键字。"
   ]
  },
  {
   "cell_type": "markdown",
   "metadata": {},
   "source": [
    "现在，如果我们想知道 Fraser 分配了哪个房间，我们可以按键查询字典："
   ]
  },
  {
   "cell_type": "code",
   "execution_count": 28,
   "metadata": {},
   "outputs": [
    {
     "name": "stdout",
     "output_type": "stream",
     "text": [
      "28\n"
     ]
    }
   ],
   "source": [
    "frasers_room = room_allocation[\"Fraser\"]\n",
    "print(frasers_room)"
   ]
  },
  {
   "cell_type": "markdown",
   "metadata": {},
   "source": [
    "If we try to use a key that does not exist in the dictionary, e.g."
   ]
  },
  {
   "cell_type": "code",
   "execution_count": null,
   "metadata": {},
   "outputs": [],
   "source": [
    "frasers_room = room_allocation[\"Frasers\"]"
   ]
  },
  {
   "cell_type": "markdown",
   "metadata": {},
   "source": [
    "Python will give an error (raise an exception). If we're not sure that a key is present, we can check:"
   ]
  },
  {
   "cell_type": "markdown",
   "metadata": {},
   "source": [
    "如果我们尝试使用字典中不存在的 key，例如"
   ]
  },
  {
   "cell_type": "code",
   "execution_count": null,
   "metadata": {},
   "outputs": [],
   "source": [
    "     frasers_room = room_allocation [ “Frasers” ]"
   ]
  },
  {
   "cell_type": "markdown",
   "metadata": {},
   "source": [
    "Python 会出错（引发异常）。如果我们不确定 key 是否存在，我们可以检查："
   ]
  },
  {
   "cell_type": "code",
   "execution_count": 29,
   "metadata": {},
   "outputs": [
    {
     "name": "stdout",
     "output_type": "stream",
     "text": [
      "True\n",
      "False\n"
     ]
    }
   ],
   "source": [
    "print(\"Fraser\" in room_allocation)\n",
    "print(\"Frasers\" in room_allocation)"
   ]
  },
  {
   "cell_type": "markdown",
   "metadata": {},
   "source": [
    "(We can also use '`in`' to check if an entry exists in a list or tuple).\n",
    "We can iterate over the keys in a dictionary:"
   ]
  },
  {
   "cell_type": "markdown",
   "metadata": {},
   "source": [
    "（我们也可以使用'`in`'来检查列表或元组中是否存在条目）。\n",
    "我们可以遍历字典中的 key："
   ]
  },
  {
   "cell_type": "code",
   "execution_count": 30,
   "metadata": {},
   "outputs": [
    {
     "name": "stdout",
     "output_type": "stream",
     "text": [
      "Adrian\n",
      "Laura\n",
      "John\n",
      "Penelope\n",
      "Fraser\n",
      "Gaurav\n"
     ]
    }
   ],
   "source": [
    "for d in room_allocation:\n",
    "    print(d)"
   ]
  },
  {
   "cell_type": "markdown",
   "metadata": {},
   "source": [
    "or iterate over both the keys and the values:"
   ]
  },
  {
   "cell_type": "markdown",
   "metadata": {},
   "source": [
    "或迭代 key 和 value："
   ]
  },
  {
   "cell_type": "code",
   "execution_count": 31,
   "metadata": {},
   "outputs": [
    {
     "name": "stdout",
     "output_type": "stream",
     "text": [
      "Adrian None\n",
      "Laura 32\n",
      "John 31\n",
      "Penelope 28\n",
      "Fraser 28\n",
      "Gaurav 19\n"
     ]
    }
   ],
   "source": [
    "for name, room_number in room_allocation.items():\n",
    "    print(name, room_number)"
   ]
  },
  {
   "cell_type": "markdown",
   "metadata": {},
   "source": [
    "Note that the order of the printed entries in the dictionary is different from the input order. This is because a dictionary stores data differently from a list or tuple. Lists and tuples store entries 'linearly' in memory\n",
    "(contiguous pieces of memory), which is why we can access entries by index. Dictionaries use a different type of storage which allows us to perform look-ups using a 'key'."
   ]
  },
  {
   "cell_type": "markdown",
   "metadata": {},
   "source": [
    "We have used a string as the key so far, which is common. However, we can use almost any type as a key, and we can mix types. For example, we might want to 'invert' the room allocation dictionary to create a room-to-name map:"
   ]
  },
  {
   "cell_type": "markdown",
   "metadata": {},
   "source": [
    "请注意，字典中打印条目的顺序与输入顺序不同。这是因为字典以不同于列表或元组的方式存储数据。列表和元组将条目 “线性” 存储在内存中（连续的内存块），这就是我们可以按索引访问条目的原因。字典使用不同类型的存储，允许我们使用 “key” 执行查找。"
   ]
  },
  {
   "cell_type": "markdown",
   "metadata": {},
   "source": [
    "到目前为止，我们使用字符串作为 key，这很常见。但是，我们几乎可以使用任何类型作为 key，我们可以混合使用类型。例如，我们可能想要 “反转” 房间分配字典以创建房间到名称的地图："
   ]
  },
  {
   "cell_type": "code",
   "execution_count": 32,
   "metadata": {},
   "outputs": [
    {
     "name": "stdout",
     "output_type": "stream",
     "text": [
      "{None: 'Adrian', 32: 'Laura', 31: 'John', 28: 'Fraser', 19: 'Gaurav'}\n"
     ]
    }
   ],
   "source": [
    "## Create empty dictionary\n",
    "room_allocation_inverse = {}\n",
    "\n",
    "## Build inverse dictionary to map 'room number' -> name\n",
    "for name, room_number in room_allocation.items():\n",
    "    # Insert entry into dictionary\n",
    "    room_allocation_inverse[room_number] = name\n",
    "\n",
    "print(room_allocation_inverse)"
   ]
  },
  {
   "cell_type": "markdown",
   "metadata": {},
   "source": [
    "We can now ask who is in room 28 and who is in room 29. Not all rooms are occupied, so we should include a check that the room number is a key in our dictionary:"
   ]
  },
  {
   "cell_type": "markdown",
   "metadata": {},
   "source": [
    "我们现在可以询问谁在 28 号房间以及谁在 29 号房间。并非所有房间都被占用，所以我们应该检查房间号是我们字典中的关键字："
   ]
  },
  {
   "cell_type": "code",
   "execution_count": 33,
   "metadata": {},
   "outputs": [
    {
     "name": "stdout",
     "output_type": "stream",
     "text": [
      "Room 28 is occupied by Fraser.\n",
      "Room 29 is unoccupied.\n"
     ]
    }
   ],
   "source": [
    "rooms_to_check = [28, 29]\n",
    "\n",
    "for room in rooms_to_check:\n",
    "    if room in room_allocation_inverse:\n",
    "        print(\"Room {} is occupied by {}.\".format(room, room_allocation_inverse[room]))\n",
    "    else:\n",
    "        print(\"Room {} is unoccupied.\".format(room))"
   ]
  },
  {
   "cell_type": "markdown",
   "metadata": {},
   "source": [
    "**XUE.cn 练习题**："
   ]
  },
  {
   "cell_type": "markdown",
   "metadata": {
    "quesitons": [
     308,
     340,
     482,
     488,
     813,
     880,
     1035,
     1036,
     1037,
     1081,
     1114,
     1116,
     1196,
     1202,
     1204,
     1206,
     1209
    ],
    "notes": "复核OK，独立块"
   },
   "source": [
    "- [选择题 ★ 字典的 update 方法](https://xue.cn/hub/app/exercise/308)\n",
    "\n",
    "- [编程题 ★★★★ 运用嵌套的字典或列表来保管和访问复杂数据](https://xue.cn/hub/app/exercise/340) \n",
    "\n",
    "- [选择题 ★ 已知 x = {1:2}，那么执行语句 x[2] = 3 之后，x 的值是什么？](https://xue.cn/hub/app/exercise/482)\n",
    "\n",
    "- [选择题 ★ 已知 x = {'a':'b', 'c':'d'}，那么表达式 'a' in x 的值是什么？](https://xue.cn/hub/app/exercise/488)\n",
    "\n",
    "- [选择题 ★★ 已知 x = {1:1, 2:2}，那么执行语句 x[3] = 3 之后，表达式 sorted(x.items()) 的值是什么？](https://xue.cn/hub/app/exercise/813)\n",
    "\n",
    "- [判断题 ★ Python 支持使用字典的 “键” 作为下标来访问字典中的值。这种说法正确吗？](https://xue.cn/hub/app/exercise/880)\n",
    "\n",
    "- [判断题 ★ 字典可以作为集合的元素。这种说法正确吗？](https://xue.cn/hub/app/exercise/1035)\n",
    "\n",
    "- [判断题 ★ 集合可以作为字典的键。这种说法正确吗？](https://xue.cn/hub/app/exercise/1036)\n",
    "\n",
    "- [判断题 ★ 集合可以作为字典的值。这种说法正确吗？](https://xue.cn/hub/app/exercise/1037)\n",
    "\n",
    "- [判断题 ★ Python 字典支持双向索引。这种说法正确吗？](https://xue.cn/hub/app/exercise/1081)\n",
    "\n",
    "- [判断题 ★ Python 内置的字典 dict 中元素是按添加的顺序依次进行存储的。这种说法正确吗？](https://xue.cn/hub/app/exercise/1114)\n",
    "\n",
    "- [判断题 ★ 已知 x = {1:1, 2:2}，那么语句 x[3] =3 无法正常执行。这种说法正确吗？](https://xue.cn/hub/app/exercise/1116)\n",
    "\n",
    "- [编程题 ★★ 字符串与字典互相转换](https://xue.cn/hub/app/exercise/1196)\n",
    "\n",
    "- [编程题 ★★★ 打印出字典的键、值对](https://xue.cn/hub/app/exercise/1202)\n",
    "\n",
    "- [编程题 ★★★ 统计列表中每个元素出现的次数](https://xue.cn/hub/app/exercise/1204)\n",
    "\n",
    "- [编程题 ★★★ 融合两个字典的数据](https://xue.cn/hub/app/exercise/1206)\n",
    "\n",
    "- [编程题 ★★ 向文件中写入字典数据](https://xue.cn/hub/app/exercise/1209)"
   ]
  },
  {
   "cell_type": "markdown",
   "metadata": {},
   "source": [
    "## Choosing a data structure"
   ]
  },
  {
   "cell_type": "markdown",
   "metadata": {},
   "source": [
    "An important task when developing a computer program is selecting the *appropriate* data structure for a task.\n",
    "The more flexible the data structure, generally the less efficient it will be and it will use more memory compared to simpler data structures."
   ]
  },
  {
   "cell_type": "markdown",
   "metadata": {},
   "source": [
    "- If efficiency is not critical, pick a data structure that provides the functionality you need, and offers\n",
    "  flexibility and ease of use. Safety should also be considered (this can be a good reason for choosing a\n",
    "  tuple over a list).\n",
    "- Use iterators rather than indexing when possible. This will allow switching from data structures that support\n",
    "  indexing to data structures that do not support indexing (such as a '`set`' data structure)."
   ]
  },
  {
   "cell_type": "markdown",
   "metadata": {},
   "source": [
    "For many numerical computations, efficiency is essential and picking the right data structure is critical\n",
    "for this. We will look at data structures that are specialied for numerical computations in the next notebook, and we'll see the huge difference in speed there can be between different data structures."
   ]
  },
  {
   "cell_type": "markdown",
   "metadata": {},
   "source": [
    "## 选择数据结构"
   ]
  },
  {
   "cell_type": "markdown",
   "metadata": {},
   "source": [
    "开发计算机程序时的一项重要任务是为任务选择*适当的*数据结构。数据结构越灵活，通常效率就越低，与简单的数据结构相比，它将使用更多的内存。"
   ]
  },
  {
   "cell_type": "markdown",
   "metadata": {},
   "source": [
    "- 如果效率不重要，请选择提供所需功能的数据结构，并提供灵活性和易用性。还应考虑安全性（这可能是在列表中选择元组的一个很好的理由）。\n",
    "- 尽可能使用迭代器而不是索引。这将允许从支持索引的数据结构切换到不支持索引的数据结构（例如 “set” 数据结构）。"
   ]
  },
  {
   "cell_type": "markdown",
   "metadata": {},
   "source": [
    "对于许多数值计算，效率是必不可少的，选择正确的数据结构对此至关重要。我们将在下一个笔记本中查看专门用于数值计算的数据结构，我们将看到不同数据结构之间可能存在的巨大差异。"
   ]
  },
  {
   "cell_type": "markdown",
   "metadata": {},
   "source": [
    "## Exercises"
   ]
  },
  {
   "cell_type": "markdown",
   "metadata": {},
   "source": [
    "Complete now the [06 Exercises](https://xue.cn/hub/reader?bookId=2&path=PartIA-Computing-Michaelmas-zh-CN/zh-CN/Exercises/06_Exercises.ipynb) notebook."
   ]
  },
  {
   "cell_type": "markdown",
   "metadata": {},
   "source": [
    "## 练习\n",
    "现在完成 [练习 06](https://xue.cn/hub/reader?bookId=2&path=PartIA-Computing-Michaelmas-zh-CN/zh-CN/Exercises/06_Exercises.ipynb)"
   ]
  }
 ],
 "metadata": {
  "kernelspec": {
   "display_name": "Python 3",
   "language": "python",
   "name": "python3"
  },
  "language_info": {
   "codemirror_mode": {
    "name": "ipython",
    "version": 3
   },
   "file_extension": ".py",
   "mimetype": "text/x-python",
   "name": "python",
   "nbconvert_exporter": "python",
   "pygments_lexer": "ipython3",
   "version": "3.7.3"
  }
 },
 "nbformat": 4,
 "nbformat_minor": 4
}