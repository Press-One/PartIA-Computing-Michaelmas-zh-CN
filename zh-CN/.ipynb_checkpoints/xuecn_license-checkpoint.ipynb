{
 "cells": [
  {
   "cell_type": "markdown",
   "metadata": {},
   "source": [
    "**XUE.cn 关于本书的版权声明**"
   ]
  },
  {
   "cell_type": "markdown",
   "metadata": {},
   "source": [
    "本书中文版由译者 Goldengrape 授权。原文作者：Garth N. Wells (gnw20@cam.ac.uk). https://notebooks.azure.com/garth-wells/projects/CUED-IA-Computing-Michaelmas"
   ]
  },
  {
   "cell_type": "markdown",
   "metadata": {},
   "source": [
    "本书 ipynb 文件及原内容的授权：CC 4.0 知识共享 署名-相同方式共享 . https://creativecommons.org/licenses/by-sa/3.0/deed.zh"
   ]
  },
  {
   "cell_type": "markdown",
   "metadata": {},
   "source": [
    "书中所有代码的授权为 MIT license"
   ]
  },
  {
   "cell_type": "markdown",
   "metadata": {},
   "source": [
    "---"
   ]
  },
  {
   "cell_type": "markdown",
   "metadata": {},
   "source": [
    "Copyright (c) 2010 Ivo Wetzel."
   ]
  },
  {
   "cell_type": "markdown",
   "metadata": {},
   "source": [
    "Permission is hereby granted, free of charge, to any person obtaining a copy\n",
    "of this software and associated documentation files (the \"Software\"), to deal\n",
    "in the Software without restriction, including without limitation the rights\n",
    "to use, copy, modify, merge, publish, distribute, sublicense, and/or sell\n",
    "copies of the Software, and to permit persons to whom the Software is\n",
    "furnished to do so, subject to the following conditions:"
   ]
  },
  {
   "cell_type": "markdown",
   "metadata": {},
   "source": [
    "The above copyright notice and this permission notice shall be included in\n",
    "all copies or substantial portions of the Software."
   ]
  },
  {
   "cell_type": "markdown",
   "metadata": {},
   "source": [
    "THE SOFTWARE IS PROVIDED \"AS IS\", WITHOUT WARRANTY OF ANY KIND, EXPRESS OR\n",
    "IMPLIED, INCLUDING BUT NOT LIMITED TO THE WARRANTIES OF MERCHANTABILITY,\n",
    "FITNESS FOR A PARTICULAR PURPOSE AND NONINFRINGEMENT. IN NO EVENT SHALL THE\n",
    "AUTHORS OR COPYRIGHT HOLDERS BE LIABLE FOR ANY CLAIM, DAMAGES OR OTHER\n",
    "LIABILITY, WHETHER IN AN ACTION OF CONTRACT, TORT OR OTHERWISE, ARISING FROM,\n",
    "OUT OF OR IN CONNECTION WITH THE SOFTWARE OR THE USE OR OTHER DEALINGS IN\n",
    "THE SOFTWARE."
   ]
  },
  {
   "cell_type": "markdown",
   "metadata": {},
   "source": [
    "本书中文版由译者 Goldengrape 授权。原文作者：Garth N. Wells (gnw20@cam.ac.uk). https://notebooks.azure.com/garth-wells/projects/CUED-IA-Computing-Michaelmas"
   ]
  },
  {
   "cell_type": "markdown",
   "metadata": {},
   "source": [
    "本书 ipynb 文件及原内容的授权：CC 4.0 知识共享 署名-相同方式共享 . https://creativecommons.org/licenses/by-sa/3.0/deed.zh"
   ]
  },
  {
   "cell_type": "markdown",
   "metadata": {},
   "source": [
    "书中所有代码的授权为 MIT license"
   ]
  },
  {
   "cell_type": "markdown",
   "metadata": {},
   "source": [
    "---"
   ]
  },
  {
   "cell_type": "markdown",
   "metadata": {},
   "source": [
    "Copyright (c) 2010 Ivo Wetzel."
   ]
  },
  {
   "cell_type": "markdown",
   "metadata": {},
   "source": [
    "Permission is hereby granted, free of charge, to any person obtaining a copy\n",
    "of this software and associated documentation files (the \"Software\"), to deal\n",
    "in the Software without restriction, including without limitation the rights\n",
    "to use, copy, modify, merge, publish, distribute, sublicense, and/or sell\n",
    "copies of the Software, and to permit persons to whom the Software is\n",
    "furnished to do so, subject to the following conditions:"
   ]
  },
  {
   "cell_type": "markdown",
   "metadata": {},
   "source": [
    "The above copyright notice and this permission notice shall be included in\n",
    "all copies or substantial portions of the Software."
   ]
  },
  {
   "cell_type": "markdown",
   "metadata": {},
   "source": [
    "THE SOFTWARE IS PROVIDED \"AS IS\", WITHOUT WARRANTY OF ANY KIND, EXPRESS OR\n",
    "IMPLIED, INCLUDING BUT NOT LIMITED TO THE WARRANTIES OF MERCHANTABILITY,\n",
    "FITNESS FOR A PARTICULAR PURPOSE AND NONINFRINGEMENT. IN NO EVENT SHALL THE\n",
    "AUTHORS OR COPYRIGHT HOLDERS BE LIABLE FOR ANY CLAIM, DAMAGES OR OTHER\n",
    "LIABILITY, WHETHER IN AN ACTION OF CONTRACT, TORT OR OTHERWISE, ARISING FROM,\n",
    "OUT OF OR IN CONNECTION WITH THE SOFTWARE OR THE USE OR OTHER DEALINGS IN\n",
    "THE SOFTWARE."
   ]
  }
 ],
 "metadata": {
  "kernelspec": {
   "display_name": "Python 3",
   "language": "python",
   "name": "python3"
  },
  "language_info": {
   "codemirror_mode": {
    "name": "ipython",
    "version": 3
   },
   "file_extension": ".py",
   "mimetype": "text/x-python",
   "name": "python",
   "nbconvert_exporter": "python",
   "pygments_lexer": "ipython3",
   "version": "3.7.3"
  }
 },
 "nbformat": 4,
 "nbformat_minor": 5
}
