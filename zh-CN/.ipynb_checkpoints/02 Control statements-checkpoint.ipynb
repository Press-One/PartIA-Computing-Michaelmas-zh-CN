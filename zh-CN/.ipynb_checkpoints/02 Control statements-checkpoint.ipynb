{
 "cells": [
  {
   "cell_type": "markdown",
   "metadata": {},
   "source": [
    "<!--英文标记开始-->\n",
    "## Introduction"
   ]
  },
  {
   "cell_type": "markdown",
   "metadata": {},
   "source": [
    "Control statements allow a program to change what it does depending on input or other data.\n",
    "Typical flows in a computer program involve structures like:"
   ]
  },
  {
   "cell_type": "markdown",
   "metadata": {},
   "source": [
    "- if 'X' do task 'A', else if 'Y' do task 'B'\n",
    "- perform the task 'A' 'N' times\n",
    "- perform the task 'B' until 'X' is true"
   ]
  },
  {
   "cell_type": "markdown",
   "metadata": {},
   "source": [
    "These flows are implemented using what are called 'control statements'. They are also known as branching - the path a program follows depends on the input data. Control statements are a major part of all non-trivial computer programs."
   ]
  },
  {
   "cell_type": "markdown",
   "metadata": {},
   "source": [
    "### Objectives"
   ]
  },
  {
   "cell_type": "markdown",
   "metadata": {},
   "source": [
    "- Introduce Boolean types\n",
    "- Introduce comparison operators\n",
    "- Learn to use control statements"
   ]
  },
  {
   "cell_type": "markdown",
   "metadata": {},
   "source": [
    "### Example of a control statement in pseudo code"
   ]
  },
  {
   "cell_type": "markdown",
   "metadata": {},
   "source": [
    "An electric window opener, attached to a rain sensor and a temperature\n",
    "gauge, might be controlled by the following program:"
   ]
  },
  {
   "cell_type": "code",
   "execution_count": null,
   "metadata": {},
   "outputs": [],
   "source": [
    "if raining: # If raining, close the window\n",
    "    close_window()\n",
    "else if temperature > 26: # If the temperature is over 26 deg, open window\n",
    "    open_window()\n",
    "else if temperature < 19: # If the temperature is below 19 deg, close window\n",
    "    close_window()\n",
    "else: # Otherwise, do nothing and leave window as it is\n",
    "    pass"
   ]
  },
  {
   "cell_type": "markdown",
   "metadata": {},
   "source": [
    "It is easy to imagine the program being made more sophisticated using the time of the day and the day of the week, or being attached to a smoke alarm."
   ]
  },
  {
   "cell_type": "markdown",
   "metadata": {},
   "source": [
    "We will look at different types of control statements, but first we need to introduce boolean types and comparison operators.\n",
    "<!--英文标记结束-->"
   ]
  },
  {
   "cell_type": "markdown",
   "metadata": {},
   "source": [
    "## 介绍"
   ]
  },
  {
   "cell_type": "markdown",
   "metadata": {},
   "source": [
    "控制语句允许程序根据输入或其他数据更改其功能。计算机程序中的典型流程涉及以下结构："
   ]
  },
  {
   "cell_type": "markdown",
   "metadata": {},
   "source": [
    "- 如果'X'执行任务'A'，否则如果'Y'执行任务'B'\n",
    "- 执行任务'A''N'次\n",
    "- 执行任务'B'直到'X'为真"
   ]
  },
  {
   "cell_type": "markdown",
   "metadata": {},
   "source": [
    "这些流程使用所谓的 “控制语句” 实现。它们也称为分支 - 程序遵循的路径取决于输入数据。控制语句是所有非平凡计算机程序的主要部分。"
   ]
  },
  {
   "cell_type": "markdown",
   "metadata": {},
   "source": [
    "### 目标"
   ]
  },
  {
   "cell_type": "markdown",
   "metadata": {},
   "source": [
    "- 介绍布尔类型\n",
    "- 介绍比较运算符\n",
    "- 学习使用控制语句"
   ]
  },
  {
   "cell_type": "markdown",
   "metadata": {},
   "source": [
    "### 伪代码中控制语句的示例"
   ]
  },
  {
   "cell_type": "markdown",
   "metadata": {},
   "source": [
    "安装在雨量传感器和温度计上的电动开窗器可通过以下程序控制："
   ]
  },
  {
   "cell_type": "code",
   "execution_count": null,
   "metadata": {},
   "outputs": [],
   "source": [
    "    如果下雨：＃如果下雨，关闭窗口\n",
    "        关闭窗口（）\n",
    "    否则，如果温度> 26：＃如果温度超过 26 度，打开窗户\n",
    "        打开窗户（）\n",
    "    否则，如果温度 <19：＃如果温度低于 19 度，请关闭窗口\n",
    "        关闭窗户（）\n",
    "    否则：＃否则，什么也不做，并保持窗口不变\n",
    "        通过"
   ]
  },
  {
   "cell_type": "markdown",
   "metadata": {},
   "source": [
    "很容易想象，如果使用一天中的时间或者一周中的某一天，或者附加到烟雾警报器，程序变得更加复杂。"
   ]
  },
  {
   "cell_type": "markdown",
   "metadata": {},
   "source": [
    "我们将研究不同类型的控制语句，但首先我们需要引入布尔类型和比较运算符。"
   ]
  },
  {
   "cell_type": "markdown",
   "metadata": {},
   "source": [
    "<!--英文标记开始-->\n",
    "## Booleans"
   ]
  },
  {
   "cell_type": "markdown",
   "metadata": {},
   "source": [
    "Before starting with control statements, we need to introduce booleans.\n",
    "A Boolean is a type of variable that can take on one of two values - true or false.\n",
    "<!--英文标记结束-->"
   ]
  },
  {
   "cell_type": "markdown",
   "metadata": {},
   "source": [
    "## 布尔值"
   ]
  },
  {
   "cell_type": "markdown",
   "metadata": {},
   "source": [
    "在开始使用控制语句之前，我们需要引入布尔值。\n",
    "布尔值是一种变量，可以采用两个值之一 - 真或假。"
   ]
  },
  {
   "cell_type": "code",
   "execution_count": 3,
   "metadata": {},
   "outputs": [
    {
     "name": "stdout",
     "output_type": "stream",
     "text": [
      "True\n",
      "False\n"
     ]
    }
   ],
   "source": [
    "a = True\n",
    "print(a)\n",
    "\n",
    "a = False\n",
    "print(a)"
   ]
  },
  {
   "cell_type": "markdown",
   "metadata": {},
   "source": [
    "<!--英文标记开始-->\n",
    "Booleans are used extensively in control statements.\n",
    "<!--英文标记结束-->"
   ]
  },
  {
   "cell_type": "markdown",
   "metadata": {},
   "source": [
    "布尔值广泛用于控制语句中。"
   ]
  },
  {
   "cell_type": "markdown",
   "metadata": {},
   "source": [
    "<!--英文标记开始-->\n",
    "## Comparison operators"
   ]
  },
  {
   "cell_type": "markdown",
   "metadata": {},
   "source": [
    "We often want to check in a program how two variables are related to each other, for example if one is less than the other, or if two variables are equal. We do this with 'comparison operators', such as`<`,`<=`,`>`,`>=`and`==`."
   ]
  },
  {
   "cell_type": "markdown",
   "metadata": {},
   "source": [
    "Below is an example checking if a number`a`is less than or greater than a number`b`:\n",
    "<!--英文标记结束-->"
   ]
  },
  {
   "cell_type": "markdown",
   "metadata": {},
   "source": [
    "## 比较运算符"
   ]
  },
  {
   "cell_type": "markdown",
   "metadata": {},
   "source": [
    "我们经常要在程序中检查两个变量是如何相互关联的，例如，如果一个变量小于另一个变量，或者两个变量是否相等。我们使用'比较运算符'来执行此操作，例如 `<`，`<=`，`>`，`> =` 和 `==`。"
   ]
  },
  {
   "cell_type": "markdown",
   "metadata": {},
   "source": [
    "下面是检查数字 “a” 是否小于或大于数字 “b” 的示例："
   ]
  },
  {
   "cell_type": "code",
   "execution_count": 4,
   "metadata": {},
   "outputs": [
    {
     "name": "stdout",
     "output_type": "stream",
     "text": [
      "False\n",
      "True\n"
     ]
    }
   ],
   "source": [
    "a = 10.0\n",
    "b = 9.9\n",
    "print(a < b)\n",
    "print(a > b)"
   ]
  },
  {
   "cell_type": "markdown",
   "metadata": {},
   "source": [
    "<!--英文标记开始-->\n",
    "Equality is checked using '`==`', and '`!=`' is used to test if two variables are not equal. Below are some examples to read through.\n",
    "<!--英文标记结束-->"
   ]
  },
  {
   "cell_type": "markdown",
   "metadata": {},
   "source": [
    "使用'`==`'检查等式，使用'`!=`' 来测试两个变量是否不相等。以下是一些可供阅读的示例。"
   ]
  },
  {
   "cell_type": "code",
   "execution_count": 5,
   "metadata": {},
   "outputs": [
    {
     "name": "stdout",
     "output_type": "stream",
     "text": [
      "Is a equal to b?\n",
      "False\n",
      "Is a equal to c?\n",
      "True\n",
      "Is a not equal to c?\n",
      "False\n",
      "Is a less than or equal to b?\n",
      "False\n",
      "Is a less than or equal to c?\n",
      "True\n",
      "Is colour0 the same as colour1?\n",
      "False\n"
     ]
    }
   ],
   "source": [
    "a = 14\n",
    "b = -9\n",
    "c = 14\n",
    "\n",
    "## Check if a is equal to b\n",
    "print(\"Is a equal to b?\")\n",
    "print(a == b)\n",
    "\n",
    "## Check if a is equal to c\n",
    "print(\"Is a equal to c?\")\n",
    "print(a == c)\n",
    "\n",
    "## Check if a is not equal to c\n",
    "print(\"Is a not equal to c?\")\n",
    "print(a != c)\n",
    "\n",
    "## Check if a is less than or equal to b\n",
    "print(\"Is a less than or equal to b?\")\n",
    "print(a <= b)\n",
    "\n",
    "## Check if a is less than or equal to c\n",
    "print(\"Is a less than or equal to c?\")\n",
    "print(a <= c)\n",
    "\n",
    "## Check if two colours are the same\n",
    "colour0 = 'blue'\n",
    "colour1 = 'green'\n",
    "print(\"Is colour0 the same as colour1?\")\n",
    "print(colour0 == colour1)"
   ]
  },
  {
   "cell_type": "markdown",
   "metadata": {},
   "source": [
    "<!--英文标记开始-->\n",
    "## Boolean operators"
   ]
  },
  {
   "cell_type": "markdown",
   "metadata": {},
   "source": [
    "In the above we have only used one comparison at a time. Boolean operators allow us to 'string' together multiple checks using the operators '`and`', '`or`' and '`not`'.\n",
    "The operators '`and`' and '`or`' take a boolean on either side, and the code"
   ]
  },
  {
   "cell_type": "code",
   "execution_count": null,
   "metadata": {},
   "outputs": [],
   "source": [
    "X and Y"
   ]
  },
  {
   "cell_type": "markdown",
   "metadata": {},
   "source": [
    "will evaluate to`True`if`X`*and*`Y`are both true, and otherwise will evaluate to`False`. The code"
   ]
  },
  {
   "cell_type": "code",
   "execution_count": null,
   "metadata": {},
   "outputs": [],
   "source": [
    "X or Y"
   ]
  },
  {
   "cell_type": "markdown",
   "metadata": {},
   "source": [
    "will evaluate to`True`if`X`*or*`Y`is true, and otherwise will evaluate to`False`.\n",
    "Here are some examples:\n",
    "<!--英文标记结束-->"
   ]
  },
  {
   "cell_type": "markdown",
   "metadata": {},
   "source": [
    "## 布尔运算符"
   ]
  },
  {
   "cell_type": "markdown",
   "metadata": {},
   "source": [
    "在上面我们一次只使用一个比较。布尔运算符允许我们使用运算符'`and`', '`or`' 和 '`not`'将多个检查 “串联” 在一起。\n",
    "运算符'和''和'` 或''在任一侧和代码中都有一个布尔值"
   ]
  },
  {
   "cell_type": "code",
   "execution_count": null,
   "metadata": {},
   "outputs": [],
   "source": [
    "X and Y"
   ]
  },
  {
   "cell_type": "markdown",
   "metadata": {},
   "source": [
    "如果 `X`*和*`Y` 都为真，则结果为 `True`，否则将计算结果为 `False`。代码"
   ]
  },
  {
   "cell_type": "code",
   "execution_count": null,
   "metadata": {},
   "outputs": [],
   "source": [
    "X or Y"
   ]
  },
  {
   "cell_type": "markdown",
   "metadata": {},
   "source": [
    "如果 `X`*或*`Y` 为真，则结果为 `True`，否则结果将为 `False`。\n",
    "这里有些例子："
   ]
  },
  {
   "cell_type": "code",
   "execution_count": 7,
   "metadata": {},
   "outputs": [
    {
     "name": "stdout",
     "output_type": "stream",
     "text": [
      "False\n"
     ]
    }
   ],
   "source": [
    "## If 10 < 9 (false) and 15 < 20 (true) -> false\n",
    "print(10 < 9 and 15 < 20)"
   ]
  },
  {
   "cell_type": "code",
   "execution_count": 8,
   "metadata": {},
   "outputs": [
    {
     "name": "stdout",
     "output_type": "stream",
     "text": [
      "True\n"
     ]
    }
   ],
   "source": [
    "## Check if 10 < 9 (false) or 15 < 20 (true) -> true\n",
    "print(10 < 9 or 15 < 20)"
   ]
  },
  {
   "cell_type": "markdown",
   "metadata": {},
   "source": [
    "<!--英文标记开始-->\n",
    "The meaning of the statement becomes clear if read it left-to-right."
   ]
  },
  {
   "cell_type": "markdown",
   "metadata": {},
   "source": [
    "Below is a very simple example that, given the current time of day reports"
   ]
  },
  {
   "cell_type": "markdown",
   "metadata": {},
   "source": [
    "- true if it is lunch time; and\n",
    "- true if we are outside of working hours.\n",
    "<!--英文标记结束-->"
   ]
  },
  {
   "cell_type": "markdown",
   "metadata": {},
   "source": [
    "如果从左到右阅读，该陈述的含义就变得清晰了。"
   ]
  },
  {
   "cell_type": "markdown",
   "metadata": {},
   "source": [
    "下面是一个非常简单的例子，考虑到当前的时间报告"
   ]
  },
  {
   "cell_type": "markdown",
   "metadata": {},
   "source": [
    "- 如果是午餐时间，则为真; 并且\n",
    "- 如果我们超出工作时间，则为真。"
   ]
  },
  {
   "cell_type": "code",
   "execution_count": 9,
   "metadata": {},
   "outputs": [
    {
     "name": "stdout",
     "output_type": "stream",
     "text": [
      "Is it lunchtime?\n",
      "True\n",
      "Are we outside of working hours?\n",
      "False\n"
     ]
    }
   ],
   "source": [
    "time = 13.05 # The current time\n",
    "\n",
    "work_starts = 8.00 # Start of working day\n",
    "work_ends = 17.00 # End of working day\n",
    "\n",
    "lunch_starts = 13.00 # Start of lunchtime\n",
    "lunch_ends = 14.00 # End of lunchtime\n",
    "\n",
    "## Check if it's lunch time\n",
    "print(\"Is it lunchtime?\")\n",
    "is_lunchtime = time >= lunch_starts and time < lunch_ends\n",
    "print(is_lunchtime)\n",
    "\n",
    "## Check if we're outside of working hours\n",
    "print(\"Are we outside of working hours?\")\n",
    "outside_working_hours = time < work_starts or time >= work_ends\n",
    "print(outside_working_hours)"
   ]
  },
  {
   "cell_type": "markdown",
   "metadata": {},
   "source": [
    "<!--英文标记开始-->\n",
    "Note that the comparison operators (`>=`,`<=`,`<`and`>`) are evaluated before the Boolean operators (`and`,`or`)."
   ]
  },
  {
   "cell_type": "markdown",
   "metadata": {},
   "source": [
    "In Python, the '`not`' operator negates a statement, e.g.:\n",
    "<!--英文标记结束-->"
   ]
  },
  {
   "cell_type": "markdown",
   "metadata": {},
   "source": [
    "请注意，比较运算符（`> =`，`<=`，`<` 和 `>`）在布尔运算符（`and`，`or`）之前进行求值。"
   ]
  },
  {
   "cell_type": "markdown",
   "metadata": {},
   "source": [
    "在 Python 中，'`not`'运算符否定了一个语句，例如："
   ]
  },
  {
   "cell_type": "code",
   "execution_count": 10,
   "metadata": {},
   "outputs": [
    {
     "name": "stdout",
     "output_type": "stream",
     "text": [
      "True\n"
     ]
    }
   ],
   "source": [
    "## Is 12 *not* less than 7 -> true\n",
    "a = 12\n",
    "b = 7\n",
    "print(not a < b)"
   ]
  },
  {
   "cell_type": "markdown",
   "metadata": {},
   "source": [
    "<!--英文标记开始-->\n",
    "Only use '`not`' when it makes a program easy to read. For example,\n",
    "<!--英文标记结束-->"
   ]
  },
  {
   "cell_type": "markdown",
   "metadata": {},
   "source": [
    "只有在程序易于阅读时才使用'`not`'。例如，"
   ]
  },
  {
   "cell_type": "code",
   "execution_count": 11,
   "metadata": {},
   "outputs": [
    {
     "name": "stdout",
     "output_type": "stream",
     "text": [
      "True\n"
     ]
    }
   ],
   "source": [
    "print(not 12 == 7)"
   ]
  },
  {
   "cell_type": "markdown",
   "metadata": {},
   "source": [
    "<!--英文标记开始-->\n",
    "is not good practice. Better is\n",
    "<!--英文标记结束-->"
   ]
  },
  {
   "cell_type": "markdown",
   "metadata": {},
   "source": [
    "不是好习惯。更好的是"
   ]
  },
  {
   "cell_type": "code",
   "execution_count": 12,
   "metadata": {},
   "outputs": [
    {
     "name": "stdout",
     "output_type": "stream",
     "text": [
      "True\n"
     ]
    }
   ],
   "source": [
    "print(12 != 7)"
   ]
  },
  {
   "cell_type": "markdown",
   "metadata": {},
   "source": [
    "<!--英文标记开始-->\n",
    "Here is a double-negation, which is very cryptic (and poor programming):\n",
    "<!--英文标记结束-->"
   ]
  },
  {
   "cell_type": "markdown",
   "metadata": {},
   "source": [
    "这是一个双重否定，这是非常神秘（和糟糕的编程）："
   ]
  },
  {
   "cell_type": "code",
   "execution_count": 13,
   "metadata": {},
   "outputs": [
    {
     "name": "stdout",
     "output_type": "stream",
     "text": [
      "False\n"
     ]
    }
   ],
   "source": [
    "print(not not 12 == 7)"
   ]
  },
  {
   "cell_type": "markdown",
   "metadata": {},
   "source": [
    "<!--英文标记开始-->\n",
    "### Multiple comparison operators"
   ]
  },
  {
   "cell_type": "markdown",
   "metadata": {},
   "source": [
    "The examples so far use at most two comparison operators. In some cases we might want to perform more checks. We can control the order of evaluation using brackets. For example, if we want to check if a number is strictly between 100 and 200, or between 10 and 50:\n",
    "<!--英文标记结束-->"
   ]
  },
  {
   "cell_type": "markdown",
   "metadata": {},
   "source": [
    "### 多个比较运算符"
   ]
  },
  {
   "cell_type": "markdown",
   "metadata": {},
   "source": [
    "到目前为止，这些例子最多使用两个比较运算符。在某些情况下，我们可能希望执行更多检查。我们可以使用括号控制计算顺序。例如，如果我们想要检查数字是否严格在 100 到 200 之间，或者在 10 到 50 之间："
   ]
  },
  {
   "cell_type": "code",
   "execution_count": 14,
   "metadata": {},
   "outputs": [
    {
     "name": "stdout",
     "output_type": "stream",
     "text": [
      "True\n"
     ]
    }
   ],
   "source": [
    "value = 150.5\n",
    "print ((value > 100 and value < 200) or (value > 10 and value < 50))"
   ]
  },
  {
   "cell_type": "markdown",
   "metadata": {},
   "source": [
    "<!--英文标记开始-->\n",
    "The two checks in the brackets are evaluated first (each evaluates to`True`or`False`), and then the '`or`' checks if one of the two is true.\n",
    "<!--英文标记结束-->"
   ]
  },
  {
   "cell_type": "markdown",
   "metadata": {},
   "source": [
    "首先评估括号中的两个检查（每个检查评估为 “True” 或 “False”），然后'`or`'检查两者中的一个是否为真。"
   ]
  },
  {
   "cell_type": "markdown",
   "metadata": {},
   "source": [
    "<!--英文标记开始-->\n",
    "## Control statements"
   ]
  },
  {
   "cell_type": "markdown",
   "metadata": {},
   "source": [
    "Now that we've covered comparison, we are ready to look at control statements. These are a central part of computing. Here is a control statement in pseudo code:"
   ]
  },
  {
   "cell_type": "code",
   "execution_count": null,
   "metadata": {},
   "outputs": [],
   "source": [
    "if A is true\n",
    "    Perform task X (only)\n",
    "else if B is true\n",
    "    Perform task Y (only)\n",
    "else\n",
    "    Perform task Z (only)"
   ]
  },
  {
   "cell_type": "markdown",
   "metadata": {},
   "source": [
    "The above is an 'if' statement. Another type of control statement is"
   ]
  },
  {
   "cell_type": "markdown",
   "metadata": {},
   "source": [
    "do task X 10 times"
   ]
  },
  {
   "cell_type": "markdown",
   "metadata": {},
   "source": [
    "We make this concrete below with some examples.\n",
    "<!--英文标记结束-->"
   ]
  },
  {
   "cell_type": "markdown",
   "metadata": {},
   "source": [
    "## 控制语句"
   ]
  },
  {
   "cell_type": "markdown",
   "metadata": {},
   "source": [
    "现在我们已经介绍了比较，我们已经准备好查看控制语句了。这些是计算的核心部分。这是伪代码中的控制语句："
   ]
  },
  {
   "cell_type": "code",
   "execution_count": null,
   "metadata": {},
   "outputs": [],
   "source": [
    "     如果 A 是真的\n",
    "         执行任务 X（仅限执行 X）\n",
    "     否则如果 B 是真的\n",
    "         执行任务 Y（仅限执行 Y）\n",
    "     其他\n",
    "         执行任务 Z（仅限执行 Z）"
   ]
  },
  {
   "cell_type": "markdown",
   "metadata": {},
   "source": [
    "以上是'if'语句。另一种控制语句是"
   ]
  },
  {
   "cell_type": "code",
   "execution_count": null,
   "metadata": {},
   "outputs": [],
   "source": [
    "     做任务 X 10 次"
   ]
  },
  {
   "cell_type": "markdown",
   "metadata": {},
   "source": [
    "我们通过一些例子在下面详细说明。"
   ]
  },
  {
   "cell_type": "markdown",
   "metadata": {},
   "source": [
    "<!--英文标记开始-->\n",
    "### `if`statements"
   ]
  },
  {
   "cell_type": "markdown",
   "metadata": {},
   "source": [
    "Below is a simple example that demonstrates the Python syntax for an if-else control statement.\n",
    "For a value assigned to a variable`x`, the program prints a message and modifies`x`.\n",
    "The message and the modification of`x`depend on the initial value of`x`:\n",
    "<!--英文标记结束-->"
   ]
  },
  {
   "cell_type": "markdown",
   "metadata": {},
   "source": [
    "### `if` 语句"
   ]
  },
  {
   "cell_type": "markdown",
   "metadata": {},
   "source": [
    "下面是一个简单的示例，演示了 if-else 控制语句的 Python 语法。\n",
    "对于赋给变量 `x` 的值，程序打印一条消息并修改 `x`。\n",
    "消息和 `x` 的修改取决于 `x` 的初始值："
   ]
  },
  {
   "cell_type": "code",
   "execution_count": 16,
   "metadata": {},
   "outputs": [
    {
     "name": "stdout",
     "output_type": "stream",
     "text": [
      "Initial x is less than zero\n",
      "New x value: 11.0\n"
     ]
    }
   ],
   "source": [
    "x = -10.0 # Initial x value\n",
    "\n",
    "if x > 0.0:\n",
    "    print('Initial x is greater than zero')\n",
    "    x -= 20.0\n",
    "elif x < 0.0:\n",
    "    print('Initial x is less than zero')\n",
    "    x += 21.0\n",
    "else:\n",
    "    print('Initial x is not less than zero and not greater than zero, therefore it must be zero')\n",
    "    x *= 2.5\n",
    "\n",
    "## Print new x value\n",
    "print(\"New x value:\", x)"
   ]
  },
  {
   "cell_type": "markdown",
   "metadata": {},
   "source": [
    "<!--英文标记开始-->\n",
    "Try changing the value of`x`and re-running the cell to see the different paths the code can follow.\n",
    "<!--英文标记结束-->"
   ]
  },
  {
   "cell_type": "markdown",
   "metadata": {},
   "source": [
    "尝试更改 `x` 的值并重新运行单元格以查看代码可以遵循的不同路径。"
   ]
  },
  {
   "cell_type": "markdown",
   "metadata": {},
   "source": [
    "<!--英文标记开始-->\n",
    "We now dissect the control statement example. The control statement begins with an`if`, followed by the expression to check, followed by '`:`'"
   ]
  },
  {
   "cell_type": "code",
   "execution_count": null,
   "metadata": {},
   "outputs": [],
   "source": [
    "if x > 0.0:"
   ]
  },
  {
   "cell_type": "markdown",
   "metadata": {},
   "source": [
    "Below that is a block of code, indented by four spaces, that is executed if the check (`x > 0.0`) is true:"
   ]
  },
  {
   "cell_type": "code",
   "execution_count": null,
   "metadata": {},
   "outputs": [],
   "source": [
    "print('Initial x is greater than zero')\n",
    "x -= 20.0"
   ]
  },
  {
   "cell_type": "markdown",
   "metadata": {},
   "source": [
    "and in which case the program will then move beyond the end of the control statement. If the check evaluates to false, then the`elif`(else if) check"
   ]
  },
  {
   "cell_type": "code",
   "execution_count": null,
   "metadata": {},
   "outputs": [],
   "source": [
    "elif x < 0.0:\n",
    "    print('Initial x is less than zero')\n",
    "    x += 21.0"
   ]
  },
  {
   "cell_type": "markdown",
   "metadata": {},
   "source": [
    "is performed, and if true '`print('x is less than zero')`' is executed and the control block is exited. The code following the`else`statement is executed"
   ]
  },
  {
   "cell_type": "code",
   "execution_count": null,
   "metadata": {},
   "outputs": [],
   "source": [
    "else:\n",
    "    print('Initial x is not less than zero and not greater than zero, therefore it must be zero')"
   ]
  },
  {
   "cell_type": "markdown",
   "metadata": {},
   "source": [
    "if none of the preceding statements were true.\n",
    "<!--英文标记结束-->"
   ]
  },
  {
   "cell_type": "markdown",
   "metadata": {},
   "source": [
    "我们现在剖析控制语句示例。控制语句以 `if` 开头，后跟要检查的表达式，后跟冒号'`:`'"
   ]
  },
  {
   "cell_type": "code",
   "execution_count": null,
   "metadata": {},
   "outputs": [],
   "source": [
    "if x > 0.0:"
   ]
  },
  {
   "cell_type": "markdown",
   "metadata": {},
   "source": [
    "下面是一个代码块，缩进四个空格，如果检查（`x> 0.0`）为真，则执行："
   ]
  },
  {
   "cell_type": "code",
   "execution_count": null,
   "metadata": {},
   "outputs": [],
   "source": [
    "print('Initial x is greater than zero')\n",
    "x -= 20.0"
   ]
  },
  {
   "cell_type": "markdown",
   "metadata": {},
   "source": [
    "在这种情况下，程序将移动控制语句的结尾之后。如果检查结果为 false，那么 `elif`（else if）检查"
   ]
  },
  {
   "cell_type": "code",
   "execution_count": null,
   "metadata": {},
   "outputs": [],
   "source": [
    "elif x < 0.0:\n",
    "    print('Initial x is less than zero')\n",
    "    x += 21.0"
   ]
  },
  {
   "cell_type": "markdown",
   "metadata": {},
   "source": [
    "如果为真，则执行'`print('x is less than zero')`'，并退出控制块。最后，如果前面的陈述都不是真的，则执行 `else` 语句后面的代码"
   ]
  },
  {
   "cell_type": "code",
   "execution_count": null,
   "metadata": {},
   "outputs": [],
   "source": [
    "else:\n",
    "    print('Initial x is not less than zero and not greater than zero, therefore it must be zero')"
   ]
  },
  {
   "cell_type": "markdown",
   "metadata": {},
   "source": [
    "<!--英文标记开始-->\n",
    "<font size=4 weight=600 >Example: currency trading</font>"
   ]
  },
  {
   "cell_type": "markdown",
   "metadata": {},
   "source": [
    "A currency trader makes a commission by selling US dollars to travellers at a rate below the market rate. The mark-down multiplier they apply is show below.\n",
    "<!--英文标记结束-->"
   ]
  },
  {
   "cell_type": "markdown",
   "metadata": {},
   "source": [
    "<font size=4 weight=600 >示例：货币兑换</font>"
   ]
  },
  {
   "cell_type": "markdown",
   "metadata": {},
   "source": [
    "货币兑换商通过以低于市场利率的价格向旅行者出售美元来赚取佣金。它们适用的减记乘数如下所示。"
   ]
  },
  {
   "cell_type": "markdown",
   "metadata": {},
   "source": [
    "| 数量 (GBP) |reduction on market rate |\n",
    "|--------------------------------------------|-------------------------|\n",
    "| Less than $100$ | 0.9 |\n",
    "| From $100$ and less than $1,000$ | 0.925 |\n",
    "| From $1,000$ and less than $10,000$ | 0.95 |\n",
    "| From $10,000$ and less than $100,000$ | 0.97 |\n",
    "| Over $100,000$ | 0.98 |"
   ]
  },
  {
   "cell_type": "markdown",
   "metadata": {},
   "source": [
    "<!--英文标记开始-->\n",
    "The currency trader incurs extra costs for handling cash over electronic transactions, so for cash transactions they retain an extra 10% after conversion."
   ]
  },
  {
   "cell_type": "markdown",
   "metadata": {},
   "source": [
    "At the current market rate 1 GBP is 1.33153 USD.\n",
    "<!--英文标记结束-->"
   ]
  },
  {
   "cell_type": "markdown",
   "metadata": {},
   "source": [
    "货币兑换商用电子交易处理现金而产生额外费用，因此对于现金交易，他们在转换后额外收取 10％。"
   ]
  },
  {
   "cell_type": "markdown",
   "metadata": {},
   "source": [
    "按当前市场价格 1 英镑是 1.33153 美元。"
   ]
  },
  {
   "cell_type": "code",
   "execution_count": 18,
   "metadata": {},
   "outputs": [
    {
     "name": "stdout",
     "output_type": "stream",
     "text": [
      "Amount in GBP sold: 15600.05\n",
      "Amount in USD purchased: 18133.898885284503\n",
      "Effective rate: 1.1624256900000003\n"
     ]
    }
   ],
   "source": [
    "GBP = 15600.05 # The amount in GBP to be changed into USD\n",
    "cash = True # True if selling cash, otherwise False\n",
    "\n",
    "market_rate = 1.33153 # 1 GBP is worth this many dollars at the market rate\n",
    "\n",
    "## Apply the appropriate reduction depending on the amount being sold\n",
    "if GBP < 100:\n",
    "    USD = 0.9*market_rate*GBP\n",
    "elif GBP < 1000:\n",
    "    USD = 0.925*market_rate*GBP\n",
    "elif GBP < 10000:\n",
    "    USD = 0.95*market_rate*GBP\n",
    "elif GBP < 100000:\n",
    "    USD = 0.97*market_rate*GBP\n",
    "else:\n",
    "    USD = 0.98*market_rate*GBP\n",
    "\n",
    "if cash:\n",
    "    USD *= 0.9 # recall that this is shorthand for USD = 0.9*USD\n",
    "\n",
    "print(\"Amount in GBP sold:\", GBP)\n",
    "print(\"Amount in USD purchased:\", USD)\n",
    "print(\"Effective rate:\", USD/GBP)"
   ]
  },
  {
   "cell_type": "markdown",
   "metadata": {},
   "source": [
    "<!--英文标记开始-->\n",
    "### `for`loops"
   ]
  },
  {
   "cell_type": "markdown",
   "metadata": {},
   "source": [
    "A`for`loop is a block that repeats an operation a specified number of times (loops). The concept is rich, but we start with the simplest and most common usage:\n",
    "<!--英文标记结束-->"
   ]
  },
  {
   "cell_type": "markdown",
   "metadata": {},
   "source": [
    "### `for` 循环"
   ]
  },
  {
   "cell_type": "markdown",
   "metadata": {},
   "source": [
    "`for` 循环是一个重复操作指定次数（循环）的块。这个概念很丰富，但我们从最简单和最常见的用法开始："
   ]
  },
  {
   "cell_type": "code",
   "execution_count": 19,
   "metadata": {},
   "outputs": [
    {
     "name": "stdout",
     "output_type": "stream",
     "text": [
      "----\n",
      "0 0\n",
      "----\n",
      "1 1\n",
      "----\n",
      "2 4\n",
      "----\n",
      "3 9\n"
     ]
    }
   ],
   "source": [
    "for n in range(4):\n",
    "    print(\"----\")\n",
    "    print(n, n**2)"
   ]
  },
  {
   "cell_type": "markdown",
   "metadata": {},
   "source": [
    "<!--英文标记开始-->\n",
    "The above executes 4 loops, over the integers 0, 1, 2 and 3. The statement"
   ]
  },
  {
   "cell_type": "code",
   "execution_count": null,
   "metadata": {},
   "outputs": [],
   "source": [
    "for n in range(4):"
   ]
  },
  {
   "cell_type": "markdown",
   "metadata": {},
   "source": [
    "says that we want to loop over four integers, and by default it starts from zero\n",
    "(see https://docs.python.org/3/library/stdtypes.html#range for the documentation for`range`).\n",
    "The value of`n`is incremented in each loop iteration. The code we want to execute inside the loop is indented four spaces:"
   ]
  },
  {
   "cell_type": "code",
   "execution_count": null,
   "metadata": {},
   "outputs": [],
   "source": [
    "print(\"----\")\n",
    "print(n, n**2)"
   ]
  },
  {
   "cell_type": "markdown",
   "metadata": {},
   "source": [
    "The loop starts from zero and does not include 4 -`range(4)`is a shortcut for`range(0, 4)`. We can change the starting value if we need to:\n",
    "<!--英文标记结束-->"
   ]
  },
  {
   "cell_type": "markdown",
   "metadata": {},
   "source": [
    "上面执行 4 个循环，遍及整数 0,1,2 和 3. 语句"
   ]
  },
  {
   "cell_type": "code",
   "execution_count": null,
   "metadata": {},
   "outputs": [],
   "source": [
    "for n in range(4):"
   ]
  },
  {
   "cell_type": "markdown",
   "metadata": {},
   "source": [
    "说名我们想要循环四个整数，默认情况下它从零开始\n",
    "（有关 `range` 的文档，请参阅 <https://docs.python.org/3/library/stdtypes.html#range>）。\n",
    "在每次循环迭代中，“n” 的值递增。我们想在循环中执行的代码缩进了四个空格："
   ]
  },
  {
   "cell_type": "code",
   "execution_count": 23,
   "metadata": {},
   "outputs": [
    {
     "name": "stdout",
     "output_type": "stream",
     "text": [
      "----\n",
      "9 81\n"
     ]
    }
   ],
   "source": [
    "print(\"----\")\n",
    "print(n, n**2)"
   ]
  },
  {
   "cell_type": "markdown",
   "metadata": {},
   "source": [
    "循环从零开始，不包括 4 -`range(4)` 是 `range（0,4）` 的简写。如果需要，我们可以更改起始值："
   ]
  },
  {
   "cell_type": "code",
   "execution_count": 22,
   "metadata": {},
   "outputs": [
    {
     "name": "stdout",
     "output_type": "stream",
     "text": [
      "-2\n",
      "-1\n",
      "0\n",
      "1\n",
      "2\n"
     ]
    }
   ],
   "source": [
    "for i in range(-2, 3):\n",
    "    print(i)"
   ]
  },
  {
   "cell_type": "markdown",
   "metadata": {},
   "source": [
    "<!--英文标记开始-->\n",
    "The loop starts at -2, but does not include 3. If we want to step by three rather than one:\n",
    "<!--英文标记结束-->"
   ]
  },
  {
   "cell_type": "markdown",
   "metadata": {},
   "source": [
    "循环从-2 开始，但不包括 3."
   ]
  },
  {
   "cell_type": "markdown",
   "metadata": {},
   "source": [
    "如果我们想要以 3 步位步长进行循环而不是 1 步："
   ]
  },
  {
   "cell_type": "code",
   "execution_count": 21,
   "metadata": {},
   "outputs": [
    {
     "name": "stdout",
     "output_type": "stream",
     "text": [
      "0\n",
      "3\n",
      "6\n",
      "9\n"
     ]
    }
   ],
   "source": [
    "for n in range(0, 10, 3):\n",
    "    print(n)"
   ]
  },
  {
   "cell_type": "markdown",
   "metadata": {},
   "source": [
    "<!--英文标记开始-->\n",
    "<font size=4 weight=600 >Example: conversion table from degrees Fahrenheit to degrees Celsius</font>"
   ]
  },
  {
   "cell_type": "markdown",
   "metadata": {},
   "source": [
    "We can use a`for`loop to create a conversion table from degrees Fahrenheit ($T_F$) to degrees Celsius ($T_c$), using the formula:"
   ]
  },
  {
   "cell_type": "markdown",
   "metadata": {},
   "source": [
    "$$\n",
    "T_c = 5(T_f - 32)/9\n",
    "$$"
   ]
  },
  {
   "cell_type": "markdown",
   "metadata": {},
   "source": [
    "Computing the conversion from -100 F to 200 F in steps of 20 F (not including 200 F):\n",
    "<!--英文标记结束-->"
   ]
  },
  {
   "cell_type": "markdown",
   "metadata": {},
   "source": [
    "<font size=4 weight=600 >示例：从华氏度到摄氏度的转换表</font>"
   ]
  },
  {
   "cell_type": "markdown",
   "metadata": {},
   "source": [
    "我们可以使用 `for` 循环创建一个从华氏度（$ T_F $）到摄氏度（$ T_c $）的转换表，使用以下公式："
   ]
  },
  {
   "cell_type": "markdown",
   "metadata": {},
   "source": [
    "$$\n",
    "T_c = 5（T_f - 32）/ 9\n",
    "$$"
   ]
  },
  {
   "cell_type": "markdown",
   "metadata": {},
   "source": [
    "计算从-100 F 到 200 F 的转换，步长为 20 F（不包括 200 F）："
   ]
  },
  {
   "cell_type": "code",
   "execution_count": 24,
   "metadata": {},
   "outputs": [
    {
     "name": "stdout",
     "output_type": "stream",
     "text": [
      "T_f, T_c\n",
      "-100 -73.33333333333333\n",
      "-80 -62.22222222222222\n",
      "-60 -51.111111111111114\n",
      "-40 -40.0\n",
      "-20 -28.88888888888889\n",
      "0 -17.77777777777778\n",
      "20 -6.666666666666667\n",
      "40 4.444444444444445\n",
      "60 15.555555555555555\n",
      "80 26.666666666666668\n",
      "100 37.77777777777778\n",
      "120 48.888888888888886\n",
      "140 60.0\n",
      "160 71.11111111111111\n",
      "180 82.22222222222223\n"
     ]
    }
   ],
   "source": [
    "print(\"T_f, T_c\")\n",
    "for Tf in range(-100, 200, 20):\n",
    "    print(Tf, (Tf - 32)*5/9)"
   ]
  },
  {
   "cell_type": "markdown",
   "metadata": {},
   "source": [
    "<!--英文标记开始-->\n",
    "### `while`loops"
   ]
  },
  {
   "cell_type": "markdown",
   "metadata": {},
   "source": [
    "We have seen that`for`loops perform an operation a specified number of times. A`while`loop performs a task while a specified statement is true. For example:\n",
    "<!--英文标记结束-->"
   ]
  },
  {
   "cell_type": "markdown",
   "metadata": {},
   "source": [
    "### `while` 循环"
   ]
  },
  {
   "cell_type": "markdown",
   "metadata": {},
   "source": [
    "我们已经看到 `for` 循环执行指定次数的操作。`while` 循环，则当指定的语句为真时反复执行任务。例如："
   ]
  },
  {
   "cell_type": "code",
   "execution_count": 25,
   "metadata": {},
   "outputs": [
    {
     "name": "stdout",
     "output_type": "stream",
     "text": [
      "Start of while statement\n",
      "-2\n",
      "-1\n",
      "0\n",
      "1\n",
      "2\n",
      "3\n",
      "4\n",
      "End of while statement\n"
     ]
    }
   ],
   "source": [
    "print(\"Start of while statement\")\n",
    "x = -2\n",
    "while x < 5:\n",
    "    print(x)\n",
    "    x += 1 # Increment x\n",
    "print(\"End of while statement\")"
   ]
  },
  {
   "cell_type": "markdown",
   "metadata": {},
   "source": [
    "<!--英文标记开始-->\n",
    "The body of the`while`statement, which follows the`while`statement and is indented four spaces, is executed and repeated until`x < 5`is`False`."
   ]
  },
  {
   "cell_type": "markdown",
   "metadata": {},
   "source": [
    "It can be quite easy to crash your computer using a`while`loop. E.g.,"
   ]
  },
  {
   "cell_type": "code",
   "execution_count": null,
   "metadata": {},
   "outputs": [],
   "source": [
    "#该代码块将无限循环，可点击“重启阅读器”终止代码运行\n",
    "x = -2\n",
    "while x < 5:\n",
    "    print(x)"
   ]
  },
  {
   "cell_type": "markdown",
   "metadata": {},
   "source": [
    "will continue indefinitely since`x < 5 == False`will never be satisfied. This is known as an *infinite loop*. It is usually good practice to add checks to avoid getting stuck in an infinite loop, e.g. specify a maximum number of permitted loops."
   ]
  },
  {
   "cell_type": "markdown",
   "metadata": {},
   "source": [
    "The above example could have been implemented using a`for`loop and a`for`loop would be preferred in this case. The following is an example of where a`while`is appropriate:\n",
    "<!--英文标记结束-->"
   ]
  },
  {
   "cell_type": "markdown",
   "metadata": {},
   "source": [
    "`while` 语句的主体遵循 `while` 语句并缩进四个空格，执行并重复直到 `x <5` 为 `False`。"
   ]
  },
  {
   "cell_type": "markdown",
   "metadata": {},
   "source": [
    "使用 `while` 循环使计算机崩溃非常容易。例如。，"
   ]
  },
  {
   "cell_type": "code",
   "execution_count": null,
   "metadata": {},
   "outputs": [],
   "source": [
    "#该代码块将无限循环，可点击“重启阅读器”终止代码运行\n",
    "x = -2\n",
    "while x < 5:\n",
    "    print(x)"
   ]
  },
  {
   "cell_type": "markdown",
   "metadata": {},
   "source": [
    "这将无限期地持续下去，因为 `x <5 == False` 永远不会满足。这被称为*无限循环*。通常，最好添加检查以避免卡在无限循环中，例如 指定允许的最大循环数。"
   ]
  },
  {
   "cell_type": "markdown",
   "metadata": {},
   "source": [
    "上面的例子可以使用 `for` 循环实现，在这种情况下，首选 `for` 循环。以下是 “while” 适合的示例："
   ]
  },
  {
   "cell_type": "code",
   "execution_count": 27,
   "metadata": {},
   "outputs": [
    {
     "name": "stdout",
     "output_type": "stream",
     "text": [
      "0.81\n",
      "0.6561000000000001\n",
      "0.43046721000000016\n",
      "0.18530201888518424\n",
      "0.03433683820292518\n",
      "0.001179018457773862\n",
      "1.390084523771456e-06\n"
     ]
    }
   ],
   "source": [
    "x = 0.9\n",
    "while x > 0.001:\n",
    "    # Square x (we could have used the shorthand x *= x)\n",
    "    x = x*x\n",
    "    print(x)"
   ]
  },
  {
   "cell_type": "markdown",
   "metadata": {},
   "source": [
    "<!--英文标记开始-->\n",
    "since we might not know beforehand how many steps are required before`x > 0.001`becomes false."
   ]
  },
  {
   "cell_type": "markdown",
   "metadata": {},
   "source": [
    "If $x \\ge 1$, the above would lead to an infinite loop. To make a code robust, it would be good practice to check that $x < 1$ before entering the`while`loop.\n",
    "<!--英文标记结束-->"
   ]
  },
  {
   "cell_type": "markdown",
   "metadata": {},
   "source": [
    "因为我们可能事先不知道在 “x> 0.001” 变为假之前需要多少步骤。"
   ]
  },
  {
   "cell_type": "markdown",
   "metadata": {},
   "source": [
    "如果$x \\ge 1$，上面会导致无限循环。为了使代码健壮，最好在进入 `while` 循环之前检查$ x <1 $。"
   ]
  },
  {
   "cell_type": "markdown",
   "metadata": {},
   "source": [
    "### `break`,`continue` 和 `pass`"
   ]
  },
  {
   "cell_type": "markdown",
   "metadata": {},
   "source": [
    "#### `break`"
   ]
  },
  {
   "cell_type": "markdown",
   "metadata": {},
   "source": [
    "<!--英文标记开始-->\n",
    "Sometimes we want to break out of a`for`or`while`loop. Maybe in a`for`loop we can check if something is true, and then exit the loop prematurely, e.g.\n",
    "<!--英文标记结束-->"
   ]
  },
  {
   "cell_type": "markdown",
   "metadata": {},
   "source": [
    "有时我们想要打破 `for` 或 `while` 循环。在 `for` 循环中我们可以检查某些东西是否为真，然后提前退出循环，例如"
   ]
  },
  {
   "cell_type": "code",
   "execution_count": 28,
   "metadata": {},
   "outputs": [
    {
     "name": "stdout",
     "output_type": "stream",
     "text": [
      "0\n",
      "1\n",
      "2\n",
      "3\n",
      "4\n",
      "5\n",
      "Time to break out\n"
     ]
    }
   ],
   "source": [
    "for x in range(10):\n",
    "    print(x)\n",
    "    if x == 5:\n",
    "        print(\"Time to break out\")\n",
    "        break"
   ]
  },
  {
   "cell_type": "markdown",
   "metadata": {},
   "source": [
    "<!--英文标记开始-->\n",
    "Below is a program for finding prime numbers that uses a`break`statement. Take some time to understand what it does. It might be helpful to add some print statements to understand the flow.\n",
    "<!--英文标记结束-->"
   ]
  },
  {
   "cell_type": "markdown",
   "metadata": {},
   "source": [
    "下面是一个程序，用于查找使用 `break` 语句的素数。花一些时间来了解它的作用。添加一些打印语句以理解流程可能会有所帮助。"
   ]
  },
  {
   "cell_type": "code",
   "execution_count": 29,
   "metadata": {},
   "outputs": [
    {
     "name": "stdout",
     "output_type": "stream",
     "text": [
      "2\n",
      "3\n",
      "5\n",
      "7\n",
      "11\n",
      "13\n",
      "17\n",
      "19\n",
      "23\n",
      "29\n",
      "31\n",
      "37\n",
      "41\n",
      "43\n",
      "47\n"
     ]
    }
   ],
   "source": [
    "N = 50 # Check numbers up 50 for primes (excludes 50)\n",
    "\n",
    "## Loop over all numbers from 2 to 50 (excluding 50)\n",
    "for n in range(2, N):\n",
    "\n",
    "    # Assume that n is prime\n",
    "    n_is_prime = True\n",
    "\n",
    "    # Check if n can be divided by m, where m ranges from 2 to n (excluding n)\n",
    "    for m in range(2, n):\n",
    "         if n % m == 0: # This is true if the remainder for n/m is equal to zero\n",
    "            # We've found that n is divisable by m, so it can't be a prime number.\n",
    "            # No need to check for more values of m, so set n_is_prime = False and\n",
    "            # exit the 'm' loop.\n",
    "            n_is_prime = False\n",
    "            break\n",
    "\n",
    "    # If n is prime, print to screen\n",
    "    if n_is_prime:\n",
    "        print(n)"
   ]
  },
  {
   "cell_type": "markdown",
   "metadata": {},
   "source": [
    "<!--英文标记开始-->\n",
    "Try modifying the code for finding prime numbers such that it finds the first $N$ prime numbers (since you do not know how many numbers you need to check to find $N$ primes, use a`while`loop).\n",
    "<!--英文标记结束-->"
   ]
  },
  {
   "cell_type": "markdown",
   "metadata": {},
   "source": [
    "尝试修改用于查找素数的代码，以便找到前$ N $个素数（你不知道需要检查多少个数来找到$ N $个素数，因此使用 `while` 循环）。"
   ]
  },
  {
   "cell_type": "markdown",
   "metadata": {},
   "source": [
    "<!--英文标记开始-->\n",
    "#### `continue`"
   ]
  },
  {
   "cell_type": "markdown",
   "metadata": {},
   "source": [
    "Sometimes we want to go prematurely to the next iteration in a loop, skipping the remaining code.\n",
    "For this we use`continue`. Here is an example that loops over 20 numbers (0 to 19) and checks if the number is divisible by 4. If it is divisible by 4 it prints a message before moving to the next value. If it is not divisible by 4 it advances the loop.\n",
    "<!--英文标记结束-->"
   ]
  },
  {
   "cell_type": "markdown",
   "metadata": {},
   "source": [
    "#### `continue`"
   ]
  },
  {
   "cell_type": "markdown",
   "metadata": {},
   "source": [
    "有时我们想要在循环中提前进行下一次迭代，跳过剩下的代码。\n",
    "为此我们使用 `continue`。这是一个循环，检查 20 个数字（0 到 19）是否可被 4 整除的示例。如果它可被 4 整除，则在移动到下一个值之前打印一条消息。如果它不能被 4 整除则推进循环。"
   ]
  },
  {
   "cell_type": "code",
   "execution_count": 30,
   "metadata": {},
   "outputs": [
    {
     "name": "stdout",
     "output_type": "stream",
     "text": [
      "Number is not divisible by 4: 1\n",
      "Number is not divisible by 4: 2\n",
      "Number is not divisible by 4: 3\n",
      "Number is not divisible by 4: 5\n",
      "Number is not divisible by 4: 6\n",
      "Number is not divisible by 4: 7\n",
      "Number is not divisible by 4: 9\n",
      "Number is not divisible by 4: 10\n",
      "Number is not divisible by 4: 11\n",
      "Number is not divisible by 4: 13\n",
      "Number is not divisible by 4: 14\n",
      "Number is not divisible by 4: 15\n",
      "Number is not divisible by 4: 17\n",
      "Number is not divisible by 4: 18\n",
      "Number is not divisible by 4: 19\n"
     ]
    }
   ],
   "source": [
    "for j in range(20):\n",
    "    if j % 4 == 0: # Check remained of j/4\n",
    "        continue # jump to next iteration over j\n",
    "    print(\"Number is not divisible by 4:\", j)"
   ]
  },
  {
   "cell_type": "markdown",
   "metadata": {},
   "source": [
    "<!--英文标记开始-->\n",
    "#### `pass`"
   ]
  },
  {
   "cell_type": "markdown",
   "metadata": {},
   "source": [
    "Sometimes we need a statement that does nothing. It is often used during development where syntactically some code is required but which you have not yet written. For example: <!--英文标记结束-->"
   ]
  },
  {
   "cell_type": "markdown",
   "metadata": {},
   "source": [
    "#### `pass`"
   ]
  },
  {
   "cell_type": "markdown",
   "metadata": {},
   "source": [
    "有时我们需要一个什么都不做的陈述。它通常在开发过程中使用，在语法上需要一些代码，但尚未编写。例如："
   ]
  },
  {
   "cell_type": "code",
   "execution_count": 31,
   "metadata": {},
   "outputs": [
    {
     "name": "stdout",
     "output_type": "stream",
     "text": [
      "25\n",
      "36\n",
      "49\n",
      "64\n",
      "9\n"
     ]
    }
   ],
   "source": [
    "for x in range(10):\n",
    "    if x < 5:\n",
    "        # TODO: implement handling of x < 5 when other cases finished\n",
    "        pass\n",
    "    elif x < 9:\n",
    "        print(x*x)\n",
    "    else:\n",
    "        print(x)"
   ]
  },
  {
   "cell_type": "markdown",
   "metadata": {},
   "source": [
    "<!--英文标记开始-->\n",
    "It can also help readability. Maybe in a program there is nothing to be done, but someone reading the code might reasonably think that something should be done and suspect a bug. Using`pass`says to the reader that it was the programmer's intention that nothing should be done.\n",
    "<!--英文标记结束-->"
   ]
  },
  {
   "cell_type": "markdown",
   "metadata": {},
   "source": [
    "它还有助于提高可读性。也许在一个程序中没有什么可以做的，但是阅读代码的人可能会合理地认为应该做某些事情并怀疑是一个 bug。使用 `pass` 告诉读者，程序员的意图就是什么不做。"
   ]
  },
  {
   "cell_type": "markdown",
   "metadata": {},
   "source": [
    "<!--英文标记开始-->\n",
    "### Infinite loops: cause and guarding against"
   ]
  },
  {
   "cell_type": "markdown",
   "metadata": {},
   "source": [
    "A common bug, especially when using`while`statements, is the [infinite loop](https://en.wikipedia.org/wiki/Infinite_loop). This is when a loop is entered but never terminates (exits).\n",
    "Infinite loops can render a system unresponsive, sometimes requiring a shutdown to restore function."
   ]
  },
  {
   "cell_type": "markdown",
   "metadata": {},
   "source": [
    "It is good practice, espeically when learning, to add guards against infinite loops. For example,\n",
    "<!--英文标记结束-->"
   ]
  },
  {
   "cell_type": "markdown",
   "metadata": {},
   "source": [
    "### 无限循环：原因和防范"
   ]
  },
  {
   "cell_type": "markdown",
   "metadata": {},
   "source": [
    "[无限循环](https://en.wikipedia.org/wiki/Infinite_loop) 是一个常见的 bug，特别是在使用 `while` 语句时容易出现。这是一个循环但永远不会终止（退出）。\n",
    "无限循环可以使系统无响应，有时需要关闭才能恢复功能。"
   ]
  },
  {
   "cell_type": "markdown",
   "metadata": {},
   "source": [
    "增加对无限循环的防范是一种很好的做法，特别是在学习时。例如，"
   ]
  },
  {
   "cell_type": "code",
   "execution_count": 32,
   "metadata": {},
   "outputs": [
    {
     "name": "stdout",
     "output_type": "stream",
     "text": [
      "Loop count exceeded 2000. Exiting\n"
     ]
    }
   ],
   "source": [
    "x = 0.0\n",
    "\n",
    "counter = 0\n",
    "while x < 0.05:\n",
    "\n",
    "    # Guard against infinite loop\n",
    "    counter += 1\n",
    "    if counter > 2000:\n",
    "        print(\"Loop count exceeded 2000. Exiting\")\n",
    "        break"
   ]
  },
  {
   "cell_type": "markdown",
   "metadata": {},
   "source": [
    "## 练习"
   ]
  },
  {
   "cell_type": "markdown",
   "metadata": {},
   "source": [
    "现在完成 [练习 02](Exercises/02%20Exercises.ipynb)"
   ]
  }
 ],
 "metadata": {
  "kernelspec": {
   "display_name": "Python 3",
   "language": "python",
   "name": "python3"
  },
  "language_info": {
   "codemirror_mode": {
    "name": "ipython",
    "version": 3
   },
   "file_extension": ".py",
   "mimetype": "text/x-python",
   "name": "python",
   "nbconvert_exporter": "python",
   "pygments_lexer": "ipython3",
   "version": "3.7.3"
  }
 },
 "nbformat": 4,
 "nbformat_minor": 4
}
