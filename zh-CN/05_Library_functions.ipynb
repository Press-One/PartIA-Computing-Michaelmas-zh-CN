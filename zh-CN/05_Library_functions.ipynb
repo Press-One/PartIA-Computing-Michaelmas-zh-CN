{
 "cells": [
  {
   "cell_type": "markdown",
   "metadata": {},
   "source": [
    "## Introduction"
   ]
  },
  {
   "cell_type": "markdown",
   "metadata": {},
   "source": [
    "A feature of modern programming languages is an extensive library of standard functions. This means that we can make use of standard, well-tested and optimised functions\n",
    "for performing common tasks rather than writing our own. This makes our programs shorter and of higher quality, and in most cases faster."
   ]
  },
  {
   "cell_type": "markdown",
   "metadata": {},
   "source": [
    "### Objectives"
   ]
  },
  {
   "cell_type": "markdown",
   "metadata": {},
   "source": [
    "- Introduce use of standard library functions\n",
    "- Importing and using modules\n",
    "- Introduction to namespaces\n",
    "- Print formatting of floats"
   ]
  },
  {
   "cell_type": "markdown",
   "metadata": {},
   "source": [
    "## 介绍"
   ]
  },
  {
   "cell_type": "markdown",
   "metadata": {},
   "source": [
    "现代编程语言的一个特征是广泛的标准函数库。这意味着我们可以使用标准的，经过良好测试和优化的功能来执行常见任务，而不是编写自己的任务。这使我们的程序更短，质量更高，在大多数情况下更快。"
   ]
  },
  {
   "cell_type": "markdown",
   "metadata": {},
   "source": [
    "### 目标"
   ]
  },
  {
   "cell_type": "markdown",
   "metadata": {},
   "source": [
    "- 介绍标准库函数的使用\n",
    "- 导入和使用模块\n",
    "- 名称空间简介\n",
    "- 打印浮动的格式"
   ]
  },
  {
   "cell_type": "markdown",
   "metadata": {},
   "source": [
    "## The standard library"
   ]
  },
  {
   "cell_type": "markdown",
   "metadata": {},
   "source": [
    "You have already used some standard library types and functions. In previous activities we have used built-in types like`string`and`float`, and the function`abs`for absolute value. We have made use of the standard library function`print`to display to the screen."
   ]
  },
  {
   "cell_type": "markdown",
   "metadata": {},
   "source": [
    "Python has a large standard library. To organise it, most functionality is arranged into 'modules', with each module providing a range of related functions. Before you program a function, check if there is a library function that can perform the task. The Python standard library is documented at https://docs.python.org/3/library/.\n",
    "Search engines are a good way to find library functions, e.g. entering \"Is there a Python function to compute the hyperbolic tangent of a complex number\" into a search engine will take you to the function`cmath.tanh`. Try this link: http://bfy.tw/7aMc."
   ]
  },
  {
   "cell_type": "markdown",
   "metadata": {},
   "source": [
    "## 标准库"
   ]
  },
  {
   "cell_type": "markdown",
   "metadata": {},
   "source": [
    "您已经使用了一些标准库类型和函数。在之前的课程中，我们使用了内置类型，如 `string` 和 `float`，以及函数 `abs` 表示绝对值。我们已经使用标准库函数 `print` 来显示到屏幕上。"
   ]
  },
  {
   "cell_type": "markdown",
   "metadata": {},
   "source": [
    "Python 有一个大型标准库。为了组织它，大多数功能被安排到 “模块” 中，每个模块提供一系列相关功能。在编写函数之前，请检查是否存在可以执行任务的库函数。Python 标准库在 <https://docs.python.org/3/library/> 中有记录。\n",
    "搜索引擎是查找库函数的好方法，例如 在搜索引擎中输入 “是否有用于计算复数的双曲正切值的 Python 函数” 将带您进入函数 `cmath.tanh`。试试这个链接：http://bfy.tw/7aMc（译者注：如果打不开再试试 <http://t.cn/AiY4m6Ac> 或者 http://t.cn/AiY4mKXG）"
   ]
  },
  {
   "cell_type": "markdown",
   "metadata": {},
   "source": [
    "## Other libraries"
   ]
  },
  {
   "cell_type": "markdown",
   "metadata": {},
   "source": [
    "The standard library tools are general purpose and will be available in any Python environment.\n",
    "Specialised tools are usually made available in other libraries (modules). There is a huge range of Python libraries available for specialised problems. We have already used some parts\n",
    "of NumPy (http://www.numpy.org/), which is a specialised library for numerical computation.\n",
    "It provides much the same functionality as MATLAB."
   ]
  },
  {
   "cell_type": "markdown",
   "metadata": {},
   "source": [
    "The simplest way to install a non-standard library is using the command`pip`. From the command line, the library NumPy is installed using:"
   ]
  },
  {
   "cell_type": "code",
   "execution_count": null,
   "metadata": {},
   "outputs": [],
   "source": [
    "pip install numpy"
   ]
  },
  {
   "cell_type": "markdown",
   "metadata": {},
   "source": [
    "and from inside a Jupyter notebook use:"
   ]
  },
  {
   "cell_type": "code",
   "execution_count": null,
   "metadata": {},
   "outputs": [],
   "source": [
    "!pip install numpy"
   ]
  },
  {
   "cell_type": "markdown",
   "metadata": {},
   "source": [
    "NumPy is so commonly used it is probably already installed on computers you will be using.\n",
    "You will see`pip`being used in some later notebooks to install special-purpose tools."
   ]
  },
  {
   "cell_type": "markdown",
   "metadata": {},
   "source": [
    "When developing programs outside of learning exercises,\n",
    "if there is a no standard library module for a problem you are trying to solve,\n",
    "search online for a module before implementing your own."
   ]
  },
  {
   "cell_type": "markdown",
   "metadata": {},
   "source": [
    "## 其他库"
   ]
  },
  {
   "cell_type": "markdown",
   "metadata": {},
   "source": [
    "标准库工具是通用的，可在任何 Python 环境中使用。通常在其他库（模块）中提供专用工具。有大量的 Python 库可用于解决特殊问题。我们已经使用了 NumPy 的一些部分（<http://www.numpy.org/>），这是一个专门的数值计算库。它提供与 MATLAB 相同的功能。"
   ]
  },
  {
   "cell_type": "markdown",
   "metadata": {},
   "source": [
    "安装非标准库的最简单方法是使用命令 `pip`。从命令行，使用以下命令安装库 NumPy："
   ]
  },
  {
   "cell_type": "code",
   "execution_count": null,
   "metadata": {},
   "outputs": [],
   "source": [
    "pip install numpy"
   ]
  },
  {
   "cell_type": "markdown",
   "metadata": {},
   "source": [
    "从 Jupyter 笔记本内部使用："
   ]
  },
  {
   "cell_type": "code",
   "execution_count": null,
   "metadata": {},
   "outputs": [],
   "source": [
    "!pip install numpy"
   ]
  },
  {
   "cell_type": "markdown",
   "metadata": {},
   "source": [
    "NumPy 是如此常用，它可能已经安装在您将使用的计算机上。你会看到 `pip` 在一些后来的笔记本中被用来安装专用工具。"
   ]
  },
  {
   "cell_type": "markdown",
   "metadata": {},
   "source": [
    "在开发学习练习之外的程序时，如果没有标准库模块来解决您要解决的问题，请在实现自己的模块之前在线搜索模块。"
   ]
  },
  {
   "cell_type": "markdown",
   "metadata": {},
   "source": [
    "【译者注：】"
   ]
  },
  {
   "cell_type": "markdown",
   "metadata": {},
   "source": [
    "> * **慎用 pip**\n",
    "> * **慎用 pip**\n",
    "> * **慎用 pip**"
   ]
  },
  {
   "cell_type": "markdown",
   "metadata": {},
   "source": [
    "> 因为 Python 的各个库之间可能有很复杂的依赖关系，比如 A 库的 1.0 版本支持 python 3.5，但不支持 python 3.7，而 B 库需要运行在 A 库的 1.2 版本之上，C 库又需要运行在 A 库的 0.9 版本和 B 库的 1.1 版本，错综复杂，仅仅使用 pip 非常容易造成混乱，如果在本地电脑的混乱，甚至拆掉刚装入的库都很复杂，最终你的电脑**一片狼藉**，恨不得重装了事。"
   ]
  },
  {
   "cell_type": "markdown",
   "metadata": {},
   "source": [
    "> 初学者推荐使用 [anaconda](https://www.anaconda.com/ ) 它已经在一定程度上解决了 python 库依赖性地狱。"
   ]
  },
  {
   "cell_type": "markdown",
   "metadata": {},
   "source": [
    "> 多数在线 jupyter 环境例如 <https://notebooks.azure.com/> 已经预装了 anaconda，利用 anaconda 安装 numpy 库只需要"
   ]
  },
  {
   "cell_type": "markdown",
   "metadata": {},
   "source": [
    "> `!conda install numpy`"
   ]
  },
  {
   "cell_type": "markdown",
   "metadata": {},
   "source": [
    "> 并不是所有的库都又 anaconda 的安装方式，如前所述，有不明白的可以先问问搜索引擎"
   ]
  },
  {
   "cell_type": "markdown",
   "metadata": {},
   "source": [
    "> 最好先把在线的 Jupyter 用得比较熟练，学会用在线 Jupyter 环境中的 `!conda install numpy` 弄懂如何在本地电脑安装 anaconda 之后，再试验到本地电脑上安装其他 python 库，如果是首次安装，甚至可以另外建立一个系统用户之后在进行这样的测试，如果测试失败删掉测试用户即可。"
   ]
  },
  {
   "cell_type": "markdown",
   "metadata": {},
   "source": [
    "> * 注意：学习安装其他 python 库，先用在线 jupyter -> 然后用方便清除的用户测试 -> 多次熟练以后再到自己本地电脑用户上安装。\n",
    "> * 推荐使用 conda 而不是 pip\n",
    "> * **切记 切记 切记**"
   ]
  },
  {
   "cell_type": "markdown",
   "metadata": {},
   "source": [
    "**XUE.cn 练习题**：\n",
    "\n",
    "- [选择题 ★ 使用 pip 工具升级科学计算扩展库 numpy 的完整命令是什么？](https://xue.cn/hub/app/exercise/419)\n",
    "\n",
    "- [选择题 ★ 使用 pip 工具查看当前已安装的 Python 扩展库的完整命令是什么？](https://xue.cn/hub/app/exercise/420)\n",
    "\n",
    "- [判断题 ★ pip 命令也支持扩展名为 .whl 的文件直接安装 Python 扩展库。这种说法正确吗？](https://xue.cn/hub/app/exercise/871)\n",
    "\n",
    "- [判断题 ★ 安装 Python 扩展库时只能使用 pip 工具在线安装，如果安装不成功就没有别的办法了。这种说法正确吗？](https://xue.cn/hub/app/exercise/1094)"
   ]
  },
  {
   "cell_type": "markdown",
   "metadata": {},
   "source": [
    "## Using library functions:'math'example"
   ]
  },
  {
   "cell_type": "markdown",
   "metadata": {},
   "source": [
    "To use a function from a module we need to make it available in our program.\n",
    "This is called 'importing'. We have done this in previous notebooks with the`math`module, but without explanation. The process is explained below."
   ]
  },
  {
   "cell_type": "markdown",
   "metadata": {},
   "source": [
    "The`math`module (https://docs.python.org/3/library/math.html) provides a wide range of mathematical functions. For example, to compute the square root of a number, we do:"
   ]
  },
  {
   "cell_type": "markdown",
   "metadata": {},
   "source": [
    "## 使用库函数：'math' 示例"
   ]
  },
  {
   "cell_type": "markdown",
   "metadata": {},
   "source": [
    "要使用模块中的函数，我们需要在程序中使用它。这称为 “导入”。我们在以前的笔记本中用 `math` 模块完成了这个，但没有解释。该过程解释如下。"
   ]
  },
  {
   "cell_type": "markdown",
   "metadata": {},
   "source": [
    "`math` 模块（<https://docs.python.org/3/library/math.html>）提供了广泛的数学函数。例如，要计算数字的平方根，我们可以："
   ]
  },
  {
   "cell_type": "code",
   "execution_count": 1,
   "metadata": {},
   "outputs": [
    {
     "name": "stdout",
     "output_type": "stream",
     "text": [
      "1.4142135623730951\n"
     ]
    }
   ],
   "source": [
    "import math\n",
    "\n",
    "x = 2.0\n",
    "x = math.sqrt(x)\n",
    "print(x)"
   ]
  },
  {
   "cell_type": "markdown",
   "metadata": {},
   "source": [
    "Dissecting the above code block, the line"
   ]
  },
  {
   "cell_type": "code",
   "execution_count": null,
   "metadata": {},
   "outputs": [],
   "source": [
    "import math"
   ]
  },
  {
   "cell_type": "markdown",
   "metadata": {},
   "source": [
    "makes the math module available in our program. It is good style to put all`import`statements at the top of a file (or at the top of a cell when using a Jupyter notebook)."
   ]
  },
  {
   "cell_type": "markdown",
   "metadata": {},
   "source": [
    "The function call"
   ]
  },
  {
   "cell_type": "code",
   "execution_count": null,
   "metadata": {},
   "outputs": [],
   "source": [
    "x = math.sqrt(x)"
   ]
  },
  {
   "cell_type": "markdown",
   "metadata": {},
   "source": [
    "says 'use the`sqrt`function from the`math`module to compute the square root'."
   ]
  },
  {
   "cell_type": "markdown",
   "metadata": {},
   "source": [
    "By prefixing`sqrt`with`math`, we are using a *namespace* (which in this case is`math`).\n",
    "This makes clear precisely which`sqrt`function we want to use - there could be more than one`sqrt`function available."
   ]
  },
  {
   "cell_type": "markdown",
   "metadata": {},
   "source": [
    "> *Namespaces:* The prefix '`math`' indicates which '`sqrt`' function we want to use. This\n",
    "might seem pedantic, but in practice there are often different algorithms for performing the same or similar operation. They might vary in speed and accuracy. In some applications we might need an accurate (but slow) method for computing the square root, while for other applications we might need speed with a compromise on accuracy. But, if two functions have the same name and are not distinguished by a name space, we have a *name clash*."
   ]
  },
  {
   "cell_type": "markdown",
   "metadata": {},
   "source": [
    "> In a large program, two developers might choose the same name for two functions that perform similar but slightly different tasks. If these functions are in different modules, there will be no name clash since the module name provides a 'namespace' - a prefix that provides a distinction between the two functions. Namespaces are extremely helpful for multi-author programs. A weakness of older languages, like C and Fortran, is that they do not support namespaces. Most modern languages do support namespaces."
   ]
  },
  {
   "cell_type": "markdown",
   "metadata": {},
   "source": [
    "We can import specific functions from a module, e.g. importing only the`sqrt`function:"
   ]
  },
  {
   "cell_type": "markdown",
   "metadata": {},
   "source": [
    "解释分析上面的代码块，行"
   ]
  },
  {
   "cell_type": "code",
   "execution_count": null,
   "metadata": {},
   "outputs": [],
   "source": [
    "import math"
   ]
  },
  {
   "cell_type": "markdown",
   "metadata": {},
   "source": [
    "使我们的程序中的数学模块可用。将所有 `import` 语句放在文件的顶部（或者在使用 Jupyter 笔记本时放在单元格的顶部）是一种很好的方式。"
   ]
  },
  {
   "cell_type": "markdown",
   "metadata": {},
   "source": [
    "函数调用"
   ]
  },
  {
   "cell_type": "code",
   "execution_count": null,
   "metadata": {},
   "outputs": [],
   "source": [
    "x = math.sqrt(x)"
   ]
  },
  {
   "cell_type": "markdown",
   "metadata": {},
   "source": [
    "说'使用 `math` 模块中的 `sqrt` 函数来计算平方根'。"
   ]
  },
  {
   "cell_type": "markdown",
   "metadata": {},
   "source": [
    "通过在 `sqrt` 前加上 `math`，我们使用了 *命名空间*（在本例中是 `math`）。\n",
    "这清楚地表明我们想要使用哪个 `sqrt` 函数 - 可以有多个 `sqrt` 函数。"
   ]
  },
  {
   "cell_type": "markdown",
   "metadata": {},
   "source": [
    "> *命名空间：* 前缀'`math`'表示我们想要使用哪个'`sqrt`'函数。这可能看起来很迂腐，但实际上通常有不同的算法来执行相同或类似的操作。它们的速度和准确度可能不同。在某些应用程序中，我们可能需要一种准确（但速度慢）的方法来计算平方根，而对于其他应用程序，我们可能需要速度并且在准确性上有所妥协。但是，如果两个函数具有相同的名称并且没有通过名称空间区分，那么我们会遇到一个*命名冲突*。"
   ]
  },
  {
   "cell_type": "markdown",
   "metadata": {},
   "source": [
    "> 在大型程序中，两个开发人员可能会为执行类似但略有不同的任务的两个函数选择相同的名称。如果这些函数位于不同的模块中，则不会发生名称冲突，因为模块名称提供了 “命名空间” - 一个前缀，用于区分这两个函数。命名空间对多作者程序非常有用。旧语言（如 C 和 Fortran）的弱点是它们不支持名称空间。大多数现代语言都支持命名空间。"
   ]
  },
  {
   "cell_type": "markdown",
   "metadata": {},
   "source": [
    "我们可以从模块导入特定的功能，例如仅导入 `sqrt` 函数："
   ]
  },
  {
   "cell_type": "code",
   "execution_count": 2,
   "metadata": {},
   "outputs": [
    {
     "name": "stdout",
     "output_type": "stream",
     "text": [
      "1.4142135623730951\n"
     ]
    }
   ],
   "source": [
    "from math import sqrt\n",
    "\n",
    "x = 2.0\n",
    "x = sqrt(x)\n",
    "print(x)"
   ]
  },
  {
   "cell_type": "markdown",
   "metadata": {},
   "source": [
    "This way, we are importing (making available) only the`sqrt`function from the`math`module (the`math`module has a large number of functions)."
   ]
  },
  {
   "cell_type": "markdown",
   "metadata": {},
   "source": [
    "We can even choose to re-name functions that we import:"
   ]
  },
  {
   "cell_type": "markdown",
   "metadata": {},
   "source": [
    "这样，我们只从 `math` 模块导入 `sqrt` 函数（`math` 模块有很多函数）。"
   ]
  },
  {
   "cell_type": "markdown",
   "metadata": {},
   "source": [
    "我们甚至可以选择重命名我们导入的函数："
   ]
  },
  {
   "cell_type": "code",
   "execution_count": 3,
   "metadata": {},
   "outputs": [
    {
     "name": "stdout",
     "output_type": "stream",
     "text": [
      "1.4142135623730951\n"
     ]
    }
   ],
   "source": [
    "from math import sqrt as some_math_function\n",
    "\n",
    "x = 2.0\n",
    "x = some_math_function(x)\n",
    "print(x)"
   ]
  },
  {
   "cell_type": "markdown",
   "metadata": {},
   "source": [
    "Renaming functions at import can be helpful to keep code short, and we will see below it can be useful for switching between different functions.\n",
    "However the above choice of name is very poor practice - the name '`some_math_function`' is not descriptive.\n",
    "Below is a more sensible example."
   ]
  },
  {
   "cell_type": "markdown",
   "metadata": {},
   "source": [
    "在导入时重命名函数有助于保持代码简短，我们将在下面看到它可以用于在不同函数之间切换。\n",
    "但是上面选择的名称是非常糟糕的做法 - 名称 '`some_math_function`' 不具有描述性。\n",
    "下面是一个更明智的例子。"
   ]
  },
  {
   "cell_type": "markdown",
   "metadata": {},
   "source": [
    "Say we program a function that computes the roots of a quadratic function using the quadratic formula:"
   ]
  },
  {
   "cell_type": "markdown",
   "metadata": {},
   "source": [
    "假设我们使用求根公式编写一个计算二次函数根的函数："
   ]
  },
  {
   "cell_type": "code",
   "execution_count": 4,
   "metadata": {},
   "outputs": [
    {
     "name": "stdout",
     "output_type": "stream",
     "text": [
      "-0.10435607626104004 -2.3956439237389597\n"
     ]
    }
   ],
   "source": [
    "from math import sqrt as square_root\n",
    "\n",
    "def compute_roots(a, b, c):\n",
    "    \"Compute roots of the polynomial f(x) = ax^2 + bx + c\"\n",
    "\n",
    "    root0 = (-b + square_root(b*b - 4*a*c))/(2*a)\n",
    "    root1 = (-b - square_root(b*b - 4*a*c))/(2*a)\n",
    "\n",
    "    return root0, root1\n",
    "\n",
    "## Compute roots of f = 4x^2 + 10x + 1\n",
    "root0, root1 = compute_roots(4, 10, 1)\n",
    "print(root0, root1)"
   ]
  },
  {
   "cell_type": "markdown",
   "metadata": {},
   "source": [
    "**XUE.cn 练习题**：\n",
    "\n",
    "- [选择题 ★ math 模块的 floor 方法](https://xue.cn/hub/app/exercise/264)\n",
    "\n",
    "- [选择题 ★★★ Python 标准库 math 中用来计算平方根的函数是什么？](https://xue.cn/hub/app/exercise/416)\n",
    "\n",
    "- [选择题 ★★ math 已导入，表达式 eval(\"math.sqrt(9)\") 的值是什么？](https://xue.cn/hub/app/exercise/639)\n",
    "\n",
    "- [选择题 ★★ math 已导入，表达式 `eval('math.sqrt(3**2+4**2)')` 的值是什么？](https://xue.cn/hub/app/exercise/640)\n",
    "\n",
    "- [选择题 ★★ 假设 math 标准库已导入，那么表达式 eval('math.sqrt(4)') 的值是什么？](https://xue.cn/hub/app/exercise/643)\n",
    "\n",
    "- [判断题 ★ 执行语句 from math import sin 之后，可以直接使用 sin() 函数，例如 sin(3)。这种说法正确吗？](https://xue.cn/hub/app/exercise/1056)\n",
    "\n",
    "- [判断题 ★ 如果只需要 math 模块中的 sin() 函数，建议使用 from math import sin 来导入，而不要使用 import math 导入整个模块。这种说法正确吗？](https://xue.cn/hub/app/exercise/1096)"
   ]
  },
  {
   "cell_type": "markdown",
   "metadata": {},
   "source": [
    "The above is fine as long as the polynomial has real roots. However, the function`math.sqrt`\n",
    "will give an error (technically, it will 'raise an exception') if a negative argument is passed to it. This is to stop naive programmers from making silly mistakes."
   ]
  },
  {
   "cell_type": "markdown",
   "metadata": {},
   "source": [
    "We do know about complex numbers, so we want to compute complex roots. The Python module`cmath`provides functions for complex numbers. If we were to use`cmath.sqrt`to compute the square root, our function would support complex roots. We do this by importing the`cmath.sqrt`functions as`square_root`:"
   ]
  },
  {
   "cell_type": "markdown",
   "metadata": {},
   "source": [
    "只要多项式具有实根，上述计算过程就可以了。但是，如果向其传递负参数，函数 `math.sqrt` 将给出错误（技术上，它将'引发异常'）。这是为了阻止天真的程序员犯下愚蠢的错误。"
   ]
  },
  {
   "cell_type": "markdown",
   "metadata": {},
   "source": [
    "我们知道复数，所以我们想要计算复数根。Python 模块 `cmath` 提供复数的函数。如果我们使用 `cmath.sqrt` 来计算平方根，我们的函数将支持复数根。我们通过将 `cmath.sqrt` 函数导入为 `square_root` 来实现这一点："
   ]
  },
  {
   "cell_type": "code",
   "execution_count": 5,
   "metadata": {},
   "outputs": [
    {
     "name": "stdout",
     "output_type": "stream",
     "text": [
      "(-0.125+0.09682458365518543j) (-0.125-0.09682458365518543j)\n",
      "(-0.10435607626104004+0j) (-2.3956439237389597+0j)\n"
     ]
    }
   ],
   "source": [
    "## Use the function from cmath as square_root to compute the square root\n",
    "## (this will replace the previously imported sqrt function)\n",
    "from cmath import sqrt as square_root\n",
    "\n",
    "## Compute roots (roots will be complex in this case)\n",
    "root0, root1 = compute_roots(40, 10, 1)\n",
    "print(root0, root1)\n",
    "\n",
    "## Compute roots (roots will be real in this case, but cmath.sqrt always returns a complex type)\n",
    "root0, root1 = compute_roots(4, 10, 1)\n",
    "print(root0, root1)"
   ]
  },
  {
   "cell_type": "markdown",
   "metadata": {},
   "source": [
    "The function now works for all cases because`square_root`is now using`cmath.sqrt`. Note that`cmath.sqrt`always returns a complex number type, even when the complex part is zero."
   ]
  },
  {
   "cell_type": "markdown",
   "metadata": {},
   "source": [
    "该函数现在适用于所有情况，因为 `square_root` 现在使用的是 `cmath.sqrt`。请注意，`cmath.sqrt` 始终返回复数类型，即使复数部分为零也是如此。"
   ]
  },
  {
   "cell_type": "markdown",
   "metadata": {},
   "source": [
    "## String functions and string formatting"
   ]
  },
  {
   "cell_type": "markdown",
   "metadata": {},
   "source": [
    "A standard function that we have used since the beginning is '`print`'. This function turns arguments into a string and displays the string to the screen. So far, we have only printed simple variables and relied mostly on the default conversions to a string for printing to the screen (the exception was printing the floating point representation of 0.1, where we needed to specify the number of significant digits to see the inexact representation in binary)."
   ]
  },
  {
   "cell_type": "markdown",
   "metadata": {},
   "source": [
    "## 字符串函数和字符串格式"
   ]
  },
  {
   "cell_type": "markdown",
   "metadata": {},
   "source": [
    "我们从一开始就使用的标准函数是 “print”。此函数将参数转换为字符串并将字符串显示在屏幕上。到目前为止，我们只打印了简单的变量，主要依赖于默认转换为字符串以便打印到屏幕上（例外情况是打印浮点表示为 0.1，我们需要指定有效数字的数量以查看不精确的数字）。"
   ]
  },
  {
   "cell_type": "markdown",
   "metadata": {},
   "source": [
    "### Formatting"
   ]
  },
  {
   "cell_type": "markdown",
   "metadata": {},
   "source": [
    "We can control how strings are formatted and displayed. Below is an example of inserting a string variable and a number variable into a string of characters:"
   ]
  },
  {
   "cell_type": "markdown",
   "metadata": {},
   "source": [
    "### 格式化"
   ]
  },
  {
   "cell_type": "markdown",
   "metadata": {},
   "source": [
    "我们可以控制字符串的格式和显示方式。下面是将字符串变量和数字变量插入字符串的示例："
   ]
  },
  {
   "cell_type": "code",
   "execution_count": 6,
   "metadata": {},
   "outputs": [
    {
     "name": "stdout",
     "output_type": "stream",
     "text": [
      "My name is Amber and I am 19 years old.\n",
      "My name is Ashley and I am 21 years old.\n"
     ]
    }
   ],
   "source": [
    "## Format a string with name and age\n",
    "name = \"Amber\"\n",
    "age = 19\n",
    "text_string = \"My name is {} and I am {} years old.\".format(name, age)\n",
    "\n",
    "## Print to screen\n",
    "print(text_string)\n",
    "\n",
    "## Short-cut for printing without assignment\n",
    "name = \"Ashley\"\n",
    "age = 21\n",
    "print(\"My name is {} and I am {} years old.\".format(name, age))"
   ]
  },
  {
   "cell_type": "markdown",
   "metadata": {},
   "source": [
    "For floating-point numbers, we often want to control the formatting, and in particular the number of significant figures displayed. Using the display of $\\pi$ as an example:"
   ]
  },
  {
   "cell_type": "markdown",
   "metadata": {},
   "source": [
    "对于浮点数，我们通常希望控制格式，特别是显示的有效数字的数量。使用$\\pi$的显示作为示例："
   ]
  },
  {
   "cell_type": "code",
   "execution_count": 7,
   "metadata": {},
   "outputs": [
    {
     "name": "stdout",
     "output_type": "stream",
     "text": [
      "The value of π using the default formatting is: 3.141592653589793\n",
      "The value of π to 5 significant figures is: 3.1416\n",
      "The value of π to 8 significant figures is: 3.1415927\n",
      "The value of π to 20 significant figures and using scientific notation is: 3.14159265358979311600e+00\n"
     ]
    }
   ],
   "source": [
    "## Import math module to get access to math.pi\n",
    "import math\n",
    "\n",
    "## Default formatting\n",
    "print(\"The value of π using the default formatting is: {}\".format(math.pi))\n",
    "\n",
    "## Control number of significant figures in formatting\n",
    "print(\"The value of π to 5 significant figures is: {:.5}\".format(math.pi))\n",
    "print(\"The value of π to 8 significant figures is: {:.8}\".format(math.pi))\n",
    "print(\"The value of π to 20 significant figures and using scientific notation is: {:.20e}\".format(math.pi))"
   ]
  },
  {
   "cell_type": "markdown",
   "metadata": {},
   "source": [
    "There are many more ways in which float formatting can be controlled - search online if you want to format a float in a particular way."
   ]
  },
  {
   "cell_type": "markdown",
   "metadata": {},
   "source": [
    "还有许多方法可以控制浮点格式化 - 如果要以特定方式格式化浮点数，请在线搜索。"
   ]
  },
  {
   "cell_type": "markdown",
   "metadata": {},
   "source": [
    "**XUE.cn 练习题**：\n",
    "\n",
    "- [选择题 ★★ 表达式 '%d,%c' % (65, 65) 的值是什么？](https://xue.cn/hub/app/exercise/539)      \n",
    "\n",
    "- [选择题 ★ 表达式 'The first:{1}, the second is {0}'.format(65,97) 的值是什么？](https://xue.cn/hub/app/exercise/540)\n",
    "\n",
    "- [选择题 ★ 表达式 '%s'%[1,2,3] 的值是什么？](https://xue.cn/hub/app/exercise/664)\n",
    "\n",
    "- [选择题 ★★ 表达式 '%c'%65 == str(65) 的值是什么？](https://xue.cn/hub/app/exercise/713)\n",
    "\n",
    "- [选择题 ★★ 表达式 '%s'%65 == str(65) 的值是什么？](https://xue.cn/hub/app/exercise/714)  \n",
    "\n",
    "- [选择题 ★★★ 已知 formatter = 'good {0}'.format，那么表达式 list(map(formatter, ['morning'])) 的值是什么？](https://xue.cn/hub/app/exercise/827)\n",
    "\n",
    "- [判断题 ★ Python 运算符% 不仅可以用来求余数，还可以用来格式化字符串。这种说法正确吗？](https://xue.cn/hub/app/exercise/935)\n",
    "\n",
    "- [编程题 ★★★ 统一数据格式保留两位小数](https://xue.cn/hub/app/exercise/1230)"
   ]
  },
  {
   "cell_type": "markdown",
   "metadata": {},
   "source": [
    "## Module example: parallel processing"
   ]
  },
  {
   "cell_type": "markdown",
   "metadata": {},
   "source": [
    "Standard modules can make very technical problems simpler. An example is parallel processing."
   ]
  },
  {
   "cell_type": "markdown",
   "metadata": {},
   "source": [
    "The majority of CPUs - from phones to supercomputers - now have CPUs with multiple cores, with each core performing computations. To benefit from the multiple cores, we need to compute in *parallel*.\n",
    "A 'standard' program performs tasks in order, and in this case only one core will be utilised and the rest will\n",
    "remain idle. To get the best performance from the hardware, we need to compute in parallel. That is, we perform multiple tasks at the same time."
   ]
  },
  {
   "cell_type": "markdown",
   "metadata": {},
   "source": [
    "Parallel processing is an enormous topic on its own, but we can touch upon it here because we have standard libraries\n",
    "that make it easy to use. Managing parallel tasks at a low-level is extremely technical, but standard libraries can make it easy. We will use the`multiprocessing`module, and use it to sort lists of numbers concurrently."
   ]
  },
  {
   "cell_type": "markdown",
   "metadata": {},
   "source": [
    "We start by looking at how to generate a list of random integers using the`random`module. The following code\n",
    "creates a list (more on lists in the following notebook) of 10 random integers in the range 0 to 100 (not including 100):"
   ]
  },
  {
   "cell_type": "markdown",
   "metadata": {},
   "source": [
    "## 模块示例：并行处理"
   ]
  },
  {
   "cell_type": "markdown",
   "metadata": {},
   "source": [
    "标准模块可以使技术问题变得更加简单。一个例子是并行处理。"
   ]
  },
  {
   "cell_type": "markdown",
   "metadata": {},
   "source": [
    "大多数 CPU - 从手机到超级计算机 - 现在都拥有多核的 CPU，每个核都在执行计算。要从多个内核中受益，我们需要以*并行方式*计算。\n",
    "“标准” 程序按顺序执行任务，在这种情况下，只使用一个核心，其余核心将保持空闲状态。为了从硬件中获得最佳性能，我们需要并行计算。也就是说，我们同时执行多个任务。"
   ]
  },
  {
   "cell_type": "markdown",
   "metadata": {},
   "source": [
    "并行处理本身就是一个巨大的主题，但我们可以在这里触及它，因为我们有标准库，使其易于使用。在低级别管理并行任务非常技术性，但标准库可以使其变得简单。我们将使用 `multiprocessing` 模块，并使用它来同时对数字列表进行排序。"
   ]
  },
  {
   "cell_type": "markdown",
   "metadata": {},
   "source": [
    "我们首先看一下如何使用 `random` 模块生成随机整数列表。以下代码创建了一个列表（更多关于以下笔记本中的列表）的 10 个随机整数，范围为 0 到 100（不包括 100）："
   ]
  },
  {
   "cell_type": "code",
   "execution_count": 8,
   "metadata": {},
   "outputs": [
    {
     "name": "stdout",
     "output_type": "stream",
     "text": [
      "[30, 9, 78, 59, 85, 81, 67, 97, 11, 91]\n"
     ]
    }
   ],
   "source": [
    "import random\n",
    "x = random.sample(range(0, 100), 10)\n",
    "print(x)"
   ]
  },
  {
   "cell_type": "markdown",
   "metadata": {},
   "source": [
    "To create a sorted list, we used the built-in function`sorted`:"
   ]
  },
  {
   "cell_type": "markdown",
   "metadata": {},
   "source": [
    "要创建一个排序列表，我们使用了内置函数 `sorted`："
   ]
  },
  {
   "cell_type": "code",
   "execution_count": 9,
   "metadata": {},
   "outputs": [
    {
     "name": "stdout",
     "output_type": "stream",
     "text": [
      "[9, 11, 30, 59, 67, 78, 81, 85, 91, 97]\n"
     ]
    }
   ],
   "source": [
    "y = sorted(x)\n",
    "print(y)"
   ]
  },
  {
   "cell_type": "markdown",
   "metadata": {},
   "source": [
    "Now, if we need to sort multiple different lists, we could sort the lists one after the other, or\n",
    "we could sort several lists at the same time (in parallel). Our operating system will then manage the dispatch\n",
    "of the sorting task to different processor cores. Before seeing how to do this, we implement a function to perform the sorting:"
   ]
  },
  {
   "cell_type": "markdown",
   "metadata": {},
   "source": [
    "现在，如果我们需要对多个不同的列表进行排序，我们可以一个接一个地对列表进行排序，或者我们可以同时对多个列表进行排序（并行）。然后，我们的操作系统将管理将分拣任务分派给不同的处理器核心。在看到如何执行此操作之前，我们实现了一个函数来执行排序："
   ]
  },
  {
   "cell_type": "code",
   "execution_count": 10,
   "metadata": {},
   "outputs": [],
   "source": [
    "import multiprocessing\n",
    "import random\n",
    "\n",
    "def mysort(N):\n",
    "    \"Create a list of random numbers of length N, and return a sorted list\"\n",
    "\n",
    "    # Create random list\n",
    "    x = random.sample(range(0, N), N)\n",
    "\n",
    "    # Print process identifier (just out of interest)\n",
    "    print(\"Process id: {}\".format(multiprocessing.current_process()))\n",
    "\n",
    "    # Return sorted list of numbers\n",
    "    return sorted(x)"
   ]
  },
  {
   "cell_type": "markdown",
   "metadata": {},
   "source": [
    "To create the sorted lists, making available three processes (threads), we use:"
   ]
  },
  {
   "cell_type": "markdown",
   "metadata": {},
   "source": [
    "要创建排序列表，使三个进程（线程）可用，我们使用："
   ]
  },
  {
   "cell_type": "code",
   "execution_count": 11,
   "metadata": {},
   "outputs": [
    {
     "name": "stdout",
     "output_type": "stream",
     "text": [
      "Process id: <ForkProcess(ForkPoolWorker-3, started daemon)>\n",
      "Process id: <ForkProcess(ForkPoolWorker-2, started daemon)>\n",
      "Process id: <ForkProcess(ForkPoolWorker-1, started daemon)>\n"
     ]
    }
   ],
   "source": [
    "N = 20000\n",
    "with multiprocessing.Pool(processes=3) as p:\n",
    "    p.map(mysort, [N, N, N]) # Call function mysort three times"
   ]
  },
  {
   "cell_type": "markdown",
   "metadata": {},
   "source": [
    "We see from the output that three different processes have worked on our problem - one for each sorting task."
   ]
  },
  {
   "cell_type": "markdown",
   "metadata": {},
   "source": [
    "We use parallel processing the make computations faster. Let's time our computation using different numbers\n",
    "of processes to see how it affects performance.\n",
    "To perform the timing, we first encapsulate our problem in a function:"
   ]
  },
  {
   "cell_type": "markdown",
   "metadata": {},
   "source": [
    "我们从输出中看到三个不同的过程已经解决了我们的问题 - 每个排序任务一个。"
   ]
  },
  {
   "cell_type": "markdown",
   "metadata": {},
   "source": [
    "我们使用并行处理使得计算更快。让我们计算使用不同数量的进程来查看它如何影响性能。为了计时，我们首先将我们的问题封装在一个函数中："
   ]
  },
  {
   "cell_type": "code",
   "execution_count": 12,
   "metadata": {},
   "outputs": [],
   "source": [
    "def parallel_sort(N, num_proc):\n",
    "    \"Create three lists of random numbers (each of length N) using num_proc processes\"\n",
    "    with multiprocessing.Pool(processes=num_proc) as p:\n",
    "        p.map(mysort, [N, N, N])"
   ]
  },
  {
   "cell_type": "markdown",
   "metadata": {},
   "source": [
    "Using the magic command '[`%time`](Notebook_tips.ipynb#Simple-timing)', we time the sorting using just one process (the one process sorts the lists one after the other):"
   ]
  },
  {
   "cell_type": "markdown",
   "metadata": {},
   "source": [
    "使用魔术命令 '[`%time`](Notebook_tips.ipynb#Simple-timing)'，我们只使用一个进程计时排序（一个进程一个接一个地对列表进行排序）："
   ]
  },
  {
   "cell_type": "code",
   "execution_count": 13,
   "metadata": {},
   "outputs": [
    {
     "name": "stdout",
     "output_type": "stream",
     "text": [
      "Process id: <ForkProcess(ForkPoolWorker-4, started daemon)>\n",
      "Process id: <ForkProcess(ForkPoolWorker-4, started daemon)>\n",
      "Process id: <ForkProcess(ForkPoolWorker-4, started daemon)>\n",
      "CPU times: user 56.6 ms, sys: 34 ms, total: 90.6 ms\n",
      "Wall time: 1.82 s\n"
     ]
    }
   ],
   "source": [
    "N = 500000\n",
    "%time parallel_sort(N, 1)"
   ]
  },
  {
   "cell_type": "markdown",
   "metadata": {},
   "source": [
    "We see from '`Process id`' that the same process worked on all three lists."
   ]
  },
  {
   "cell_type": "markdown",
   "metadata": {},
   "source": [
    "We now try with up to 4 processes (there are only three lists to sort, so only three will be used):"
   ]
  },
  {
   "cell_type": "markdown",
   "metadata": {},
   "source": [
    "我们从 “进程 ID” 看到所有三个列表都是同一个进程在工作。"
   ]
  },
  {
   "cell_type": "markdown",
   "metadata": {},
   "source": [
    "我们现在尝试最多 4 个进程（只有三个列表要排序，因此只使用三个）："
   ]
  },
  {
   "cell_type": "code",
   "execution_count": 14,
   "metadata": {},
   "outputs": [
    {
     "name": "stdout",
     "output_type": "stream",
     "text": [
      "Process id: <ForkProcess(ForkPoolWorker-5, started daemon)>\n",
      "Process id: <ForkProcess(ForkPoolWorker-6, started daemon)>\n",
      "Process id: <ForkProcess(ForkPoolWorker-8, started daemon)>\n",
      "CPU times: user 46.9 ms, sys: 46.8 ms, total: 93.7 ms\n",
      "Wall time: 832 ms\n"
     ]
    }
   ],
   "source": [
    "%time parallel_sort(N, 4)"
   ]
  },
  {
   "cell_type": "markdown",
   "metadata": {},
   "source": [
    "We see from`Process id`that three different processes have worked on the lists. The parallel execution should be faster (this will depend on the hardware)."
   ]
  },
  {
   "cell_type": "markdown",
   "metadata": {},
   "source": [
    "我们从 `Process id` 看到三个不同的进程在列表上工作。并行执行应该更快（这取决于硬件）。"
   ]
  },
  {
   "cell_type": "markdown",
   "metadata": {},
   "source": [
    "## 练习"
   ]
  },
  {
   "cell_type": "markdown",
   "metadata": {},
   "source": [
    "现在完成 [练习 05](https://xue.cn/hub/reader?bookId=2&path=PartIA-Computing-Michaelmas-zh-CN/zh-CN/Exercises/05_Exercises.ipynb)"
   ]
  }
 ],
 "metadata": {
  "kernelspec": {
   "display_name": "Python 3",
   "language": "python",
   "name": "python3"
  },
  "language_info": {
   "codemirror_mode": {
    "name": "ipython",
    "version": 3
   },
   "file_extension": ".py",
   "mimetype": "text/x-python",
   "name": "python",
   "nbconvert_exporter": "python",
   "pygments_lexer": "ipython3",
   "version": "3.7.3"
  }
 },
 "nbformat": 4,
 "nbformat_minor": 4
}