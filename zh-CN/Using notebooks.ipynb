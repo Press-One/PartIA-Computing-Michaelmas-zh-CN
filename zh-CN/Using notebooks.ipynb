{
 "cells": [
  {
   "cell_type": "markdown",
   "metadata": {},
   "source": [
    "<!--英文标记开始-->"
   ]
  },
  {
   "cell_type": "markdown",
   "metadata": {},
   "source": [
    "## Juyter notebooks"
   ]
  },
  {
   "cell_type": "markdown",
   "metadata": {},
   "source": [
    "This is a *Jupyter notebook*. We will be computing using Jupyter notebooks (https://jupyter.org/) and\n",
    "the programming language *Python* (https://www.python.org/).\n",
    "Jupyter notebooks provide an interactive environment where you can mix text, equations, computer code\n",
    "and visual outputs. This is new technology that is increasingly widely used, and it is all free and open-source.\n",
    "<!--英文标记结束-->"
   ]
  },
  {
   "cell_type": "markdown",
   "metadata": {},
   "source": [
    "## Juyter 笔记本"
   ]
  },
  {
   "cell_type": "markdown",
   "metadata": {},
   "source": [
    "这就是一个*Jupyter 笔记本*。我们将使用 Jupyter 笔记本（https://jupyter.org/ ）和编程语言*Python*（https://www.python.org/ ）进行计算。\n",
    "Jupyter 笔记本提供了一个交互式环境，您可以在其中混合文本，方程式，计算机代码和视觉输出。这是一种越来越广泛使用的新技术，并且它是免费和开源的。"
   ]
  },
  {
   "cell_type": "markdown",
   "metadata": {},
   "source": [
    "<!--英文标记开始-->"
   ]
  },
  {
   "cell_type": "markdown",
   "metadata": {},
   "source": [
    "## Using the Azure notebook service"
   ]
  },
  {
   "cell_type": "markdown",
   "metadata": {},
   "source": [
    "The Azure notebook service provides a cloud-based Jupyter notebook environment at https://notebooks.azure.com/.\n",
    "You can log in with your CRSid.\n",
    "<!--英文标记结束-->"
   ]
  },
  {
   "cell_type": "markdown",
   "metadata": {},
   "source": [
    "## 使用 Azure 笔记本服务"
   ]
  },
  {
   "cell_type": "markdown",
   "metadata": {},
   "source": [
    "Azure 笔记本服务在 <https://notebooks.azure.com/> 上提供基于云的 Jupyter 笔记本环境。\n",
    "您可以使用 CRSid 登录。（或者自己创建一个免费的微软账户，译者注）"
   ]
  },
  {
   "cell_type": "markdown",
   "metadata": {},
   "source": [
    "<!--英文标记开始-->"
   ]
  },
  {
   "cell_type": "markdown",
   "metadata": {},
   "source": [
    "### Running and viewing the course material"
   ]
  },
  {
   "cell_type": "markdown",
   "metadata": {},
   "source": [
    "There are 12 notebook activities for this course, plus some other helper notebooks (including this one), arranged in a library."
   ]
  },
  {
   "cell_type": "markdown",
   "metadata": {},
   "source": [
    "- Click on a notebook to view it."
   ]
  },
  {
   "cell_type": "markdown",
   "metadata": {},
   "source": [
    "- Click 'Clone' to get your own, runnable and editable copy of the library. If you are not logged in you will be prompted to log in. Use your CRSid."
   ]
  },
  {
   "cell_type": "markdown",
   "metadata": {},
   "source": [
    "Experiment freely with your clone of the activity notebooks - you can always return to the master version."
   ]
  },
  {
   "cell_type": "markdown",
   "metadata": {},
   "source": [
    "Once you have your own version of the notebooks, open a notebook and run it\n",
    "via the menu bar with`Kernel -> Restart & Run All`. Try making an edit and then run the notebook again to see\n",
    "your change.\n",
    "<!--英文标记结束-->"
   ]
  },
  {
   "cell_type": "markdown",
   "metadata": {},
   "source": [
    "### 运行和查看课程资料"
   ]
  },
  {
   "cell_type": "markdown",
   "metadata": {},
   "source": [
    "本课程有 12 个笔记本，还有一些其他辅助笔记本（包括这个），安排在一个库中。"
   ]
  },
  {
   "cell_type": "markdown",
   "metadata": {},
   "source": [
    "- 单击笔记本以查看它。"
   ]
  },
  {
   "cell_type": "markdown",
   "metadata": {},
   "source": [
    "- 单击 “克隆” 以获取您自己的，可运行且可编辑的库副本。如果您尚未登录，系统将提示您登录。请使用您的 CRSid（或者微软账户，译者注）。"
   ]
  },
  {
   "cell_type": "markdown",
   "metadata": {},
   "source": [
    "   您可以自由尝试克隆活动笔记本 - 您可以随时返回主版本。"
   ]
  },
  {
   "cell_type": "markdown",
   "metadata": {},
   "source": [
    "拥有自己版本的笔记本后，打开笔记本并通过菜单栏运行 `Kernel -> Restart & Run All`。尝试进行编辑，然后再次运行笔记本以查看更改。"
   ]
  },
  {
   "cell_type": "markdown",
   "metadata": {},
   "source": [
    "<!--英文标记开始-->"
   ]
  },
  {
   "cell_type": "markdown",
   "metadata": {},
   "source": [
    "### Creating your own notebooks"
   ]
  },
  {
   "cell_type": "markdown",
   "metadata": {},
   "source": [
    "To create your own notebooks:"
   ]
  },
  {
   "cell_type": "markdown",
   "metadata": {},
   "source": [
    "1. Log in at https://notebooks.azure.com/.\n",
    "1. Go to 'Libraries' (top left of the page).\n",
    "1. Click 'New Library' to create a library (give it a suitable name, e.g. 'IA exercises').\n",
    "1. You should now be in your new library. Click 'Open in Jupyter' 'to get a Jupyter environment.\n",
    "1. At the top-right of the page, click`New -> Python 3`. You will now have a new notebook, and you're\n",
    "   ready to start working."
   ]
  },
  {
   "cell_type": "markdown",
   "metadata": {},
   "source": [
    "By default, the name of your new notebook will be 'Untitled'. Click on 'Untitled' to give your notebook\n",
    "and different name, e.g. 'Activity 02 exercises'."
   ]
  },
  {
   "cell_type": "markdown",
   "metadata": {},
   "source": [
    "You can return to https://notebooks.azure.com/ at any time, and go to 'Libraries' to see your collection\n",
    "of notebook libraries."
   ]
  },
  {
   "cell_type": "markdown",
   "metadata": {},
   "source": [
    "It would be a good idea to periodically download your notebooks for safe keeping.\n",
    "<!--英文标记结束-->"
   ]
  },
  {
   "cell_type": "markdown",
   "metadata": {},
   "source": [
    "### 创建自己的笔记本"
   ]
  },
  {
   "cell_type": "markdown",
   "metadata": {},
   "source": [
    "要创建自己的笔记本："
   ]
  },
  {
   "cell_type": "markdown",
   "metadata": {},
   "source": [
    "1. 登录 <https://notebooks.azure.com/>。\n",
    "1. 转到'Libraries'（页面左上角）。\n",
    "1. 单击'New Library'以创建库（为其指定合适的名称，例如 “IA 练习”）。\n",
    "1. 你现在应该进入你的新图书馆。点击'Open in Jupyter'以获得 Jupyter 环境。\n",
    "1. 在页面右上角，单击 `New -> Python 3`。您现在将拥有一个新的笔记本，您已准备好开始工作了。"
   ]
  },
  {
   "cell_type": "markdown",
   "metadata": {},
   "source": [
    "默认情况下，新笔记本的名称将为'Untitled'。点击'Untitled'为您的笔记本提供不同的名称，例如 'Activity 02 exercises'。"
   ]
  },
  {
   "cell_type": "markdown",
   "metadata": {},
   "source": [
    "您可以随时返回 <https://notebooks.azure.com/>，然后转到 'Libraries' 以查看您的笔记本库集合。"
   ]
  },
  {
   "cell_type": "markdown",
   "metadata": {},
   "source": [
    "最好定期下载笔记本电脑以便安全保管。"
   ]
  },
  {
   "cell_type": "markdown",
   "metadata": {},
   "source": [
    "<!--英文标记开始-->"
   ]
  },
  {
   "cell_type": "markdown",
   "metadata": {},
   "source": [
    "## Editing and running notebooks"
   ]
  },
  {
   "cell_type": "markdown",
   "metadata": {},
   "source": [
    "Jupyter notebooks have *text* cells and *code* cells. If you double-click on part of a notebook\n",
    "in a Jupyter environment (see above for creating a Jupyter environment on Azure), the cell\n",
    "will become editable. You will see in the menu bar whether it is a text cell ('Markdown') or a code cell ('Code').\n",
    "You can use the drop-down box at the top of a notebook to change the cell type.\n",
    "You can use`Insert`from the menu bar to insert a new cell."
   ]
  },
  {
   "cell_type": "markdown",
   "metadata": {},
   "source": [
    "The current cell can be 'run' using`shift-return`(the current cell is highlighted by a bar on the left-hand\n",
    "side of the page). When run, a text cell will be typeset, and the code in a 'code cell' will be executed.\n",
    "Any output from a code cell will appear below the code."
   ]
  },
  {
   "cell_type": "markdown",
   "metadata": {},
   "source": [
    "Often you will want to run all cells from the start of a notebook. You can do this with`Kernel -> Restart & Run All`from the notebook menu bar. In this case the cells are executed in order (first through to last)."
   ]
  },
  {
   "cell_type": "markdown",
   "metadata": {},
   "source": [
    "Below is a code cell:\n",
    "<!--英文标记结束-->"
   ]
  },
  {
   "cell_type": "markdown",
   "metadata": {},
   "source": [
    "## 编辑和运行笔记本"
   ]
  },
  {
   "cell_type": "markdown",
   "metadata": {},
   "source": [
    "Jupyter 笔记本有*text*单元格和*code*单元格。如果在 Jupyter 环境中双击部分笔记本（请参阅上面的在 Azure 上创建 Jupyter 环境），该单元格将变为可编辑状态。您将在菜单栏中看到它是文本单元格（'Markdown'）还是代码单元格（'Code'）。\n",
    "您可以使用笔记本顶部的下拉框更改单元格类型。\n",
    "您可以使用菜单栏中的 “插入” 来插入新单元格。"
   ]
  },
  {
   "cell_type": "markdown",
   "metadata": {},
   "source": [
    "当前单元格可以使用 `shift-return`'运行'（当前单元格由页面左侧的条形图突出显示）。运行时，将对文本单元格进行排版，并执行 “代码单元格” 中的代码。\n",
    "代码单元格的任何输出都将显示在代码下方。"
   ]
  },
  {
   "cell_type": "markdown",
   "metadata": {},
   "source": [
    "通常，您需要从笔记本电脑的开头运行所有单元格。您可以通过笔记本菜单栏中的 `Kernel -> Restart & Run All` 执行此操作。在这种情况下，按顺序执行单元格（从头到尾）。"
   ]
  },
  {
   "cell_type": "markdown",
   "metadata": {},
   "source": [
    "下面是一个代码单元格："
   ]
  },
  {
   "cell_type": "code",
   "execution_count": 1,
   "metadata": {},
   "outputs": [
    {
     "name": "stdout",
     "output_type": "stream",
     "text": [
      "7\n"
     ]
    }
   ],
   "source": [
    "print(3 + 4)"
   ]
  },
  {
   "cell_type": "markdown",
   "metadata": {},
   "source": [
    "<!--英文标记开始-->"
   ]
  },
  {
   "cell_type": "markdown",
   "metadata": {},
   "source": [
    "## Formatting text cells"
   ]
  },
  {
   "cell_type": "markdown",
   "metadata": {},
   "source": [
    "Text cells are formatted using *Markdown*, and using *LaTeX* syntax for mathematics.\n",
    "Make extensive use of text cells to explain what your program does, and how it does it.\n",
    "Use mathematical typesetting to express yourself mathematically.\n",
    "<!--英文标记结束-->"
   ]
  },
  {
   "cell_type": "markdown",
   "metadata": {},
   "source": [
    "## 格式化文本单元格"
   ]
  },
  {
   "cell_type": "markdown",
   "metadata": {},
   "source": [
    "使用*Markdown*格式化文本单元格，并使用*LaTeX*语法撰写数学公式。\n",
    "广泛使用文本单元来解释您程序在做什么，以及它是如何做的。\n",
    "使用数学排版写出数学表达式。"
   ]
  },
  {
   "cell_type": "markdown",
   "metadata": {},
   "source": [
    "<!--英文标记开始-->"
   ]
  },
  {
   "cell_type": "markdown",
   "metadata": {},
   "source": [
    "### Markdown"
   ]
  },
  {
   "cell_type": "markdown",
   "metadata": {},
   "source": [
    "You can find all the details in the [Jupyter Markdown documentation](http://jupyter-notebook.readthedocs.io/en/latest/examples/Notebook/Working%20With%20Markdown%20Cells.html).\n",
    "Below is a brief summary.\n",
    "<!--英文标记结束-->"
   ]
  },
  {
   "cell_type": "markdown",
   "metadata": {},
   "source": [
    "### Markdown"
   ]
  },
  {
   "cell_type": "markdown",
   "metadata": {},
   "source": [
    "您可以在 [Jupyter Markdown 文档](http://jupyter-notebook.readthedocs.io/en/latest/examples/Notebook/Working%20With%20Markdown%20Cells.html) 中找到所有详细信息。\n",
    "以下是一个简短的总结。"
   ]
  },
  {
   "cell_type": "markdown",
   "metadata": {},
   "source": [
    "<!--英文标记开始-->"
   ]
  },
  {
   "cell_type": "markdown",
   "metadata": {},
   "source": [
    "<font size=4 weight=600 >Headings</font>"
   ]
  },
  {
   "cell_type": "markdown",
   "metadata": {},
   "source": [
    "Using Markdown, headings are indicated by '`#`':"
   ]
  },
  {
   "cell_type": "markdown",
   "metadata": {},
   "source": [
    "## Top level heading\n",
    "### Second level heading\n",
    "<font size=4 weight=600 >Third level heading</font>"
   ]
  },
  {
   "cell_type": "markdown",
   "metadata": {},
   "source": [
    "<!--英文标记结束-->"
   ]
  },
  {
   "cell_type": "markdown",
   "metadata": {},
   "source": [
    "<font size=4 weight=600 >标题</font>"
   ]
  },
  {
   "cell_type": "markdown",
   "metadata": {},
   "source": [
    "使用 Markdown，标题用'`#`'表示："
   ]
  },
  {
   "cell_type": "markdown",
   "metadata": {},
   "source": [
    "## 顶级标题\n",
    "### 二级标题\n",
    "<font size=4 weight=600 >三级标题\n</font>"
   ]
  },
  {
   "cell_type": "markdown",
   "metadata": {},
   "source": [
    "<!--英文标记开始-->"
   ]
  },
  {
   "cell_type": "markdown",
   "metadata": {},
   "source": [
    "<font size=4 weight=600 >Text style</font>"
   ]
  },
  {
   "cell_type": "markdown",
   "metadata": {},
   "source": [
    "The Markdown input"
   ]
  },
  {
   "cell_type": "markdown",
   "metadata": {},
   "source": [
    "Opening passage"
   ]
  },
  {
   "cell_type": "markdown",
   "metadata": {},
   "source": [
    "`A passage of text`"
   ]
  },
  {
   "cell_type": "markdown",
   "metadata": {},
   "source": [
    "*Some more text*"
   ]
  },
  {
   "cell_type": "markdown",
   "metadata": {},
   "source": [
    "**Yet more text**"
   ]
  },
  {
   "cell_type": "markdown",
   "metadata": {},
   "source": [
    "appears as:"
   ]
  },
  {
   "cell_type": "markdown",
   "metadata": {},
   "source": [
    "Opening passage"
   ]
  },
  {
   "cell_type": "markdown",
   "metadata": {},
   "source": [
    "`A passage of text`"
   ]
  },
  {
   "cell_type": "markdown",
   "metadata": {},
   "source": [
    "*Some more text*"
   ]
  },
  {
   "cell_type": "markdown",
   "metadata": {},
   "source": [
    "**Yet more text** <!--英文标记结束-->"
   ]
  },
  {
   "cell_type": "markdown",
   "metadata": {},
   "source": [
    "<font size=4 weight=600 >文字样式</font>"
   ]
  },
  {
   "cell_type": "markdown",
   "metadata": {},
   "source": [
    "Markdown 输入"
   ]
  },
  {
   "cell_type": "code",
   "execution_count": null,
   "metadata": {},
   "outputs": [],
   "source": [
    "开幕词"
   ]
  },
  {
   "cell_type": "code",
   "execution_count": null,
   "metadata": {},
   "outputs": [],
   "source": [
    "`一段文字 `"
   ]
  },
  {
   "cell_type": "code",
   "execution_count": null,
   "metadata": {},
   "outputs": [],
   "source": [
    "*一些文字*"
   ]
  },
  {
   "cell_type": "code",
   "execution_count": null,
   "metadata": {},
   "outputs": [],
   "source": [
    "**更多文字**"
   ]
  },
  {
   "cell_type": "markdown",
   "metadata": {},
   "source": [
    "显示为："
   ]
  },
  {
   "cell_type": "markdown",
   "metadata": {},
   "source": [
    "开幕词"
   ]
  },
  {
   "cell_type": "markdown",
   "metadata": {},
   "source": [
    "`一段文字 `"
   ]
  },
  {
   "cell_type": "markdown",
   "metadata": {},
   "source": [
    "*一些文字*"
   ]
  },
  {
   "cell_type": "markdown",
   "metadata": {},
   "source": [
    "**更多文字**"
   ]
  },
  {
   "cell_type": "markdown",
   "metadata": {},
   "source": [
    "<!--英文标记开始-->"
   ]
  },
  {
   "cell_type": "markdown",
   "metadata": {},
   "source": [
    "<font size=4 weight=600 >Lists</font>"
   ]
  },
  {
   "cell_type": "markdown",
   "metadata": {},
   "source": [
    "You can create bulleted lists using:"
   ]
  },
  {
   "cell_type": "markdown",
   "metadata": {},
   "source": [
    "- Option A\n",
    "- Option B"
   ]
  },
  {
   "cell_type": "markdown",
   "metadata": {},
   "source": [
    "to show\n",
    "- Option A\n",
    "- Option B"
   ]
  },
  {
   "cell_type": "markdown",
   "metadata": {},
   "source": [
    "and enumerated lists using"
   ]
  },
  {
   "cell_type": "markdown",
   "metadata": {},
   "source": [
    "1. Old approach\n",
    "1. New approach"
   ]
  },
  {
   "cell_type": "markdown",
   "metadata": {},
   "source": [
    "to show\n",
    "1. Old approach\n",
    "1. New approach"
   ]
  },
  {
   "cell_type": "markdown",
   "metadata": {},
   "source": [
    "Markdown resolves the list number for you.\n",
    "<!--英文标记结束-->"
   ]
  },
  {
   "cell_type": "markdown",
   "metadata": {},
   "source": [
    "<font size=4 weight=600 >列表</font>"
   ]
  },
  {
   "cell_type": "markdown",
   "metadata": {},
   "source": [
    "您可以使用以下命令创建项目符号列表："
   ]
  },
  {
   "cell_type": "code",
   "execution_count": null,
   "metadata": {},
   "outputs": [],
   "source": [
    "- 选项 A.\n",
    "- 选项 B."
   ]
  },
  {
   "cell_type": "markdown",
   "metadata": {},
   "source": [
    "显示\n",
    "- 选项 A.\n",
    "- 选项 B."
   ]
  },
  {
   "cell_type": "markdown",
   "metadata": {},
   "source": [
    "和编号列表使用"
   ]
  },
  {
   "cell_type": "code",
   "execution_count": null,
   "metadata": {},
   "outputs": [],
   "source": [
    "1. 旧方法\n",
    "1. 新方法"
   ]
  },
  {
   "cell_type": "markdown",
   "metadata": {},
   "source": [
    "显示"
   ]
  },
  {
   "cell_type": "markdown",
   "metadata": {},
   "source": [
    "1. 旧方法\n",
    "1. 新方法"
   ]
  },
  {
   "cell_type": "markdown",
   "metadata": {},
   "source": [
    "Markdown 为您解析了列表编号。"
   ]
  },
  {
   "cell_type": "markdown",
   "metadata": {},
   "source": [
    "<!--英文标记开始-->"
   ]
  },
  {
   "cell_type": "markdown",
   "metadata": {},
   "source": [
    "<font size=4 weight=600 >Code</font>"
   ]
  },
  {
   "cell_type": "markdown",
   "metadata": {},
   "source": [
    "Code can be typeset using:"
   ]
  },
  {
   "cell_type": "code",
   "execution_count": null,
   "metadata": {},
   "outputs": [],
   "source": [
    "def f(x):\n",
    "    return x*x"
   ]
  },
  {
   "cell_type": "markdown",
   "metadata": {},
   "source": [
    "which produces"
   ]
  },
  {
   "cell_type": "code",
   "execution_count": null,
   "metadata": {},
   "outputs": [],
   "source": [
    "def f(x):\n",
    "    return x*x"
   ]
  },
  {
   "cell_type": "markdown",
   "metadata": {},
   "source": [
    "<!--英文标记结束-->"
   ]
  },
  {
   "cell_type": "markdown",
   "metadata": {},
   "source": [
    "<font size=4 weight=600 >代码</font>"
   ]
  },
  {
   "cell_type": "markdown",
   "metadata": {},
   "source": [
    "代码可以使用以下方式排版："
   ]
  },
  {
   "cell_type": "code",
   "execution_count": null,
   "metadata": {},
   "outputs": [],
   "source": [
    "def f(x):\n",
    "    return x*x"
   ]
  },
  {
   "cell_type": "markdown",
   "metadata": {},
   "source": [
    "产生"
   ]
  },
  {
   "cell_type": "code",
   "execution_count": null,
   "metadata": {},
   "outputs": [],
   "source": [
    "def f(x):\n",
    "    return x*x"
   ]
  },
  {
   "cell_type": "markdown",
   "metadata": {},
   "source": [
    "<!--英文标记开始-->"
   ]
  },
  {
   "cell_type": "markdown",
   "metadata": {},
   "source": [
    "You can include images in Jupyter notebooks - see [Jupyter Markdown documentation](http://jupyter-notebook.readthedocs.io/en/latest/examples/Notebook/Working%20With%20Markdown%20Cells.html).\n",
    "<!--英文标记结束-->"
   ]
  },
  {
   "cell_type": "markdown",
   "metadata": {},
   "source": [
    "您可以在 Jupyter 笔记本中包含图像 - 请参阅 [Jupyter Markdown 文档](http://jupyter-notebook.readthedocs.io/en/latest/examples/Notebook/Working%20With%20Markdown%20Cells.html)。"
   ]
  },
  {
   "cell_type": "markdown",
   "metadata": {},
   "source": [
    "<!--英文标记开始-->"
   ]
  },
  {
   "cell_type": "markdown",
   "metadata": {},
   "source": [
    "### LaTeX"
   ]
  },
  {
   "cell_type": "markdown",
   "metadata": {},
   "source": [
    "Markdown cells support [LaTeX](https://www.latex-project.org/) syntax for typesetting mathematics. LaTeX is the leading tool for technical documents and presenting mathematics, and it is free."
   ]
  },
  {
   "cell_type": "markdown",
   "metadata": {},
   "source": [
    "> Learning LaTeX now is a good investment for later in the Tripos. You might want to try https://www.overleaf.com/ for an online LaTeX environment."
   ]
  },
  {
   "cell_type": "markdown",
   "metadata": {},
   "source": [
    "To typeset an inline equation, use:"
   ]
  },
  {
   "cell_type": "markdown",
   "metadata": {},
   "source": [
    "The term of interest in this case is $\\exp(-2x) \\sin(3 x^{4})$."
   ]
  },
  {
   "cell_type": "markdown",
   "metadata": {},
   "source": [
    "which will appear as:"
   ]
  },
  {
   "cell_type": "markdown",
   "metadata": {},
   "source": [
    "'The term of interest in this case is $\\exp(-2x) \\sin(\\alpha x^{4})$.'"
   ]
  },
  {
   "cell_type": "markdown",
   "metadata": {},
   "source": [
    "For a displayed equation, from"
   ]
  },
  {
   "cell_type": "markdown",
   "metadata": {},
   "source": [
    "We wish to evaluate"
   ]
  },
  {
   "cell_type": "markdown",
   "metadata": {},
   "source": [
    "$$\n",
    "f(x) = \\beta x^{3} \\int_{0}^{2} g(x) \\, dx\n",
    "$$"
   ]
  },
  {
   "cell_type": "markdown",
   "metadata": {},
   "source": [
    "when $\\beta = 4$."
   ]
  },
  {
   "cell_type": "markdown",
   "metadata": {},
   "source": [
    "we get:"
   ]
  },
  {
   "cell_type": "markdown",
   "metadata": {},
   "source": [
    "'We wish to evaluate"
   ]
  },
  {
   "cell_type": "markdown",
   "metadata": {},
   "source": [
    "$$\n",
    "f(x) = \\beta x^{3} \\int_{0}^{2} g(x) \\, dx\n",
    "$$"
   ]
  },
  {
   "cell_type": "markdown",
   "metadata": {},
   "source": [
    "when $\\beta = 4$.'"
   ]
  },
  {
   "cell_type": "markdown",
   "metadata": {},
   "source": [
    "Search online to learn the LaTeX commands for different mathematical symbols. If\n",
    "you see an example of mathematical typesetting in a notebook, you can also double-click\n",
    "it in a Jupyter environment\n",
    "to see the syntax. There\n",
    "are lots of examples at https://notebooks.azure.com/library/1A-maths.\n",
    "<!--英文标记结束-->"
   ]
  },
  {
   "cell_type": "markdown",
   "metadata": {},
   "source": [
    "### LaTeX"
   ]
  },
  {
   "cell_type": "markdown",
   "metadata": {},
   "source": [
    "Markdown 单元支持排版数学公式的 [LaTeX](https://www.latex-project.org/) 语法。LaTeX 是技术文档和数学展示的领先工具，它是免费的。"
   ]
  },
  {
   "cell_type": "markdown",
   "metadata": {},
   "source": [
    "> 学习 LaTeX 现在是 Tripos 后期的一项很好的投资。您可能需要尝试 <https://www.overleaf.com/> 以获取在线 LaTeX 环境。"
   ]
  },
  {
   "cell_type": "markdown",
   "metadata": {},
   "source": [
    "要排版内联方程，请使用："
   ]
  },
  {
   "cell_type": "markdown",
   "metadata": {},
   "source": [
    "在这种情况下，所谓内联方程是 $\\exp(-2x) \\sin(3 x^{4})$ 。"
   ]
  },
  {
   "cell_type": "markdown",
   "metadata": {},
   "source": [
    "这将显示为："
   ]
  },
  {
   "cell_type": "markdown",
   "metadata": {},
   "source": [
    "'在这种情况下，所谓内联方程是 $\\exp(-2x) \\sin(3 x^{4})$ 。'"
   ]
  },
  {
   "cell_type": "markdown",
   "metadata": {},
   "source": [
    "对于显示的等式，来自"
   ]
  },
  {
   "cell_type": "markdown",
   "metadata": {},
   "source": [
    "我们希望计算\n",
    "当 $\\beta = 4$ 时 .\n",
    "$$\n",
    "f(x) = \\beta x^{3} \\int_{0}^{2} g(x) \\, dx\n",
    "$$"
   ]
  },
  {
   "cell_type": "markdown",
   "metadata": {},
   "source": [
    "我们得到："
   ]
  },
  {
   "cell_type": "markdown",
   "metadata": {},
   "source": [
    "'我们希望计算\n",
    "当 $\\beta = 4$ 时 .\n",
    "$$\n",
    "f(x) = \\beta x^{3} \\int_{0}^{2} g(x) \\, dx\n",
    "$$'"
   ]
  },
  {
   "cell_type": "markdown",
   "metadata": {},
   "source": [
    "在线搜索以了解不同数学符号的 LaTeX 命令。如果您在笔记本中看到数学排版的示例，您还可以在 Jupyter 环境中双击它以查看语法。https://notebooks.azure.com/library/1A-maths 上有很多例子。"
   ]
  },
  {
   "cell_type": "markdown",
   "metadata": {},
   "source": [
    "<!--英文标记开始-->"
   ]
  },
  {
   "cell_type": "markdown",
   "metadata": {},
   "source": [
    "## Running Jupyter locally (optional)"
   ]
  },
  {
   "cell_type": "markdown",
   "metadata": {},
   "source": [
    "See [here](00%20Part%20IA%20Michaelmas%20Term%20computing.ipynb#Running-locally) for suggestions on running\n",
    "Jupyter locally.\n",
    "<!--英文标记结束-->"
   ]
  },
  {
   "cell_type": "markdown",
   "metadata": {},
   "source": [
    "## 本地运行 Jupyter（可选）"
   ]
  },
  {
   "cell_type": "markdown",
   "metadata": {},
   "source": [
    "请参阅 [此处](00%20Part%20IA%20Michaelmas%20Term%20computing.ipynb#Running-locally) 以获取有关在本地运行 Jupyter 的建议。"
   ]
  }
 ],
 "metadata": {
  "kernelspec": {
   "display_name": "Python 3",
   "language": "python",
   "name": "python3"
  },
  "language_info": {
   "codemirror_mode": {
    "name": "ipython",
    "version": 3
   },
   "file_extension": ".py",
   "mimetype": "text/x-python",
   "name": "python",
   "nbconvert_exporter": "python",
   "pygments_lexer": "ipython3",
   "version": "3.7.3"
  }
 },
 "nbformat": 4,
 "nbformat_minor": 2
}