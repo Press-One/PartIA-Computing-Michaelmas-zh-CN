{
 "cells": [
  {
   "cell_type": "markdown",
   "metadata": {},
   "source": [
    "## IPython magic commands"
   ]
  },
  {
   "cell_type": "markdown",
   "metadata": {},
   "source": [
    "When using Python with Jupyter, we are actually using the *IPython kernel* to run code. [IPython](https://ipython.org/) has what are known as *magic commands* that help us interact with Jupyter.\n",
    "Magic commands are prefixed by '`%`'.\n",
    "Magic commands are *not* part of the Python language; they are specific to IPython. In a plain Python program, magic commands would not be recognised and would lead to an error."
   ]
  },
  {
   "cell_type": "markdown",
   "metadata": {},
   "source": [
    "We summarise below the magic functions that are used in the Activity notebooks.\n",
    "The full documentation for IPython magic commands is available [here](http://ipython.readthedocs.io/en/stable/interactive/magics.html)."
   ]
  },
  {
   "cell_type": "markdown",
   "metadata": {},
   "source": [
    "## IPython magic 命令"
   ]
  },
  {
   "cell_type": "markdown",
   "metadata": {},
   "source": [
    "当使用 Python 和 Jupyter 时，我们实际上使用*IPython 内核*来运行代码。 [IPython](https://ipython.org/) 具有所谓的*魔术命令*，可以帮助我们与 Jupyter 进行交互。\n",
    "魔术命令以 `％` 为前缀。\n",
    "魔术命令不是 Python 语言的一部分; 它们特定用于 IPython。在普通的 Python 程序中，魔术命令将无法识别并导致错误。"
   ]
  },
  {
   "cell_type": "markdown",
   "metadata": {},
   "source": [
    "我们在下面总结了运行笔记本中使用的神奇功能。\n",
    "有关 IPython 魔术命令的完整文档在 [这里](http://ipython.readthedocs.io/en/stable/interactive/magics.html)"
   ]
  },
  {
   "cell_type": "markdown",
   "metadata": {},
   "source": [
    "### Matplotlib"
   ]
  },
  {
   "cell_type": "markdown",
   "metadata": {},
   "source": [
    "To display plots inline in a notebook, we use the magic command:"
   ]
  },
  {
   "cell_type": "markdown",
   "metadata": {},
   "source": [
    "### Matplotlib"
   ]
  },
  {
   "cell_type": "markdown",
   "metadata": {},
   "source": [
    "要在笔记本中显示图像，我们使用 magic 命令："
   ]
  },
  {
   "cell_type": "code",
   "execution_count": 1,
   "metadata": {},
   "outputs": [],
   "source": [
    "%matplotlib inline"
   ]
  },
  {
   "cell_type": "markdown",
   "metadata": {},
   "source": [
    "The full documentation for Matplotlib magic functions is [here](http://ipython.readthedocs.io/en/stable/interactive/magics.html#magic-matplotlib)."
   ]
  },
  {
   "cell_type": "markdown",
   "metadata": {},
   "source": [
    "Matplotlib 魔术命令的完整文档在 [这里](http://ipython.readthedocs.io/en/stable/interactive/magics.html#magic-matplotlib)"
   ]
  },
  {
   "cell_type": "markdown",
   "metadata": {},
   "source": [
    "### Timing programs"
   ]
  },
  {
   "cell_type": "markdown",
   "metadata": {},
   "source": [
    "We can use magic commands to time our programs. This is particularly useful when investigating the performance of\n",
    "different implementations."
   ]
  },
  {
   "cell_type": "markdown",
   "metadata": {},
   "source": [
    "### 计时程序"
   ]
  },
  {
   "cell_type": "markdown",
   "metadata": {},
   "source": [
    "我们可以使用魔术命令为我们的程序计时。在研究不同实现的性能时尤其有用。"
   ]
  },
  {
   "cell_type": "markdown",
   "metadata": {},
   "source": [
    "<font size=4 weight=600 >Simple timing</font>"
   ]
  },
  {
   "cell_type": "markdown",
   "metadata": {},
   "source": [
    "The magic command [`%time`](http://ipython.readthedocs.io/en/stable/interactive/magics.html?highlight=timeit#magic-time) is used to time parts of a program.\n",
    "We just add"
   ]
  },
  {
   "cell_type": "code",
   "execution_count": null,
   "metadata": {},
   "outputs": [],
   "source": [
    "%time"
   ]
  },
  {
   "cell_type": "markdown",
   "metadata": {},
   "source": [
    "in front of the function call we wish to time, and the time taken will be displayed. Below is an example:"
   ]
  },
  {
   "cell_type": "markdown",
   "metadata": {},
   "source": [
    "<font size=4 weight=600 >简单的计时</font>"
   ]
  },
  {
   "cell_type": "markdown",
   "metadata": {},
   "source": [
    "魔术命令 [`％time`](http://ipython.readthedocs.io/en/stable/interactive/magics.html?highlight=timeit#magic-time) 可以用于计算程序的各个部分所耗费的时间。\n",
    "我们在希望计时的函数前加上"
   ]
  },
  {
   "cell_type": "code",
   "execution_count": null,
   "metadata": {},
   "outputs": [],
   "source": [
    "%time"
   ]
  },
  {
   "cell_type": "markdown",
   "metadata": {},
   "source": [
    "就会显示所用的时间。以下是一个例子："
   ]
  },
  {
   "cell_type": "code",
   "execution_count": 2,
   "metadata": {},
   "outputs": [
    {
     "name": "stdout",
     "output_type": "stream",
     "text": [
      "CPU times: user 22.8 ms, sys: 1.49 ms, total: 24.3 ms\n",
      "Wall time: 26.5 ms\n"
     ]
    }
   ],
   "source": [
    "def f(x):\n",
    "    s = \"\"\n",
    "    for i in range(x):\n",
    "        s += \" \"\n",
    "    return s\n",
    "\n",
    "%time p = f(100000)"
   ]
  },
  {
   "cell_type": "markdown",
   "metadata": {},
   "source": [
    "Usually we are interested in the '`Wall time`', which is the real (wall clock) time elapsed\n",
    "to run the function."
   ]
  },
  {
   "cell_type": "markdown",
   "metadata": {},
   "source": [
    "通常我们对'`Wall time`'感兴趣，这是运行该函数所用的实际（挂钟）时间。"
   ]
  },
  {
   "cell_type": "markdown",
   "metadata": {},
   "source": [
    "<font size=4 weight=600 >Detailed timing</font>"
   ]
  },
  {
   "cell_type": "markdown",
   "metadata": {},
   "source": [
    "Sometimes we want to get the time as a variable, for example to produce a plot of time versus problem size.\n",
    "In this case we use [`%timeit`](http://ipython.readthedocs.io/en/stable/interactive/magics.html?highlight=timeit#magic-timeit)."
   ]
  },
  {
   "cell_type": "markdown",
   "metadata": {},
   "source": [
    "`%timeit`has a number of options, including:"
   ]
  },
  {
   "cell_type": "markdown",
   "metadata": {},
   "source": [
    "-`-o`: Return a`TimeitResult`variable that we can query\n",
    "-`-q`: Quiet (supress output)\n",
    "-`-n`: Number of times to run code\n",
    "-`-r`: How many times to run`timeit`"
   ]
  },
  {
   "cell_type": "markdown",
   "metadata": {},
   "source": [
    "The return value can be queried in several ways. Below are examples."
   ]
  },
  {
   "cell_type": "markdown",
   "metadata": {},
   "source": [
    "<font size=4 weight=600 >详细时间</font>"
   ]
  },
  {
   "cell_type": "markdown",
   "metadata": {},
   "source": [
    "有时我们希望将时间作为变量，例如生成时间与问题规模的关系图。\n",
    "在这种情况下，我们使用 [`％timeit`](http://ipython.readthedocs.io/en/stable/interactive/magics.html?highlight=timeit#magic-timeit)"
   ]
  },
  {
   "cell_type": "markdown",
   "metadata": {},
   "source": [
    "`％timeit` 有很多选项，包括："
   ]
  },
  {
   "cell_type": "markdown",
   "metadata": {},
   "source": [
    "-`-o`：返回一个我们可以查询的 `TimeitResult` 变量\n",
    "-`-q`：安静（抑制输出）\n",
    "-`-n`：运行代码的次数\n",
    "-`-r`：运行 `timeit` 多少次"
   ]
  },
  {
   "cell_type": "markdown",
   "metadata": {},
   "source": [
    "可以通过多种方式查询返回值。以下是示例。"
   ]
  },
  {
   "cell_type": "code",
   "execution_count": 6,
   "metadata": {},
   "outputs": [
    {
     "name": "stdout",
     "output_type": "stream",
     "text": [
      "最佳时间是: 0.2161317019490525\n",
      "186 ms ± 17.7 ms per loop (mean ± std. dev. of 2 runs, 3 loops each)\n",
      "所有运行时间为: [0.6107961760135368, 0.5048820179654285]\n",
      "最佳运行时间为: 0.1682940059884762\n"
     ]
    }
   ],
   "source": [
    "## 被测试的问题规模\n",
    "N = 1000000\n",
    "\n",
    "## 对命令'p = f(N)' 计时 1 次，抑制输出 (-q) .\n",
    "t = %timeit -o -n1 -r1 -q p = f(N)\n",
    "\n",
    "## 获取最佳时间（只计时了 1 次，所以只有一个结果）Get best (only) timing\n",
    "print(\"最佳时间是: {}\".format(t.best))\n",
    "\n",
    "## 对命令'p = f(N)'计时两次，每次代码运行 3 轮（不再抑制输出）\n",
    "t = %timeit -o -n3 -r2 p = f(N)\n",
    "\n",
    "## 将整体运行时间的结果再为列表输出，（列表长度为 2，因为我们用-r2 运行了两次计时）\n",
    "print(\"所有运行时间为: {}\".format(t.all_runs))\n",
    "\n",
    "## Best time will be 1/3 (since we used of lowest value in t.all_runs\n",
    "print(\"最佳运行时间为: {}\".format(t.best))"
   ]
  }
 ],
 "metadata": {
  "kernelspec": {
   "display_name": "Python 3",
   "language": "python",
   "name": "python3"
  },
  "language_info": {
   "codemirror_mode": {
    "name": "ipython",
    "version": 3
   },
   "file_extension": ".py",
   "mimetype": "text/x-python",
   "name": "python",
   "nbconvert_exporter": "python",
   "pygments_lexer": "ipython3",
   "version": "3.7.7"
  }
 },
 "nbformat": 4,
 "nbformat_minor": 4
}
