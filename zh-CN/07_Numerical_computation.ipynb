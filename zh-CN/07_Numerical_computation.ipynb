{
 "cells": [
  {
   "cell_type": "markdown",
   "metadata": {},
   "source": [
    "## Introduction"
   ]
  },
  {
   "cell_type": "markdown",
   "metadata": {},
   "source": [
    "Working with numbers is central to almost all scientific and engineering computations.\n",
    "The topic is so important that there are many dedicated libraries to help implement efficient numerical\n",
    "computations. There are even languages that are specifically designed for numerical computation, such as Fortran\n",
    "and MATLAB."
   ]
  },
  {
   "cell_type": "markdown",
   "metadata": {},
   "source": [
    "NumPy (http://www.numpy.org/) is the most widely used Python library for numerical computations. It provides an extensive range of data structures and functions for numerical\n",
    "computation. In this notebook we will explore just some of the functionality.\n",
    "You will be seeing NumPy in other courses. NumPy can perform many of the operations that you will learn\n",
    "during the mathematics courses."
   ]
  },
  {
   "cell_type": "markdown",
   "metadata": {},
   "source": [
    "Another library, which largely builds on NumPy and provides additional functionality, is SciPy (https://www.scipy.org/). SciPy provides some more specialised data structures and functions over NumPy.\n",
    "If you are familiar with MATLAB, NumPy and SciPy provide much of what is available in MATLAB."
   ]
  },
  {
   "cell_type": "markdown",
   "metadata": {},
   "source": [
    "NumPy is a large and extensive library and this activity is just a very brief introduction.\n",
    "To discover how to perform operations with NumPy, your best resources are search engines, such as http://stackoverflow.com/."
   ]
  },
  {
   "cell_type": "markdown",
   "metadata": {},
   "source": [
    "### Objectives"
   ]
  },
  {
   "cell_type": "markdown",
   "metadata": {},
   "source": [
    "- Introduction to 1D and 2D arrays (vector and matrices)\n",
    "- Manipulating arrays (indexing, slicing, etc)\n",
    "- Apply elementary numerical operations\n",
    "- Demonstrate efficiency differences between vectorised and non-vectorised functions"
   ]
  },
  {
   "cell_type": "markdown",
   "metadata": {},
   "source": [
    "## 介绍"
   ]
  },
  {
   "cell_type": "markdown",
   "metadata": {},
   "source": [
    "数值运算是几乎所有科学和工程计算的核心。本主题非常重要，有许多专用库可帮助实现有效的数值计算。甚至还有专为数值计算而设计的语言，例如 Fortran 和 MATLAB。"
   ]
  },
  {
   "cell_type": "markdown",
   "metadata": {},
   "source": [
    "NumPy（http://www.numpy.org/ ）是用于数值计算的最广泛使用的 Python 库。它为数值计算提供了广泛的数据结构和函数。在这个笔记本中，我们将探讨一些功能。您将在其他课程中看到 NumPy。NumPy 可以执行您在数学课程中学到的许多操作。"
   ]
  },
  {
   "cell_type": "markdown",
   "metadata": {},
   "source": [
    "另一个主要基于 NumPy 构建并提供其他功能的库是 SciPy（https://www.scipy.org/ ）。SciPy 在 NumPy 上提供了一些更专业的数据结构和功能。如果您熟悉 MATLAB，NumPy 和 SciPy 提供了 MATLAB 中可用的大部分内容。"
   ]
  },
  {
   "cell_type": "markdown",
   "metadata": {},
   "source": [
    "NumPy 是一个庞大而广泛的库，这里只是一个非常简短的介绍。要了解如何使用 NumPy 执行操作，您的最佳资源是搜索引擎，例如 <http://stackoverflow.com/>。"
   ]
  },
  {
   "cell_type": "markdown",
   "metadata": {},
   "source": [
    "### 目标"
   ]
  },
  {
   "cell_type": "markdown",
   "metadata": {},
   "source": [
    "- 一维和二维数组（矢量和矩阵）简介\n",
    "- 操作数组（索引，切片等）\n",
    "- 应用基本数值运算\n",
    "- 展示矢量化和非矢量化函数之间的效率差异"
   ]
  },
  {
   "cell_type": "markdown",
   "metadata": {},
   "source": [
    "## Importing the NumPy module"
   ]
  },
  {
   "cell_type": "markdown",
   "metadata": {},
   "source": [
    "To make NumPy available in our programs, we need to import the module. It has become an informal custom to import NumPy using the shortcut '`np`':"
   ]
  },
  {
   "cell_type": "markdown",
   "metadata": {},
   "source": [
    "## 导入 NumPy 模块"
   ]
  },
  {
   "cell_type": "markdown",
   "metadata": {},
   "source": [
    "要在我们的程序中使用 NumPy，我们需要导入该模块。将导入的 NumPy 缩写为'`np`' 已经成为一种非正式的习惯："
   ]
  },
  {
   "cell_type": "code",
   "execution_count": 1,
   "metadata": {},
   "outputs": [],
   "source": [
    "import numpy as np"
   ]
  },
  {
   "cell_type": "markdown",
   "metadata": {},
   "source": [
    "## Numerical arrays"
   ]
  },
  {
   "cell_type": "markdown",
   "metadata": {},
   "source": [
    "We have already seen Python 'lists', which hold 'arrays' of data. We can access the elements of a list using an index because the entries are stored in order. Python lists are very flexible and can hold mixed data types, e.g. combinations of floats and strings, or even lists of lists of lists . . ."
   ]
  },
  {
   "cell_type": "markdown",
   "metadata": {},
   "source": [
    "The flexibility of Python lists comes at the expense of performance. Many science, engineering and mathematics problems involve very large problems with operations on numbers, and computational speed is important for large problems. To serve this need, we normally use specialised functions and data structures for numerical computation, and in particular for arrays of numbers. Some of the flexibility of lists is traded for performance."
   ]
  },
  {
   "cell_type": "markdown",
   "metadata": {},
   "source": [
    "## 数组"
   ]
  },
  {
   "cell_type": "markdown",
   "metadata": {},
   "source": [
    "我们已经看到了 Python'列表'，它们包含数据的 “阵列”。我们可以使用索引访问列表的元素，因为条目按顺序存储。Python 列表非常灵活，可以保存混合数据类型，例如 浮点数和字符串的组合，甚至列表的列表。。。"
   ]
  },
  {
   "cell_type": "markdown",
   "metadata": {},
   "source": [
    "Python 列表的灵活性是以牺牲性能为代价的。许多科学，工程和数学问题涉及非常大量的数学运算问题，而计算速度对于大问题是重要的。为了满足这种需要，我们通常使用专门的函数和数据结构进行数值计算，特别是数字数组。列表用降低性能换取了一些灵活性。"
   ]
  },
  {
   "cell_type": "markdown",
   "metadata": {},
   "source": [
    "### One-dimensional arrays"
   ]
  },
  {
   "cell_type": "markdown",
   "metadata": {},
   "source": [
    "A one-dimensional array is a collection of numbers which we can access by index (it preserves order)."
   ]
  },
  {
   "cell_type": "markdown",
   "metadata": {},
   "source": [
    "### 一维数组"
   ]
  },
  {
   "cell_type": "markdown",
   "metadata": {},
   "source": [
    "一维数组是我们可以通过索引访问的数字集合（它保留了顺序）。"
   ]
  },
  {
   "cell_type": "markdown",
   "metadata": {},
   "source": [
    "<font size=4 weight=600 >Creating arrays and indexing</font>"
   ]
  },
  {
   "cell_type": "markdown",
   "metadata": {},
   "source": [
    "To create a NumPy array of length 10 and initially filled with zeros:"
   ]
  },
  {
   "cell_type": "markdown",
   "metadata": {},
   "source": [
    "<font size=4 weight=600 >创建数组和索引</font>"
   ]
  },
  {
   "cell_type": "markdown",
   "metadata": {},
   "source": [
    "要创建长度为 10 且用零为初始值填充的 NumPy 数组："
   ]
  },
  {
   "cell_type": "code",
   "execution_count": 2,
   "metadata": {},
   "outputs": [],
   "source": [
    "x = np.zeros(10)\n",
    "\n",
    "print(x)\n",
    "print(type(x))"
   ]
  },
  {
   "cell_type": "markdown",
   "metadata": {},
   "source": [
    "The default type of a NumPy array is`float`. The type can be checked with"
   ]
  },
  {
   "cell_type": "markdown",
   "metadata": {},
   "source": [
    "Numpy 数组的默认类型是 `float`。可以通过如下方式检验类型："
   ]
  },
  {
   "cell_type": "code",
   "execution_count": 3,
   "metadata": {},
   "outputs": [],
   "source": [
    "print(x.dtype)"
   ]
  },
  {
   "cell_type": "markdown",
   "metadata": {},
   "source": [
    "You cannot, for example, add a`string`to a`numpy.ndarray`. All entries in the array have the same type."
   ]
  },
  {
   "cell_type": "markdown",
   "metadata": {},
   "source": [
    "We can check the length of an array using`len`, which gives the number of entries in the array:"
   ]
  },
  {
   "cell_type": "markdown",
   "metadata": {},
   "source": [
    "例如，你不能将 `string` 添加到 `numpy.ndarray` 中。数组中的所有条目都具有相同的类型。"
   ]
  },
  {
   "cell_type": "markdown",
   "metadata": {},
   "source": [
    "我们可以使用 `len` 来检查数组的长度，它给出了数组中的条目数："
   ]
  },
  {
   "cell_type": "code",
   "execution_count": 4,
   "metadata": {},
   "outputs": [],
   "source": [
    "print(len(x))"
   ]
  },
  {
   "cell_type": "markdown",
   "metadata": {},
   "source": [
    "A better way to check the length is to use`x.shape`, which returns a tuple with the dimensions of the array:"
   ]
  },
  {
   "cell_type": "markdown",
   "metadata": {},
   "source": [
    "检查长度的更好方法是使用 `x.shape`，它返回一个具有数组维度的元组："
   ]
  },
  {
   "cell_type": "code",
   "execution_count": 5,
   "metadata": {},
   "outputs": [],
   "source": [
    "print(x.shape)"
   ]
  },
  {
   "cell_type": "markdown",
   "metadata": {},
   "source": [
    "`shape`tells us the size of the array in *each* direction. We will see two-dimensional arrays shortly (matrices), which have a size in each direction."
   ]
  },
  {
   "cell_type": "markdown",
   "metadata": {},
   "source": [
    "`shape` 告诉我们*每个*方向上数组的大小。我们将马上看到的二维数组（矩阵），每个方向都有大小。"
   ]
  },
  {
   "cell_type": "markdown",
   "metadata": {},
   "source": [
    "We can change the entries of an array using indexing,"
   ]
  },
  {
   "cell_type": "markdown",
   "metadata": {},
   "source": [
    "我们可以使用索引来更改数组的条目，"
   ]
  },
  {
   "cell_type": "code",
   "execution_count": 6,
   "metadata": {},
   "outputs": [
    {
     "name": "stdout",
     "output_type": "stream",
     "text": [
      "[0. 0. 0. 0. 0. 0. 0. 0. 0. 0.]\n",
      "[10.   0.   0.  -4.3  0.   0.   0.   0.   0.   1. ]\n"
     ]
    }
   ],
   "source": [
    "print(x)\n",
    "\n",
    "x[0] = 10.0\n",
    "x[3] = -4.3\n",
    "x[9] = 1.0\n",
    "\n",
    "print(x)"
   ]
  },
  {
   "cell_type": "markdown",
   "metadata": {},
   "source": [
    "Remember that indexing starts from zero!\n",
    "There are other ways to create arrays, such as an array of 'ones':"
   ]
  },
  {
   "cell_type": "markdown",
   "metadata": {},
   "source": [
    "请记住，索引从零开始！"
   ]
  },
  {
   "cell_type": "markdown",
   "metadata": {},
   "source": [
    "还有其他方法可以创建数组，例如'ones'数组："
   ]
  },
  {
   "cell_type": "code",
   "execution_count": 7,
   "metadata": {},
   "outputs": [
    {
     "name": "stdout",
     "output_type": "stream",
     "text": [
      "[1. 1. 1. 1. 1.]\n"
     ]
    }
   ],
   "source": [
    "y = np.ones(5)\n",
    "print(y)"
   ]
  },
  {
   "cell_type": "markdown",
   "metadata": {},
   "source": [
    "an array of random values:"
   ]
  },
  {
   "cell_type": "markdown",
   "metadata": {},
   "source": [
    "一个随机数组"
   ]
  },
  {
   "cell_type": "code",
   "execution_count": 8,
   "metadata": {},
   "outputs": [
    {
     "name": "stdout",
     "output_type": "stream",
     "text": [
      "[0.60861561 0.6364807  0.27694109 0.68383925 0.76173909 0.56105644]\n"
     ]
    }
   ],
   "source": [
    "y = np.random.rand(6)\n",
    "print(y)"
   ]
  },
  {
   "cell_type": "markdown",
   "metadata": {},
   "source": [
    "or a NumPy array from a Python list:"
   ]
  },
  {
   "cell_type": "markdown",
   "metadata": {},
   "source": [
    "或者从 Python 列表建立一个 Numpy 数组："
   ]
  },
  {
   "cell_type": "code",
   "execution_count": 9,
   "metadata": {},
   "outputs": [
    {
     "name": "stdout",
     "output_type": "stream",
     "text": [
      "[ 4.  8.  9. 11. -2.]\n"
     ]
    }
   ],
   "source": [
    "x = [4.0, 8.0, 9.0, 11.0, -2.0]\n",
    "y = np.array(x)\n",
    "print(y)"
   ]
  },
  {
   "cell_type": "markdown",
   "metadata": {},
   "source": [
    "Two more methods for creating arrays which we will use in later notebooks are:"
   ]
  },
  {
   "cell_type": "markdown",
   "metadata": {},
   "source": [
    "-`numpy.arange`; and\n",
    "-`numpy.linspace`."
   ]
  },
  {
   "cell_type": "markdown",
   "metadata": {},
   "source": [
    "They are particularly useful for plotting functions.\n",
    "The function`arange`creates an array with equally spaced values. It is similar in some cases to`range`, which we have seen earlier. To create the array`[0 1 2 3 4 5]`using`arange`:"
   ]
  },
  {
   "cell_type": "markdown",
   "metadata": {},
   "source": [
    "我们将在以后的笔记本中使用的另外两种创建数组的方法是："
   ]
  },
  {
   "cell_type": "markdown",
   "metadata": {},
   "source": [
    "-`numpy.arange`; and\n",
    "-`numpy.linspace`."
   ]
  },
  {
   "cell_type": "markdown",
   "metadata": {},
   "source": [
    "它们对绘制函数特别有用。\n",
    "函数 `arange` 创建一个具有等间距值的数组。它在某些情况下类似于我们之前已经看到过 `range`。使用 `arange` 创建数组 `[0 1 2 3 4 5]`："
   ]
  },
  {
   "cell_type": "code",
   "execution_count": 10,
   "metadata": {},
   "outputs": [
    {
     "name": "stdout",
     "output_type": "stream",
     "text": [
      "[0 1 2 3 4 5]\n",
      "<class 'numpy.ndarray'>\n"
     ]
    }
   ],
   "source": [
    "x = np.arange(6)\n",
    "print(x)\n",
    "print(type(x))"
   ]
  },
  {
   "cell_type": "markdown",
   "metadata": {},
   "source": [
    "Note that '6' is not included. We can change the start value, e.g.:"
   ]
  },
  {
   "cell_type": "markdown",
   "metadata": {},
   "source": [
    "注意'6'不包括在内。我们可以更改起始值，例如："
   ]
  },
  {
   "cell_type": "code",
   "execution_count": 11,
   "metadata": {},
   "outputs": [
    {
     "name": "stdout",
     "output_type": "stream",
     "text": [
      "[2 3 4 5]\n"
     ]
    }
   ],
   "source": [
    "x = np.arange(2, 6)\n",
    "print(x)"
   ]
  },
  {
   "cell_type": "markdown",
   "metadata": {},
   "source": [
    "The function`linspace`creates an array with prescribed start and end values (both are included), and a prescribed number on values, all equally spaced:"
   ]
  },
  {
   "cell_type": "markdown",
   "metadata": {},
   "source": [
    "函数 `linspace` 创建一个数组，其中包含规定的起始值和结束值（两者都包含在内），以及两者之间等间隔的数字。"
   ]
  },
  {
   "cell_type": "code",
   "execution_count": 12,
   "metadata": {},
   "outputs": [
    {
     "name": "stdout",
     "output_type": "stream",
     "text": [
      "[  0.  20.  40.  60.  80. 100.]\n"
     ]
    }
   ],
   "source": [
    "x = np.linspace(0, 100, 6)\n",
    "print(x)"
   ]
  },
  {
   "cell_type": "markdown",
   "metadata": {},
   "source": [
    "The`linspace`function is used extensively for plotting, as we will see in the next notebook."
   ]
  },
  {
   "cell_type": "markdown",
   "metadata": {},
   "source": [
    "`linspace` 函数广泛用于绘图，我们将在下一个笔记本中看到。"
   ]
  },
  {
   "cell_type": "markdown",
   "metadata": {},
   "source": [
    "\n",
    "**XUE.cn 练习题**：\n",
    "\n",
    "- [选择题 ★★★ numpy 数组的 ndim 属性](https://xue.cn/hub/app/exercise/312)\n",
    "\n",
    "- [选择题 ★★★ numpy 数组的 size 属性](https://xue.cn/hub/app/exercise/313)\n",
    "\n",
    "- [选择题 ★★★ numpy 库的 zeros 和 ones 函数](https://xue.cn/hub/app/exercise/314)\n",
    "\n",
    "- [选择题 ★★★ numpy 库的 arange 函数](https://xue.cn/hub/app/exercise/315)"
   ]
  },
  {
   "cell_type": "markdown",
   "metadata": {},
   "source": [
    "<font size=4 weight=600 >Array arithmetic and functions</font>"
   ]
  },
  {
   "cell_type": "markdown",
   "metadata": {},
   "source": [
    "NumPy arrays support common arithmetic operations, such as addition of two arrays"
   ]
  },
  {
   "cell_type": "markdown",
   "metadata": {},
   "source": [
    "<font size=4 weight=600 >数组算术和函数</font>"
   ]
  },
  {
   "cell_type": "markdown",
   "metadata": {},
   "source": [
    "NumPy 数组支持常见的算术运算，例如两个数组的加法"
   ]
  },
  {
   "cell_type": "code",
   "execution_count": 13,
   "metadata": {},
   "outputs": [
    {
     "name": "stdout",
     "output_type": "stream",
     "text": [
      "[1.  0.2 1.2]\n",
      "[2.  0.1 2.1]\n",
      "[3.  0.3 3.3]\n"
     ]
    }
   ],
   "source": [
    "x = np.array([1.0, 0.2, 1.2])\n",
    "y = np.array([2.0, 0.1, 2.1])\n",
    "print(x)\n",
    "print(y)\n",
    "\n",
    "## Sum x and y\n",
    "z = x + y\n",
    "print(z)"
   ]
  },
  {
   "cell_type": "markdown",
   "metadata": {},
   "source": [
    "and multiplication of components by a scalar,"
   ]
  },
  {
   "cell_type": "markdown",
   "metadata": {},
   "source": [
    "矩阵与标量的乘法"
   ]
  },
  {
   "cell_type": "code",
   "execution_count": 14,
   "metadata": {},
   "outputs": [
    {
     "name": "stdout",
     "output_type": "stream",
     "text": [
      "[10.  2. 12.]\n"
     ]
    }
   ],
   "source": [
    "z = 10.0*x\n",
    "print(z)"
   ]
  },
  {
   "cell_type": "markdown",
   "metadata": {},
   "source": [
    "and raising components to a power:"
   ]
  },
  {
   "cell_type": "markdown",
   "metadata": {},
   "source": [
    "矩阵元素的乘方"
   ]
  },
  {
   "cell_type": "code",
   "execution_count": 15,
   "metadata": {},
   "outputs": [
    {
     "name": "stdout",
     "output_type": "stream",
     "text": [
      "[ 4  9 16]\n"
     ]
    }
   ],
   "source": [
    "x = np.array([2, 3, 4])\n",
    "print(x**2)"
   ]
  },
  {
   "cell_type": "markdown",
   "metadata": {},
   "source": [
    "**XUE.cn 练习题**：\n",
    "\n",
    "- [选择题 ★★★ numpy 数组的广播计算 1](https://xue.cn/hub/app/exercise/310)\n",
    "\n",
    "- [选择题 ★★★ numpy 数组的广播计算 2](https://xue.cn/hub/app/exercise/311)\n",
    "\n",
    "- [选择题 ★★★ numpy 数组不同形状不能广播计算](https://xue.cn/hub/app/exercise/316)\n",
    "\n",
    "- [选择题 ★★★ numpy 数组的计算](https://xue.cn/hub/app/exercise/317)"
   ]
  },
  {
   "cell_type": "markdown",
   "metadata": {},
   "source": [
    "We can also apply functions to the components of an array:"
   ]
  },
  {
   "cell_type": "markdown",
   "metadata": {},
   "source": [
    "我们还可以将函数应用于数组的元素："
   ]
  },
  {
   "cell_type": "code",
   "execution_count": 16,
   "metadata": {},
   "outputs": [
    {
     "name": "stdout",
     "output_type": "stream",
     "text": [
      "[0.         1.57079633 3.14159265 4.71238898]\n",
      "[ 0.0000000e+00  1.0000000e+00  1.2246468e-16 -1.0000000e+00]\n"
     ]
    }
   ],
   "source": [
    "## Create an array [0, π/2, π, 3π/2]\n",
    "x = np.array([0.0, np.pi/2, np.pi, 3*np.pi/2])\n",
    "print(x)\n",
    "\n",
    "## Compute sine of each entry\n",
    "y = np.sin(x)\n",
    "print(y)"
   ]
  },
  {
   "cell_type": "markdown",
   "metadata": {},
   "source": [
    "The above has computed the sine of each entry in the array`x`."
   ]
  },
  {
   "cell_type": "markdown",
   "metadata": {},
   "source": [
    "Note that the function`np.sin`is used, and not`math.sin`(which was used in previous notebooks). The reason is that`np.sin`is more general - it can act on lists/arrays of values rather than on just one value. We will apply functions to arrays in the next notebook to plot functions."
   ]
  },
  {
   "cell_type": "markdown",
   "metadata": {},
   "source": [
    "上面已经计算了数组 `x` 中每个元素的正弦值。"
   ]
  },
  {
   "cell_type": "markdown",
   "metadata": {},
   "source": [
    "请注意，使用了函数 `np.sin`，而不是 `math.sin`（在以前的笔记本中使用过）。原因是 `np.sin` 更通用 - 它可以作用于列表 / 数组元素而不是仅仅作用于一个值。我们将函数应用于下一个笔记本中的数组以绘制函数。"
   ]
  },
  {
   "cell_type": "markdown",
   "metadata": {},
   "source": [
    "We could have computed the sine of each array entry using`for`loops:"
   ]
  },
  {
   "cell_type": "markdown",
   "metadata": {},
   "source": [
    "我们可以使用 `for` 循环计算每个数组条目的正弦值："
   ]
  },
  {
   "cell_type": "code",
   "execution_count": 17,
   "metadata": {},
   "outputs": [
    {
     "name": "stdout",
     "output_type": "stream",
     "text": [
      "[ 0.0000000e+00  1.0000000e+00  1.2246468e-16 -1.0000000e+00]\n"
     ]
    }
   ],
   "source": [
    "y = np.zeros(len(x))\n",
    "for i in range(len(x)):\n",
    "    y[i] = np.sin(x[i])\n",
    "\n",
    "print(y)"
   ]
  },
  {
   "cell_type": "markdown",
   "metadata": {},
   "source": [
    "but the program becomes longer and harder to read. Additionally, in many cases it will be much slower.\n",
    "You might see manipulation of arrays without indexing referred to as 'vectorisation'. When possible, vectorisation is a good thing to do. We compare the performance of indexing versus vectorisation below."
   ]
  },
  {
   "cell_type": "markdown",
   "metadata": {},
   "source": [
    "但程序变得越来越难以阅读。此外，在许多情况下，它会慢得多。\n",
    "您可能会看到没有索引的数组操作，称为 “矢量化”。在可能的情况下，矢量化是一件好事。我们比较下面的索引与矢量化的性能。"
   ]
  },
  {
   "cell_type": "markdown",
   "metadata": {},
   "source": [
    "<font size=4 weight=600 >Performance example: computing the norm of a long vector</font>"
   ]
  },
  {
   "cell_type": "markdown",
   "metadata": {},
   "source": [
    "The norm of a vector $x$ is given by:"
   ]
  },
  {
   "cell_type": "markdown",
   "metadata": {},
   "source": [
    "$$\n",
    "\\| x \\| = \\sqrt{\\sum_{i=0}^{n-1} x_{i} x_{i}}\n",
    "$$"
   ]
  },
  {
   "cell_type": "markdown",
   "metadata": {},
   "source": [
    "where $x_{i}$ is the $i$th entry of $x$. It is the dot product of a vector with itself,\n",
    "followed by taking the square root.\n",
    "To compute the norm, we could loop/iterate over the entries of the vector and sum the square of each entry, and then take the square root of the result."
   ]
  },
  {
   "cell_type": "markdown",
   "metadata": {},
   "source": [
    "We will evaluate the norm using two methods for computing the norm of an array of length 10 million to compare their performance. We first create a vector with 10 million random entries, using NumPy:"
   ]
  },
  {
   "cell_type": "markdown",
   "metadata": {},
   "source": [
    "<font size=4 weight=600 >性能示例：计算长向量的范数</font>"
   ]
  },
  {
   "cell_type": "markdown",
   "metadata": {},
   "source": [
    "向量$x$ 的范数（此处计算的是二阶范数，也就是向量的长度）由下式给出："
   ]
  },
  {
   "cell_type": "markdown",
   "metadata": {},
   "source": [
    "$$\n",
    "\\| x \\| = \\sqrt{\\sum_{i=0}^{n-1} x_{i} x_{i}}\n",
    "$$"
   ]
  },
  {
   "cell_type": "markdown",
   "metadata": {},
   "source": [
    "其中 $x_{i}$是$x$的第$i$元素。它是矢量与自身的点积，然后取平方根。\n",
    "为了计算范数，我们可以循环 / 迭代向量的条目并对每个条目的平方求和，然后取结果的平方根。"
   ]
  },
  {
   "cell_type": "markdown",
   "metadata": {},
   "source": [
    "我们将使用两种方法来评估，以计算长度为 1000 万的数组的范数，以比较它们的性能。我们首先使用 NumPy 创建一个包含 1000 万个随机条目的向量："
   ]
  },
  {
   "cell_type": "code",
   "execution_count": 18,
   "metadata": {},
   "outputs": [
    {
     "name": "stdout",
     "output_type": "stream",
     "text": [
      "<class 'numpy.ndarray'>\n"
     ]
    }
   ],
   "source": [
    "## Create a NumPy array with 10 million random values\n",
    "x = np.random.rand(10000000)\n",
    "print(type(x))"
   ]
  },
  {
   "cell_type": "markdown",
   "metadata": {},
   "source": [
    "We now time how long it takes to compute the norm of the vector using the NumPy function '`numpy.dot`'. We use the Jupyter 'magic command' [`%time`](Notebook_tips.ipynb#Simple-timing) to time the operation:"
   ]
  },
  {
   "cell_type": "markdown",
   "metadata": {},
   "source": [
    "我们现在计算使用 NumPy 函数'`numpy.dot`'来计算向量范数需要多长时间。我们使用 Jupyter'魔术命令 [`%time`](Notebook_tips.ipynb#Simple-timing) 来为操作计时："
   ]
  },
  {
   "cell_type": "code",
   "execution_count": 19,
   "metadata": {},
   "outputs": [
    {
     "name": "stdout",
     "output_type": "stream",
     "text": [
      "CPU times: user 6.34 ms, sys: 0 ns, total: 6.34 ms\n",
      "Wall time: 5.34 ms\n",
      "1825.4805730455523\n"
     ]
    }
   ],
   "source": [
    "%time norm = np.sqrt(np.dot(x, x))\n",
    "print(norm)"
   ]
  },
  {
   "cell_type": "markdown",
   "metadata": {},
   "source": [
    "The time output of interest is '`Wall time`'."
   ]
  },
  {
   "cell_type": "markdown",
   "metadata": {},
   "source": [
    "> The details of how`%time`works are not important for this course. We use it as a compact and covenient tool to\n",
    "> measure how much time a command takes to execute."
   ]
  },
  {
   "cell_type": "markdown",
   "metadata": {},
   "source": [
    "We now perform the same operation with our own function for computing the norm:"
   ]
  },
  {
   "cell_type": "markdown",
   "metadata": {},
   "source": [
    "我们感兴趣的时间是 “Wall time”。"
   ]
  },
  {
   "cell_type": "markdown",
   "metadata": {},
   "source": [
    "> “％time” 如何运作的细节对于本课程并不重要。我们将它用作一个紧凑而便捷的工具来衡量命令执行的时间。"
   ]
  },
  {
   "cell_type": "markdown",
   "metadata": {},
   "source": [
    "我们现在使用我们自己的函数执行相同的操作来计算范数："
   ]
  },
  {
   "cell_type": "code",
   "execution_count": 20,
   "metadata": {},
   "outputs": [
    {
     "name": "stdout",
     "output_type": "stream",
     "text": [
      "CPU times: user 1.15 s, sys: 2.24 ms, total: 1.15 s\n",
      "Wall time: 1.15 s\n",
      "1825.480573045718\n"
     ]
    }
   ],
   "source": [
    "def compute_norm(x):\n",
    "    norm = 0.0\n",
    "    for xi in x:\n",
    "        norm += xi*xi\n",
    "    return np.sqrt(norm)\n",
    "\n",
    "%time norm =compute_norm(x)\n",
    "print(norm)"
   ]
  },
  {
   "cell_type": "markdown",
   "metadata": {},
   "source": [
    "You should see that the two approaches give the same result, but the\n",
    "NumPy function is more than 100 times faster, and possibly more than 100,000 times faster!"
   ]
  },
  {
   "cell_type": "markdown",
   "metadata": {},
   "source": [
    "The message is that specialised functions and data structures for numerical computations can be many orders of magnitude faster than your own general implementations. On top of that, the specialised functions are much less\n",
    "likely to have bugs!"
   ]
  },
  {
   "cell_type": "markdown",
   "metadata": {},
   "source": [
    "您应该看到这两种方法给出相同的结果，但是\n",
    "NumPy 功能的速度提高了 100 多倍，速度可能超过 100,000 倍！"
   ]
  },
  {
   "cell_type": "markdown",
   "metadata": {},
   "source": [
    "这个实验传达的消息是，用于数值计算的专用函数和数据结构可以比您自己的一般实现快许多个数量级。最重要的是，专门的功能不太可能有 bug！"
   ]
  },
  {
   "cell_type": "markdown",
   "metadata": {},
   "source": [
    "**XUE.cn 练习题**：\n",
    "\n",
    "- [选择题 ★★★ numpy 数组的 sum 方法求和](https://xue.cn/hub/app/exercise/318)\n",
    "\n",
    "- [选择题 ★★★ numpy 数组的 ravel 方法](https://xue.cn/hub/app/exercise/319)\n",
    "\n",
    "- [编程题 ★★★ 创建长度为 10 的零向量](https://xue.cn/hub/app/exercise/1233)\n",
    "\n",
    "- [编程题 ★★★ 获取数组所占内存大小](https://xue.cn/hub/app/exercise/1234)\n",
    "\n",
    "- [编程题 ★★★ 怎么用命令行获取 numpy add 函数的文档说明？](https://xue.cn/hub/app/exercise/1235)\n",
    "\n",
    "- [编程题 ★★★ 创建一个长度为 10 的零向量，并把第五个值赋值为 1](https://xue.cn/hub/app/exercise/1236)"
   ]
  },
  {
   "cell_type": "markdown",
   "metadata": {},
   "source": [
    "### Two-dimensional arrays"
   ]
  },
  {
   "cell_type": "markdown",
   "metadata": {},
   "source": [
    "Two-dimensional arrays are very useful for arranging data in many engineering applications and for performing mathematical operations. Commonly, 2D arrays are used to represents matrices. To create the matrix"
   ]
  },
  {
   "cell_type": "markdown",
   "metadata": {},
   "source": [
    "$$\n",
    "A =\n",
    "\\begin{bmatrix}\n",
    "2.2 & 3.7 & 9.1\\\\\n",
    "-4 & 3.1 & 1.3\n",
    "\\end{bmatrix}\n",
    "$$"
   ]
  },
  {
   "cell_type": "markdown",
   "metadata": {},
   "source": [
    "we use:"
   ]
  },
  {
   "cell_type": "markdown",
   "metadata": {},
   "source": [
    "### 二维数组"
   ]
  },
  {
   "cell_type": "markdown",
   "metadata": {},
   "source": [
    "二维数组对于在许多工程应用中安排数据和执行数学运算非常有用。通常，二维数组用于表示矩阵。创建矩阵"
   ]
  },
  {
   "cell_type": "markdown",
   "metadata": {},
   "source": [
    "$$\n",
    "A =\n",
    "\\begin{bmatrix}\n",
    "2.2 & 3.7 & 9.1\\\\\n",
    "-4 & 3.1 & 1.3\n",
    "\\end{bmatrix}\n",
    "$$"
   ]
  },
  {
   "cell_type": "markdown",
   "metadata": {},
   "source": [
    "我们用："
   ]
  },
  {
   "cell_type": "code",
   "execution_count": 21,
   "metadata": {},
   "outputs": [
    {
     "name": "stdout",
     "output_type": "stream",
     "text": [
      "[[ 2.2  3.7  9.1]\n",
      " [-4.   3.1  1.3]]\n"
     ]
    }
   ],
   "source": [
    "A = np.array([[2.2, 3.7, 9.1], [-4.0, 3.1, 1.3]])\n",
    "print(A)"
   ]
  },
  {
   "cell_type": "markdown",
   "metadata": {},
   "source": [
    "If we check the length of`A`:\n",
    "\n",
    "如果我们检查 `A` 的长度："
   ]
  },
  {
   "cell_type": "code",
   "execution_count": 22,
   "metadata": {},
   "outputs": [
    {
     "name": "stdout",
     "output_type": "stream",
     "text": [
      "2\n"
     ]
    }
   ],
   "source": [
    "print(len(A))"
   ]
  },
  {
   "cell_type": "markdown",
   "metadata": {},
   "source": [
    "it reports the number of rows. To get the shape of the array, we use:"
   ]
  },
  {
   "cell_type": "markdown",
   "metadata": {},
   "source": [
    "它只报告了行数。为了获得数组的形状，我们使用："
   ]
  },
  {
   "cell_type": "code",
   "execution_count": 23,
   "metadata": {},
   "outputs": [
    {
     "name": "stdout",
     "output_type": "stream",
     "text": [
      "(2, 3)\n"
     ]
    }
   ],
   "source": [
    "print(A.shape)"
   ]
  },
  {
   "cell_type": "markdown",
   "metadata": {},
   "source": [
    "which reports 2 rows and 3 columns (stored using a tuple). To get the number of rows and the number of columns,"
   ]
  },
  {
   "cell_type": "markdown",
   "metadata": {},
   "source": [
    "这次报告了 2 行 3 列（使用元组存储）。要获取行数和列数，"
   ]
  },
  {
   "cell_type": "code",
   "execution_count": 24,
   "metadata": {},
   "outputs": [
    {
     "name": "stdout",
     "output_type": "stream",
     "text": [
      "Number of rows is 2, number of columns is 3.\n"
     ]
    }
   ],
   "source": [
    "num_rows = A.shape[0]\n",
    "num_cols = A.shape[1]\n",
    "print(\"Number of rows is {}, number of columns is {}.\".format(num_rows, num_cols))"
   ]
  },
  {
   "cell_type": "markdown",
   "metadata": {},
   "source": [
    "We can 'index' into a 2D array using two indices, the first for the row index and the second for the column index:"
   ]
  },
  {
   "cell_type": "markdown",
   "metadata": {},
   "source": [
    "我们可以使用两个数字来 “索引” 到 2D 数组中，第一个用于行索引，第二个用于列索引："
   ]
  },
  {
   "cell_type": "code",
   "execution_count": 25,
   "metadata": {},
   "outputs": [
    {
     "name": "stdout",
     "output_type": "stream",
     "text": [
      "9.1\n"
     ]
    }
   ],
   "source": [
    "A02 = A[0, 2]\n",
    "print(A02)"
   ]
  },
  {
   "cell_type": "markdown",
   "metadata": {},
   "source": [
    "With`A[1]`, we will get the second row:"
   ]
  },
  {
   "cell_type": "markdown",
   "metadata": {},
   "source": [
    "使用 `A [1]`，我们将获得第二行："
   ]
  },
  {
   "cell_type": "code",
   "execution_count": 26,
   "metadata": {},
   "outputs": [
    {
     "name": "stdout",
     "output_type": "stream",
     "text": [
      "[-4.   3.1  1.3]\n"
     ]
    }
   ],
   "source": [
    "print(A[1])"
   ]
  },
  {
   "cell_type": "markdown",
   "metadata": {},
   "source": [
    "We can iterate over the entries of`A`by iterating over the rows, and then the entry in each row:"
   ]
  },
  {
   "cell_type": "markdown",
   "metadata": {},
   "source": [
    "我们可以通过迭代遍历 `A` 中的每一行，然后遍历每行中的元素："
   ]
  },
  {
   "cell_type": "code",
   "execution_count": 27,
   "metadata": {},
   "outputs": [
    {
     "name": "stdout",
     "output_type": "stream",
     "text": [
      "-----\n",
      "2.2\n",
      "3.7\n",
      "9.1\n",
      "-----\n",
      "-4.0\n",
      "3.1\n",
      "1.3\n"
     ]
    }
   ],
   "source": [
    "for row in A:\n",
    "    print(\"-----\")\n",
    "    for c in row:\n",
    "        print(c)"
   ]
  },
  {
   "cell_type": "markdown",
   "metadata": {},
   "source": [
    "> **Warning:** NumPy has a`numpy.matrix`data structure. Its use is not recommended as it behaves inconsistently in some cases."
   ]
  },
  {
   "cell_type": "markdown",
   "metadata": {},
   "source": [
    "> **警告：** NumPy 有一个 `numpy.matrix` 数据结构。不推荐使用它，因为它在某些情况下表现不一致。"
   ]
  },
  {
   "cell_type": "markdown",
   "metadata": {},
   "source": [
    "<font size=4 weight=600 >2D array (matrix) operations</font>"
   ]
  },
  {
   "cell_type": "markdown",
   "metadata": {},
   "source": [
    "For those who have seen matrices previously, the operations in this section will be familiar. For those who have not encountered matrices, you might want to revisit this section once matrices have been covered in the mathematics lectures."
   ]
  },
  {
   "cell_type": "markdown",
   "metadata": {},
   "source": [
    "<font size=4 weight=600 >二维数组（矩阵）运算</font>"
   ]
  },
  {
   "cell_type": "markdown",
   "metadata": {},
   "source": [
    "对于之前见过矩阵的人来说，本节中的操作还是比较熟悉的。对于那些没有遇到矩阵的人，日后数学讲座中涉及矩阵，您可能需要重新阅读本节。"
   ]
  },
  {
   "cell_type": "markdown",
   "metadata": {},
   "source": [
    "<font size=4>Matrix-vector and matrix-matrix multiplication</font>"
   ]
  },
  {
   "cell_type": "markdown",
   "metadata": {},
   "source": [
    "We will consider the matrix $A$:"
   ]
  },
  {
   "cell_type": "markdown",
   "metadata": {},
   "source": [
    "$$\n",
    "A =\n",
    "\\begin{bmatrix}\n",
    "3.4 & 2.6 \\\\\n",
    "2.1 & 4.5\n",
    "\\end{bmatrix}\n",
    "$$"
   ]
  },
  {
   "cell_type": "markdown",
   "metadata": {},
   "source": [
    "and the vector $x$:"
   ]
  },
  {
   "cell_type": "markdown",
   "metadata": {},
   "source": [
    "$$\n",
    "x =\n",
    "\\begin{bmatrix}\n",
    "0.2 \\\\ -1.1\n",
    "\\end{bmatrix}\n",
    "$$"
   ]
  },
  {
   "cell_type": "markdown",
   "metadata": {},
   "source": [
    "<font size=4>矩阵与向量，矩阵与矩阵的乘法</font>"
   ]
  },
  {
   "cell_type": "markdown",
   "metadata": {},
   "source": [
    "我们将考虑矩阵$A$:"
   ]
  },
  {
   "cell_type": "markdown",
   "metadata": {},
   "source": [
    "$$\n",
    "A =\n",
    "\\begin{bmatrix}\n",
    "3.4 & 2.6 \\\\\n",
    "2.1 & 4.5\n",
    "\\end{bmatrix}\n",
    "$$"
   ]
  },
  {
   "cell_type": "markdown",
   "metadata": {},
   "source": [
    "和向量 $x$:"
   ]
  },
  {
   "cell_type": "markdown",
   "metadata": {},
   "source": [
    "$$\n",
    "x =\n",
    "\\begin{bmatrix}\n",
    "0.2 \\\\ -1.1\n",
    "\\end{bmatrix}\n",
    "$$"
   ]
  },
  {
   "cell_type": "code",
   "execution_count": 28,
   "metadata": {},
   "outputs": [
    {
     "name": "stdout",
     "output_type": "stream",
     "text": [
      "Matrix A:\n",
      " [[3.4 2.6]\n",
      " [2.1 4.5]]\n",
      "Vector x:\n",
      " [ 0.2 -1.1]\n"
     ]
    }
   ],
   "source": [
    "A = np.array([[3.4, 2.6], [2.1, 4.5]])\n",
    "print(\"Matrix A:\\n {}\".format(A))\n",
    "\n",
    "x = np.array([0.2, -1.1])\n",
    "print(\"Vector x:\\n {}\".format(x))"
   ]
  },
  {
   "cell_type": "markdown",
   "metadata": {},
   "source": [
    "We can compute the matrix-vector product $y = Ax$ by:"
   ]
  },
  {
   "cell_type": "markdown",
   "metadata": {},
   "source": [
    "我们可以通过以下方式计算矩阵向量乘积$ y = Ax $："
   ]
  },
  {
   "cell_type": "code",
   "execution_count": 29,
   "metadata": {},
   "outputs": [
    {
     "name": "stdout",
     "output_type": "stream",
     "text": [
      "[-2.18 -4.53]\n"
     ]
    }
   ],
   "source": [
    "y = A.dot(x)\n",
    "print(y)"
   ]
  },
  {
   "cell_type": "markdown",
   "metadata": {},
   "source": [
    "Matrix-matrix multiplication is performed similarly. Computing $C = AB$, where $A$, $B$, and $C$ are all matrices:"
   ]
  },
  {
   "cell_type": "markdown",
   "metadata": {},
   "source": [
    "矩阵与矩阵乘法类似地。计算$ C = AB $，其中$ A $，$ B $和$ C $都是矩阵："
   ]
  },
  {
   "cell_type": "code",
   "execution_count": 30,
   "metadata": {},
   "outputs": [
    {
     "name": "stdout",
     "output_type": "stream",
     "text": [
      "[[4.42 5.2 ]\n",
      " [2.73 9.  ]]\n"
     ]
    }
   ],
   "source": [
    "B = np.array([[1.3, 0], [0, 2.0]])\n",
    "\n",
    "C = A.dot(B)\n",
    "print(C)"
   ]
  },
  {
   "cell_type": "markdown",
   "metadata": {},
   "source": [
    "The inverse of a matrix ($A^{-1}$) and the determinant ($\\det(A)$) can be computed using functions in the NumPy submodule`linalg`:"
   ]
  },
  {
   "cell_type": "markdown",
   "metadata": {},
   "source": [
    "可以使用 NumPy 子模块 `linalg` 中的函数计算矩阵的逆 ($A^{-1}$) 和行列式 ($\\det(A)$)："
   ]
  },
  {
   "cell_type": "code",
   "execution_count": 31,
   "metadata": {},
   "outputs": [
    {
     "name": "stdout",
     "output_type": "stream",
     "text": [
      "Inverse of A:\n",
      " [[ 0.45731707 -0.26422764]\n",
      " [-0.21341463  0.34552846]]\n",
      "Determinant of A: 9.839999999999998\n"
     ]
    }
   ],
   "source": [
    "Ainv = np.linalg.inv(A)\n",
    "print(\"Inverse of A:\\n {}\".format(Ainv))\n",
    "\n",
    "Adet = np.linalg.det(A)\n",
    "print(\"Determinant of A: {}\".format(Adet))"
   ]
  },
  {
   "cell_type": "markdown",
   "metadata": {},
   "source": [
    "> NumPy is large library, so it uses sub-modules to arrange functionality."
   ]
  },
  {
   "cell_type": "markdown",
   "metadata": {},
   "source": [
    "A very common matrix is the *identity matrix* $I$. We can create a $4 \\times 4$ identity matrix using:"
   ]
  },
  {
   "cell_type": "markdown",
   "metadata": {},
   "source": [
    "> NumPy 是大型库，因此它使用子模块来安排功能。"
   ]
  },
  {
   "cell_type": "markdown",
   "metadata": {},
   "source": [
    "一个非常常见的矩阵是*单位矩阵* $I$。我们可以使用以下方法创建$4 \\times 4$单位矩阵："
   ]
  },
  {
   "cell_type": "code",
   "execution_count": 32,
   "metadata": {},
   "outputs": [
    {
     "name": "stdout",
     "output_type": "stream",
     "text": [
      "[[1. 0. 0. 0.]\n",
      " [0. 1. 0. 0.]\n",
      " [0. 0. 1. 0.]\n",
      " [0. 0. 0. 1.]]\n"
     ]
    }
   ],
   "source": [
    "I = np.eye(4)\n",
    "print(I)"
   ]
  },
  {
   "cell_type": "markdown",
   "metadata": {},
   "source": [
    "**XUE.cn 练习题**：\n",
    "\n",
    "- [编程题 ★★★ 将一个向量进行反转（第一个元素变为最后一个元素）](https://xue.cn/hub/app/exercise/1238)\n",
    "\n",
    "- [编程题 ★★★ 创建一个 3x3 的矩阵，值域为 0 到 8](https://xue.cn/hub/app/exercise/1239)\n",
    "\n",
    "- [编程题 ★★★ 创建一个 3x3 的单位矩阵](https://xue.cn/hub/app/exercise/1241)\n",
    "\n",
    "- [编程题 ★★★ 创建一个 3x3x3 的随机数组](https://xue.cn/hub/app/exercise/1242)\n",
    "\n",
    "- [编程题 ★★★ 创建一个 10x10 的随机数组，并找出该数组中的最大值与最小值](https://xue.cn/hub/app/exercise/1243)\n",
    "\n",
    "- [编程题 ★★★ 创建一个长度为 30 的随机向量，并求它的平均值](https://xue.cn/hub/app/exercise/1244)\n",
    "\n",
    "- [编程题 ★★★ 创建一个 2 维数组，该数组边界值为 1，内部的值为 0](https://xue.cn/hub/app/exercise/1245)\n",
    "\n",
    "- [编程题 ★★★ 如何用 0 来填充一个数组的边界？](https://xue.cn/hub/app/exercise/1246)\n",
    "\n",
    "- [编程题 ★★★ 创建一个 5x5 的矩阵，且设置值 1, 2, 3, 4 在其对角线下面一行](https://xue.cn/hub/app/exercise/1247)"
   ]
  },
  {
   "cell_type": "markdown",
   "metadata": {},
   "source": [
    "## Array slicing"
   ]
  },
  {
   "cell_type": "markdown",
   "metadata": {},
   "source": [
    "When working with arrays, it is often useful to extract subsets of an array. We might want just the first 3 entries of a long array, or we might want the second column of a 2D array (matrix). These operations are known as *array slicing* (https://en.wikipedia.org/wiki/Array_slicing)."
   ]
  },
  {
   "cell_type": "markdown",
   "metadata": {},
   "source": [
    "We will explore slicing through examples. We start by creating an array filled with random values:"
   ]
  },
  {
   "cell_type": "markdown",
   "metadata": {},
   "source": [
    "## 数组切片"
   ]
  },
  {
   "cell_type": "markdown",
   "metadata": {},
   "source": [
    "使用数组时，提取数组的子集通常很有用。我们可能只需要长数组的前 3 个元素，或者我们可能需要 2D 数组（矩阵）的第二列。这些操作称为*数组切片*（https://en.wikipedia.org/wiki/Array_slicing）。"
   ]
  },
  {
   "cell_type": "markdown",
   "metadata": {},
   "source": [
    "我们将通过实例探索切片。我们首先创建一个填充随机值的数组："
   ]
  },
  {
   "cell_type": "code",
   "execution_count": 33,
   "metadata": {},
   "outputs": [
    {
     "name": "stdout",
     "output_type": "stream",
     "text": [
      "[0.65273043 0.2217967  0.71295528 0.95785112 0.02222443]\n"
     ]
    }
   ],
   "source": [
    "x = np.random.rand(5)\n",
    "print(x)"
   ]
  },
  {
   "cell_type": "markdown",
   "metadata": {},
   "source": [
    "Below are some slicing operations:"
   ]
  },
  {
   "cell_type": "markdown",
   "metadata": {},
   "source": [
    "以下是一些切片操作："
   ]
  },
  {
   "cell_type": "code",
   "execution_count": 34,
   "metadata": {},
   "outputs": [
    {
     "name": "stdout",
     "output_type": "stream",
     "text": [
      "Slice using '[:]' [0.65273043 0.2217967  0.71295528 0.95785112 0.02222443]\n",
      "Slice using '[1:3]': [0.2217967  0.71295528]\n",
      "Slice using '[2:-1]': [0.71295528 0.95785112]\n",
      "Slice using '[2:-2]': [0.71295528]\n"
     ]
    }
   ],
   "source": [
    "## Using ':' implies the whole range of indices, i.e. from 0 -> (length-1)\n",
    "y = x[:]\n",
    "print(\"Slice using '[:]' {}\".format(y))\n",
    "\n",
    "## Using '1:3' implies indices 1 -> 3 (not including 3)\n",
    "y = x[1:3]\n",
    "print(\"Slice using '[1:3]': {}\".format(y))\n",
    "\n",
    "## Using '2:-1' implies indices 2 -> second-from-last\n",
    "y = x[2:-1]\n",
    "print(\"Slice using '[2:-1]': {}\".format(y))\n",
    "\n",
    "## Using '2:-2' implies indices 2 -> third-from-last\n",
    "y = x[2:-2]\n",
    "print(\"Slice using '[2:-2]': {}\".format(y))"
   ]
  },
  {
   "cell_type": "markdown",
   "metadata": {},
   "source": [
    "> Note the use of the index`-1`. The index`-1`corresponds to the last entry in the array, and`-2`the\n",
    "> second last entry, etc. This is convenient if we know how far in from the end of an array a desired entry is.\n",
    "> By using negative indices we can express this without reference to the length of the array."
   ]
  },
  {
   "cell_type": "markdown",
   "metadata": {},
   "source": [
    "> 注意索引 `-1` 的使用。索引 `-1` 对应于数组中的最后一个条目，`-2` 对应于第二个最后一个条目，以此类推。如果我们知道数组末尾到目标条目的距离是多少，这很方便。通过使用负索引，我们可以在不参考数组长度的情况下表达它。"
   ]
  },
  {
   "cell_type": "markdown",
   "metadata": {},
   "source": [
    "If we want a slice to run from the start of an array, or to the end of an array, we do: "
   ]
  },
  {
   "cell_type": "markdown",
   "metadata": {},
   "source": [
    "如果我们想要从数组的开头或数组的末尾运行切片，我们会这样操作："
   ]
  },
  {
   "cell_type": "code",
   "execution_count": 35,
   "metadata": {},
   "outputs": [
    {
     "name": "stdout",
     "output_type": "stream",
     "text": [
      "Slice using '[:3]': [0.65273043 0.2217967  0.71295528]\n",
      "Slice using '[4:]': [0.02222443]\n",
      "Slice using '[:]': [0.65273043 0.2217967  0.71295528 0.95785112 0.02222443]\n"
     ]
    }
   ],
   "source": [
    "## Using ':3' implies start -> 3 (not including 3)\n",
    "y = x[:3]\n",
    "print(\"Slice using '[:3]': {}\".format(y))\n",
    "\n",
    "## Using '4:' implies 4 -> end\n",
    "y = x[4:]\n",
    "print(\"Slice using '[4:]': {}\".format(y))\n",
    "\n",
    "## Using ':' implies start -> end\n",
    "y = x[:]\n",
    "print(\"Slice using '[:]': {}\".format(y))"
   ]
  },
  {
   "cell_type": "markdown",
   "metadata": {},
   "source": [
    "Slicing can be applied to 2D arrays:\n",
    "\n",
    "切片可以用于二维数组："
   ]
  },
  {
   "cell_type": "code",
   "execution_count": 36,
   "metadata": {},
   "outputs": [
    {
     "name": "stdout",
     "output_type": "stream",
     "text": [
      "[[1.3 0. ]\n",
      " [0.  2. ]]\n",
      "[0. 2.]\n"
     ]
    }
   ],
   "source": [
    "B = np.array([[1.3, 0], [0, 2.0]])\n",
    "print(B)\n",
    "\n",
    "## Extract second row\n",
    "r = B[1, :]\n",
    "print(r)"
   ]
  },
  {
   "cell_type": "markdown",
   "metadata": {},
   "source": [
    "There is more to array slicing syntax, for example it is possible to extract every 3rd entry. If you need to extract a sub-array, check first if you can do it using the compact array slicing syntax."
   ]
  },
  {
   "cell_type": "markdown",
   "metadata": {},
   "source": [
    "数组切片语法还有很多，例如可以提取每 3 个条目的第 3 个。如果需要提取子数组，请首先检查是否可以使用紧凑数组切片语法执行此操作。"
   ]
  },
  {
   "cell_type": "markdown",
   "metadata": {},
   "source": [
    "**XUE.cn 练习题**：\n",
    "\n",
    "- [编程题 ★★★ 如何获得昨天，今天和明天的日期 ?](https://xue.cn/hub/app/exercise/1255)\n",
    "\n",
    "- [编程题 ★★★ 怎么获得所有与 2016 年 7 月的所有日期 ?](https://xue.cn/hub/app/exercise/1256)\n",
    "\n",
    "- [编程题 ★★★ 如何计算 ((A+B)*(-A/2)) (不使用中间变量)?](https://xue.cn/hub/app/exercise/1257)\n",
    "\n",
    "- [编程题 ★★★ 如何判断两随机数组相等](https://xue.cn/hub/app/exercise/1264)\n",
    "\n",
    "- [编程题 ★★★ 创建一个大小为 10 的随机向量并且将该向量中最大的值替换为 0](https://xue.cn/hub/app/exercise/1267)\n",
    "\n",
    "- [编程题 ★★★ 创建一个结构化数组，其中 x 和 y 坐标覆盖 [0, 1]x[1, 0] 区域](https://xue.cn/hub/app/exercise/1268)\n",
    "\n",
    "- [编程题 ★★★ 如何通过滑动窗口计算一个数组的平均数 ?](https://xue.cn/hub/app/exercise/1297)\n",
    "\n",
    "- [编程题 ★★★ 思考以为数组 Z，构建一个二维数组，其第一行是 (Z[0],Z[1],Z[2])，然后每一行移动一位，最后一行为 (Z[-3],Z[-2],Z[-1])](https://xue.cn/hub/app/exercise/1298)"
   ]
  },
  {
   "cell_type": "markdown",
   "metadata": {},
   "source": [
    "## Exercises"
   ]
  },
  {
   "cell_type": "markdown",
   "metadata": {},
   "source": [
    "Complete now the [07 Exercises](Exercises/07_Exercises.ipynb) notebook."
   ]
  },
  {
   "cell_type": "markdown",
   "metadata": {},
   "source": [
    "## 练习\n",
    "现在完成 [练习 07](Exercises/07_Exercises.ipynb)"
   ]
  }
 ],
 "metadata": {
  "kernelspec": {
   "display_name": "Python 3",
   "language": "python",
   "name": "python3"
  },
  "language_info": {
   "codemirror_mode": {
    "name": "ipython",
    "version": 3
   },
   "file_extension": ".py",
   "mimetype": "text/x-python",
   "name": "python",
   "nbconvert_exporter": "python",
   "pygments_lexer": "ipython3",
   "version": "3.7.3"
  }
 },
 "nbformat": 4,
 "nbformat_minor": 4
}
