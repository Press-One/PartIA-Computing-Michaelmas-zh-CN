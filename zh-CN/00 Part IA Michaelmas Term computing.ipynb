{
 "cells": [
  {
   "cell_type": "markdown",
   "metadata": {},
   "source": [
    "<!--英文标记开始-->"
   ]
  },
  {
   "cell_type": "markdown",
   "metadata": {},
   "source": [
    "# Part IA Michaelmas Term computing"
   ]
  },
  {
   "cell_type": "markdown",
   "metadata": {},
   "source": [
    "This is the introductory notebook for Michaelmas Term computing at the Department of Engineering at University of Cambridge."
   ]
  },
  {
   "cell_type": "markdown",
   "metadata": {},
   "source": [
    "The course is for first year students in their first term, and does not assume any prior computing experience. It does assume a level of mathematical knowledge. <!--英文标记结束-->"
   ]
  },
  {
   "cell_type": "markdown",
   "metadata": {},
   "source": [
    "## Part IA Michaelmas Term computing"
   ]
  },
  {
   "cell_type": "markdown",
   "metadata": {},
   "source": [
    "这是剑桥大学工程系 Michaelmas Term 计算机课程的入门课程笔记本。"
   ]
  },
  {
   "cell_type": "markdown",
   "metadata": {},
   "source": [
    "该课程适用于第一学期的一年级学生，并不需要任何编程经验。但它确实需要具有一定的数学知识。"
   ]
  },
  {
   "cell_type": "markdown",
   "metadata": {},
   "source": [
    "<!--英文标记开始-->"
   ]
  },
  {
   "cell_type": "markdown",
   "metadata": {},
   "source": [
    "# Structure<!--英文标记结束-->"
   ]
  },
  {
   "cell_type": "markdown",
   "metadata": {},
   "source": [
    "<!--英文标记开始-->"
   ]
  },
  {
   "cell_type": "markdown",
   "metadata": {},
   "source": [
    "Computing is best learned by doing, and seeking help when you need it. This course involves 12 self-study, interactive Jupyter notebook 'activities', with exercises at the end of each\n",
    "activity. The activity notebooks cover:<!--英文标记结束-->"
   ]
  },
  {
   "cell_type": "markdown",
   "metadata": {},
   "source": [
    "## 课程设置"
   ]
  },
  {
   "cell_type": "markdown",
   "metadata": {},
   "source": [
    "计算机最好通过实践来学习，并在需要时寻求帮助。本课程包括 12 个可以自学的互动 Jupyter 笔记本，每个课程结束时还有练习题。笔记本涵盖如下内容："
   ]
  },
  {
   "cell_type": "markdown",
   "metadata": {},
   "source": [
    "<!--英文标记开始-->"
   ]
  },
  {
   "cell_type": "markdown",
   "metadata": {},
   "source": [
    "1. [Variables, assignment and operator precedence](01%20Variables,%20assignment%20and%20operator%20precedence.ipynb)\n",
    "1. [Control statements](02%20Control%20statements.ipynb)\n",
    "1. [Types, type conversions and floating point arithmetic](03%20Types,%20type%20conversions%20and%20floating%20point%20arithmetic.ipynb)\n",
    "1. [Functions](04%20Functions.ipynb)\n",
    "1. [Library functions](05%20Library%20functions.ipynb)\n",
    "1. [Data structures](06%20Data%20structures.ipynb)\n",
    "1. [Numerical computation](07%20Numerical%20computation.ipynb)\n",
    "1. [Plotting](08%20Plotting.ipynb)\n",
    "1. [Error handling and testing](09%20Error%20handling%20and%20testing.ipynb)\n",
    "1. [Algorithms](10%20Algorithms.ipynb)\n",
    "1. [Complexity](11%20Complexity.ipynb)\n",
    "1. [Object-oriented design](12%20Object-oriented%20design.ipynb)<!--英文标记结束-->"
   ]
  },
  {
   "cell_type": "markdown",
   "metadata": {},
   "source": [
    "1. [变量，赋值和运算符优先级](01%20Variables,%20assignment%20and%20operator%20precedence.ipynb)\n",
    "1. [条件控制](02%20Control%20statements.ipynb)\n",
    "1. [数据类型，类型转换和浮点运算](03%20Types,%20type%20conversions%20and%20floating%20point%20arithmetic.ipynb)\n",
    "1. [函数](04%20Functions.ipynb)\n",
    "1. [库函数](05%20Library%20functions.ipynb)\n",
    "1. [数据结构](06%20Data%20structures.ipynb)\n",
    "1. [数值运算](07%20Numerical%20computation.ipynb)\n",
    "1. [绘图](08%20Plotting.ipynb)\n",
    "1. [错误处理和测试](09%20Error%20handling%20and%20testing.ipynb)\n",
    "1. [算法](10%20Algorithms.ipynb)\n",
    "1. [复杂度](11%20Complexity.ipynb)\n",
    "1. [面向对象的设计](12%20Object-oriented%20design.ipynb)"
   ]
  },
  {
   "cell_type": "markdown",
   "metadata": {},
   "source": [
    "<!--英文标记开始-->"
   ]
  },
  {
   "cell_type": "markdown",
   "metadata": {},
   "source": [
    "The notebooks are designed to be completed in order. To complete an activity:"
   ]
  },
  {
   "cell_type": "markdown",
   "metadata": {},
   "source": [
    "1. Read through a notebook, and change parts of the programs if you want to experiment with what\n",
    "   happens - this will help your understanding.\n",
    "1. Complete the exercises for the notebook before moving onto the next activity."
   ]
  },
  {
   "cell_type": "markdown",
   "metadata": {},
   "source": [
    "As you move through the activities you might need to revise some of the earlier notebooks.<!--英文标记结束-->"
   ]
  },
  {
   "cell_type": "markdown",
   "metadata": {},
   "source": [
    "Jupyter 笔记本应当顺序完成。对于每个笔记本应当完成如下："
   ]
  },
  {
   "cell_type": "markdown",
   "metadata": {},
   "source": [
    "1. 通读笔记本，如果想要试验一下，可以更改部分程序，看看发生了什么--这将有助于您的理解。\n",
    "1. 在打开下一个 jupyter 笔记本之前，应当完成本次课程的练习。"
   ]
  },
  {
   "cell_type": "markdown",
   "metadata": {},
   "source": [
    "当您浏览时，您可能需要复习之前的笔记本。"
   ]
  },
  {
   "cell_type": "markdown",
   "metadata": {},
   "source": [
    "<!--英文标记开始-->"
   ]
  },
  {
   "cell_type": "markdown",
   "metadata": {},
   "source": [
    "## Completing exercises"
   ]
  },
  {
   "cell_type": "markdown",
   "metadata": {},
   "source": [
    "Exercises for each notebook are in the [Exercises](Exercises/) directory."
   ]
  },
  {
   "cell_type": "markdown",
   "metadata": {},
   "source": [
    "- Use Markdown cells, and where appropriate add equations using LaTeX, to describe what your program is doing.\n",
    "- For longer exercises, you may want to break your program into multiple cells, with descriptions in\n",
    "  Markdown before cells with code.\n",
    "- Most exercises include some automated testing to provide feedback on the correctness of\n",
    "  your implementations. You are not expected to understand the test syntax to start."
   ]
  },
  {
   "cell_type": "markdown",
   "metadata": {},
   "source": [
    "You are required to present your exercise solutions at a marking session. Check the lab rota for your timetabled marking slot.\n",
    "<!--英文标记结束-->"
   ]
  },
  {
   "cell_type": "markdown",
   "metadata": {},
   "source": [
    "## 完成习题"
   ]
  },
  {
   "cell_type": "markdown",
   "metadata": {},
   "source": [
    "每个笔记本的习题都在 [Exercises](Exercises/) 目录中。"
   ]
  },
  {
   "cell_type": "markdown",
   "metadata": {},
   "source": [
    "- 使用 Markdown 单元格，并在适当的情况下使用 LaTeX 添加方程式，以描述您的程序正在执行的操作。\n",
    "- 对于较长的习题，您可能希望将程序分成多个单元格，并使用 Markdown 在代码单元格之前进行说明。\n",
    "- 大多数练习包括一些自动化测试，以提供有关你解答的正确与否的反馈。开始时，您不需要理解测试语法。\n",
    "  "
   ]
  },
  {
   "cell_type": "markdown",
   "metadata": {},
   "source": [
    "<!--英文标记开始-->"
   ]
  },
  {
   "cell_type": "markdown",
   "metadata": {},
   "source": [
    "## Getting help"
   ]
  },
  {
   "cell_type": "markdown",
   "metadata": {},
   "source": [
    "The best resource is the Internet. For Cambridge students there is also:"
   ]
  },
  {
   "cell_type": "markdown",
   "metadata": {},
   "source": [
    "1. The help forum at https://www.allanswered.com/community/s/cued-part-ia-computing/."
   ]
  },
  {
   "cell_type": "markdown",
   "metadata": {},
   "source": [
    "This should be the first place you look for help - at any time\n",
    "of the day or night. Check first if your question has already\n",
    "been asked and answered, and if not post a new question. Follow the forum guidelines\n",
    "on how to ask a question."
   ]
  },
  {
   "cell_type": "markdown",
   "metadata": {},
   "source": [
    "2. Help Desk in the DPO\n",
    "<!--英文标记结束-->"
   ]
  },
  {
   "cell_type": "markdown",
   "metadata": {},
   "source": [
    "## 获得帮助"
   ]
  },
  {
   "cell_type": "markdown",
   "metadata": {},
   "source": [
    "最好的资源是互联网。对于剑桥学生，还有："
   ]
  },
  {
   "cell_type": "markdown",
   "metadata": {},
   "source": [
    "1.<https://www.allanswered.com/community/s/cued-part-ia-computing/> 上的帮助论坛。\n",
    "   \n",
    "    这应该是您寻求帮助的第一个地方 - 无论白天还是晚上。在提问前，请先检查您的问题是否已经被问过和回答了。请遵守有关如何提问的论坛指南。\n",
    "   \n",
    "2. DPO 中的帮助台"
   ]
  },
  {
   "cell_type": "markdown",
   "metadata": {},
   "source": [
    "<!--英文标记开始-->"
   ]
  },
  {
   "cell_type": "markdown",
   "metadata": {},
   "source": [
    "### Providing help"
   ]
  },
  {
   "cell_type": "markdown",
   "metadata": {},
   "source": [
    "Please help out by answering questions on the AllAnswered forum. Helping each other is encouraged - if you receive help make sure that you do understand what you have done.\n",
    "<!--英文标记结束-->"
   ]
  },
  {
   "cell_type": "markdown",
   "metadata": {},
   "source": [
    "### 提供帮助"
   ]
  },
  {
   "cell_type": "markdown",
   "metadata": {},
   "source": [
    "请通过回答 AllAnswered 论坛上的问题来提供帮助。鼓励互相帮助 - 如果你得到帮助，请确保你明白你做了什么。"
   ]
  },
  {
   "cell_type": "markdown",
   "metadata": {},
   "source": [
    "<!--英文标记开始-->"
   ]
  },
  {
   "cell_type": "markdown",
   "metadata": {},
   "source": [
    "## Jupyter notebooks"
   ]
  },
  {
   "cell_type": "markdown",
   "metadata": {},
   "source": [
    "This is a Jupyter Notebook. We will be computing using Jupyter Notebooks (https://jupyter.org/) and\n",
    "the programming language Python (https://www.python.org/).\n",
    "Jupyter Notebooks provide an interactive environment where you can mix text, equations, programming\n",
    "and visual outputs. This is new technology that is increasingly widely used, and it is all open-source.\n",
    "You will find Jupyter Notebooks useful throughout the course.\n",
    "<!--英文标记结束-->"
   ]
  },
  {
   "cell_type": "markdown",
   "metadata": {},
   "source": [
    "## Jupyter 笔记本"
   ]
  },
  {
   "cell_type": "markdown",
   "metadata": {},
   "source": [
    "这是一个 Jupyter 笔记本。我们将使用 Jupyter 笔记本（https://jupyter.org/ ）和编程语言 Python（https://www.python.org/ ）进行计算。\n",
    "Jupyter 笔记本提供了一个交互式环境，您可以在其中混合文本、方程式、编程和图像输出。这是一种越来越广泛使用的新技术，它是完全开源的。\n",
    "您将在整个课程中发现 Jupyter 笔记本非常有用。"
   ]
  },
  {
   "cell_type": "markdown",
   "metadata": {},
   "source": [
    "<!--英文标记开始-->"
   ]
  },
  {
   "cell_type": "markdown",
   "metadata": {},
   "source": [
    "### Using notebooks"
   ]
  },
  {
   "cell_type": "markdown",
   "metadata": {},
   "source": [
    "See the notebook [Using notebooks](Using%20notebooks.ipynb) for guidence.\n",
    "<!--英文标记结束-->"
   ]
  },
  {
   "cell_type": "markdown",
   "metadata": {},
   "source": [
    "### 使用 Jupyter 笔记本\n",
    "请参阅 [使用 Jupyter 笔记本](Using%20notebooks.ipynb) 获取指导。"
   ]
  },
  {
   "cell_type": "markdown",
   "metadata": {},
   "source": [
    "<!--英文标记开始-->"
   ]
  },
  {
   "cell_type": "markdown",
   "metadata": {},
   "source": [
    "### Running notebooks"
   ]
  },
  {
   "cell_type": "markdown",
   "metadata": {},
   "source": [
    "<font size=4 weight=600 >Azure notebook service</font>"
   ]
  },
  {
   "cell_type": "markdown",
   "metadata": {},
   "source": [
    "Using the Jupyter service hosted at https://notebooks.azure.com/ is recommended. Log in using your CRSid."
   ]
  },
  {
   "cell_type": "markdown",
   "metadata": {},
   "source": [
    "<font size=4 weight=600 >Running locally</font>"
   ]
  },
  {
   "cell_type": "markdown",
   "metadata": {},
   "source": [
    "Jupyter can be run locally. If you choose to do so, the [Anaconda](https://www.anaconda.com/download) distribution is recommended. Be sure to download the Python 3 version. Anaconda is also installed in the DPO.\n",
    "<!--英文标记结束-->"
   ]
  },
  {
   "cell_type": "markdown",
   "metadata": {},
   "source": [
    "### 运行笔记本"
   ]
  },
  {
   "cell_type": "markdown",
   "metadata": {},
   "source": [
    "<font size=4 weight=600 >Azure 笔记本服务</font>"
   ]
  },
  {
   "cell_type": "markdown",
   "metadata": {},
   "source": [
    "建议使用 <https://notebooks.azure.com/> 上托管的 Jupyter 服务。使用您的 CRSid 登录。【译者注：也可以自己注册一个微软账号免费使用】"
   ]
  },
  {
   "cell_type": "markdown",
   "metadata": {},
   "source": [
    "<font size=4 weight=600 >在本地运行【译者注：但强烈不建议初学者在本地运行】</font>"
   ]
  },
  {
   "cell_type": "markdown",
   "metadata": {},
   "source": [
    "Jupyter 可以在本地运行。如果您选择这样做，建议使用 [Anaconda](https://www.anaconda.com/download) 发行版。请务必下载 Python 3 版本。Anaconda 也安装在 DPO 中。"
   ]
  },
  {
   "cell_type": "markdown",
   "metadata": {},
   "source": [
    "<!--英文标记开始-->"
   ]
  },
  {
   "cell_type": "markdown",
   "metadata": {},
   "source": [
    "### Python version"
   ]
  },
  {
   "cell_type": "markdown",
   "metadata": {},
   "source": [
    "We will be using exclusively Python 3. There are some subtle differences between Python 2 and Python 3. Bear this in mind if using a book or searching online. Most books still use Python 2 syntax.\n",
    "<!--英文标记结束-->"
   ]
  },
  {
   "cell_type": "markdown",
   "metadata": {},
   "source": [
    "### Python 版本"
   ]
  },
  {
   "cell_type": "markdown",
   "metadata": {},
   "source": [
    "我们将专门使用 Python 3。Python 2 和 Python 3 之间存在一些细微差别。如果使用书籍或在线搜索，请记住这一点。很多书籍仍然使用 Python 2 语法。"
   ]
  },
  {
   "cell_type": "markdown",
   "metadata": {},
   "source": [
    "<!--英文标记开始-->"
   ]
  },
  {
   "cell_type": "markdown",
   "metadata": {},
   "source": [
    "## Other resources"
   ]
  },
  {
   "cell_type": "markdown",
   "metadata": {},
   "source": [
    "There are many online resources for learning computing, Python, and on using Jupyter notebooks.\n",
    "A search engine is the best way to find relevant material. Remember that we are using\n",
    "Python 3 and not Python 2 - you might want to add 'python 3' to any search query."
   ]
  },
  {
   "cell_type": "markdown",
   "metadata": {},
   "source": [
    "A useful resource for beginners is https://www.codecademy.com/learn/python.\n",
    "<!--英文标记结束-->"
   ]
  },
  {
   "cell_type": "markdown",
   "metadata": {},
   "source": [
    "## 其他资源"
   ]
  },
  {
   "cell_type": "markdown",
   "metadata": {},
   "source": [
    "有许多用于学习计算、Python 和使用 Jupyter 笔记本的在线资源。搜索引擎是查找相关资料的最佳方式。请记住，我们使用的是 Python 3 而不是 Python 2 - 您可能希望将 “python 3” 添加到任何搜索查询中。"
   ]
  },
  {
   "cell_type": "markdown",
   "metadata": {},
   "source": [
    "对初学者的有用资源是 https://www.codecademy.com/learn/python"
   ]
  }
 ],
 "metadata": {
  "kernelspec": {
   "display_name": "Python 3",
   "language": "python",
   "name": "python3"
  },
  "language_info": {
   "codemirror_mode": {
    "name": "ipython",
    "version": 3
   },
   "file_extension": ".py",
   "mimetype": "text/x-python",
   "name": "python",
   "nbconvert_exporter": "python",
   "pygments_lexer": "ipython3",
   "version": "3.7.3"
  }
 },
 "nbformat": 4,
 "nbformat_minor": 4
}