{
 "cells": [
  {
   "cell_type": "markdown",
   "metadata": {},
   "source": [
    "## Introduction"
   ]
  },
  {
   "cell_type": "markdown",
   "metadata": {},
   "source": [
    "We begin with assignment to variables and familiar mathematical operations."
   ]
  },
  {
   "cell_type": "markdown",
   "metadata": {},
   "source": [
    "### Objectives"
   ]
  },
  {
   "cell_type": "markdown",
   "metadata": {},
   "source": [
    "- Introduce expressions and basic operators\n",
    "- Introduce operator precedence\n",
    "- Understand variables and assignment"
   ]
  },
  {
   "cell_type": "markdown",
   "metadata": {},
   "source": [
    "## 介绍"
   ]
  },
  {
   "cell_type": "markdown",
   "metadata": {},
   "source": [
    "我们从给变量赋值和熟悉的数学运算开始。"
   ]
  },
  {
   "cell_type": "markdown",
   "metadata": {},
   "source": [
    "### 目标"
   ]
  },
  {
   "cell_type": "markdown",
   "metadata": {},
   "source": [
    "- 介绍表达式和基本运算符\n",
    "- 介绍运算符的优先级\n",
    "- 理解变量和赋值"
   ]
  },
  {
   "cell_type": "markdown",
   "metadata": {},
   "source": [
    "## Evaluating expressions: simple operators"
   ]
  },
  {
   "cell_type": "markdown",
   "metadata": {},
   "source": [
    "We can use Python like a calculator. Consider the simple expression $3 + 8$. We can evaluate and print this by:"
   ]
  },
  {
   "cell_type": "markdown",
   "metadata": {},
   "source": [
    "## 计算表达式：简单的运算符"
   ]
  },
  {
   "cell_type": "markdown",
   "metadata": {},
   "source": [
    "我们可以像计算器一样使用 Python。考虑简单的表达式$ 3 + 8 $。我们可以通过以下方式计算和打印："
   ]
  },
  {
   "cell_type": "code",
   "execution_count": 5,
   "metadata": {},
   "outputs": [
    {
     "data": {
      "text/plain": [
       "11"
      ]
     },
     "execution_count": 5,
     "metadata": {},
     "output_type": "execute_result"
    }
   ],
   "source": [
    "3 + 8"
   ]
  },
  {
   "cell_type": "markdown",
   "metadata": {},
   "source": [
    "Another simple calculation is the gravitational potential $V$ of a body of mass $m$ (point mass) at a distance $r$ from a body of mass $M$, which is given by"
   ]
  },
  {
   "cell_type": "markdown",
   "metadata": {},
   "source": [
    "$$\n",
    "V = \\frac{G M m}{r}\n",
    "$$"
   ]
  },
  {
   "cell_type": "markdown",
   "metadata": {},
   "source": [
    "where $G$ is the *gravitational constant*. A good approximation is $G = 6.674 \\times 10^{-11}$ N m$^{2}$ kg$^{-2}$."
   ]
  },
  {
   "cell_type": "markdown",
   "metadata": {},
   "source": [
    "For the case $M = 1.65 \\times 10^{12}$ kg, $m = 6.1 \\times 10^2$ kg and $r = 7.0 \\times 10^3$ m, we can compute the gravitational potential $V$:"
   ]
  },
  {
   "cell_type": "markdown",
   "metadata": {},
   "source": [
    "另一个简单的计算是质量为$m$的物质（质点）距物质$ M $为$r$时的重力势$V$，，由下式给出"
   ]
  },
  {
   "cell_type": "markdown",
   "metadata": {},
   "source": [
    "$$\n",
    "V = \\frac{G M m}{r}\n",
    "$$"
   ]
  },
  {
   "cell_type": "markdown",
   "metadata": {},
   "source": [
    "其中$ G $是*引力常数*。一个很好的近似值是$G = 6.674 \\times 10^{-11}$ N m$^{2}$ kg$^{-2}$。"
   ]
  },
  {
   "cell_type": "markdown",
   "metadata": {},
   "source": [
    "对于$M = 1.65 \\times 10^{12}$ kg, $m = 6.1 \\times 10^2$ kg 和 $r = 7.0 \\times 10^3$ m,的情况，我们可以计算重力势$V$："
   ]
  },
  {
   "cell_type": "code",
   "execution_count": 6,
   "metadata": {},
   "outputs": [
    {
     "data": {
      "text/plain": [
       "9.59625857142857"
      ]
     },
     "execution_count": 6,
     "metadata": {},
     "output_type": "execute_result"
    }
   ],
   "source": [
    "6.674e-11*1.65e12*6.1e2/7.0e3"
   ]
  },
  {
   "cell_type": "markdown",
   "metadata": {},
   "source": [
    "We have used 'scientific notation' to input the values. For example, the number $8 \\times 10^{-2}$ can be input as`0.08`or`8e-2`. We can easily verify that the two are the same via subtraction:"
   ]
  },
  {
   "cell_type": "markdown",
   "metadata": {},
   "source": [
    "我们使用 “科学记数法” 来输入值。例如，数字$8 \\times 10^{-2}$可以输入为 `0.08` 或 `8e-2`。我们可以通过减法轻松验证两者是否相同："
   ]
  },
  {
   "cell_type": "code",
   "execution_count": 7,
   "metadata": {},
   "outputs": [
    {
     "data": {
      "text/plain": [
       "0.0"
      ]
     },
     "execution_count": 7,
     "metadata": {},
     "output_type": "execute_result"
    }
   ],
   "source": [
    "0.08 - 8e-2"
   ]
  },
  {
   "cell_type": "markdown",
   "metadata": {},
   "source": [
    "A common operation is raising a number to a power. To compute $3^4$:"
   ]
  },
  {
   "cell_type": "markdown",
   "metadata": {},
   "source": [
    "常见的操作是计算数字的幂。计算$3^4$："
   ]
  },
  {
   "cell_type": "code",
   "execution_count": 8,
   "metadata": {},
   "outputs": [
    {
     "data": {
      "text/plain": [
       "81"
      ]
     },
     "execution_count": 8,
     "metadata": {},
     "output_type": "execute_result"
    }
   ],
   "source": [
    "3**4"
   ]
  },
  {
   "cell_type": "markdown",
   "metadata": {},
   "source": [
    "**XUE.cn 练习题**：[表达式 3\\*\\*2 的值是什么？](https://xue.cn/hub/app/exercise/498) [表达式 16\\*\\*0.5 的值是什么？](https://xue.cn/hub/app/exercise/790)"
   ]
  },
  {
   "cell_type": "markdown",
   "metadata": {},
   "source": [
    "The remainder is computed using the modulus operator '`%`':"
   ]
  },
  {
   "cell_type": "markdown",
   "metadata": {},
   "source": [
    "余数是使用模运算符'`%`'计算的："
   ]
  },
  {
   "cell_type": "code",
   "execution_count": 9,
   "metadata": {},
   "outputs": [
    {
     "data": {
      "text/plain": [
       "2"
      ]
     },
     "execution_count": 9,
     "metadata": {},
     "output_type": "execute_result"
    }
   ],
   "source": [
    "11% 3"
   ]
  },
  {
   "cell_type": "markdown",
   "metadata": {},
   "source": [
    "**XUE.cn 练习题**：[表达式 1234%1000//100 的值是什么？](https://xue.cn/hub/app/exercise/759)"
   ]
  },
  {
   "cell_type": "markdown",
   "metadata": {},
   "source": [
    "To get the quotient we use 'floor division', which uses the symbol '`//`':"
   ]
  },
  {
   "cell_type": "markdown",
   "metadata": {},
   "source": [
    "为了获得商，我们使用'floor division'，它使用符号'`//`'："
   ]
  },
  {
   "cell_type": "code",
   "execution_count": 10,
   "metadata": {},
   "outputs": [
    {
     "data": {
      "text/plain": [
       "3"
      ]
     },
     "execution_count": 10,
     "metadata": {},
     "output_type": "execute_result"
    }
   ],
   "source": [
    "11 // 3"
   ]
  },
  {
   "cell_type": "markdown",
   "metadata": {},
   "source": [
    "**XUE.cn 练习题**：[表达式 15 // 4 的值是什么？](https://xue.cn/hub/app/exercise/800) [表达式 3 // 5 的值是什么？](https://xue.cn/hub/app/exercise/766)"
   ]
  },
  {
   "cell_type": "markdown",
   "metadata": {},
   "source": [
    "## Operator precedence"
   ]
  },
  {
   "cell_type": "markdown",
   "metadata": {},
   "source": [
    "Operator precedence refers to the order in which operations are performed, e.g. multiplication before addition.\n",
    "In the preceding examples, there was no ambiguity as to the order of the operations. However, there are common cases where order does matter, and there are two points to consider:"
   ]
  },
  {
   "cell_type": "markdown",
   "metadata": {},
   "source": [
    "- The expression should be evaluated correctly; and\n",
    "- The expression should be simple enough for someone else reading the code to understand what operation is being\n",
    "  performed."
   ]
  },
  {
   "cell_type": "markdown",
   "metadata": {},
   "source": [
    "It is possible to write code that is correct, but which might be very difficult for someone else (or you) to check."
   ]
  },
  {
   "cell_type": "markdown",
   "metadata": {},
   "source": [
    "Most programming languages, including Python, follow the usual mathematical rules for precedence. We explore this through some examples."
   ]
  },
  {
   "cell_type": "markdown",
   "metadata": {},
   "source": [
    "## 运算符优先级"
   ]
  },
  {
   "cell_type": "markdown",
   "metadata": {},
   "source": [
    "运算符优先级是指执行操作的顺序，例如，乘法优先于加法。在前面的例子中，没有关于操作顺序的模糊性。但是，有些情况下顺序确实很重要，有两点需要考虑："
   ]
  },
  {
   "cell_type": "markdown",
   "metadata": {},
   "source": [
    "- 应正确计算表达式; 并且\n",
    "- 表达式应该足够简单，以便其他人阅读代码以了解正在执行的操作。"
   ]
  },
  {
   "cell_type": "markdown",
   "metadata": {},
   "source": [
    "有可能代码的编写时正确的，但对于其他人（或您）来说却非常难以检查。"
   ]
  },
  {
   "cell_type": "markdown",
   "metadata": {},
   "source": [
    "大多数编程语言（包括 Python）遵循通常的优先级数学规则。我们通过一些例子探讨这一点。"
   ]
  },
  {
   "cell_type": "markdown",
   "metadata": {},
   "source": [
    "Consider the expression $4 \\cdot (7 - 2) = 20$. If we are careless,"
   ]
  },
  {
   "cell_type": "markdown",
   "metadata": {},
   "source": [
    "考虑表达式$4 \\cdot (7 - 2) = 20$。如果我们不小心，"
   ]
  },
  {
   "cell_type": "code",
   "execution_count": 11,
   "metadata": {},
   "outputs": [
    {
     "data": {
      "text/plain": [
       "26"
      ]
     },
     "execution_count": 11,
     "metadata": {},
     "output_type": "execute_result"
    }
   ],
   "source": [
    "4*7 - 2"
   ]
  },
  {
   "cell_type": "markdown",
   "metadata": {},
   "source": [
    "In the above,`4*7`is evaluated first, then`2`is subtracted because multiplication (`*`) comes before subtraction (`-`) in terms of precedence. We can control the order of the operation using brackets, just as we would on paper:"
   ]
  },
  {
   "cell_type": "markdown",
   "metadata": {},
   "source": [
    "在上面，首先计算 `4 * 7`，然后减去'2'，因为乘法（`*`）就优先级而言在减法（`-`）之前。我们可以使用括号来控制操作的顺序，就像我们在纸上写算式一样："
   ]
  },
  {
   "cell_type": "code",
   "execution_count": 12,
   "metadata": {},
   "outputs": [
    {
     "data": {
      "text/plain": [
       "20"
      ]
     },
     "execution_count": 12,
     "metadata": {},
     "output_type": "execute_result"
    }
   ],
   "source": [
    "4*(7 - 2)"
   ]
  },
  {
   "cell_type": "markdown",
   "metadata": {},
   "source": [
    "A common example where readability is a concern is"
   ]
  },
  {
   "cell_type": "markdown",
   "metadata": {},
   "source": [
    "$$\n",
    "\\frac{10}{2 \\times 50} = 0.1\n",
    "$$"
   ]
  },
  {
   "cell_type": "markdown",
   "metadata": {},
   "source": [
    "The code"
   ]
  },
  {
   "cell_type": "markdown",
   "metadata": {},
   "source": [
    "另一个关注可读性的常见例子是"
   ]
  },
  {
   "cell_type": "markdown",
   "metadata": {},
   "source": [
    "$$\n",
    "\\frac{10}{2 \\times 50} = 0.1\n",
    "$$"
   ]
  },
  {
   "cell_type": "markdown",
   "metadata": {},
   "source": [
    "代码"
   ]
  },
  {
   "cell_type": "code",
   "execution_count": 13,
   "metadata": {},
   "outputs": [
    {
     "data": {
      "text/plain": [
       "250.0"
      ]
     },
     "execution_count": 13,
     "metadata": {},
     "output_type": "execute_result"
    }
   ],
   "source": [
    "10/2*50"
   ]
  },
  {
   "cell_type": "markdown",
   "metadata": {},
   "source": [
    "is incorrect. The multiplication and division have the same precedence, so the expression is evaluated 'left-to-right'. The correct result is computed from"
   ]
  },
  {
   "cell_type": "markdown",
   "metadata": {},
   "source": [
    "答案是不正确的。乘法和除法具有相同的优先级，因此表达式按 “从左到右” 进行计算。下面才是正确的结果"
   ]
  },
  {
   "cell_type": "code",
   "execution_count": 14,
   "metadata": {},
   "outputs": [
    {
     "data": {
      "text/plain": [
       "0.1"
      ]
     },
     "execution_count": 14,
     "metadata": {},
     "output_type": "execute_result"
    }
   ],
   "source": [
    "10/2/50"
   ]
  },
  {
   "cell_type": "markdown",
   "metadata": {},
   "source": [
    "but this is hard to read and could easily lead to errors in a program. I would recommend using brackets to make the order clear:"
   ]
  },
  {
   "cell_type": "markdown",
   "metadata": {},
   "source": [
    "但这很难阅读，很容易导致程序错误。我建议使用括号来明确运算顺序："
   ]
  },
  {
   "cell_type": "code",
   "execution_count": 15,
   "metadata": {},
   "outputs": [
    {
     "data": {
      "text/plain": [
       "0.1"
      ]
     },
     "execution_count": 15,
     "metadata": {},
     "output_type": "execute_result"
    }
   ],
   "source": [
    "10/(2*50)"
   ]
  },
  {
   "cell_type": "markdown",
   "metadata": {},
   "source": [
    "Here is an example that computes $2^{3} \\cdot 4 = 32$ which is technically correct but not ideal in terms of readability:"
   ]
  },
  {
   "cell_type": "markdown",
   "metadata": {},
   "source": [
    "这是一个计算$2^{3} \\cdot 4 = 32$ 的例子，这在技术上是正确的，但在可读性方面并不理想："
   ]
  },
  {
   "cell_type": "code",
   "execution_count": 16,
   "metadata": {},
   "outputs": [
    {
     "data": {
      "text/plain": [
       "32"
      ]
     },
     "execution_count": 16,
     "metadata": {},
     "output_type": "execute_result"
    }
   ],
   "source": [
    "2**3*4"
   ]
  },
  {
   "cell_type": "markdown",
   "metadata": {},
   "source": [
    "Better would be:"
   ]
  },
  {
   "cell_type": "markdown",
   "metadata": {},
   "source": [
    "更好的写法是："
   ]
  },
  {
   "cell_type": "code",
   "execution_count": 17,
   "metadata": {},
   "outputs": [
    {
     "data": {
      "text/plain": [
       "32"
      ]
     },
     "execution_count": 17,
     "metadata": {},
     "output_type": "execute_result"
    }
   ],
   "source": [
    "(2**3)*4"
   ]
  },
  {
   "cell_type": "markdown",
   "metadata": {},
   "source": [
    "## Variables and assignment"
   ]
  },
  {
   "cell_type": "markdown",
   "metadata": {},
   "source": [
    "The above code snippets were helpful for doing some arithmetic, but we could easily do the same with a pocket calculator. Also, the snippets are not very helpful if we want to change the value of one of the numbers in an expression, and not very helpful if we wanted to use the value of the expression in a subsequent computation. To improve things, we need *assignment*."
   ]
  },
  {
   "cell_type": "markdown",
   "metadata": {},
   "source": [
    "When we compute something, we usually want to store the result so that we can use it in subsequent computations. *Variables* are what we use to store something, e.g.:"
   ]
  },
  {
   "cell_type": "markdown",
   "metadata": {},
   "source": [
    "## 变量和赋值"
   ]
  },
  {
   "cell_type": "markdown",
   "metadata": {},
   "source": [
    "上面的代码片段有助于做一些算术，但我们可以轻松地使用袖珍计算器。此外，如果我们想要更改表达式中某个数字的值，则片段不是很有用，如果我们想在后续计算中使用表达式的值，则不是非常有用。为了改进，我们需要*赋值*。"
   ]
  },
  {
   "cell_type": "markdown",
   "metadata": {},
   "source": [
    "当我们计算某些东西时，我们通常希望存储结果，以便我们可以在后续计算中使用它。 *变量*是我们用来存储东西的东西，例如："
   ]
  },
  {
   "cell_type": "code",
   "execution_count": 18,
   "metadata": {},
   "outputs": [
    {
     "name": "stdout",
     "output_type": "stream",
     "text": [
      "10\n"
     ]
    }
   ],
   "source": [
    "c = 10\n",
    "print(c)"
   ]
  },
  {
   "cell_type": "markdown",
   "metadata": {},
   "source": [
    "Above, the variable`c`is used to 'hold' the value`10`. The function`print`is used to print the value of a variable to the output (more on functions later)."
   ]
  },
  {
   "cell_type": "markdown",
   "metadata": {},
   "source": [
    "Say we want to compute $c = a + b$, where $a = 2$ and $b = 11$:"
   ]
  },
  {
   "cell_type": "markdown",
   "metadata": {},
   "source": [
    "上面，变量 `c` 用于'保持'它的值 `10`。函数 `print` 用于将变量的值打印到输出（稍后将更多地介绍函数）。"
   ]
  },
  {
   "cell_type": "markdown",
   "metadata": {},
   "source": [
    "假设我们想要计算$ c = a + b $，其中$ a = 2 $和$ b = 11 $："
   ]
  },
  {
   "cell_type": "code",
   "execution_count": 19,
   "metadata": {},
   "outputs": [
    {
     "name": "stdout",
     "output_type": "stream",
     "text": [
      "13\n"
     ]
    }
   ],
   "source": [
    "a = 2\n",
    "b = 11\n",
    "c = a + b\n",
    "print(c)"
   ]
  },
  {
   "cell_type": "markdown",
   "metadata": {},
   "source": [
    "**XUE.cn 练习题**：[已知 x = 3，那么赋值语句 x = 'abcedfg' 是无法正常执行的。这种说法正确吗？](https://xue.cn/hub/app/exercise/854)"
   ]
  },
  {
   "cell_type": "markdown",
   "metadata": {},
   "source": [
    "What is happening above is that the expression on the right-hand side of the assignment operator '`=`' is evaluated and then stored as the variable on the left-hand side. You can think of the variable as a 'handle' for a value.\n",
    "If we want to change the value of $a$ to $4$ and recompute the sum, we would just replace`a = 2`with`a = 4`and execute the code (try this yourself by running this notebook interactively)."
   ]
  },
  {
   "cell_type": "markdown",
   "metadata": {},
   "source": [
    "The above looks much like standard algebra. There are however some subtle differences. Take for example:"
   ]
  },
  {
   "cell_type": "markdown",
   "metadata": {},
   "source": [
    "上面发生的是，赋值运算符'`=`'右侧的表达式被计算，然后作为变量存储在左侧。您可以将变量视为值的 “把手”。如果我们想将$a$的值更改为$4$并重新计算总和，我们只需将 `a = 2` 替换为 `a = 4` 并执行代码（您可以自行尝试交互运行此笔记本）。"
   ]
  },
  {
   "cell_type": "markdown",
   "metadata": {},
   "source": [
    "以上看起来很像标准代数。然而，有一些微妙的差异。举个例子："
   ]
  },
  {
   "cell_type": "code",
   "execution_count": 20,
   "metadata": {},
   "outputs": [
    {
     "name": "stdout",
     "output_type": "stream",
     "text": [
      "13\n"
     ]
    }
   ],
   "source": [
    "a = 2\n",
    "b = 11\n",
    "a = a + b\n",
    "print(a)"
   ]
  },
  {
   "cell_type": "markdown",
   "metadata": {},
   "source": [
    "This is not a valid algebraic statement since '`a`' appears on both sides of '`=`', but it is a very common statement in a computer program. What happens is that the expression on the right-hand side is evaluated (the values assigned to`a`and`b`are summed), and the result is assigned to the left-hand side (to the variable`a`). There is a mathematical notation for this type of assignment:"
   ]
  },
  {
   "cell_type": "markdown",
   "metadata": {},
   "source": [
    "$$\n",
    "a \\leftarrow a +b\n",
    "$$"
   ]
  },
  {
   "cell_type": "markdown",
   "metadata": {},
   "source": [
    "which says 'sum $a$ and $b$, and copy the result to $a$'. You will see this notation in some books, especially when looking at *algorithms*."
   ]
  },
  {
   "cell_type": "markdown",
   "metadata": {},
   "source": [
    "这不是一个有效的代数陈述，因为'`a`'出现在'`=`'的两边，但它是计算机程序中非常常见的陈述。发生情况是计算右侧的表达式（分配给 “a” 和 “b” 的值相加），并将结果分配给左侧（变量 “a”）。这种类型的赋值有一个数学符号："
   ]
  },
  {
   "cell_type": "markdown",
   "metadata": {},
   "source": [
    "$$\n",
    "a \\leftarrow a +b\n",
    "$$"
   ]
  },
  {
   "cell_type": "markdown",
   "metadata": {},
   "source": [
    "其含义是'加和$a$和$ b $，并将结果复制到$ a $'。你会在一些书中看到这种表示法，尤其是在查看*算法*时。"
   ]
  },
  {
   "cell_type": "markdown",
   "metadata": {},
   "source": [
    "### Shortcuts"
   ]
  },
  {
   "cell_type": "markdown",
   "metadata": {},
   "source": [
    "Adding or subtracting variables is such a common operation that most languages provides shortcuts. For addition:"
   ]
  },
  {
   "cell_type": "markdown",
   "metadata": {},
   "source": [
    "### 快捷方式"
   ]
  },
  {
   "cell_type": "markdown",
   "metadata": {},
   "source": [
    "变量自增或自减是一种常见的操作，大多数语言都提供了快捷方式。"
   ]
  },
  {
   "cell_type": "markdown",
   "metadata": {},
   "source": [
    "自增："
   ]
  },
  {
   "cell_type": "code",
   "execution_count": 21,
   "metadata": {},
   "outputs": [
    {
     "name": "stdout",
     "output_type": "stream",
     "text": [
      "5\n",
      "5\n"
     ]
    }
   ],
   "source": [
    "## Long-hand addition\n",
    "a = 1\n",
    "a = a + 4\n",
    "print(a)\n",
    "\n",
    "## Short-hand addition\n",
    "a = 1\n",
    "a += 4\n",
    "print(a)"
   ]
  },
  {
   "cell_type": "markdown",
   "metadata": {},
   "source": [
    "**XUE.cn 练习题**： [已知 x = 3，那么执行语句 x += 6 之后，x 的值是什么？](https://xue.cn/hub/app/exercise/436)"
   ]
  },
  {
   "cell_type": "markdown",
   "metadata": {},
   "source": [
    "> In Python, any text following the hash (`#`) symbol is a 'comment'. Comments are not executed by the program;\n",
    "> they help us document and explain what our programs do. Use lots of comments in your programs."
   ]
  },
  {
   "cell_type": "markdown",
   "metadata": {},
   "source": [
    "For subtraction:"
   ]
  },
  {
   "cell_type": "markdown",
   "metadata": {},
   "source": [
    "> 在 Python 中，`＃` 号后面的任何文本都是'注释'。注释不被执行;\n",
    "> 注释帮助我们记录和解释程序所做的事情。应当在程序中使用大量注释。"
   ]
  },
  {
   "cell_type": "markdown",
   "metadata": {},
   "source": [
    "自减："
   ]
  },
  {
   "cell_type": "code",
   "execution_count": 22,
   "metadata": {},
   "outputs": [
    {
     "name": "stdout",
     "output_type": "stream",
     "text": [
      "-3\n",
      "-3\n"
     ]
    }
   ],
   "source": [
    "## Long-hand subtraction\n",
    "a = 1\n",
    "b = 4\n",
    "a = a - b\n",
    "print(a)\n",
    "\n",
    "## Short-hand subtraction\n",
    "a = 1\n",
    "b = 4\n",
    "a -= b\n",
    "print(a)"
   ]
  },
  {
   "cell_type": "markdown",
   "metadata": {},
   "source": [
    "Analogous assignment operators exist for multiplication and division:"
   ]
  },
  {
   "cell_type": "markdown",
   "metadata": {},
   "source": [
    "用于乘法和除法的类似赋值运算符："
   ]
  },
  {
   "cell_type": "code",
   "execution_count": 23,
   "metadata": {},
   "outputs": [
    {
     "name": "stdout",
     "output_type": "stream",
     "text": [
      "20\n",
      "20\n",
      "0.25\n",
      "0.25\n"
     ]
    }
   ],
   "source": [
    "## Long-hand multiplication\n",
    "a = 10\n",
    "c = 2\n",
    "a = c*a\n",
    "print(a)\n",
    "\n",
    "## Short-hand multiplication\n",
    "a = 10\n",
    "c = 2\n",
    "a *= c\n",
    "print(a)\n",
    "\n",
    "## Long-hand division\n",
    "a = 1\n",
    "a = a/4\n",
    "print(a)\n",
    "\n",
    "## Short-hand division\n",
    "a = 1\n",
    "a /= 4\n",
    "print(a)"
   ]
  },
  {
   "cell_type": "markdown",
   "metadata": {},
   "source": [
    "**XUE.cn 练习题**：[已知 x = 3，那么执行语句 x *= 6 之后，x 的值是什么？](https://xue.cn/hub/app/exercise/438)"
   ]
  },
  {
   "cell_type": "markdown",
   "metadata": {},
   "source": [
    "### Naming variables"
   ]
  },
  {
   "cell_type": "markdown",
   "metadata": {},
   "source": [
    "It is good practice to use meaningful variable names in a computer program. Say you used '`x`' for time, and '`t`' for position, you or someone else will almost certainly make errors at some point.\n",
    "If you do not use well considered variable names:"
   ]
  },
  {
   "cell_type": "markdown",
   "metadata": {},
   "source": [
    "1. You're much more likely to make errors.\n",
    "1. When you come back to your program after some time, you will have trouble recalling and understanding\n",
    "   what the program does.\n",
    "1. It will be difficult for others to understand your program - serious programming is almost always a team effort."
   ]
  },
  {
   "cell_type": "markdown",
   "metadata": {},
   "source": [
    "Languages have rules for what charcters can be used in variable names. As a rough guide, in Python variable names can use letters and digits, but cannot start with a digit."
   ]
  },
  {
   "cell_type": "markdown",
   "metadata": {},
   "source": [
    "Sometimes for readability it is useful to have variable names that are made up of two words. A convention is\n",
    "to separate the words in the variable name using an underscore '`_`'. For example, a good variable name for storing the number of days would be"
   ]
  },
  {
   "cell_type": "code",
   "execution_count": 24,
   "metadata": {},
   "outputs": [],
   "source": [
    "num_days = 10"
   ]
  },
  {
   "cell_type": "markdown",
   "metadata": {},
   "source": [
    "Python is a case-sensitive language, e.g. the variables '`A`' and '`a`' are different. Some languages, such as\n",
    "Fortran, are case-insensitive."
   ]
  },
  {
   "cell_type": "markdown",
   "metadata": {},
   "source": [
    "Languages have reserved keywords that cannot be used as variable names as they are used for other purposes. The reserved keywords in Python are:"
   ]
  },
  {
   "cell_type": "markdown",
   "metadata": {},
   "source": [
    "### 变量命名"
   ]
  },
  {
   "cell_type": "markdown",
   "metadata": {},
   "source": [
    "最好在计算机程序中使用有意义的变量名。假设您使用'`x`' 表示时间，而'`t`'表示位置，您或其他人几乎肯定会在某些时候出错。\n",
    "如果您不使用考虑周全的变量名称："
   ]
  },
  {
   "cell_type": "markdown",
   "metadata": {},
   "source": [
    "1. 你更容易犯错误。\n",
    "1. 过一段时间后再回来看程序，您将无法回忆并理解程序的功能。\n",
    "1. 其他人很难理解你的程序 - 严肃的编程几乎总是团队的努力。"
   ]
  },
  {
   "cell_type": "markdown",
   "metadata": {},
   "source": [
    "计算机语言通常有哪些字符可以用于变量命名的规则。作为一个粗略的指南，在 Python 中，变量名称可以使用字母和数字，但不能以数字开头。"
   ]
  },
  {
   "cell_type": "markdown",
   "metadata": {},
   "source": [
    "有时为了便于阅读，使用由两个单词组成的变量名称很有用。惯例是使用下划线'`_`'分隔变量名中的单词。例如，用于存储天数的好变量名称是"
   ]
  },
  {
   "cell_type": "code",
   "execution_count": 25,
   "metadata": {},
   "outputs": [],
   "source": [
    "num_days = 10"
   ]
  },
  {
   "cell_type": "markdown",
   "metadata": {},
   "source": [
    "Python 是一种区分大小写的语言，例如变量 “A” 和 “a” 是不同的。某些语言（如 Fortran）不区分大小写。"
   ]
  },
  {
   "cell_type": "markdown",
   "metadata": {},
   "source": [
    "**XUE.cn 练习题**：[Python 变量名区分大小写，所以 student 和 Student 不是同一个变量。这种说法正确吗？](https://xue.cn/hub/app/exercise/1064)"
   ]
  },
  {
   "cell_type": "markdown",
   "metadata": {},
   "source": [
    "语言保留了不能用作变量名的关键字，因为它们用于其他目的。Python 中的保留关键字是："
   ]
  },
  {
   "cell_type": "code",
   "execution_count": 26,
   "metadata": {},
   "outputs": [
    {
     "name": "stdout",
     "output_type": "stream",
     "text": [
      "['False', 'None', 'True', 'and', 'as', 'assert', 'async', 'await', 'break', 'class', 'continue', 'def', 'del', 'elif', 'else', 'except', 'finally', 'for', 'from', 'global', 'if', 'import', 'in', 'is', 'lambda', 'nonlocal', 'not', 'or', 'pass', 'raise', 'return', 'try', 'while', 'with', 'yield']\n"
     ]
    }
   ],
   "source": [
    "import keyword\n",
    "print(keyword.kwlist)"
   ]
  },
  {
   "cell_type": "markdown",
   "metadata": {},
   "source": [
    "**XUE.cn 练习题**：\n",
    "\n",
    "- [在 Python 中可以使用 if 作为变量名。这种说法正确吗？](https://xue.cn/hub/app/exercise/863)\n",
    "\n",
    "- [在 Python 中可以使用 for 作为变量名。这种说法正确吗？](https://xue.cn/hub/app/exercise/1024)\n",
    "\n",
    "- [在 Python 中可以使用 id 作为变量名，尽管不建议这样做。这种说法正确吗？](https://xue.cn/hub/app/exercise/1025)\n",
    "\n",
    "- [Python 关键字不可以作为变量名。这种说法正确吗？](https://xue.cn/hub/app/exercise/1026)"
   ]
  },
  {
   "cell_type": "markdown",
   "metadata": {},
   "source": [
    "If you try to assign something to a reserved keyword, you will get an error."
   ]
  },
  {
   "cell_type": "markdown",
   "metadata": {},
   "source": [
    "Python 3 supports Unicode, which allows you to use a very wide range of symbols, including Greek characters:"
   ]
  },
  {
   "cell_type": "markdown",
   "metadata": {},
   "source": [
    "如果您尝试将某些内容赋值给保留关键字，则会出现错误。"
   ]
  },
  {
   "cell_type": "markdown",
   "metadata": {},
   "source": [
    "Python 3 支持 Unicode，允许您使用各种各样的符号，包括希腊字符："
   ]
  },
  {
   "cell_type": "code",
   "execution_count": 27,
   "metadata": {},
   "outputs": [
    {
     "name": "stdout",
     "output_type": "stream",
     "text": [
      "22\n"
     ]
    }
   ],
   "source": [
    "θ = 10\n",
    "α = 12\n",
    "β = θ + α\n",
    "print(β)"
   ]
  },
  {
   "cell_type": "markdown",
   "metadata": {},
   "source": [
    "**XUE.cn 练习题**：\n",
    "\n",
    "- [在 Python 3.x 中可以使用中文作为变量名。这种说法正确吗？](https://xue.cn/hub/app/exercise/864)\n",
    "\n",
    "- [Python 变量名必须以字母或下划线开头，并且区分字母大小写。这种说法正确吗？](https://xue.cn/hub/app/exercise/865)\n",
    "\n",
    "- [在一个软件的设计与开发中，所有类名、函数名、变量名都应该遵循统一的风格和规范。这种说法正确吗？](https://xue.cn/hub/app/exercise/968)"
   ]
  },
  {
   "cell_type": "markdown",
   "metadata": {},
   "source": [
    "Greek symbols and other symbols can be input in a Jupyter notebook by typing the LaTeX command for the symbol and then pressing the`tab`key, e.g. '`\\theta`' followed by pressing the`tab`key."
   ]
  },
  {
   "cell_type": "markdown",
   "metadata": {},
   "source": [
    "通过键入符号的 LaTeX 命令，然后按 “tab” 键，例如，可以在 Jupyter 笔记本中输入希腊符号和其他符号。 '`\\theta`'然后按 `tab` 键。"
   ]
  },
  {
   "cell_type": "markdown",
   "metadata": {},
   "source": [
    "## 练习"
   ]
  },
  {
   "cell_type": "markdown",
   "metadata": {},
   "source": [
    "现在完成 [练习 01](https://xue.cn/hub/reader?bookId=2&path=PartIA-Computing-Michaelmas-zh-CN/zh-CN/Exercises/01_Exercises.ipynb) ."
   ]
  }
 ],
 "metadata": {
  "kernelspec": {
   "display_name": "Python 3",
   "language": "python",
   "name": "python3"
  },
  "language_info": {
   "codemirror_mode": {
    "name": "ipython",
    "version": 3
   },
   "file_extension": ".py",
   "mimetype": "text/x-python",
   "name": "python",
   "nbconvert_exporter": "python",
   "pygments_lexer": "ipython3",
   "version": "3.7.3"
  }
 },
 "nbformat": 4,
 "nbformat_minor": 4
}
