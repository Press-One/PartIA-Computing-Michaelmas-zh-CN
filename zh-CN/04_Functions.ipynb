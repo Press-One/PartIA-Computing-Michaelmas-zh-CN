{
 "cells": [
  {
   "cell_type": "markdown",
   "metadata": {},
   "source": [
    "## Introduction"
   ]
  },
  {
   "cell_type": "markdown",
   "metadata": {},
   "source": [
    "Functions are one of the most important concepts in computing. Similar to mathematical functions, they take input data and return an output(s). Functions are ideal for repetitive tasks that perform a particular operation\n",
    "on different input data and return a result. A simple function might take the coordinates of the vertices of a triangle and return the area. Any non-trivial program will use functions, and in many cases will have many functions."
   ]
  },
  {
   "cell_type": "markdown",
   "metadata": {},
   "source": [
    "### Objectives"
   ]
  },
  {
   "cell_type": "markdown",
   "metadata": {},
   "source": [
    "- Introduce construction and use of user functions\n",
    "- Returning from functions\n",
    "- Default arguments\n",
    "- Recursion"
   ]
  },
  {
   "cell_type": "markdown",
   "metadata": {},
   "source": [
    "## 介绍"
   ]
  },
  {
   "cell_type": "markdown",
   "metadata": {},
   "source": [
    "函数是计算中最重要的概念之一。与数学函数类似，它们获取输入数据并返回输出。函数非常适用于对不同输入数据执行特定操作并返回结果的重复任务。一个简单的函数可能会获取三角形顶点的坐标并返回该区域。任何非平凡的程序都将使用函数，并且在许多情况下将具有许多函数。"
   ]
  },
  {
   "cell_type": "markdown",
   "metadata": {},
   "source": [
    "### 目标"
   ]
  },
  {
   "cell_type": "markdown",
   "metadata": {},
   "source": [
    "- 介绍用户函数的构建和使用\n",
    "- 函数返回\n",
    "- 默认参数\n",
    "- 递归"
   ]
  },
  {
   "cell_type": "markdown",
   "metadata": {},
   "source": [
    "## What is a function?"
   ]
  },
  {
   "cell_type": "markdown",
   "metadata": {},
   "source": [
    "Below is a Python function that takes two arguments (`a`and`b`), and returns`a + b + 1`:"
   ]
  },
  {
   "cell_type": "markdown",
   "metadata": {},
   "source": [
    "## 什么是函数？"
   ]
  },
  {
   "cell_type": "markdown",
   "metadata": {},
   "source": [
    "下面是一个 Python 函数，它接受两个参数（`a` 和 `b`），并返回 `a + b + 1`："
   ]
  },
  {
   "cell_type": "code",
   "execution_count": 1,
   "metadata": {},
   "outputs": [
    {
     "name": "stdout",
     "output_type": "stream",
     "text": [
      "8\n",
      "21\n"
     ]
    }
   ],
   "source": [
    "def sum_and_increment(a, b):\n",
    "    \"\"\"\"Return the sum of a and b, plus 1\"\"\"\n",
    "    return a + b + 1\n",
    "\n",
    "## Call the function\n",
    "m = sum_and_increment(3, 4)\n",
    "print(m) # Expect 8\n",
    "\n",
    "## Call the function\n",
    "m = 10\n",
    "n = sum_and_increment(m, m)\n",
    "print(n) # Expect 21"
   ]
  },
  {
   "cell_type": "markdown",
   "metadata": {},
   "source": [
    "Using the above example as a model, we can examine the anatomy of a Python function."
   ]
  },
  {
   "cell_type": "markdown",
   "metadata": {},
   "source": [
    "- A function is declared using`def`, followed by the function name,`sum_and_increment`, followed by the list of arguments to be passed to the function between brackets,`(a, b)`, and ended with a colon:"
   ]
  },
  {
   "cell_type": "code",
   "execution_count": null,
   "metadata": {},
   "outputs": [],
   "source": [
    "def sum_and_increment(a, b):"
   ]
  },
  {
   "cell_type": "markdown",
   "metadata": {},
   "source": [
    "- Next comes the body of the function. The first part of the body is indented four spaces. Everything that makes up the body of the function is indented at least four spaces relative to`def`. In Python, the first part of the body is an optional documentation string that describes in words what the function does"
   ]
  },
  {
   "cell_type": "code",
   "execution_count": null,
   "metadata": {},
   "outputs": [],
   "source": [
    "\"Return the sum of a and b, plus 1\""
   ]
  },
  {
   "cell_type": "markdown",
   "metadata": {},
   "source": [
    "- It is good practice to include a 'docstring'. What comes after the documentation string is the code that the function executes. At the end of a function is usually a`return`statement; this defines what result the function should return:"
   ]
  },
  {
   "cell_type": "code",
   "execution_count": null,
   "metadata": {},
   "outputs": [],
   "source": [
    "return a + b + 1"
   ]
  },
  {
   "cell_type": "markdown",
   "metadata": {},
   "source": [
    "Anything indented to the same level (or less) as`def`falls outside of the function body."
   ]
  },
  {
   "cell_type": "markdown",
   "metadata": {},
   "source": [
    "Most functions will take arguments and return something, but this is not strictly required.\n",
    "Below is an example of a function that does not take any arguments or return any variables."
   ]
  },
  {
   "cell_type": "markdown",
   "metadata": {},
   "source": [
    "使用上面的例子作为模型，我们可以解剖 Python 函数的结构。"
   ]
  },
  {
   "cell_type": "markdown",
   "metadata": {},
   "source": [
    "- 使用 `def` 声明一个函数，后跟函数名称 `sum_and_increment`，然后是要传递给括号之间的函数的参数列表，`(a, b)`，并以冒号结束："
   ]
  },
  {
   "cell_type": "code",
   "execution_count": null,
   "metadata": {},
   "outputs": [],
   "source": [
    "def sum_and_increment(a, b):"
   ]
  },
  {
   "cell_type": "markdown",
   "metadata": {},
   "source": [
    "- 接下来是函数的主体。函数体的第一部分缩进了四个空格。   构成函数体的所有东西都相对于 `def` 缩进了至少四个空格。   在 Python 中，正文的第一部分是一个可选的文档字符串 (docstring)，用文字描述函数的功能"
   ]
  },
  {
   "cell_type": "code",
   "execution_count": null,
   "metadata": {},
   "outputs": [],
   "source": [
    "\"Return the sum of a and b, plus 1\""
   ]
  },
  {
   "cell_type": "markdown",
   "metadata": {},
   "source": [
    "- 最好包含'docstring'。文档字符串后面的内容是函数执行的代码。函数结束时通常是 `return` 语句;这定义了函数应该返回什么结果："
   ]
  },
  {
   "cell_type": "code",
   "execution_count": null,
   "metadata": {},
   "outputs": [],
   "source": [
    "return a + b + 1"
   ]
  },
  {
   "cell_type": "markdown",
   "metadata": {},
   "source": [
    "缩进到与 `def` 相同级别（或更少）的任何内容都落在函数体之外。"
   ]
  },
  {
   "cell_type": "markdown",
   "metadata": {},
   "source": [
    "大多数函数都会接受参数并返回一些内容，但这并不是严格要求的。\n",
    "下面是一个不带任何参数或返回任何变量的函数示例。"
   ]
  },
  {
   "cell_type": "code",
   "execution_count": 2,
   "metadata": {},
   "outputs": [
    {
     "name": "stdout",
     "output_type": "stream",
     "text": [
      "The function 'print_message' has been called.\n"
     ]
    }
   ],
   "source": [
    "def print_message():\n",
    "    print(\"The function 'print_message' has been called.\")\n",
    "\n",
    "print_message()"
   ]
  },
  {
   "cell_type": "markdown",
   "metadata": {
    "quesitons": [
     818,
     29,
     410
    ],
    "notes": "复核OK，独立块"
   },
   "source": [
    "- [选择题 ★★ 已知函数定义 def demo(x, y, op):return eval(str(x)+op+str(y))，那么表达式 demo(3, 5, '+') 的值是什么？](https://xue.cn/hub/app/exercise/818)\n",
    "\n",
    "- [编程题 ★★ 简单函数练习](https://xue.cn/hub/app/exercise/29)\n",
    "\n",
    "- [选择题 ★ 关于函数作用的描述，以下选项中错误的是哪个？](https://xue.cn/hub/app/exercise/410)"
   ]
  },
  {
   "cell_type": "markdown",
   "metadata": {},
   "source": [
    "## Purpose"
   ]
  },
  {
   "cell_type": "markdown",
   "metadata": {},
   "source": [
    "Functions allow computer code to be re-used multiple times with different input data. It is good to re-use code as much as possible because we then focus testing and debugging efforts, and maybe also optimisations, on small pieces of code that are then re-used. The more code that is written, the less frequently sections of code are used, and as a consequence the greater the likelihood of errors."
   ]
  },
  {
   "cell_type": "markdown",
   "metadata": {},
   "source": [
    "Functions can also enhance the readability of a program, and make it easier to collaborate with others. Functions allow us to focus on *what* a program does at a high level\n",
    "rather than the details of *how* it does it. Low-level implementation details are *encapsulated* in functions. To understand at a high level what a program does, we usually just need to know what data is passed into a function and what the function returns. It is not necessary to know the precise details of how a function is implemented to grasp the structure of a program and how it works. For example, we might need to know that a function computes and returns $\\sin(x)$; we don't usually need to know *how* it computes sine."
   ]
  },
  {
   "cell_type": "markdown",
   "metadata": {},
   "source": [
    "Below is a simple example of a function being 'called' numerous times from inside a`for`loop."
   ]
  },
  {
   "cell_type": "markdown",
   "metadata": {},
   "source": [
    "## 目的"
   ]
  },
  {
   "cell_type": "markdown",
   "metadata": {},
   "source": [
    "函数允许使用不同的输入数据多次重复使用计算机代码。尽可能多地重用代码是很好的，因为我们会集中测试和调试工作，也可能优化小块代码然后重新使用。编写的代码越多，代码段重用的频率越少，出错的可能性就越大。"
   ]
  },
  {
   "cell_type": "markdown",
   "metadata": {},
   "source": [
    "功能还可以增强程序的可读性，并使与其他人协作变得更容易。\n",
    "函数允许我们专注于程序在高级别上执行的*操作内容*，而不是*如何*执行此操作的详细信息。低级实现细节在函数中被*封装*。为了从高层次理解程序的功能，我们通常只需要知道传递给函数的数据以及函数返回的内容。没有必要知道如何实现函数的精确细节来掌握程序的结构及其工作原理。例如，我们可能需要知道函数计算并返回$\\sin(x)$;我们通常不需要知道它如何计算正弦。"
   ]
  },
  {
   "cell_type": "markdown",
   "metadata": {},
   "source": [
    "下面是一个从 `for` 循环内部多次 “调用” 的函数的简单示例。"
   ]
  },
  {
   "cell_type": "code",
   "execution_count": 3,
   "metadata": {},
   "outputs": [
    {
     "name": "stdout",
     "output_type": "stream",
     "text": [
      "Case A: 3 values\n",
      "0\n",
      "1\n",
      "8\n",
      "Case B: 12 values\n",
      "0\n",
      "1\n",
      "8\n",
      "27\n",
      "64\n",
      "125\n",
      "36\n",
      "49\n",
      "64\n",
      "81\n",
      "100\n",
      "0\n"
     ]
    }
   ],
   "source": [
    "def process_value(x):\n",
    "    \"Return a value that depends on the input value x \"\n",
    "    if x > 10:\n",
    "        return 0\n",
    "    elif x > 5:\n",
    "        return x*x\n",
    "    elif x > 0:\n",
    "        return x**3\n",
    "    else:\n",
    "        return x\n",
    "\n",
    "print(\"Case A: 3 values\")\n",
    "for y in range(3):\n",
    "    print(process_value(y))\n",
    "\n",
    "print(\"Case B: 12 values\")\n",
    "for y in range(12):\n",
    "    print(process_value(y))"
   ]
  },
  {
   "cell_type": "markdown",
   "metadata": {},
   "source": [
    "Using a function, we did not have to duplicate the`if-elif-else`statement inside each loop\n",
    "we re-used it.\n",
    "With a function we only have to change the way in which we process the number`x`in one place."
   ]
  },
  {
   "cell_type": "markdown",
   "metadata": {},
   "source": [
    "使用函数，我们不必在每个循环中复制 `if-elif-else` 语句\n",
    "我们可以重复使用它。\n",
    "使用函数我们只需要改变在一个地方处理数字 `x` 的方式。"
   ]
  },
  {
   "cell_type": "markdown",
   "metadata": {},
   "source": [
    "## Function arguments"
   ]
  },
  {
   "cell_type": "markdown",
   "metadata": {},
   "source": [
    "The order in which function arguments are listed in the function declaration is in general the order in which arguments should be passed to a function."
   ]
  },
  {
   "cell_type": "markdown",
   "metadata": {},
   "source": [
    "For the function`sum_and_increment`that was declared above, we could switch the order of the arguments and the result would not change because we are simply summing the input arguments. But, if we were to subtract one argument from the other, the result would depend on the input order:"
   ]
  },
  {
   "cell_type": "markdown",
   "metadata": {},
   "source": [
    "## 函数参数"
   ]
  },
  {
   "cell_type": "markdown",
   "metadata": {},
   "source": [
    "函数声明中列出函数参数的顺序通常是参数应传递给函数的顺序。"
   ]
  },
  {
   "cell_type": "markdown",
   "metadata": {},
   "source": [
    "对于上面声明的函数 `sum_and_increment`，我们可以切换参数的顺序，结果不会改变，因为我们只是对输入参数求和。但是，如果我们要从另一个中减去一个参数，结果将取决于输入顺序："
   ]
  },
  {
   "cell_type": "code",
   "execution_count": 4,
   "metadata": {},
   "outputs": [
    {
     "name": "stdout",
     "output_type": "stream",
     "text": [
      "-1\n",
      "3\n"
     ]
    }
   ],
   "source": [
    "def subtract_and_increment(a, b):\n",
    "    \"Return a minus b, plus 1\"\n",
    "    return a - b + 1\n",
    "\n",
    "alpha, beta = 3, 5 # This is short hand notation for alpha = 3\n",
    "                    # beta = 5\n",
    "\n",
    "## Call the function and print the return value\n",
    "print(subtract_and_increment(alpha, beta)) # Expect -1\n",
    "print(subtract_and_increment(beta, alpha)) # Expect 3"
   ]
  },
  {
   "cell_type": "markdown",
   "metadata": {},
   "source": [
    "For more complicated functions we might have numerous arguments. Consequently, it becomes easier to get the wrong order by accident when calling the function (which results in a bug). In Python, we can reduce the likelihood of an error by using *named* arguments, in which case order will not matter, e.g.:"
   ]
  },
  {
   "cell_type": "markdown",
   "metadata": {},
   "source": [
    "对于更复杂的函数，我们可能有很多参数。因此，在调用函数时会更容易错误地获取错误的顺序（这会导致错误）。在 Python 中，我们可以通过使用*命名*参数来减少错误的可能性，在这种情况下，顺序无关紧要，例如："
   ]
  },
  {
   "cell_type": "code",
   "execution_count": 5,
   "metadata": {},
   "outputs": [
    {
     "name": "stdout",
     "output_type": "stream",
     "text": [
      "-1\n",
      "-1\n"
     ]
    }
   ],
   "source": [
    "print(subtract_and_increment(a=alpha, b=beta)) # Expect -1\n",
    "print(subtract_and_increment(b=beta, a=alpha)) # Expect -1"
   ]
  },
  {
   "cell_type": "markdown",
   "metadata": {},
   "source": [
    "Using named arguments can often enhance program readability and reduce errors."
   ]
  },
  {
   "cell_type": "markdown",
   "metadata": {},
   "source": [
    "使用命名参数通常可以提高程序的可读性并减少错误。"
   ]
  },
  {
   "cell_type": "markdown",
   "metadata": {
    "quesitons": [
     294,
     295,
     411
    ],
    "notes": "复核OK，独立块"
   },
   "source": [
    "- [选择题 ★★ 函数参数的性质 1](https://xue.cn/hub/app/exercise/294)\n",
    "\n",
    "- [选择题 ★★ 函数参数的性质 2](https://xue.cn/hub/app/exercise/295)\n",
    "\n",
    "- [选择题 ★ 关于形参和实参的描述，以下选项中正确的是](https://xue.cn/hub/app/exercise/411)"
   ]
  },
  {
   "cell_type": "markdown",
   "metadata": {},
   "source": [
    "### What can be passed as a function argument?"
   ]
  },
  {
   "cell_type": "markdown",
   "metadata": {},
   "source": [
    "Many object types can be passed as arguments to functions, including other functions. Below\n",
    "is a function,`is_positive`, that checks if the value of a function $f$ evaluated at $x$ is positive:"
   ]
  },
  {
   "cell_type": "markdown",
   "metadata": {},
   "source": [
    "### 什么可以作为函数参数传递？"
   ]
  },
  {
   "cell_type": "markdown",
   "metadata": {},
   "source": [
    "许多对象类型可以作为参数传递给函数，甚至包括其他函数。下面是一个函数 `is_positive`，\n",
    "它检查在$x$处计算的函数$f$的值是否为正："
   ]
  },
  {
   "cell_type": "code",
   "execution_count": 6,
   "metadata": {},
   "outputs": [
    {
     "name": "stdout",
     "output_type": "stream",
     "text": [
      "True\n",
      "False\n"
     ]
    }
   ],
   "source": [
    "def f0(x):\n",
    "    \"Compute x^2 - 1\"\n",
    "    return x*x - 1\n",
    "\n",
    "def f1(x):\n",
    "    \"Compute -x^2 + 2x + 1\"\n",
    "    return -x*x + 2*x + 1\n",
    "\n",
    "def is_positive(f, x):\n",
    "    \"Check if the function value f(x) is positive\"\n",
    "\n",
    "    # Evaluate the function passed into the function for the value of x\n",
    "    # passed into the function\n",
    "    if f(x) > 0:\n",
    "        return True\n",
    "    else:\n",
    "        return False\n",
    "\n",
    "## Value of x for which we want to test a function sign\n",
    "x = 4.5\n",
    "\n",
    "## Test function f0\n",
    "print(is_positive(f0, x))\n",
    "\n",
    "## Test function f1\n",
    "print(is_positive(f1, x))"
   ]
  },
  {
   "cell_type": "markdown",
   "metadata": {},
   "source": [
    "### Default arguments"
   ]
  },
  {
   "cell_type": "markdown",
   "metadata": {},
   "source": [
    "It can sometimes be helpful for functions to have 'default' argument values which can be overridden. In some cases it just saves the programmer effort - they can write less code. In other cases it can allow us to use a function for a wider range of problems. For example, we could use the same function for vectors of length 2 and 3 if the default value for the third component is zero."
   ]
  },
  {
   "cell_type": "markdown",
   "metadata": {},
   "source": [
    "As an example we consider the position $r$ of a particle with initial position $r_{0}$ and initial velocity $v_{0}$, and subject to an acceleration $a$. The position $r$ is given by:"
   ]
  },
  {
   "cell_type": "markdown",
   "metadata": {},
   "source": [
    "$$\n",
    "r = r_0 + v_0 t + \\frac{1}{2} a t^{2}\n",
    "$$"
   ]
  },
  {
   "cell_type": "markdown",
   "metadata": {},
   "source": [
    "Say for a particular application the acceleration is almost always due to gravity ($g$), and $g = 9.81$ m s$^{-1}$ is sufficiently accurate in most cases. Moreover, the initial velocity is usually zero. We might therefore implement a function as:"
   ]
  },
  {
   "cell_type": "markdown",
   "metadata": {},
   "source": [
    "### 默认参数"
   ]
  },
  {
   "cell_type": "markdown",
   "metadata": {},
   "source": [
    "函数有时可能有助于使用可以覆盖的 “默认” 参数值。在某些情况下，它只是节省了程序员的工作量 - 他们可以编写更少的代码。在其他情况下，它可以允许我们使用函数来解决更广泛的问题。例如，如果第三个元素的默认值为零，我们就可以对长度为 2 和 3 的向量使用相同的函数。"
   ]
  },
  {
   "cell_type": "markdown",
   "metadata": {},
   "source": [
    "作为一个例子，我们考虑一个粒子的位置$ r $，初始位置为$r_{0}$，初始速度为$v_{0}$，并且加速度为$ a $。 $ r $的位置由下式给出："
   ]
  },
  {
   "cell_type": "markdown",
   "metadata": {},
   "source": [
    "$$\n",
    "r = r_0 + v_0 t + \\frac{1}{2} a t^{2}\n",
    "$$"
   ]
  },
  {
   "cell_type": "markdown",
   "metadata": {},
   "source": [
    "对于特定应用来说，加速几乎总是由于重力（$ g $），并且 $g = 9.81$ m s$^{-1}$ 在大多数情况下足够准确。而且，初始速度通常为零。因此，我们可能会实现以下功能："
   ]
  },
  {
   "cell_type": "code",
   "execution_count": 7,
   "metadata": {},
   "outputs": [
    {
     "name": "stdout",
     "output_type": "stream",
     "text": [
      "0.8038\n"
     ]
    }
   ],
   "source": [
    "def position(t, r0, v0=0.0, a=-9.81):\n",
    "    \"Compute position of an accelerating particle.\"\n",
    "    return r0 + v0*t + 0.5*a*t*t\n",
    "\n",
    "## Position after 0.2 s (t) when dropped from a height of 1 m (r0)\n",
    "## with v0=0.0 and a=-9.81\n",
    "p = position(0.2, 1.0)\n",
    "print(p)"
   ]
  },
  {
   "cell_type": "markdown",
   "metadata": {},
   "source": [
    "At the equator, the acceleration due to gravity is slightly less, and for a case where this difference is important we can call the function with the acceleration due to gravity at the equator:"
   ]
  },
  {
   "cell_type": "markdown",
   "metadata": {},
   "source": [
    "在赤道，由于重力引起的加速度略小，对于这种差异很重要的情况，我们可以通过赤道上的重力加速调用该函数："
   ]
  },
  {
   "cell_type": "code",
   "execution_count": 8,
   "metadata": {},
   "outputs": [
    {
     "name": "stdout",
     "output_type": "stream",
     "text": [
      "0.8044\n"
     ]
    }
   ],
   "source": [
    "## Position after 0.2 s (t) when dropped from a height of 1 m (r0)\n",
    "p = position(0.2, 1, 0.0, -9.78)\n",
    "print(p)"
   ]
  },
  {
   "cell_type": "markdown",
   "metadata": {},
   "source": [
    "Note that we have also passed the initial velocity - otherwise the program might assume that our acceleration was in fact the velocity. We can use the default velocity and specify the acceleration by using named arguments:"
   ]
  },
  {
   "cell_type": "markdown",
   "metadata": {},
   "source": [
    "请注意，我们也传递了初始速度 - 否则程序可能会假设我们的加速度实际上是速度。我们可以使用默认速度并使用命名参数指定加速度："
   ]
  },
  {
   "cell_type": "code",
   "execution_count": 9,
   "metadata": {},
   "outputs": [
    {
     "name": "stdout",
     "output_type": "stream",
     "text": [
      "0.8044\n"
     ]
    }
   ],
   "source": [
    "## Position after 0.2 s (t) when dropped from a height of 1 m (r0)\n",
    "p = position(0.2, 1, a=-9.78)\n",
    "print(p)"
   ]
  },
  {
   "cell_type": "markdown",
   "metadata": {
    "quesitons": [
     945,
     960,
     1047,
     1049,
     1050
    ],
    "notes": "复核OK，独立块"
   },
   "source": [
    "- [判断题 ★ 一个函数如果带有默认值参数，那么必须所有参数都设置默认值。这种说法正确吗？](https://xue.cn/hub/app/exercise/945)\n",
    "\n",
    "- [判断题 ★ 调用带有默认值参数的函数时，不能为默认值参数传递任何值，必须使用函数定义时设置的默认值。这种说法正确吗？](https://xue.cn/hub/app/exercise/960)\n",
    "\n",
    "- [判断题 ★ 在定义函数时，某个参数名字前面带有一个*符号表示可变长度参数，可以接收任意多个普通实参并存放于一个元组之中。这种说法正确吗？](https://xue.cn/hub/app/exercise/1047)\n",
    "\n",
    "- [判断题 ★ 定义函数时，带有默认值的参数必须出现在参数列表的最右端，任何一个带有默认值的参数右边不允许出现没有默认值的参数。这种说法正确吗？](https://xue.cn/hub/app/exercise/1049)\n",
    "\n",
    "- [判断题 ★ 在调用函数时，可以通过关键参数的形式进行传值，从而避免必须记住函数形参顺序的麻烦。这种说法正确吗？](https://xue.cn/hub/app/exercise/1050)"
   ]
  },
  {
   "cell_type": "markdown",
   "metadata": {},
   "source": [
    "## Return arguments"
   ]
  },
  {
   "cell_type": "markdown",
   "metadata": {},
   "source": [
    "Most functions, but not all, return data. Above are examples that return a single value (object), and one case where there is no return value. Python functions can have more than one return value. For example, we could have a function that takes three values and returns the maximum, the minimum and the mean, e.g."
   ]
  },
  {
   "cell_type": "markdown",
   "metadata": {},
   "source": [
    "## 返回参数"
   ]
  },
  {
   "cell_type": "markdown",
   "metadata": {},
   "source": [
    "大多数函数（但不是全部）返回数据。上面是返回单个值（对象）的示例，以及一个没有返回值的情况。Python 函数可以有多个返回值。例如，我们可以有一个函数，它接受三个值并返回最大值，最小值和平均值，例如"
   ]
  },
  {
   "cell_type": "code",
   "execution_count": 10,
   "metadata": {},
   "outputs": [
    {
     "name": "stdout",
     "output_type": "stream",
     "text": [
      "-20 0.5 -6.466666666666666\n"
     ]
    }
   ],
   "source": [
    "def compute_max_min_mean(x0, x1, x2):\n",
    "    \"Return maximum, minimum and mean values\"\n",
    "\n",
    "    x_min = x0\n",
    "    if x1 < x_min:\n",
    "        x_min = x1\n",
    "    if x2 < x_min:\n",
    "        x_min = x2\n",
    "\n",
    "    x_max = x0\n",
    "    if x1 > x_max:\n",
    "        x_max = x1\n",
    "    if x2 > x_max:\n",
    "        x_max = x2\n",
    "\n",
    "    x_mean = (x0 + x1 + x2)/3\n",
    "\n",
    "    return x_min, x_max, x_mean\n",
    "\n",
    "xmin, xmax, xmean = compute_max_min_mean(0.5, 0.1, -20)\n",
    "print(xmin, xmax, xmean)"
   ]
  },
  {
   "cell_type": "markdown",
   "metadata": {},
   "source": [
    "This function works, but we will see better ways to implement the functionality using lists or tuples\n",
    "in a later notebook."
   ]
  },
  {
   "cell_type": "markdown",
   "metadata": {},
   "source": [
    "此函数能工作，但我们将看到更好的方法来使用后续笔记本中的列表或元组来实现该功能。"
   ]
  },
  {
   "cell_type": "markdown",
   "metadata": {
    "quesitons": [
     948,
     949,
     950
    ],
    "notes": "复核OK，独立块"
   },
   "source": [
    "- [判断题 ★ 如果在函数中有语句 return 3，那么该函数一定会返回整数 3。这种说法正确吗？](https://xue.cn/hub/app/exercise/948)\n",
    "\n",
    "- [判断题 ★ 函数中必须包含 return 语句。这种说法正确吗？](https://xue.cn/hub/app/exercise/949)\n",
    "\n",
    "- [判断题 ★ 函数中的 return 语句一定能够得到执行。这种说法正确吗？](https://xue.cn/hub/app/exercise/950)"
   ]
  },
  {
   "cell_type": "markdown",
   "metadata": {},
   "source": [
    "## Scope"
   ]
  },
  {
   "cell_type": "markdown",
   "metadata": {},
   "source": [
    "Functions have local scope, which means that variables that are declared inside a function are not visible outside the function. This is a very good thing - it means that we do not have to worry about variables declared inside a function unexpectedly affecting other parts of a program. Here is a simple example:"
   ]
  },
  {
   "cell_type": "markdown",
   "metadata": {},
   "source": [
    "## 作用范围\n",
    "函数具有局部作用域，这意味着函数内部声明的变量在函数外部不可见。这是一件非常好的事情 - 这意味着我们不必担心函数内部声明的变量会意外地影响程序的其他部分。这是一个简单的例子："
   ]
  },
  {
   "cell_type": "code",
   "execution_count": 11,
   "metadata": {},
   "outputs": [
    {
     "name": "stdout",
     "output_type": "stream",
     "text": [
      "10.0\n"
     ]
    }
   ],
   "source": [
    "## Assign 10.0 to the varibale a\n",
    "a = 10.0\n",
    "\n",
    "## A simple function that creates a variable 'a' and returns the value\n",
    "def dummy():\n",
    "    c = 5\n",
    "    a = \"A simple function\"\n",
    "    return a\n",
    "\n",
    "## Call the function\n",
    "b = dummy()\n",
    "\n",
    "## Check that the function declaration of 'a' has not affected\n",
    "## the variable 'a' outside of the function\n",
    "print(a)\n",
    "\n",
    "## This would throw an error - the variable c is not visible outside of the function\n",
    "## print(c)"
   ]
  },
  {
   "cell_type": "markdown",
   "metadata": {},
   "source": [
    "The variable`a`that is declared outside of the function is unaffected by what is done inside the function.\n",
    "Similarly, the variable`c`in the function is not 'visible' outside of the function."
   ]
  },
  {
   "cell_type": "markdown",
   "metadata": {},
   "source": [
    "There is more to scoping rules that we can skip over for now."
   ]
  },
  {
   "cell_type": "markdown",
   "metadata": {},
   "source": [
    "在函数外部声明的变量 `a` 不受函数内部所做的影响。\n",
    "类似地，函数中的变量 `c` 在函数外部不是 “可见的”。"
   ]
  },
  {
   "cell_type": "markdown",
   "metadata": {},
   "source": [
    "我们现在可以跳过更多的范围规则。"
   ]
  },
  {
   "cell_type": "markdown",
   "metadata": {
    "quesitons": [
     951,
     952,
     953,
     954,
     955
    ],
    "notes": "复核OK，独立块"
   },
   "source": [
    "- [判断题 ★ 不同作用域中的同名变量之间互相不影响，也就是说，在不同的作用域内可以定义同名的变量。这种说法正确吗？](https://xue.cn/hub/app/exercise/951)\n",
    "\n",
    "- [判断题 ★ 全局变量会增加不同函数之间的隐式耦合度，从而降低代码可读性，因此应尽量避免过多使用全局变量。这种说法正确吗？](https://xue.cn/hub/app/exercise/952)\n",
    "\n",
    "- [判断题 ★ 函数内部定义的局部变量当函数调用结束后被自动删除。这种说法正确吗？](https://xue.cn/hub/app/exercise/953)\n",
    "\n",
    "- [判断题 ★ 在函数内部，既可以使用 global 来声明使用外部全局变量，也可以使用 global 直接定义全局变量。这种说法正确吗？](https://xue.cn/hub/app/exercise/954)\n",
    "\n",
    "- [判断题 ★ 在函数内部没有办法定义全局变量。这种说法正确吗？](https://xue.cn/hub/app/exercise/955)"
   ]
  },
  {
   "cell_type": "markdown",
   "metadata": {},
   "source": [
    "## Recursion with functions"
   ]
  },
  {
   "cell_type": "markdown",
   "metadata": {},
   "source": [
    "A classic construction with functions is recursion, which is when a function makes calls to itself.\n",
    "Recursion can be very powerful, and sometimes also quite confusing at first. We demonstrate with a well-known example, the Fibonacci series of numbers."
   ]
  },
  {
   "cell_type": "markdown",
   "metadata": {},
   "source": [
    "## 函数递归"
   ]
  },
  {
   "cell_type": "markdown",
   "metadata": {},
   "source": [
    "递归，就是函数调用自身，是函数的经典构造。\n",
    "递归可能非常强大，有时候起初也很混乱。我们用一个众所周知的例子来证明斐波那契数列。"
   ]
  },
  {
   "cell_type": "markdown",
   "metadata": {},
   "source": [
    "### Fibonacci number"
   ]
  },
  {
   "cell_type": "markdown",
   "metadata": {},
   "source": [
    "The Fibonacci series is defined recursively, i.e. the $n$th term $f_{n}$ is computed from the preceding terms $f_{n-1}$ and $f_{n-2}$:"
   ]
  },
  {
   "cell_type": "markdown",
   "metadata": {},
   "source": [
    "$$\n",
    "f_n = f_{n-1} + f_{n-2}\n",
    "$$"
   ]
  },
  {
   "cell_type": "markdown",
   "metadata": {},
   "source": [
    "for $n > 1$, and with $f_0 = 0$ and $f_1 = 1$."
   ]
  },
  {
   "cell_type": "markdown",
   "metadata": {},
   "source": [
    "### 斐波纳契数"
   ]
  },
  {
   "cell_type": "markdown",
   "metadata": {},
   "source": [
    "斐波纳契数列是递归定义的，即第$ n $项$f_{n}$由前面的项$ f_ {n-1} $和$ f_ {n-2} $计算："
   ]
  },
  {
   "cell_type": "markdown",
   "metadata": {},
   "source": [
    "$$\n",
    "f_n = f_ {n-1} + f_ {n-2}\n",
    "$$"
   ]
  },
  {
   "cell_type": "markdown",
   "metadata": {},
   "source": [
    "其中$ n> 1 $，并且$ f_0 = 0 $，$ f_1 = 1 $。"
   ]
  },
  {
   "cell_type": "markdown",
   "metadata": {},
   "source": [
    "Below is a function that computes the $n$th number in the Fibonacci sequence using a`for`loop inside the function."
   ]
  },
  {
   "cell_type": "markdown",
   "metadata": {},
   "source": [
    "下面是一个函数，它使用函数内部的 `for` 循环计算斐波纳契数列中的第$ n $ 项。"
   ]
  },
  {
   "cell_type": "code",
   "execution_count": 12,
   "metadata": {},
   "outputs": [
    {
     "name": "stdout",
     "output_type": "stream",
     "text": [
      "55\n"
     ]
    }
   ],
   "source": [
    "def fib(n):\n",
    "    \"Compute the nth Fibonacci number\"\n",
    "    # Starting values for f0 and f1\n",
    "    f0, f1 = 0, 1\n",
    "\n",
    "    # Handle cases n==0 and n==1\n",
    "    if n == 0:\n",
    "        return 0\n",
    "    elif n == 1:\n",
    "        return 1\n",
    "\n",
    "    # Start loop (from n = 2)\n",
    "    for i in range(2, n + 1):\n",
    "        # Compute next term in sequence\n",
    "        f = f1 + f0\n",
    "\n",
    "        # Update f0 and f1\n",
    "        f0 = f1\n",
    "        f1 = f\n",
    "\n",
    "    # Return Fibonacci number\n",
    "    return f\n",
    "\n",
    "print(fib(10))"
   ]
  },
  {
   "cell_type": "markdown",
   "metadata": {},
   "source": [
    "Since the Fibonacci sequence has a recursive structure, with the $n$th term computed from the $n-1$ and $n-2$ terms, we could write a function that uses this recursive structure:"
   ]
  },
  {
   "cell_type": "markdown",
   "metadata": {},
   "source": [
    "由于斐波那契数列具有递归结构，从$ n-1 $和$ n-2 $项计算$ n $ th 项，我们可以编写一个使用此递归结构的函数："
   ]
  },
  {
   "cell_type": "code",
   "execution_count": 13,
   "metadata": {},
   "outputs": [
    {
     "name": "stdout",
     "output_type": "stream",
     "text": [
      "55\n"
     ]
    }
   ],
   "source": [
    "def f(n):\n",
    "    \"Compute the nth Fibonacci number using recursion\"\n",
    "    if n == 0:\n",
    "        return 0 # This doesn't call f, so it breaks out of the recursion loop\n",
    "    elif n == 1:\n",
    "        return 1 # This doesn't call f, so it breaks out of the recursion loop\n",
    "    else:\n",
    "        return f(n - 1) + f(n - 2) # This calls f for n-1 and n-2 (recursion), and returns the sum\n",
    "\n",
    "print(f(10))"
   ]
  },
  {
   "cell_type": "markdown",
   "metadata": {},
   "source": [
    "As expected (if the implementations are correct) the two implementations return the same result.\n",
    "The recursive version is simple and has a more 'mathematical' structure. It is good that a program which performs a mathematical task closely reflects the mathematical problem. It makes it easier to comprehend at a high level what the program does."
   ]
  },
  {
   "cell_type": "markdown",
   "metadata": {},
   "source": [
    "Care needs to be taken when using recursion that a program does not enter an infinite recursion loop. There must be a mechanism to 'break out' of the recursion cycle."
   ]
  },
  {
   "cell_type": "markdown",
   "metadata": {},
   "source": [
    "正如预期的那样（如果实现是正确的），两个实现返回相同的结果。递归版本很简单，并且具有更 “数学” 的结构。执行数学任务的程序很好地反映了数学问题。它使得更容易理解程序的功能。"
   ]
  },
  {
   "cell_type": "markdown",
   "metadata": {},
   "source": [
    "务必小心，不要使程序进入无限递归循环。必须有一种机制来 “打破” 递归周期。"
   ]
  },
  {
   "cell_type": "markdown",
   "metadata": {
    "quesitons": [
     32,
     368,
     372,
     1164,
     1165,
     1166
    ],
    "notes": "复核OK，独立块"
   },
   "source": [
    "- [编程题 ★★★★ 递归函数计算阶乘](https://xue.cn/hub/app/exercise/32)\n",
    "\n",
    "- [选择题 ★★ 关于递归函数基例的说明，以下选项中错误的是哪个？](https://xue.cn/hub/app/exercise/368)\n",
    "\n",
    "- [选择题 ★★ 以下选项中，对于递归程序的描述错误的是哪个？](https://xue.cn/hub/app/exercise/372)\n",
    "\n",
    "- [编程题 ★★★ 利用递归方法求 5!](https://xue.cn/hub/app/exercise/1164)\n",
    "\n",
    "- [编程题 ★★★ 递归函数实现反向打印字符](https://xue.cn/hub/app/exercise/1165)\n",
    "\n",
    "- [编程题 ★★★ 递归求解年龄](https://xue.cn/hub/app/exercise/1166)"
   ]
  },
  {
   "cell_type": "markdown",
   "metadata": {},
   "source": [
    "## Pass by value, reference or object"
   ]
  },
  {
   "cell_type": "markdown",
   "metadata": {},
   "source": [
    "*This section is for reference and should be skipped if you are new to programming. It is not necessary for this course but may be of interest to those with more experience.*"
   ]
  },
  {
   "cell_type": "markdown",
   "metadata": {},
   "source": [
    "When passing something to a function, it is *passed by value*, *passed by reference*, or *passed by object*.\n",
    "The model depends on the language."
   ]
  },
  {
   "cell_type": "markdown",
   "metadata": {},
   "source": [
    "Pass by value means that the version available inside the function is a copy of the value outside.\n",
    "A simple example is:"
   ]
  },
  {
   "cell_type": "markdown",
   "metadata": {},
   "source": [
    "## 按值、引用或对象传递"
   ]
  },
  {
   "cell_type": "markdown",
   "metadata": {},
   "source": [
    "*此部分仅供参考，如果您不熟悉编程，则可以跳过此部分。本课程没有必要，但对于有经验的人可能会感兴趣。*"
   ]
  },
  {
   "cell_type": "markdown",
   "metadata": {},
   "source": [
    "将某些东西传递给函数时，它通过值*传递*，*通过引用*传递，或*通过对象传递*。\n",
    "该模型取决于语言。"
   ]
  },
  {
   "cell_type": "markdown",
   "metadata": {},
   "source": [
    "按值传递意味着函数内可用的版本是外部值的副本。\n",
    "一个简单的例子是："
   ]
  },
  {
   "cell_type": "code",
   "execution_count": 14,
   "metadata": {},
   "outputs": [
    {
     "name": "stdout",
     "output_type": "stream",
     "text": [
      "Value of variable 'a' inside function: 10\n",
      "Value of variable 'a' post-function: 5\n"
     ]
    }
   ],
   "source": [
    "def mult_by_two(a):\n",
    "    a *= 2\n",
    "    print(\"Value of variable \\'a\\' inside function:\", a)\n",
    "\n",
    "a = 5\n",
    "mult_by_two(a)\n",
    "print(\"Value of variable \\'a\\' post-function:\", a)"
   ]
  },
  {
   "cell_type": "markdown",
   "metadata": {},
   "source": [
    "Pass by reference means that the version passed into the function is modified, rather than a copy being made."
   ]
  },
  {
   "cell_type": "markdown",
   "metadata": {},
   "source": [
    "通过引用传递意味着修改传递给函数的版本，而不是复制。"
   ]
  },
  {
   "cell_type": "code",
   "execution_count": 15,
   "metadata": {},
   "outputs": [
    {
     "name": "stdout",
     "output_type": "stream",
     "text": [
      "Value of variable 'a' inside function: [2, 3, 2, 3]\n",
      "Value of variable 'a' post-function: [2, 3, 2, 3]\n"
     ]
    }
   ],
   "source": [
    "a = [2, 3]\n",
    "mult_by_two(a)\n",
    "print(\"Value of variable \\'a\\' post-function:\", a)"
   ]
  },
  {
   "cell_type": "markdown",
   "metadata": {},
   "source": [
    "Python uses the pass-by-object model. The apparent behaviours depends on the details of the object being passed.\n",
    "In many cases it is clearly to return objects."
   ]
  },
  {
   "cell_type": "markdown",
   "metadata": {},
   "source": [
    "Python 使用按对象传递模型。行为取决于被传递对象的细节。在许多情况下，显然要返回对象。"
   ]
  },
  {
   "cell_type": "markdown",
   "metadata": {},
   "source": [
    "## 练习"
   ]
  },
  {
   "cell_type": "markdown",
   "metadata": {},
   "source": [
    "现在完成 [练习 04](https://xue.cn/hub/reader?bookId=2&path=PartIA-Computing-Michaelmas-zh-CN/zh-CN/Exercises/04_Exercises.ipynb)"
   ]
  }
 ],
 "metadata": {
  "kernelspec": {
   "display_name": "Python 3",
   "language": "python",
   "name": "python3"
  },
  "language_info": {
   "codemirror_mode": {
    "name": "ipython",
    "version": 3
   },
   "file_extension": ".py",
   "mimetype": "text/x-python",
   "name": "python",
   "nbconvert_exporter": "python",
   "pygments_lexer": "ipython3",
   "version": "3.7.3"
  }
 },
 "nbformat": 4,
 "nbformat_minor": 4
}